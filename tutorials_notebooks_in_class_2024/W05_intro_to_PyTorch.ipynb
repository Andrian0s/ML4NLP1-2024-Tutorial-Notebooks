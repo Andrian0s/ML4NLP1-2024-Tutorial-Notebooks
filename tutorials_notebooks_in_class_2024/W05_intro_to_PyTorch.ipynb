{
  "cells": [
    {
      "cell_type": "markdown",
      "metadata": {
        "id": "view-in-github",
        "colab_type": "text"
      },
      "source": [
        "<a href=\"https://colab.research.google.com/github/Andrian0s/ML4NLP1-2024-Tutorial-Notebooks/blob/main/tutorials_notebooks_in_class_2024/W05_intro_to_PyTorch.ipynb\" target=\"_parent\"><img src=\"https://colab.research.google.com/assets/colab-badge.svg\" alt=\"Open In Colab\"/></a>"
      ]
    },
    {
      "cell_type": "markdown",
      "metadata": {
        "id": "5tj0U__hH95r"
      },
      "source": [
        "# A Quick PyTorch Introduction for ML4NLP1\n",
        "\n",
        "### Tutorial W5 (14.10.2024)\n",
        "\n",
        "- PyTorch: https://pytorch.org/\n",
        "- PyTorch tutorials: https://pytorch.org/tutorials/\n",
        "- PyTorch documentation: https://pytorch.org/docs/stable/index.html\n",
        "- PyTorch forums: https://discuss.pytorch.org/\n",
        "- A collection of pytorch example code snippets: https://pytorch.org/tutorials/beginner/pytorch_with_examples.html"
      ]
    },
    {
      "cell_type": "code",
      "execution_count": 1,
      "metadata": {
        "id": "ZcQdTHyHIG6W"
      },
      "outputs": [],
      "source": [
        "import numpy as np\n",
        "import torch"
      ]
    },
    {
      "cell_type": "markdown",
      "metadata": {
        "id": "btpW3rhnNFy3"
      },
      "source": [
        "## Basic Data Types\n",
        "\n",
        "Demonstrating different ways to create and interact with PyTorch tensors, the fundamental data structure in PyTorch"
      ]
    },
    {
      "cell_type": "code",
      "execution_count": 2,
      "metadata": {
        "colab": {
          "base_uri": "https://localhost:8080/"
        },
        "id": "bo_Y_Z3oODHo",
        "outputId": "b51dfbd6-d06f-4c1d-83a2-1bb6e26814fe"
      },
      "outputs": [
        {
          "output_type": "stream",
          "name": "stdout",
          "text": [
            "torch.int64\n",
            "torch.float32\n"
          ]
        }
      ],
      "source": [
        "t = torch.tensor([1, 2, 3])\n",
        "print(t.dtype)\n",
        "t = torch.tensor([1.0, 2.0, 3.0])\n",
        "print(t.dtype)"
      ]
    },
    {
      "cell_type": "code",
      "execution_count": 3,
      "metadata": {
        "colab": {
          "base_uri": "https://localhost:8080/"
        },
        "id": "F9QKGtSROaqC",
        "outputId": "5da9dd6b-efbf-42e1-ab89-58461403ff9e"
      },
      "outputs": [
        {
          "output_type": "stream",
          "name": "stdout",
          "text": [
            "torch.int64\n",
            "torch.float64\n"
          ]
        }
      ],
      "source": [
        "t = torch.tensor([1, 2, 3], dtype=torch.long)\n",
        "print(t.dtype)\n",
        "t = torch.tensor([1, 2, 3], dtype=torch.float64)\n",
        "print(t.dtype)"
      ]
    },
    {
      "cell_type": "code",
      "execution_count": 4,
      "metadata": {
        "colab": {
          "base_uri": "https://localhost:8080/"
        },
        "id": "k_1LlTWtOoIE",
        "outputId": "95419a85-fb81-4064-da7e-e90adcaca14e"
      },
      "outputs": [
        {
          "output_type": "stream",
          "name": "stdout",
          "text": [
            "torch.int64\n",
            "torch.float32\n"
          ]
        }
      ],
      "source": [
        "t = torch.LongTensor([1, 2, 3])\n",
        "print(t.dtype)\n",
        "t = torch.FloatTensor([1, 2, 3])\n",
        "print(t.dtype)"
      ]
    },
    {
      "cell_type": "code",
      "execution_count": 5,
      "metadata": {
        "colab": {
          "base_uri": "https://localhost:8080/"
        },
        "id": "T6aGgINxOwCh",
        "outputId": "3831c646-6d10-4629-8ba7-fefaaac838e8"
      },
      "outputs": [
        {
          "output_type": "stream",
          "name": "stdout",
          "text": [
            "[1 2 3] <class 'numpy.ndarray'>\n",
            "tensor([1, 2, 3]) <class 'torch.Tensor'>\n",
            "[1 2 3] <class 'numpy.ndarray'>\n"
          ]
        }
      ],
      "source": [
        "a = np.array([1, 2, 3])\n",
        "t = torch.from_numpy(a)\n",
        "b = t.numpy()\n",
        "print(a, type(a))\n",
        "print(t, type(t))\n",
        "print(b, type(b))"
      ]
    },
    {
      "cell_type": "markdown",
      "metadata": {
        "id": "YbZ0hS3XP1JN"
      },
      "source": [
        "For a list of PyTorch tensor types, go to: https://pytorch.org/docs/stable/tensors.html\n",
        "\n",
        "##Tensors have a shape\n",
        "\n",
        "Tensor shapes define the dimensions and structure of the data in the tensor. Understanding and working with tensor shapes is crucial for data manipulation and neural network operations."
      ]
    },
    {
      "cell_type": "code",
      "execution_count": 6,
      "metadata": {
        "colab": {
          "base_uri": "https://localhost:8080/"
        },
        "id": "1_RsOtWxP719",
        "outputId": "4254edb0-3685-4b9f-c963-8eee868e8cd9"
      },
      "outputs": [
        {
          "output_type": "stream",
          "name": "stdout",
          "text": [
            "torch.Size([1])\n",
            "torch.Size([3])\n",
            "torch.Size([3, 2])\n"
          ]
        }
      ],
      "source": [
        "s = torch.FloatTensor([0.5])\n",
        "t = torch.FloatTensor([1, 3.2, 19])\n",
        "u = torch.FloatTensor([[0.2, 2], [0.3, 3], [0.4, 4]])\n",
        "print(s.shape)\n",
        "print(t.shape)\n",
        "print(u.shape)"
      ]
    },
    {
      "cell_type": "markdown",
      "metadata": {
        "id": "JJYrWTdqR2dn"
      },
      "source": [
        "Alternatively you may sometimes see `tensor.size()`:"
      ]
    },
    {
      "cell_type": "code",
      "execution_count": 7,
      "metadata": {
        "colab": {
          "base_uri": "https://localhost:8080/"
        },
        "id": "LmOwaocKRi1L",
        "outputId": "265bb21c-46ef-46ec-8d9f-cf6d4b170734"
      },
      "outputs": [
        {
          "output_type": "stream",
          "name": "stdout",
          "text": [
            "torch.Size([1])\n",
            "torch.Size([3])\n",
            "torch.Size([3, 2])\n"
          ]
        }
      ],
      "source": [
        "print(s.size())\n",
        "print(t.size())\n",
        "print(u.size())"
      ]
    },
    {
      "cell_type": "markdown",
      "metadata": {
        "id": "E7YPxG0fSJ3F"
      },
      "source": [
        "You can change the shape of a tensor using  [`tensor.view()`](https://pytorch.org/docs/stable/tensor_view.html):"
      ]
    },
    {
      "cell_type": "code",
      "source": [
        "u"
      ],
      "metadata": {
        "colab": {
          "base_uri": "https://localhost:8080/"
        },
        "id": "iVZPk9j2lHBZ",
        "outputId": "e9bdbe68-6c9f-4bc8-b47a-7b3f41d9822e"
      },
      "execution_count": 8,
      "outputs": [
        {
          "output_type": "execute_result",
          "data": {
            "text/plain": [
              "tensor([[0.2000, 2.0000],\n",
              "        [0.3000, 3.0000],\n",
              "        [0.4000, 4.0000]])"
            ]
          },
          "metadata": {},
          "execution_count": 8
        }
      ]
    },
    {
      "cell_type": "code",
      "source": [
        "u.shape"
      ],
      "metadata": {
        "colab": {
          "base_uri": "https://localhost:8080/"
        },
        "id": "Pf7dfvrklZYD",
        "outputId": "15e9b59d-b539-4a75-b336-1240157c34b6"
      },
      "execution_count": 9,
      "outputs": [
        {
          "output_type": "execute_result",
          "data": {
            "text/plain": [
              "torch.Size([3, 2])"
            ]
          },
          "metadata": {},
          "execution_count": 9
        }
      ]
    },
    {
      "cell_type": "code",
      "execution_count": 10,
      "metadata": {
        "colab": {
          "base_uri": "https://localhost:8080/"
        },
        "id": "5EvYIDivR-Z4",
        "outputId": "3d647380-7d6b-4ddf-ca7a-f04d0f7052f9"
      },
      "outputs": [
        {
          "output_type": "execute_result",
          "data": {
            "text/plain": [
              "tensor([[0.2000, 2.0000, 0.3000],\n",
              "        [3.0000, 0.4000, 4.0000]])"
            ]
          },
          "metadata": {},
          "execution_count": 10
        }
      ],
      "source": [
        "u.view(2, 3)"
      ]
    },
    {
      "cell_type": "code",
      "execution_count": 11,
      "metadata": {
        "colab": {
          "base_uri": "https://localhost:8080/"
        },
        "id": "lYWyAdjhSes7",
        "outputId": "537366c2-ac1b-4c3b-d87f-948f154c6b32"
      },
      "outputs": [
        {
          "output_type": "execute_result",
          "data": {
            "text/plain": [
              "tensor([[0.2000, 2.0000, 0.3000, 3.0000, 0.4000, 4.0000]])"
            ]
          },
          "metadata": {},
          "execution_count": 11
        }
      ],
      "source": [
        "u.view(1, 6)"
      ]
    },
    {
      "cell_type": "code",
      "execution_count": 12,
      "metadata": {
        "colab": {
          "base_uri": "https://localhost:8080/"
        },
        "id": "50TS5Kgrnd-j",
        "outputId": "47a4a096-c405-4e4f-ca8d-87c1734ab2b1"
      },
      "outputs": [
        {
          "output_type": "execute_result",
          "data": {
            "text/plain": [
              "tensor([[0.2000, 2.0000, 0.3000],\n",
              "        [3.0000, 0.4000, 4.0000]])"
            ]
          },
          "metadata": {},
          "execution_count": 12
        }
      ],
      "source": [
        "# Automatically detect 2nd dimension given the first dimension is 2\n",
        "u.view(2, -1)"
      ]
    },
    {
      "cell_type": "code",
      "execution_count": 13,
      "metadata": {
        "colab": {
          "base_uri": "https://localhost:8080/"
        },
        "id": "bbMwbWuEnuhu",
        "outputId": "af24934b-3e63-4754-f3a5-88f88672c980"
      },
      "outputs": [
        {
          "output_type": "execute_result",
          "data": {
            "text/plain": [
              "tensor([[0.2000, 2.0000],\n",
              "        [0.3000, 3.0000],\n",
              "        [0.4000, 4.0000]])"
            ]
          },
          "metadata": {},
          "execution_count": 13
        }
      ],
      "source": [
        "# Automatically detect first dimension given the second dimension is 2\n",
        "u.view(-1, 2)"
      ]
    },
    {
      "cell_type": "markdown",
      "metadata": {
        "id": "2DlQsysyr2Gs"
      },
      "source": [
        "More infos on `view()`: https://pytorch.org/docs/stable/tensor_view.html"
      ]
    },
    {
      "cell_type": "markdown",
      "metadata": {
        "id": "tF_G1siPoYxF"
      },
      "source": [
        "## Flatten and Squeeze\n",
        "Demonstrating various operations that can be performed on tensors, like mathematical operations, reshaping, squeezing, and unsqueezing. These are essential for data manipulation and preparing data for processing by a neural network."
      ]
    },
    {
      "cell_type": "code",
      "execution_count": 14,
      "metadata": {
        "colab": {
          "base_uri": "https://localhost:8080/"
        },
        "id": "cZZOkJ4vn7xD",
        "outputId": "7ab07fc6-df3a-4f90-a360-1f3efecb2f42"
      },
      "outputs": [
        {
          "output_type": "execute_result",
          "data": {
            "text/plain": [
              "tensor([0.2000, 2.0000, 0.3000, 3.0000, 0.4000, 4.0000])"
            ]
          },
          "metadata": {},
          "execution_count": 14
        }
      ],
      "source": [
        "u.flatten()  # same as u.view(1, -1)"
      ]
    },
    {
      "cell_type": "code",
      "execution_count": 15,
      "metadata": {
        "colab": {
          "base_uri": "https://localhost:8080/"
        },
        "id": "hLGSZtYloKvJ",
        "outputId": "e6011940-f5e5-46bb-f3f9-e9b70146ae89"
      },
      "outputs": [
        {
          "output_type": "stream",
          "name": "stdout",
          "text": [
            "torch.Size([1, 2])\n",
            "torch.Size([1, 1, 2])\n"
          ]
        }
      ],
      "source": [
        "a = torch.FloatTensor([[0.35, 16.1]]) # 2 brackets\n",
        "b = torch.FloatTensor([[[1.3, 2.9]]]) # 3 brackets\n",
        "print(a.shape)\n",
        "print(b.shape)"
      ]
    },
    {
      "cell_type": "code",
      "execution_count": 16,
      "metadata": {
        "colab": {
          "base_uri": "https://localhost:8080/"
        },
        "id": "pa1NGbRqotRa",
        "outputId": "a145d1e3-3889-473e-c047-a49ed9dc6d89"
      },
      "outputs": [
        {
          "output_type": "stream",
          "name": "stdout",
          "text": [
            "tensor([ 0.3500, 16.1000]) torch.Size([2])\n",
            "tensor([1.3000, 2.9000]) torch.Size([2])\n"
          ]
        }
      ],
      "source": [
        "# The u.squeeze() operation in PyTorch removes any dimensions of size 1 from the tensor's shape.\n",
        "# This is often used to \"squeeze\" out unnecessary or redundant dimensions that don't carry useful information\n",
        "c = a.squeeze()\n",
        "d = b.squeeze()\n",
        "print(c, c.shape)\n",
        "print(d, d.shape)"
      ]
    },
    {
      "cell_type": "code",
      "execution_count": 17,
      "metadata": {
        "colab": {
          "base_uri": "https://localhost:8080/"
        },
        "id": "GMJFkq8HpNdS",
        "outputId": "357fdf80-e22b-4add-a169-93f4f7455049"
      },
      "outputs": [
        {
          "output_type": "stream",
          "name": "stdout",
          "text": [
            "tensor([[ 0.3500, 16.1000]]) torch.Size([1, 2])\n",
            "tensor([[ 0.3500],\n",
            "        [16.1000]]) torch.Size([2, 1])\n",
            "tensor([[ 0.3500],\n",
            "        [16.1000]]) torch.Size([2, 1])\n"
          ]
        }
      ],
      "source": [
        "e = c.unsqueeze(dim=0)\n",
        "f = c.unsqueeze(dim=1)\n",
        "g = c.unsqueeze(dim=-1)\n",
        "print(e, e.shape)\n",
        "print(f, f.shape)\n",
        "print(g, g.shape)"
      ]
    },
    {
      "cell_type": "markdown",
      "metadata": {
        "id": "xaq3EAmtrfQ0"
      },
      "source": [
        "## Automatically Fill Tensors with Values\n",
        "\n",
        "Methods of automatically initialising tensors"
      ]
    },
    {
      "cell_type": "code",
      "execution_count": 18,
      "metadata": {
        "colab": {
          "base_uri": "https://localhost:8080/"
        },
        "id": "K64C_x-IpzcD",
        "outputId": "0878d8b3-ce08-48fb-c60b-042f3894702f"
      },
      "outputs": [
        {
          "output_type": "stream",
          "name": "stdout",
          "text": [
            "tensor([[0., 0., 0.],\n",
            "        [0., 0., 0.]])\n"
          ]
        }
      ],
      "source": [
        "print(torch.zeros(2, 3))"
      ]
    },
    {
      "cell_type": "code",
      "execution_count": 19,
      "metadata": {
        "colab": {
          "base_uri": "https://localhost:8080/"
        },
        "id": "cpMX98fxrsVv",
        "outputId": "ab7afc8a-c6f7-4f5c-cfd5-2074bf3b39a6"
      },
      "outputs": [
        {
          "output_type": "stream",
          "name": "stdout",
          "text": [
            "tensor([[1., 1., 1.],\n",
            "        [1., 1., 1.]])\n"
          ]
        }
      ],
      "source": [
        "print(torch.ones(2, 3))"
      ]
    },
    {
      "cell_type": "code",
      "execution_count": 20,
      "metadata": {
        "colab": {
          "base_uri": "https://localhost:8080/"
        },
        "id": "VZG4ZLYmrt_K",
        "outputId": "f2e06b68-12fa-42da-f206-40c286b87313"
      },
      "outputs": [
        {
          "output_type": "stream",
          "name": "stdout",
          "text": [
            "tensor([[0.7415, 0.6971, 0.4881],\n",
            "        [0.6829, 0.7726, 0.2213]])\n"
          ]
        }
      ],
      "source": [
        "print(torch.rand(2, 3))  # numbers taken from uniform distribution on interval [0,1)"
      ]
    },
    {
      "cell_type": "code",
      "execution_count": 21,
      "metadata": {
        "colab": {
          "base_uri": "https://localhost:8080/"
        },
        "id": "Cke6ByGTrwFm",
        "outputId": "fdf4d662-1743-414b-8a35-bf9e4d2d5fd8"
      },
      "outputs": [
        {
          "output_type": "stream",
          "name": "stdout",
          "text": [
            "tensor([[4, 3, 3],\n",
            "        [3, 2, 3]])\n"
          ]
        }
      ],
      "source": [
        "print(torch.randint(low=0, high=6, size=(2, 3)))  # \"generated uniformly between low (inclusive) and high (exclusive)\"\""
      ]
    },
    {
      "cell_type": "markdown",
      "metadata": {
        "id": "I6l07NZk3DqC"
      },
      "source": [
        "## Tensor Slicing"
      ]
    },
    {
      "cell_type": "code",
      "execution_count": 22,
      "metadata": {
        "colab": {
          "base_uri": "https://localhost:8080/"
        },
        "id": "nad4l-Pq3GaT",
        "outputId": "27d69b8d-b7ca-439c-c627-96f41a88aa02"
      },
      "outputs": [
        {
          "output_type": "stream",
          "name": "stdout",
          "text": [
            "tensor(1.)\n",
            "tensor([ 3.2000, 19.0000])\n",
            "tensor(19.)\n"
          ]
        }
      ],
      "source": [
        "t = torch.FloatTensor([1, 3.2, 19])\n",
        "print(t[0])\n",
        "print(t[1:])\n",
        "print(t[-1])"
      ]
    },
    {
      "cell_type": "code",
      "execution_count": 23,
      "metadata": {
        "colab": {
          "base_uri": "https://localhost:8080/"
        },
        "id": "O0VlgtEA3GXf",
        "outputId": "80ceac7c-563c-4e7b-f7a3-d18c1bcd088c"
      },
      "outputs": [
        {
          "output_type": "stream",
          "name": "stdout",
          "text": [
            "tensor([[0.2000, 2.0000],\n",
            "        [0.3000, 3.0000],\n",
            "        [0.4000, 4.0000]]) torch.Size([3, 2])\n",
            "tensor(3.)\n",
            "tensor([0.3000, 3.0000])\n",
            "tensor([2., 3., 4.])\n",
            "tensor([2., 3.])\n"
          ]
        }
      ],
      "source": [
        "u = torch.FloatTensor([[0.2, 2],\n",
        "                       [0.3, 3],\n",
        "                       [0.4, 4]])\n",
        "print(u, u.shape)\n",
        "print(u[1, 1]) # second element of second row\n",
        "print(u[1])  # second row\n",
        "print(u[:, 1])  # second column\n",
        "print(u[:-1, 1])  # second column without last element"
      ]
    },
    {
      "cell_type": "markdown",
      "metadata": {
        "id": "3qPmSzkJ2SEl"
      },
      "source": [
        "## Mathematical Operations"
      ]
    },
    {
      "cell_type": "code",
      "execution_count": 24,
      "metadata": {
        "id": "XKu1BcMq2R2i"
      },
      "outputs": [],
      "source": [
        "t = torch.FloatTensor([1, 3.2, 19])"
      ]
    },
    {
      "cell_type": "code",
      "execution_count": 25,
      "metadata": {
        "colab": {
          "base_uri": "https://localhost:8080/"
        },
        "id": "vQ-_PKIG2R0G",
        "outputId": "7207c75b-a10b-461e-813c-c1f011c3490f"
      },
      "outputs": [
        {
          "output_type": "execute_result",
          "data": {
            "text/plain": [
              "tensor([ 2.0000,  4.2000, 20.0000])"
            ]
          },
          "metadata": {},
          "execution_count": 25
        }
      ],
      "source": [
        "t + 1"
      ]
    },
    {
      "cell_type": "code",
      "execution_count": 26,
      "metadata": {
        "colab": {
          "base_uri": "https://localhost:8080/"
        },
        "id": "alOnJ9dE2Rxo",
        "outputId": "641dd8ed-9399-44cf-cb8d-008a747a4f4f"
      },
      "outputs": [
        {
          "output_type": "execute_result",
          "data": {
            "text/plain": [
              "tensor([0.3333, 1.0667, 6.3333])"
            ]
          },
          "metadata": {},
          "execution_count": 26
        }
      ],
      "source": [
        "t / 3"
      ]
    },
    {
      "cell_type": "code",
      "execution_count": 27,
      "metadata": {
        "colab": {
          "base_uri": "https://localhost:8080/"
        },
        "id": "LpA7Hmzx2RmI",
        "outputId": "e3924108-6b65-427c-fb5a-969e9757489a"
      },
      "outputs": [
        {
          "output_type": "execute_result",
          "data": {
            "text/plain": [
              "tensor([  1.0000,  10.2400, 361.0000])"
            ]
          },
          "metadata": {},
          "execution_count": 27
        }
      ],
      "source": [
        "t ** 2"
      ]
    },
    {
      "cell_type": "code",
      "execution_count": 28,
      "metadata": {
        "colab": {
          "base_uri": "https://localhost:8080/"
        },
        "id": "B3W2bA5p5Q6p",
        "outputId": "0e91507f-e042-4699-cf97-5bfcbe3f73f9"
      },
      "outputs": [
        {
          "output_type": "execute_result",
          "data": {
            "text/plain": [
              "tensor(19.)"
            ]
          },
          "metadata": {},
          "execution_count": 28
        }
      ],
      "source": [
        "torch.max(t)"
      ]
    },
    {
      "cell_type": "code",
      "execution_count": 29,
      "metadata": {
        "colab": {
          "base_uri": "https://localhost:8080/"
        },
        "id": "qJYnIviy5etq",
        "outputId": "12e6b1d9-7526-4bf6-cf1c-efe9044af475"
      },
      "outputs": [
        {
          "output_type": "stream",
          "name": "stdout",
          "text": [
            "tensor(2)\n",
            "tensor(0)\n"
          ]
        }
      ],
      "source": [
        "print(torch.argmax(t))\n",
        "print(torch.argmin(t))"
      ]
    },
    {
      "cell_type": "code",
      "execution_count": 30,
      "metadata": {
        "colab": {
          "base_uri": "https://localhost:8080/"
        },
        "id": "WdfpTSkg5l4H",
        "outputId": "c29bdef5-7b15-47e5-ee86-209ff7b3afec"
      },
      "outputs": [
        {
          "output_type": "stream",
          "name": "stdout",
          "text": [
            "torch.Size([2, 3])\n",
            "tensor(2)\n",
            "tensor([0, 1, 0])\n",
            "tensor([2, 1])\n",
            "tensor([2, 1])\n"
          ]
        }
      ],
      "source": [
        "x = torch.FloatTensor([[.2, -0.3, 1.3],\n",
        "                       [0.1, 0.5, 0.01]])\n",
        "print(x.shape)\n",
        "print(torch.argmax(x))  # Returns the index of the largest element in the flattened version of the tensor\n",
        "print(torch.argmax(x, dim=0)) # Returns the row index of the largest element in each column\n",
        "print(torch.argmax(x, dim=1)) # Returns the column index of the largest element in each row\n",
        "print(torch.argmax(x, dim=-1)) # dim=-1 corresponds to the last dimension of the tensor. Equivalent to torch.argmax(x, dim=1)"
      ]
    },
    {
      "cell_type": "markdown",
      "metadata": {
        "id": "QXsX_yO-Lz94"
      },
      "source": [
        "If the dim argument is confusing, go to: https://stackoverflow.com/questions/55691819/why-does-dim-1-return-row-indices-in-torch-argmax"
      ]
    },
    {
      "cell_type": "markdown",
      "metadata": {
        "id": "weJDD3gyte0C"
      },
      "source": [
        "## [More attributes](https://pytorch.org/tutorials/beginner/basics/tensorqs_tutorial.html#attributes-of-a-tensor)\n",
        "\n",
        "Exploring tensor attributes and understanding how to interact with the device (CPU/GPU) for computations. This is critical for utilizing hardware accelerators for faster computation."
      ]
    },
    {
      "cell_type": "code",
      "execution_count": 31,
      "metadata": {
        "colab": {
          "base_uri": "https://localhost:8080/"
        },
        "id": "D2RxEfzKs4Vt",
        "outputId": "7b53ecb6-2585-4d18-d53b-526e869880ca"
      },
      "outputs": [
        {
          "output_type": "stream",
          "name": "stdout",
          "text": [
            "torch.Size([3])\n",
            "torch.float32\n",
            "cpu\n"
          ]
        }
      ],
      "source": [
        "a = torch.FloatTensor([0.4, 0.5, 1.3])\n",
        "print(a.shape)\n",
        "print(a.dtype)\n",
        "print(a.device)"
      ]
    },
    {
      "cell_type": "markdown",
      "metadata": {
        "id": "WM1PlcBEt-T8"
      },
      "source": [
        "Moving a Tensor to a Device"
      ]
    },
    {
      "cell_type": "code",
      "execution_count": 32,
      "metadata": {
        "colab": {
          "base_uri": "https://localhost:8080/"
        },
        "id": "MQvW39iZtzWF",
        "outputId": "62a9698a-be54-4225-c718-c667d403fec1"
      },
      "outputs": [
        {
          "output_type": "stream",
          "name": "stdout",
          "text": [
            "True\n",
            "1\n"
          ]
        }
      ],
      "source": [
        "print(torch.cuda.is_available())\n",
        "print(torch.cuda.device_count())"
      ]
    },
    {
      "cell_type": "code",
      "execution_count": 33,
      "metadata": {
        "colab": {
          "base_uri": "https://localhost:8080/"
        },
        "id": "Un0wbzPzuIXX",
        "outputId": "0e99dcb9-590a-4d17-eb9a-a60e35370770"
      },
      "outputs": [
        {
          "output_type": "stream",
          "name": "stdout",
          "text": [
            "[<torch.cuda.device object at 0x7b9209068f40>]\n"
          ]
        }
      ],
      "source": [
        "gpus = [torch.cuda.device(i) for i in range(torch.cuda.device_count())]\n",
        "print(gpus)"
      ]
    },
    {
      "cell_type": "code",
      "execution_count": 34,
      "metadata": {
        "colab": {
          "base_uri": "https://localhost:8080/"
        },
        "id": "q2duXxOru5GY",
        "outputId": "c9bb0fb8-f64d-4cfa-bcef-2f4e8cc39892"
      },
      "outputs": [
        {
          "output_type": "execute_result",
          "data": {
            "text/plain": [
              "tensor([0.4000, 0.5000, 1.3000], device='cuda:0')"
            ]
          },
          "metadata": {},
          "execution_count": 34
        }
      ],
      "source": [
        "device = 'cuda:0'\n",
        "b = a.to(device)\n",
        "b"
      ]
    },
    {
      "cell_type": "markdown",
      "metadata": {
        "id": "9-rWg-4wvfHN"
      },
      "source": [
        "The typical line you see in most pytorch scripts for NN training:"
      ]
    },
    {
      "cell_type": "code",
      "execution_count": 35,
      "metadata": {
        "id": "l2D_pU0svDz4"
      },
      "outputs": [],
      "source": [
        "device = 'cuda:0' if torch.cuda.is_available() else 'cpu'\n",
        "# then move to device"
      ]
    },
    {
      "cell_type": "markdown",
      "metadata": {
        "id": "jEE7tZ8y1oQP"
      },
      "source": [
        "## PyTorch Datasets and Dataloaders\n",
        "\n",
        "For more information, go to: https://pytorch.org/docs/stable/data.html\n",
        "\n",
        "Best practices sheet:\n",
        "\n",
        "Here, we're creating custom dataset classes, which is a common practice when dealing with unique data that can't be directly used with pre-existing dataset classes provided by PyTorch."
      ]
    },
    {
      "cell_type": "code",
      "execution_count": 36,
      "metadata": {
        "id": "V1d-1bctvVvn"
      },
      "outputs": [],
      "source": [
        "from torch.utils.data import IterableDataset, DataLoader"
      ]
    },
    {
      "cell_type": "code",
      "execution_count": 37,
      "metadata": {
        "id": "2Ir61Yps9eZR"
      },
      "outputs": [],
      "source": [
        "num_features = 10\n",
        "num_train_examples = 100\n",
        "num_test_examples = 50\n",
        "num_classes = 4\n",
        "\n",
        "train_X = torch.rand(num_train_examples, num_features)\n",
        "train_y = torch.randint(low=0, high=num_classes, size=(num_train_examples, 1))\n",
        "test_X = torch.rand(num_test_examples, num_features)\n",
        "test_y = torch.randint(low=0, high=num_classes, size=(num_test_examples, 1))"
      ]
    },
    {
      "cell_type": "code",
      "source": [
        "print(train_X.shape)\n",
        "print(test_X.shape)\n",
        "print(train_y.shape)\n",
        "print(test_y.shape)"
      ],
      "metadata": {
        "colab": {
          "base_uri": "https://localhost:8080/"
        },
        "id": "svffdT_rtbyA",
        "outputId": "f6223af6-5e91-47e6-a74a-5a482b6b9b41"
      },
      "execution_count": 38,
      "outputs": [
        {
          "output_type": "stream",
          "name": "stdout",
          "text": [
            "torch.Size([100, 10])\n",
            "torch.Size([50, 10])\n",
            "torch.Size([100, 1])\n",
            "torch.Size([50, 1])\n"
          ]
        }
      ]
    },
    {
      "cell_type": "code",
      "execution_count": 39,
      "metadata": {
        "id": "TKiVXHaf--Ml"
      },
      "outputs": [],
      "source": [
        "# Create a custom class MyDataset which is iterable (inheriting from IterableDataset)\n",
        "# It generates elements of data_X and data_y iteratively (one-by-one)\n",
        "\n",
        "class MyDataset(IterableDataset):\n",
        "    def __init__(self, data_X, data_y):\n",
        "        assert len(data_X) == len(data_y)\n",
        "        self.data_X = data_X.to(device)\n",
        "        self.data_y = data_y.to(device)\n",
        "\n",
        "    def __len__(self):\n",
        "        return len(self.data_X)\n",
        "\n",
        "    def __iter__(self):\n",
        "        for i in range(len(self.data_X)):\n",
        "            yield (self.data_X[i], self.data_y[i])"
      ]
    },
    {
      "cell_type": "code",
      "source": [
        "# Example data\n",
        "sample_X = torch.tensor([[1.0], [2.0], [3.0]])\n",
        "sample_y = torch.tensor([0, 1, 0])\n",
        "\n",
        "# Create the dataset\n",
        "dataset = MyDataset(sample_X, sample_y)\n",
        "\n",
        "# Initialize a counter variable\n",
        "counter = 0\n",
        "\n",
        "# Iterate over the dataset\n",
        "for x, y in dataset:\n",
        "    print(\"Counter: \", counter)\n",
        "    print(f'Input: {x}, Target: {y}')\n",
        "    counter += 1"
      ],
      "metadata": {
        "colab": {
          "base_uri": "https://localhost:8080/"
        },
        "id": "LV9sQg2JvHn_",
        "outputId": "a34adeff-2eb3-447d-c256-4eddb5d89386"
      },
      "execution_count": 40,
      "outputs": [
        {
          "output_type": "stream",
          "name": "stdout",
          "text": [
            "Counter:  0\n",
            "Input: tensor([1.], device='cuda:0'), Target: 0\n",
            "Counter:  1\n",
            "Input: tensor([2.], device='cuda:0'), Target: 1\n",
            "Counter:  2\n",
            "Input: tensor([3.], device='cuda:0'), Target: 0\n"
          ]
        }
      ]
    },
    {
      "cell_type": "code",
      "execution_count": 41,
      "metadata": {
        "id": "mdgGd3qgJ2gf"
      },
      "outputs": [],
      "source": [
        "train_set = MyDataset(train_X, train_y)\n",
        "test_set = MyDataset(test_X, test_y)"
      ]
    },
    {
      "cell_type": "code",
      "execution_count": 42,
      "metadata": {
        "id": "PEWBMEnyK3Br"
      },
      "outputs": [],
      "source": [
        "# However, we need to batch our Training Dataset. Why do we need batching?\n",
        "\n",
        "# Without Batching: If you train your model on one sample at a time, the training can be very slow.\n",
        "#                   Each update will depend on the noise from individual samples, which may lead to unstable training.\n",
        "\n",
        "# With Batching: If you use a batch size of 8, for instance, the model processes 8 samples in parallel.\n",
        "#                It computes the average loss and gradients, and then updates the model weights.\n",
        "#                This leads to faster training times and more stable convergence.\n",
        "\n",
        "train_loader = DataLoader(train_set, batch_size=8)\n",
        "test_loader = DataLoader(test_set, batch_size=8)"
      ]
    },
    {
      "cell_type": "markdown",
      "metadata": {
        "id": "vgse9J_sR1r4"
      },
      "source": [
        "Recommened DataLoader settings:"
      ]
    },
    {
      "cell_type": "code",
      "execution_count": 43,
      "metadata": {
        "colab": {
          "base_uri": "https://localhost:8080/"
        },
        "id": "txOQZNu5Lelr",
        "outputId": "a2272121-6fe6-4e47-fe5b-c82bdedb8fa5"
      },
      "outputs": [
        {
          "output_type": "stream",
          "name": "stdout",
          "text": [
            "torch.Size([8, 10]) torch.Size([8, 1])\n",
            "torch.Size([8, 10]) torch.Size([8, 1])\n",
            "torch.Size([8, 10]) torch.Size([8, 1])\n",
            "torch.Size([8, 10]) torch.Size([8, 1])\n",
            "torch.Size([8, 10]) torch.Size([8, 1])\n",
            "torch.Size([8, 10]) torch.Size([8, 1])\n",
            "torch.Size([8, 10]) torch.Size([8, 1])\n",
            "torch.Size([8, 10]) torch.Size([8, 1])\n",
            "torch.Size([8, 10]) torch.Size([8, 1])\n",
            "torch.Size([8, 10]) torch.Size([8, 1])\n",
            "torch.Size([8, 10]) torch.Size([8, 1])\n",
            "torch.Size([8, 10]) torch.Size([8, 1])\n",
            "torch.Size([4, 10]) torch.Size([4, 1])\n"
          ]
        }
      ],
      "source": [
        "for batch in train_loader:\n",
        "    print(batch[0].shape, batch[1].shape)"
      ]
    },
    {
      "cell_type": "markdown",
      "metadata": {
        "id": "femOiRYKNjPy"
      },
      "source": [
        "## A Small Neural Net\n",
        "\n",
        "Defining the neural network model. In PyTorch, a model is usually defined as a class that inherits from torch.nn.Module. It includes layers as class attributes and defines the forward pass of the network."
      ]
    },
    {
      "cell_type": "code",
      "execution_count": 44,
      "metadata": {
        "id": "U0WiFewbMyN7"
      },
      "outputs": [],
      "source": [
        "class TinyNN(torch.nn.Module):\n",
        "\n",
        "    def __init__(self, num_features, num_classes):\n",
        "        super(TinyNN, self).__init__()\n",
        "        self.num_features = num_features\n",
        "        self.num_classes = num_classes\n",
        "        self.hidden_size = int(round(num_features / 2))\n",
        "        self.input_layer = torch.nn.Linear(num_features, self.hidden_size)\n",
        "        self.hidden_layer = torch.nn.Linear(self.hidden_size, self.hidden_size)\n",
        "        self.output_layer = torch.nn.Linear(self.hidden_size, num_classes)\n",
        "\n",
        "    def forward(self, inputs):\n",
        "        out1 = self.input_layer(inputs)\n",
        "        out2 = self.hidden_layer(out1)\n",
        "        out3 = self.output_layer(out2)\n",
        "        log_probs = torch.nn.functional.log_softmax(out3, dim=-1) # Compute log_softmax across last dimension.\n",
        "        return log_probs"
      ]
    },
    {
      "cell_type": "markdown",
      "metadata": {
        "id": "co7YlawW0cRj"
      },
      "source": [
        "## Let's Train it\n",
        "The training process involves several steps such as setting the model to training mode, looping over the data loader, computing the loss, performing backpropagation to calculate gradients, and updating the model parameters with an optimizer."
      ]
    },
    {
      "cell_type": "code",
      "execution_count": 45,
      "metadata": {
        "id": "BaaR2RlBPdZf"
      },
      "outputs": [],
      "source": [
        "import torch.optim as optim\n",
        "\n",
        "model = TinyNN(num_features=num_features, num_classes=num_classes)\n",
        "device = 'cuda:0' if torch.cuda.is_available() else 'cpu'\n",
        "model.to(device)\n",
        "\n",
        "loss_func = torch.nn.NLLLoss()  # for nllloss vs cat-cross-ent: https://discuss.pytorch.org/t/difference-between-cross-entropy-loss-or-log-likelihood-loss/38816/2\n",
        "lr = 0.001\n",
        "optimizer = optim.Adam(model.parameters(), lr=lr)\n",
        "\n",
        "num_epochs = 10"
      ]
    },
    {
      "cell_type": "code",
      "execution_count": 46,
      "metadata": {
        "colab": {
          "base_uri": "https://localhost:8080/"
        },
        "id": "v-T7LjmMQv06",
        "outputId": "cf628264-6610-4d34-fab1-f47b62f934da"
      },
      "outputs": [
        {
          "output_type": "stream",
          "name": "stdout",
          "text": [
            "Epoch [1/10], batch: [1/13, loss: 1.6381]\n",
            "Epoch [1/10], batch: [2/13, loss: 1.6020]\n",
            "Epoch [1/10], batch: [3/13, loss: 1.6593]\n",
            "Epoch [1/10], batch: [4/13, loss: 1.7111]\n",
            "Epoch [1/10], batch: [5/13, loss: 1.6436]\n",
            "Epoch [1/10], batch: [6/13, loss: 1.5710]\n",
            "Epoch [1/10], batch: [7/13, loss: 1.3390]\n",
            "Epoch [1/10], batch: [8/13, loss: 1.1442]\n",
            "Epoch [1/10], batch: [9/13, loss: 1.4798]\n",
            "Epoch [1/10], batch: [10/13, loss: 1.5917]\n",
            "Epoch [1/10], batch: [11/13, loss: 1.5715]\n",
            "Epoch [1/10], batch: [12/13, loss: 1.6813]\n",
            "Epoch [1/10], batch: [13/13, loss: 1.0503]\n",
            "Epoch [2/10], batch: [1/13, loss: 1.5542]\n",
            "Epoch [2/10], batch: [2/13, loss: 1.5507]\n",
            "Epoch [2/10], batch: [3/13, loss: 1.5991]\n",
            "Epoch [2/10], batch: [4/13, loss: 1.6517]\n",
            "Epoch [2/10], batch: [5/13, loss: 1.5977]\n",
            "Epoch [2/10], batch: [6/13, loss: 1.5310]\n",
            "Epoch [2/10], batch: [7/13, loss: 1.3387]\n",
            "Epoch [2/10], batch: [8/13, loss: 1.1737]\n",
            "Epoch [2/10], batch: [9/13, loss: 1.4445]\n",
            "Epoch [2/10], batch: [10/13, loss: 1.5573]\n",
            "Epoch [2/10], batch: [11/13, loss: 1.5350]\n",
            "Epoch [2/10], batch: [12/13, loss: 1.6259]\n",
            "Epoch [2/10], batch: [13/13, loss: 1.0950]\n",
            "Epoch [3/10], batch: [1/13, loss: 1.5039]\n",
            "Epoch [3/10], batch: [2/13, loss: 1.5171]\n",
            "Epoch [3/10], batch: [3/13, loss: 1.5569]\n",
            "Epoch [3/10], batch: [4/13, loss: 1.6102]\n",
            "Epoch [3/10], batch: [5/13, loss: 1.5635]\n",
            "Epoch [3/10], batch: [6/13, loss: 1.5025]\n",
            "Epoch [3/10], batch: [7/13, loss: 1.3418]\n",
            "Epoch [3/10], batch: [8/13, loss: 1.1999]\n",
            "Epoch [3/10], batch: [9/13, loss: 1.4205]\n",
            "Epoch [3/10], batch: [10/13, loss: 1.5323]\n",
            "Epoch [3/10], batch: [11/13, loss: 1.5064]\n",
            "Epoch [3/10], batch: [12/13, loss: 1.5841]\n",
            "Epoch [3/10], batch: [13/13, loss: 1.1331]\n",
            "Epoch [4/10], batch: [1/13, loss: 1.4678]\n",
            "Epoch [4/10], batch: [2/13, loss: 1.4920]\n",
            "Epoch [4/10], batch: [3/13, loss: 1.5241]\n",
            "Epoch [4/10], batch: [4/13, loss: 1.5788]\n",
            "Epoch [4/10], batch: [5/13, loss: 1.5359]\n",
            "Epoch [4/10], batch: [6/13, loss: 1.4809]\n",
            "Epoch [4/10], batch: [7/13, loss: 1.3464]\n",
            "Epoch [4/10], batch: [8/13, loss: 1.2226]\n",
            "Epoch [4/10], batch: [9/13, loss: 1.4041]\n",
            "Epoch [4/10], batch: [10/13, loss: 1.5134]\n",
            "Epoch [4/10], batch: [11/13, loss: 1.4828]\n",
            "Epoch [4/10], batch: [12/13, loss: 1.5516]\n",
            "Epoch [4/10], batch: [13/13, loss: 1.1652]\n",
            "Epoch [5/10], batch: [1/13, loss: 1.4416]\n",
            "Epoch [5/10], batch: [2/13, loss: 1.4722]\n",
            "Epoch [5/10], batch: [3/13, loss: 1.4975]\n",
            "Epoch [5/10], batch: [4/13, loss: 1.5543]\n",
            "Epoch [5/10], batch: [5/13, loss: 1.5124]\n",
            "Epoch [5/10], batch: [6/13, loss: 1.4636]\n",
            "Epoch [5/10], batch: [7/13, loss: 1.3515]\n",
            "Epoch [5/10], batch: [8/13, loss: 1.2420]\n",
            "Epoch [5/10], batch: [9/13, loss: 1.3928]\n",
            "Epoch [5/10], batch: [10/13, loss: 1.4986]\n",
            "Epoch [5/10], batch: [11/13, loss: 1.4623]\n",
            "Epoch [5/10], batch: [12/13, loss: 1.5256]\n",
            "Epoch [5/10], batch: [13/13, loss: 1.1922]\n",
            "Epoch [6/10], batch: [1/13, loss: 1.4224]\n",
            "Epoch [6/10], batch: [2/13, loss: 1.4558]\n",
            "Epoch [6/10], batch: [3/13, loss: 1.4750]\n",
            "Epoch [6/10], batch: [4/13, loss: 1.5347]\n",
            "Epoch [6/10], batch: [5/13, loss: 1.4915]\n",
            "Epoch [6/10], batch: [6/13, loss: 1.4493]\n",
            "Epoch [6/10], batch: [7/13, loss: 1.3565]\n",
            "Epoch [6/10], batch: [8/13, loss: 1.2587]\n",
            "Epoch [6/10], batch: [9/13, loss: 1.3851]\n",
            "Epoch [6/10], batch: [10/13, loss: 1.4865]\n",
            "Epoch [6/10], batch: [11/13, loss: 1.4438]\n",
            "Epoch [6/10], batch: [12/13, loss: 1.5044]\n",
            "Epoch [6/10], batch: [13/13, loss: 1.2151]\n",
            "Epoch [7/10], batch: [1/13, loss: 1.4081]\n",
            "Epoch [7/10], batch: [2/13, loss: 1.4418]\n",
            "Epoch [7/10], batch: [3/13, loss: 1.4553]\n",
            "Epoch [7/10], batch: [4/13, loss: 1.5187]\n",
            "Epoch [7/10], batch: [5/13, loss: 1.4725]\n",
            "Epoch [7/10], batch: [6/13, loss: 1.4371]\n",
            "Epoch [7/10], batch: [7/13, loss: 1.3614]\n",
            "Epoch [7/10], batch: [8/13, loss: 1.2730]\n",
            "Epoch [7/10], batch: [9/13, loss: 1.3800]\n",
            "Epoch [7/10], batch: [10/13, loss: 1.4762]\n",
            "Epoch [7/10], batch: [11/13, loss: 1.4268]\n",
            "Epoch [7/10], batch: [12/13, loss: 1.4864]\n",
            "Epoch [7/10], batch: [13/13, loss: 1.2348]\n",
            "Epoch [8/10], batch: [1/13, loss: 1.3975]\n",
            "Epoch [8/10], batch: [2/13, loss: 1.4293]\n",
            "Epoch [8/10], batch: [3/13, loss: 1.4375]\n",
            "Epoch [8/10], batch: [4/13, loss: 1.5052]\n",
            "Epoch [8/10], batch: [5/13, loss: 1.4547]\n",
            "Epoch [8/10], batch: [6/13, loss: 1.4262]\n",
            "Epoch [8/10], batch: [7/13, loss: 1.3660]\n",
            "Epoch [8/10], batch: [8/13, loss: 1.2856]\n",
            "Epoch [8/10], batch: [9/13, loss: 1.3766]\n",
            "Epoch [8/10], batch: [10/13, loss: 1.4674]\n",
            "Epoch [8/10], batch: [11/13, loss: 1.4108]\n",
            "Epoch [8/10], batch: [12/13, loss: 1.4710]\n",
            "Epoch [8/10], batch: [13/13, loss: 1.2519]\n",
            "Epoch [9/10], batch: [1/13, loss: 1.3894]\n",
            "Epoch [9/10], batch: [2/13, loss: 1.4180]\n",
            "Epoch [9/10], batch: [3/13, loss: 1.4214]\n",
            "Epoch [9/10], batch: [4/13, loss: 1.4937]\n",
            "Epoch [9/10], batch: [5/13, loss: 1.4379]\n",
            "Epoch [9/10], batch: [6/13, loss: 1.4165]\n",
            "Epoch [9/10], batch: [7/13, loss: 1.3703]\n",
            "Epoch [9/10], batch: [8/13, loss: 1.2967]\n",
            "Epoch [9/10], batch: [9/13, loss: 1.3746]\n",
            "Epoch [9/10], batch: [10/13, loss: 1.4596]\n",
            "Epoch [9/10], batch: [11/13, loss: 1.3957]\n",
            "Epoch [9/10], batch: [12/13, loss: 1.4574]\n",
            "Epoch [9/10], batch: [13/13, loss: 1.2670]\n",
            "Epoch [10/10], batch: [1/13, loss: 1.3832]\n",
            "Epoch [10/10], batch: [2/13, loss: 1.4076]\n",
            "Epoch [10/10], batch: [3/13, loss: 1.4065]\n",
            "Epoch [10/10], batch: [4/13, loss: 1.4836]\n",
            "Epoch [10/10], batch: [5/13, loss: 1.4221]\n",
            "Epoch [10/10], batch: [6/13, loss: 1.4077]\n",
            "Epoch [10/10], batch: [7/13, loss: 1.3743]\n",
            "Epoch [10/10], batch: [8/13, loss: 1.3067]\n",
            "Epoch [10/10], batch: [9/13, loss: 1.3734]\n",
            "Epoch [10/10], batch: [10/13, loss: 1.4526]\n",
            "Epoch [10/10], batch: [11/13, loss: 1.3814]\n",
            "Epoch [10/10], batch: [12/13, loss: 1.4453]\n",
            "Epoch [10/10], batch: [13/13, loss: 1.2805]\n"
          ]
        }
      ],
      "source": [
        "num_batches = len(train_loader)\n",
        "for epoch in range(1, num_epochs + 1):\n",
        "    for batch_num, (inputs, y_true) in enumerate(train_loader, 1):\n",
        "        optimizer.zero_grad()\n",
        "        y_pred = model(inputs)\n",
        "        loss = loss_func(y_pred, y_true.squeeze())\n",
        "        loss_batch = loss.item()\n",
        "        loss.backward()\n",
        "        optimizer.step()\n",
        "        print(f'Epoch [{epoch}/{num_epochs}], batch: [{batch_num}/{num_batches}, loss: {loss_batch:.4f}]')"
      ]
    },
    {
      "cell_type": "markdown",
      "metadata": {
        "id": "O6ca-I9cbeYL"
      },
      "source": [
        "## Simple Evaluation:\n",
        "\n",
        "After training, it's essential to evaluate the model on a separate test dataset to assess its performance on **unseen** data. Here, we're calculating the accuracy of the model, which is a common metric for classification tasks."
      ]
    },
    {
      "cell_type": "code",
      "execution_count": 47,
      "metadata": {
        "id": "G1sOHXrjXZpZ"
      },
      "outputs": [],
      "source": [
        "predictions = []\n",
        "true_labels = []\n",
        "model.eval()  # without dropout and alike not really necessary\n",
        "with torch.no_grad():  # disable gradient computation, since it is only needed when backward() is called\n",
        "    for test_X, test_y in test_loader:\n",
        "        pred_y = model(test_X)\n",
        "        batch_preds = [x.item() for x in torch.argmax(pred_y, dim=-1)]\n",
        "        predictions.extend(batch_preds)\n",
        "        true_labels.extend([y.item() for y in test_y.squeeze()])"
      ]
    },
    {
      "cell_type": "code",
      "execution_count": 48,
      "metadata": {
        "colab": {
          "base_uri": "https://localhost:8080/"
        },
        "id": "e4s9S8c1b5NX",
        "outputId": "14a72529-6792-40dc-b752-e18d13b90e54"
      },
      "outputs": [
        {
          "output_type": "execute_result",
          "data": {
            "text/plain": [
              "0.32"
            ]
          },
          "metadata": {},
          "execution_count": 48
        }
      ],
      "source": [
        "from sklearn.metrics import accuracy_score\n",
        "acc = accuracy_score(true_labels, predictions)\n",
        "acc"
      ]
    }
  ],
  "metadata": {
    "accelerator": "GPU",
    "colab": {
      "provenance": [],
      "include_colab_link": true
    },
    "kernelspec": {
      "display_name": "Python 3",
      "name": "python3"
    },
    "language_info": {
      "name": "python"
    }
  },
  "nbformat": 4,
  "nbformat_minor": 0
}