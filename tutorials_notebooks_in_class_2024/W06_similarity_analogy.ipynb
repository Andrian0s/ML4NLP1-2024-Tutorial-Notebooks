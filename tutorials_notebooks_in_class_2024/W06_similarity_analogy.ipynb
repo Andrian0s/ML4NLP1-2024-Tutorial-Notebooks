{
  "cells": [
    {
      "cell_type": "markdown",
      "metadata": {
        "id": "view-in-github",
        "colab_type": "text"
      },
      "source": [
        "<a href=\"https://colab.research.google.com/github/Andrian0s/ML4NLP1-2024-Tutorial-Notebooks/blob/main/tutorials_notebooks_in_class_2024/W06_similarity_analogy.ipynb\" target=\"_parent\"><img src=\"https://colab.research.google.com/assets/colab-badge.svg\" alt=\"Open In Colab\"/></a>"
      ]
    },
    {
      "cell_type": "markdown",
      "id": "f4e27f41",
      "metadata": {
        "id": "f4e27f41"
      },
      "source": [
        "The following additional libraries are needed to run this\n",
        "notebook."
      ]
    },
    {
      "cell_type": "code",
      "execution_count": 1,
      "id": "455293d9",
      "metadata": {
        "id": "455293d9"
      },
      "outputs": [],
      "source": [
        "!pip install d2l==1.0.3 matplotlib scikit-learn -qU"
      ]
    },
    {
      "cell_type": "markdown",
      "id": "d9bc39df",
      "metadata": {
        "origin_pos": 0,
        "id": "d9bc39df"
      },
      "source": [
        "# Word Similarity and Analogy\n",
        "\n",
        "In Exercise 2, we trained a word2vec model on a small dataset, and applied it to find semantically similar words\n",
        "for an input word. In practice, word vectors that are pretrained on large corpora can be\n",
        "applied to downstream natural language processing tasks,\n",
        "which will be covered later. To demonstrate the semantics of pretrained word vectors from large corpora in a straightforward way, let's apply them in the word similarity and analogy tasks.\n"
      ]
    },
    {
      "cell_type": "code",
      "execution_count": 2,
      "id": "7c36748f",
      "metadata": {
        "execution": {
          "iopub.execute_input": "2023-08-18T19:39:58.110484Z",
          "iopub.status.busy": "2023-08-18T19:39:58.109802Z",
          "iopub.status.idle": "2023-08-18T19:40:01.601183Z",
          "shell.execute_reply": "2023-08-18T19:40:01.599880Z"
        },
        "origin_pos": 2,
        "tab": [
          "pytorch"
        ],
        "id": "7c36748f"
      },
      "outputs": [],
      "source": [
        "import os\n",
        "import torch\n",
        "from torch import nn\n",
        "from d2l import torch as d2l\n",
        "import matplotlib.pyplot as plt\n",
        "from sklearn.decomposition import PCA\n",
        "import numpy as np"
      ]
    },
    {
      "cell_type": "markdown",
      "id": "58dea0ce",
      "metadata": {
        "origin_pos": 3,
        "id": "58dea0ce"
      },
      "source": [
        "## Loading Pretrained Word Vectors\n",
        "\n",
        "Below lists pretrained GloVe embeddings of dimension 50, 100, and 300,\n",
        "which can be downloaded from the [GloVe website](https://nlp.stanford.edu/projects/glove/).\n",
        "The pretrained fastText embeddings are available in multiple languages.\n",
        "Here we consider one English version (300-dimensional \"wiki.en\") that can be downloaded from the\n",
        "[fastText website](https://fasttext.cc/).\n"
      ]
    },
    {
      "cell_type": "markdown",
      "source": [
        "### Difference b/w fastText and Word2Vec\n",
        "\n",
        "1. fastText works on subwords, i.e. splits words. W2V works on word level\n",
        "2. fastText can provide embeddings for out-of-vocabulary words. Can handle rare words.\n",
        "3. Because fastText splits the words, it generally takes longer to train"
      ],
      "metadata": {
        "id": "60xBFAFLa1gh"
      },
      "id": "60xBFAFLa1gh"
    },
    {
      "cell_type": "code",
      "execution_count": 3,
      "id": "740b8826",
      "metadata": {
        "execution": {
          "iopub.execute_input": "2023-08-18T19:40:01.605791Z",
          "iopub.status.busy": "2023-08-18T19:40:01.605008Z",
          "iopub.status.idle": "2023-08-18T19:40:01.610925Z",
          "shell.execute_reply": "2023-08-18T19:40:01.609999Z"
        },
        "origin_pos": 4,
        "tab": [
          "pytorch"
        ],
        "id": "740b8826"
      },
      "outputs": [],
      "source": [
        "#save\n",
        "d2l.DATA_HUB['glove.6b.50d'] = (d2l.DATA_URL + 'glove.6B.50d.zip',\n",
        "                                '0b8703943ccdb6eb788e6f091b8946e82231bc4d')\n",
        "\n",
        "#save\n",
        "d2l.DATA_HUB['glove.6b.100d'] = (d2l.DATA_URL + 'glove.6B.100d.zip',\n",
        "                                 'cd43bfb07e44e6f27cbcc7bc9ae3d80284fdaf5a')\n",
        "\n",
        "#save\n",
        "d2l.DATA_HUB['glove.42b.300d'] = (d2l.DATA_URL + 'glove.42B.300d.zip',\n",
        "                                  'b5116e234e9eb9076672cfeabf5469f3eec904fa')\n",
        "\n",
        "#save\n",
        "d2l.DATA_HUB['wiki.en'] = (d2l.DATA_URL + 'wiki.en.zip',\n",
        "                           'c1816da3821ae9f43899be655002f6c723e91b88')"
      ]
    },
    {
      "cell_type": "markdown",
      "id": "c6e66b37",
      "metadata": {
        "origin_pos": 5,
        "id": "c6e66b37"
      },
      "source": [
        "To load these pretrained GloVe and fastText embeddings, we define the following `TokenEmbedding` class.\n"
      ]
    },
    {
      "cell_type": "code",
      "execution_count": 4,
      "id": "45117bfd",
      "metadata": {
        "execution": {
          "iopub.execute_input": "2023-08-18T19:40:01.615965Z",
          "iopub.status.busy": "2023-08-18T19:40:01.614818Z",
          "iopub.status.idle": "2023-08-18T19:40:01.625449Z",
          "shell.execute_reply": "2023-08-18T19:40:01.624404Z"
        },
        "origin_pos": 6,
        "tab": [
          "pytorch"
        ],
        "id": "45117bfd"
      },
      "outputs": [],
      "source": [
        "class TokenEmbedding:\n",
        "    \"\"\"Token Embedding.\"\"\"\n",
        "    def __init__(self, embedding_name):\n",
        "        self.idx_to_token, self.idx_to_vec = self._load_embedding(embedding_name)\n",
        "        self.unknown_idx = 0\n",
        "        self.token_to_idx = {token: idx for idx, token in\n",
        "                             enumerate(self.idx_to_token)}\n",
        "\n",
        "    # Function to load embeddings\n",
        "    def _load_embedding(self, embedding_name):\n",
        "        idx_to_token, idx_to_vec = ['<unk>'], []\n",
        "        data_dir = d2l.download_extract(embedding_name)\n",
        "        # GloVe website: https://nlp.stanford.edu/projects/glove/\n",
        "        # fastText website: https://fasttext.cc/\n",
        "        with open(os.path.join(data_dir, 'vec.txt'), 'r') as f:\n",
        "            for line in f:\n",
        "                elems = line.rstrip().split(' ')\n",
        "                token, elems = elems[0], [float(elem) for elem in elems[1:]]\n",
        "                # Skip header information, such as the top row in fastText\n",
        "                if len(elems) > 1:\n",
        "                    idx_to_token.append(token)\n",
        "                    idx_to_vec.append(elems)\n",
        "        idx_to_vec = [[0] * len(idx_to_vec[0])] + idx_to_vec\n",
        "        return idx_to_token, torch.tensor(idx_to_vec)\n",
        "\n",
        "    def __getitem__(self, tokens):\n",
        "        indices = [self.token_to_idx.get(token, self.unknown_idx)\n",
        "                   for token in tokens]\n",
        "        vecs = self.idx_to_vec[torch.tensor(indices)]\n",
        "        return vecs\n",
        "\n",
        "    def __len__(self):\n",
        "        return len(self.idx_to_token)"
      ]
    },
    {
      "cell_type": "markdown",
      "id": "927d092b",
      "metadata": {
        "origin_pos": 7,
        "id": "927d092b"
      },
      "source": [
        "Below we load the\n",
        "50-dimensional GloVe embeddings\n",
        "(pretrained on a Wikipedia subset).\n",
        "When creating the `TokenEmbedding` instance,\n",
        "the specified embedding file has to be downloaded if it\n",
        "was not yet.\n"
      ]
    },
    {
      "cell_type": "code",
      "execution_count": 5,
      "id": "4487556e",
      "metadata": {
        "execution": {
          "iopub.execute_input": "2023-08-18T19:40:01.630355Z",
          "iopub.status.busy": "2023-08-18T19:40:01.630031Z",
          "iopub.status.idle": "2023-08-18T19:40:18.097173Z",
          "shell.execute_reply": "2023-08-18T19:40:18.096139Z"
        },
        "origin_pos": 8,
        "tab": [
          "pytorch"
        ],
        "id": "4487556e"
      },
      "outputs": [],
      "source": [
        "glove_6b50d = TokenEmbedding('glove.6b.50d')"
      ]
    },
    {
      "cell_type": "markdown",
      "id": "99425a33",
      "metadata": {
        "origin_pos": 9,
        "id": "99425a33"
      },
      "source": [
        "Output the vocabulary size. The vocabulary contains 400000 words (tokens) and a special unknown token.\n"
      ]
    },
    {
      "cell_type": "code",
      "execution_count": 6,
      "id": "ff0fe3b2",
      "metadata": {
        "execution": {
          "iopub.execute_input": "2023-08-18T19:40:18.101681Z",
          "iopub.status.busy": "2023-08-18T19:40:18.101067Z",
          "iopub.status.idle": "2023-08-18T19:40:18.107937Z",
          "shell.execute_reply": "2023-08-18T19:40:18.107092Z"
        },
        "origin_pos": 10,
        "tab": [
          "pytorch"
        ],
        "id": "ff0fe3b2",
        "outputId": "8b9d2268-e819-4250-ec34-fc56f18ea219",
        "colab": {
          "base_uri": "https://localhost:8080/"
        }
      },
      "outputs": [
        {
          "output_type": "execute_result",
          "data": {
            "text/plain": [
              "400001"
            ]
          },
          "metadata": {},
          "execution_count": 6
        }
      ],
      "source": [
        "len(glove_6b50d)"
      ]
    },
    {
      "cell_type": "markdown",
      "id": "c5839f20",
      "metadata": {
        "origin_pos": 11,
        "id": "c5839f20"
      },
      "source": [
        "We can get the index of a word in the vocabulary, and vice versa.\n"
      ]
    },
    {
      "cell_type": "code",
      "execution_count": 7,
      "id": "bee6bad4",
      "metadata": {
        "execution": {
          "iopub.execute_input": "2023-08-18T19:40:18.111818Z",
          "iopub.status.busy": "2023-08-18T19:40:18.111076Z",
          "iopub.status.idle": "2023-08-18T19:40:18.116940Z",
          "shell.execute_reply": "2023-08-18T19:40:18.116073Z"
        },
        "origin_pos": 12,
        "tab": [
          "pytorch"
        ],
        "id": "bee6bad4",
        "outputId": "a9c13cb2-65de-40a1-e878-710e2fc4bbb0",
        "colab": {
          "base_uri": "https://localhost:8080/"
        }
      },
      "outputs": [
        {
          "output_type": "execute_result",
          "data": {
            "text/plain": [
              "(3367, 'beautiful')"
            ]
          },
          "metadata": {},
          "execution_count": 7
        }
      ],
      "source": [
        "glove_6b50d.token_to_idx['beautiful'], glove_6b50d.idx_to_token[3367]"
      ]
    },
    {
      "cell_type": "markdown",
      "source": [
        "We get the word embeddings using the index of the word"
      ],
      "metadata": {
        "id": "lcOBH9YRgPmA"
      },
      "id": "lcOBH9YRgPmA"
    },
    {
      "cell_type": "code",
      "source": [
        "glove_6b50d.idx_to_vec[3367], glove_6b50d.idx_to_vec[3367].shape"
      ],
      "metadata": {
        "colab": {
          "base_uri": "https://localhost:8080/"
        },
        "id": "UWjT8QGBC-Ur",
        "outputId": "c4945792-5a99-4925-88b5-05e8e8b2be9c"
      },
      "id": "UWjT8QGBC-Ur",
      "execution_count": 8,
      "outputs": [
        {
          "output_type": "execute_result",
          "data": {
            "text/plain": [
              "(tensor([ 0.5462,  1.2042, -1.1288, -0.1325,  0.9553,  0.0405, -0.4786, -0.3397,\n",
              "         -0.2806,  0.7176, -0.5369, -0.0046,  0.7322,  0.1210,  0.2809, -0.0881,\n",
              "          0.5973,  0.5526,  0.0566, -0.5025, -0.6320,  1.1439, -0.3105,  0.1263,\n",
              "          1.3155, -0.5244, -1.5041,  1.1580,  0.6880, -0.8505,  2.3236, -0.4179,\n",
              "          0.4452, -0.0192,  0.2897,  0.5326, -0.0230,  0.5896, -0.7240, -0.8522,\n",
              "         -0.1776,  0.1443,  0.4066, -0.5200,  0.0908,  0.0830, -0.0220, -1.6214,\n",
              "          0.3458, -0.0109]),\n",
              " torch.Size([50]))"
            ]
          },
          "metadata": {},
          "execution_count": 8
        }
      ]
    },
    {
      "cell_type": "markdown",
      "source": [
        "Function to plot word embeddings. We reduce the embedding dimension of embeddings from 50 to 2 using PCA"
      ],
      "metadata": {
        "id": "ZpMj7TIBgwjM"
      },
      "id": "ZpMj7TIBgwjM"
    },
    {
      "cell_type": "code",
      "source": [
        "def plot_vectors(words, embed):\n",
        "    word_vectors = embed[words]\n",
        "    # Apply PCA to reduce dimensions to 2D\n",
        "    pca = PCA(n_components=2)\n",
        "    word_vecs_2d = pca.fit_transform(word_vectors)\n",
        "\n",
        "    # Check how much variance is explained by the 2 components\n",
        "    explained_variance_ratio = pca.explained_variance_ratio_\n",
        "    total_explained_variance = explained_variance_ratio.sum()\n",
        "\n",
        "    print(\"Explained variance in 2 dimensions: \", np.round(total_explained_variance, 2))\n",
        "    # Plot the vectors\n",
        "    plt.figure(figsize=(6, 6))\n",
        "    plt.scatter(word_vecs_2d[:, 0], word_vecs_2d[:, 1], marker='o', color='red')\n",
        "\n",
        "    # Annotate each point with its corresponding word\n",
        "    for i, word in enumerate(words):\n",
        "        plt.annotate(word, xy=(word_vecs_2d[i, 0], word_vecs_2d[i, 1]), fontsize=12)\n",
        "\n",
        "    x_min = min(0, word_vecs_2d[:, 0].min()) - 1\n",
        "    x_max = word_vecs_2d[:, 0].max() + 1\n",
        "    y_min = min(0, word_vecs_2d[:, 1].min()) - 1\n",
        "    y_max = word_vecs_2d[:, 1].max() + 1\n",
        "\n",
        "    plt.xlim(x_min, x_max)\n",
        "    plt.ylim(y_min, y_max)\n",
        "    plt.title('Word Vectors in 2D (via PCA)')\n",
        "    plt.xlabel('PCA 1')\n",
        "    plt.ylabel('PCA 2')\n",
        "    plt.grid(True)\n",
        "    plt.show()"
      ],
      "metadata": {
        "id": "IdZjS-pPZfYy"
      },
      "id": "IdZjS-pPZfYy",
      "execution_count": 9,
      "outputs": []
    },
    {
      "cell_type": "markdown",
      "id": "261f53bf",
      "metadata": {
        "origin_pos": 13,
        "id": "261f53bf"
      },
      "source": [
        "## Applying Pretrained Word Vectors\n",
        "\n",
        "Using the loaded GloVe vectors,\n",
        "we will demonstrate their semantics\n",
        "by applying them\n",
        "in the following word similarity and analogy tasks.\n",
        "\n",
        "\n",
        "### Word Similarity\n",
        "\n",
        "In order to find semantically similar words\n",
        "for an input word\n",
        "based on cosine similarities between\n",
        "word vectors,\n",
        "we implement the following `knn`\n",
        "($k$-nearest neighbors) function.\n"
      ]
    },
    {
      "cell_type": "markdown",
      "source": [
        "$$ \\cos(\\theta) = \\frac{\\mathbf{a} \\cdot \\mathbf{b}}{|\\mathbf{a}| |\\mathbf{b}|} $$\n"
      ],
      "metadata": {
        "id": "zG83nDeahQpU"
      },
      "id": "zG83nDeahQpU"
    },
    {
      "cell_type": "markdown",
      "source": [
        "$\\mathbf{a} \\cdot \\mathbf{b}$ is the dot product of vectors\n",
        "a and b. $|\\mathbf{a}|$ and $|\\mathbf{b}|$ represent the magnitudes of vectors $\\mathbf{a}$ and $\\mathbf{b}$"
      ],
      "metadata": {
        "id": "u8WWeHlGhmmF"
      },
      "id": "u8WWeHlGhmmF"
    },
    {
      "cell_type": "code",
      "execution_count": 10,
      "id": "f9a7b445",
      "metadata": {
        "execution": {
          "iopub.execute_input": "2023-08-18T19:40:18.120761Z",
          "iopub.status.busy": "2023-08-18T19:40:18.120069Z",
          "iopub.status.idle": "2023-08-18T19:40:18.125858Z",
          "shell.execute_reply": "2023-08-18T19:40:18.124783Z"
        },
        "origin_pos": 15,
        "tab": [
          "pytorch"
        ],
        "id": "f9a7b445"
      },
      "outputs": [],
      "source": [
        "def knn(W, x, k):\n",
        "    # Add 1e-9 for numerical stability\n",
        "    cos = torch.mv(W, x.reshape(-1,)) / (\n",
        "        torch.sqrt(torch.sum(W * W, axis=1) + 1e-9) *\n",
        "        torch.sqrt((x * x).sum()))\n",
        "    _, topk = torch.topk(cos, k=k)\n",
        "    return topk, [cos[int(i)] for i in topk]"
      ]
    },
    {
      "cell_type": "markdown",
      "source": [
        "Demonstrating torch.mv functionality: Dot product b/w rows of Matrix m and a vector v"
      ],
      "metadata": {
        "id": "KM4vYDsqhDaD"
      },
      "id": "KM4vYDsqhDaD"
    },
    {
      "cell_type": "code",
      "source": [
        "A = torch.tensor([[1,2,3,4],[5,6,7,8]])\n",
        "b = torch.tensor([9,10,11,12])\n",
        "result = torch.mv(A, b)\n",
        "result # tensor([110, 278])\n",
        "# 110 = 1*9 + 2*10 + 3*11 + 4*12\n",
        "# 278 = 5*9 + 6*10 + 7*11 + 8*12"
      ],
      "metadata": {
        "colab": {
          "base_uri": "https://localhost:8080/"
        },
        "id": "wNgJLWQphKiv",
        "outputId": "e5c3fb6a-8c8c-4768-dc9c-05108db3cc9b"
      },
      "id": "wNgJLWQphKiv",
      "execution_count": 11,
      "outputs": [
        {
          "output_type": "execute_result",
          "data": {
            "text/plain": [
              "tensor([110, 278])"
            ]
          },
          "metadata": {},
          "execution_count": 11
        }
      ]
    },
    {
      "cell_type": "markdown",
      "id": "129060b5",
      "metadata": {
        "origin_pos": 16,
        "id": "129060b5"
      },
      "source": [
        "Then, we\n",
        "search for similar words\n",
        "using the pretrained word vectors\n",
        "from the `TokenEmbedding` instance `embed`.\n"
      ]
    },
    {
      "cell_type": "code",
      "execution_count": 12,
      "id": "89565196",
      "metadata": {
        "execution": {
          "iopub.execute_input": "2023-08-18T19:40:18.129541Z",
          "iopub.status.busy": "2023-08-18T19:40:18.128977Z",
          "iopub.status.idle": "2023-08-18T19:40:18.134362Z",
          "shell.execute_reply": "2023-08-18T19:40:18.133532Z"
        },
        "origin_pos": 17,
        "tab": [
          "pytorch"
        ],
        "id": "89565196"
      },
      "outputs": [],
      "source": [
        "def get_similar_tokens(query_token, k, embed):\n",
        "    topk, cos = knn(embed.idx_to_vec, embed[[query_token]], k + 1)\n",
        "    for i, c in zip(topk[1:], cos[1:]):  # Exclude the input word\n",
        "        print(f'cosine sim={float(c):.3f}: {embed.idx_to_token[int(i)]}')"
      ]
    },
    {
      "cell_type": "markdown",
      "source": [
        "We could also find the cosine distance between any two words using the function below"
      ],
      "metadata": {
        "id": "FrLz7yqRkQ98"
      },
      "id": "FrLz7yqRkQ98"
    },
    {
      "cell_type": "code",
      "source": [
        "def get_cosine_similarity(token_a, token_b, embed):\n",
        "    idx_a = embed.token_to_idx[token_a]\n",
        "    idx_b = embed.token_to_idx[token_b]\n",
        "    vec_a = embed.idx_to_vec[idx_a]\n",
        "    vec_b = embed.idx_to_vec[idx_b]\n",
        "    cos = torch.dot(vec_a, vec_b)/(torch.norm(vec_a) * torch.norm(vec_b))\n",
        "    print(\"Cosine similarity: \", np.round(cos.item(),4))"
      ],
      "metadata": {
        "id": "apGIcRrQkQCv"
      },
      "id": "apGIcRrQkQCv",
      "execution_count": 13,
      "outputs": []
    },
    {
      "cell_type": "markdown",
      "id": "87927a0a",
      "metadata": {
        "origin_pos": 18,
        "id": "87927a0a"
      },
      "source": [
        "The vocabulary of the pretrained word vectors\n",
        "in `glove_6b50d` contains 400000 words and a special unknown token.\n",
        "Excluding the input word and unknown token,\n",
        "among this vocabulary\n",
        "let's find\n",
        "three most semantically similar words\n",
        "to word \"chip\".\n"
      ]
    },
    {
      "cell_type": "code",
      "execution_count": 14,
      "id": "f6006a6c",
      "metadata": {
        "execution": {
          "iopub.execute_input": "2023-08-18T19:40:18.137799Z",
          "iopub.status.busy": "2023-08-18T19:40:18.137504Z",
          "iopub.status.idle": "2023-08-18T19:40:18.192497Z",
          "shell.execute_reply": "2023-08-18T19:40:18.191240Z"
        },
        "origin_pos": 19,
        "tab": [
          "pytorch"
        ],
        "id": "f6006a6c",
        "outputId": "35e93065-f427-4cb3-b132-569314e02111",
        "colab": {
          "base_uri": "https://localhost:8080/"
        }
      },
      "outputs": [
        {
          "output_type": "stream",
          "name": "stdout",
          "text": [
            "cosine sim=0.856: chips\n",
            "cosine sim=0.749: intel\n",
            "cosine sim=0.749: electronics\n"
          ]
        }
      ],
      "source": [
        "get_similar_tokens('chip', 3, glove_6b50d)"
      ]
    },
    {
      "cell_type": "code",
      "source": [
        "get_cosine_similarity('chip', 'nvidia', glove_6b50d)"
      ],
      "metadata": {
        "colab": {
          "base_uri": "https://localhost:8080/"
        },
        "id": "59lZYsjJn8VV",
        "outputId": "494aa3fe-c576-4d83-8b43-9f03aeb0ddec"
      },
      "id": "59lZYsjJn8VV",
      "execution_count": 15,
      "outputs": [
        {
          "output_type": "stream",
          "name": "stdout",
          "text": [
            "Cosine similarity:  0.437\n"
          ]
        }
      ]
    },
    {
      "cell_type": "code",
      "source": [
        "plot_vectors(['chip','chips','intel','electronics','nvidia'], glove_6b50d)"
      ],
      "metadata": {
        "colab": {
          "base_uri": "https://localhost:8080/",
          "height": 582
        },
        "id": "SvbDOG0Fj0bX",
        "outputId": "0996200b-bcfc-4895-939e-1ce876706269"
      },
      "id": "SvbDOG0Fj0bX",
      "execution_count": 16,
      "outputs": [
        {
          "output_type": "stream",
          "name": "stdout",
          "text": [
            "Explained variance in 2 dimensions:  0.73\n"
          ]
        },
        {
          "output_type": "display_data",
          "data": {
            "text/plain": [
              "<Figure size 600x600 with 1 Axes>"
            ],
            "image/png": "[encoded data removed]"
          },
          "metadata": {}
        }
      ]
    },
    {
      "cell_type": "code",
      "source": [
        "get_similar_tokens('gpu', 3, glove_6b50d)"
      ],
      "metadata": {
        "colab": {
          "base_uri": "https://localhost:8080/"
        },
        "id": "ygs3lG1g3O6_",
        "outputId": "d35e3fe6-3bf3-4230-c658-bb0dbefa0939"
      },
      "id": "ygs3lG1g3O6_",
      "execution_count": 18,
      "outputs": [
        {
          "output_type": "stream",
          "name": "stdout",
          "text": [
            "cosine sim=0.789: nvidia\n",
            "cosine sim=0.740: gpus\n",
            "cosine sim=0.709: aes\n"
          ]
        }
      ]
    },
    {
      "cell_type": "code",
      "source": [
        "plot_vectors(['gpu','nvidia','gpus', 'aes', 'artificial intelligence'], glove_6b50d)"
      ],
      "metadata": {
        "colab": {
          "base_uri": "https://localhost:8080/",
          "height": 564
        },
        "id": "DGiq-cpL3QDT",
        "outputId": "f392dbc3-a0b0-443a-d4e0-d632641b8d6e"
      },
      "id": "DGiq-cpL3QDT",
      "execution_count": 19,
      "outputs": [
        {
          "output_type": "display_data",
          "data": {
            "text/plain": [
              "<Figure size 600x600 with 1 Axes>"
            ],
            "image/png": "[encoded data removed]"
          },
          "metadata": {}
        }
      ]
    },
    {
      "cell_type": "markdown",
      "id": "5da51ab7",
      "metadata": {
        "origin_pos": 20,
        "id": "5da51ab7"
      },
      "source": [
        "Below outputs similar words\n",
        "to \"baby\" and \"beautiful\".\n"
      ]
    },
    {
      "cell_type": "code",
      "execution_count": 17,
      "id": "eefbb4fa",
      "metadata": {
        "execution": {
          "iopub.execute_input": "2023-08-18T19:40:18.196753Z",
          "iopub.status.busy": "2023-08-18T19:40:18.196073Z",
          "iopub.status.idle": "2023-08-18T19:40:18.222160Z",
          "shell.execute_reply": "2023-08-18T19:40:18.221182Z"
        },
        "origin_pos": 21,
        "tab": [
          "pytorch"
        ],
        "id": "eefbb4fa",
        "outputId": "17408c79-4b3c-484e-fb67-5707ec749f57",
        "colab": {
          "base_uri": "https://localhost:8080/"
        }
      },
      "outputs": [
        {
          "output_type": "stream",
          "name": "stdout",
          "text": [
            "cosine sim=0.839: babies\n",
            "cosine sim=0.800: boy\n",
            "cosine sim=0.792: girl\n"
          ]
        }
      ],
      "source": [
        "get_similar_tokens('baby', 3, glove_6b50d)"
      ]
    },
    {
      "cell_type": "code",
      "source": [
        "plot_vectors(['baby','babies','boy','girl','happy'], glove_6b50d)"
      ],
      "metadata": {
        "colab": {
          "base_uri": "https://localhost:8080/",
          "height": 582
        },
        "id": "GQ9XdpaXnC_D",
        "outputId": "3b28caac-53e3-4dfb-c40d-307441e71998"
      },
      "id": "GQ9XdpaXnC_D",
      "execution_count": 18,
      "outputs": [
        {
          "output_type": "stream",
          "name": "stdout",
          "text": [
            "Explained variance in 2 dimensions:  0.85\n"
          ]
        },
        {
          "output_type": "display_data",
          "data": {
            "text/plain": [
              "<Figure size 600x600 with 1 Axes>"
            ],
            "image/png": "[encoded data removed]"
          },
          "metadata": {}
        }
      ]
    },
    {
      "cell_type": "code",
      "execution_count": 19,
      "id": "b69e3fad",
      "metadata": {
        "execution": {
          "iopub.execute_input": "2023-08-18T19:40:18.225735Z",
          "iopub.status.busy": "2023-08-18T19:40:18.225435Z",
          "iopub.status.idle": "2023-08-18T19:40:18.247512Z",
          "shell.execute_reply": "2023-08-18T19:40:18.246311Z"
        },
        "origin_pos": 22,
        "tab": [
          "pytorch"
        ],
        "id": "b69e3fad",
        "outputId": "5acc3b09-4906-49bf-ccb8-9eb9bb0c383a",
        "colab": {
          "base_uri": "https://localhost:8080/"
        }
      },
      "outputs": [
        {
          "output_type": "stream",
          "name": "stdout",
          "text": [
            "cosine sim=0.921: lovely\n",
            "cosine sim=0.893: gorgeous\n",
            "cosine sim=0.830: wonderful\n"
          ]
        }
      ],
      "source": [
        "get_similar_tokens('beautiful', 3, glove_6b50d)"
      ]
    },
    {
      "cell_type": "code",
      "source": [
        "get_cosine_similarity('beautiful','switzerland',glove_6b50d)"
      ],
      "metadata": {
        "colab": {
          "base_uri": "https://localhost:8080/"
        },
        "id": "6-x1ffORnxRr",
        "outputId": "5ddf53f5-6a36-428f-b99c-ad054211dd64"
      },
      "id": "6-x1ffORnxRr",
      "execution_count": 20,
      "outputs": [
        {
          "output_type": "stream",
          "name": "stdout",
          "text": [
            "Cosine similarity:  0.1123\n"
          ]
        }
      ]
    },
    {
      "cell_type": "code",
      "source": [
        "plot_vectors(['beautiful','lovely','gorgeous','wonderful','switzerland'], glove_6b50d)"
      ],
      "metadata": {
        "colab": {
          "base_uri": "https://localhost:8080/",
          "height": 582
        },
        "id": "jJOjIVmzoKPB",
        "outputId": "0d4bec51-f474-46bc-9ab2-953fc680a67f"
      },
      "id": "jJOjIVmzoKPB",
      "execution_count": 21,
      "outputs": [
        {
          "output_type": "stream",
          "name": "stdout",
          "text": [
            "Explained variance in 2 dimensions:  0.91\n"
          ]
        },
        {
          "output_type": "display_data",
          "data": {
            "text/plain": [
              "<Figure size 600x600 with 1 Axes>"
            ],
            "image/png": "[encoded data removed]"
          },
          "metadata": {}
        }
      ]
    },
    {
      "cell_type": "markdown",
      "id": "f50103d8",
      "metadata": {
        "origin_pos": 23,
        "id": "f50103d8"
      },
      "source": [
        "### Word Analogy\n",
        "\n",
        "Besides finding similar words,\n",
        "we can also apply word vectors\n",
        "to word analogy tasks.\n",
        "For example,\n",
        "“man”:“woman”::“son”:“daughter”\n",
        "is the form of a word analogy:\n",
        "“man” is to “woman” as “son” is to “daughter”.\n",
        "Specifically,\n",
        "the word analogy completion task\n",
        "can be defined as:\n",
        "for a word analogy\n",
        "$a : b :: c : d$, given the first three words $a$, $b$ and $c$, find $d$.\n",
        "Denote the vector of word $w$ by $\\textrm{vec}(w)$.\n",
        "To complete the analogy,\n",
        "we will find the word\n",
        "whose vector is most similar\n",
        "to the result of $\\textrm{vec}(c)+\\textrm{vec}(b)-\\textrm{vec}(a)$.\n"
      ]
    },
    {
      "cell_type": "code",
      "execution_count": 22,
      "id": "b98949f5",
      "metadata": {
        "execution": {
          "iopub.execute_input": "2023-08-18T19:40:18.251109Z",
          "iopub.status.busy": "2023-08-18T19:40:18.250824Z",
          "iopub.status.idle": "2023-08-18T19:40:18.255960Z",
          "shell.execute_reply": "2023-08-18T19:40:18.254917Z"
        },
        "origin_pos": 24,
        "tab": [
          "pytorch"
        ],
        "id": "b98949f5"
      },
      "outputs": [],
      "source": [
        "def get_analogy(token_a, token_b, token_c, embed):\n",
        "    vecs = embed[[token_a, token_b, token_c]]\n",
        "    x = vecs[1] - vecs[0] + vecs[2]\n",
        "    topk, cos = knn(embed.idx_to_vec, x, 1)\n",
        "    return embed.idx_to_token[int(topk[0])]  # Remove unknown words"
      ]
    },
    {
      "cell_type": "markdown",
      "id": "14092363",
      "metadata": {
        "origin_pos": 25,
        "id": "14092363"
      },
      "source": [
        "Let's verify the \"male-female\" analogy using the loaded word vectors.\n"
      ]
    },
    {
      "cell_type": "code",
      "execution_count": 23,
      "id": "60790fda",
      "metadata": {
        "execution": {
          "iopub.execute_input": "2023-08-18T19:40:18.259162Z",
          "iopub.status.busy": "2023-08-18T19:40:18.258879Z",
          "iopub.status.idle": "2023-08-18T19:40:18.283948Z",
          "shell.execute_reply": "2023-08-18T19:40:18.283021Z"
        },
        "origin_pos": 26,
        "tab": [
          "pytorch"
        ],
        "id": "60790fda",
        "outputId": "a46edc77-9971-4fb8-df04-3c1dc0e4f9f4",
        "colab": {
          "base_uri": "https://localhost:8080/",
          "height": 35
        }
      },
      "outputs": [
        {
          "output_type": "execute_result",
          "data": {
            "text/plain": [
              "'daughter'"
            ],
            "application/vnd.google.colaboratory.intrinsic+json": {
              "type": "string"
            }
          },
          "metadata": {},
          "execution_count": 23
        }
      ],
      "source": [
        "get_analogy('man', 'woman', 'son', glove_6b50d)"
      ]
    },
    {
      "cell_type": "code",
      "source": [
        "plot_vectors(['man','woman','son','daughter'], glove_6b50d)"
      ],
      "metadata": {
        "colab": {
          "base_uri": "https://localhost:8080/",
          "height": 582
        },
        "id": "1KOJ6TcyogPk",
        "outputId": "ca644a2b-879c-4b26-a881-0df72366083f"
      },
      "id": "1KOJ6TcyogPk",
      "execution_count": 24,
      "outputs": [
        {
          "output_type": "stream",
          "name": "stdout",
          "text": [
            "Explained variance in 2 dimensions:  0.97\n"
          ]
        },
        {
          "output_type": "display_data",
          "data": {
            "text/plain": [
              "<Figure size 600x600 with 1 Axes>"
            ],
            "image/png": "[encoded data removed]"
          },
          "metadata": {}
        }
      ]
    },
    {
      "cell_type": "markdown",
      "id": "6cd090ad",
      "metadata": {
        "origin_pos": 27,
        "id": "6cd090ad"
      },
      "source": [
        "Below completes a\n",
        "“capital-country” analogy:\n",
        "“beijing”:“china”::“tokyo”:“japan”.\n",
        "This demonstrates\n",
        "semantics in the pretrained word vectors.\n"
      ]
    },
    {
      "cell_type": "code",
      "execution_count": 25,
      "id": "fbec7b81",
      "metadata": {
        "execution": {
          "iopub.execute_input": "2023-08-18T19:40:18.288005Z",
          "iopub.status.busy": "2023-08-18T19:40:18.287287Z",
          "iopub.status.idle": "2023-08-18T19:40:18.314807Z",
          "shell.execute_reply": "2023-08-18T19:40:18.313940Z"
        },
        "origin_pos": 28,
        "tab": [
          "pytorch"
        ],
        "id": "fbec7b81",
        "outputId": "69299124-bff9-464d-b92f-82c24f92c7ea",
        "colab": {
          "base_uri": "https://localhost:8080/",
          "height": 35
        }
      },
      "outputs": [
        {
          "output_type": "execute_result",
          "data": {
            "text/plain": [
              "'japan'"
            ],
            "application/vnd.google.colaboratory.intrinsic+json": {
              "type": "string"
            }
          },
          "metadata": {},
          "execution_count": 25
        }
      ],
      "source": [
        "get_analogy('beijing', 'china', 'tokyo', glove_6b50d)"
      ]
    },
    {
      "cell_type": "code",
      "source": [
        "plot_vectors(['beijing', 'china', 'tokyo', 'japan'], glove_6b50d)"
      ],
      "metadata": {
        "colab": {
          "base_uri": "https://localhost:8080/",
          "height": 582
        },
        "id": "cAIYQTKbpWsL",
        "outputId": "3d3ec838-ff97-4b45-e0be-ecc9b204c6db"
      },
      "id": "cAIYQTKbpWsL",
      "execution_count": 26,
      "outputs": [
        {
          "output_type": "stream",
          "name": "stdout",
          "text": [
            "Explained variance in 2 dimensions:  0.93\n"
          ]
        },
        {
          "output_type": "display_data",
          "data": {
            "text/plain": [
              "<Figure size 600x600 with 1 Axes>"
            ],
            "image/png": "[encoded data removed]"
          },
          "metadata": {}
        }
      ]
    },
    {
      "cell_type": "markdown",
      "id": "46df1c76",
      "metadata": {
        "origin_pos": 29,
        "id": "46df1c76"
      },
      "source": [
        "For the\n",
        "“adjective-superlative adjective” analogy\n",
        "such as\n",
        "“bad”:“worst”::“big”:“biggest”,\n",
        "we can see that the pretrained word vectors\n",
        "may capture the syntactic information.\n"
      ]
    },
    {
      "cell_type": "code",
      "execution_count": 27,
      "id": "f437bf1d",
      "metadata": {
        "execution": {
          "iopub.execute_input": "2023-08-18T19:40:18.318473Z",
          "iopub.status.busy": "2023-08-18T19:40:18.317911Z",
          "iopub.status.idle": "2023-08-18T19:40:18.340768Z",
          "shell.execute_reply": "2023-08-18T19:40:18.339656Z"
        },
        "origin_pos": 30,
        "tab": [
          "pytorch"
        ],
        "id": "f437bf1d",
        "outputId": "b18477be-4f8f-4879-b271-accac261b41d",
        "colab": {
          "base_uri": "https://localhost:8080/",
          "height": 35
        }
      },
      "outputs": [
        {
          "output_type": "execute_result",
          "data": {
            "text/plain": [
              "'biggest'"
            ],
            "application/vnd.google.colaboratory.intrinsic+json": {
              "type": "string"
            }
          },
          "metadata": {},
          "execution_count": 27
        }
      ],
      "source": [
        "get_analogy('bad', 'worst', 'big', glove_6b50d)"
      ]
    },
    {
      "cell_type": "code",
      "source": [
        "plot_vectors(['bad', 'worst', 'big', 'biggest'], glove_6b50d)"
      ],
      "metadata": {
        "colab": {
          "base_uri": "https://localhost:8080/",
          "height": 582
        },
        "id": "7pqTvBgRpg3x",
        "outputId": "15b5892e-0786-4573-8cae-22172635470b"
      },
      "id": "7pqTvBgRpg3x",
      "execution_count": 28,
      "outputs": [
        {
          "output_type": "stream",
          "name": "stdout",
          "text": [
            "Explained variance in 2 dimensions:  0.89\n"
          ]
        },
        {
          "output_type": "display_data",
          "data": {
            "text/plain": [
              "<Figure size 600x600 with 1 Axes>"
            ],
            "image/png": "[encoded data removed]"
          },
          "metadata": {}
        }
      ]
    },
    {
      "cell_type": "markdown",
      "id": "43e21c82",
      "metadata": {
        "origin_pos": 31,
        "id": "43e21c82"
      },
      "source": [
        "To show the captured notion\n",
        "of past tense in the pretrained word vectors,\n",
        "we can test the syntax using the\n",
        "\"present tense-past tense\" analogy: “do”:“did”::“go”:“went”.\n"
      ]
    },
    {
      "cell_type": "code",
      "execution_count": 29,
      "id": "2ef91645",
      "metadata": {
        "execution": {
          "iopub.execute_input": "2023-08-18T19:40:18.345390Z",
          "iopub.status.busy": "2023-08-18T19:40:18.344827Z",
          "iopub.status.idle": "2023-08-18T19:40:18.370172Z",
          "shell.execute_reply": "2023-08-18T19:40:18.369021Z"
        },
        "origin_pos": 32,
        "tab": [
          "pytorch"
        ],
        "id": "2ef91645",
        "outputId": "4f520ea5-3b00-4def-d5c3-40a715222b04",
        "colab": {
          "base_uri": "https://localhost:8080/",
          "height": 35
        }
      },
      "outputs": [
        {
          "output_type": "execute_result",
          "data": {
            "text/plain": [
              "'went'"
            ],
            "application/vnd.google.colaboratory.intrinsic+json": {
              "type": "string"
            }
          },
          "metadata": {},
          "execution_count": 29
        }
      ],
      "source": [
        "get_analogy('do', 'did', 'go', glove_6b50d)"
      ]
    },
    {
      "cell_type": "code",
      "source": [
        "plot_vectors(['do','did','go','went'], glove_6b50d)"
      ],
      "metadata": {
        "colab": {
          "base_uri": "https://localhost:8080/",
          "height": 582
        },
        "id": "ikVX07ZKpr33",
        "outputId": "c743927b-4721-4d9e-fc57-c8781e9c7c90"
      },
      "id": "ikVX07ZKpr33",
      "execution_count": 30,
      "outputs": [
        {
          "output_type": "stream",
          "name": "stdout",
          "text": [
            "Explained variance in 2 dimensions:  0.95\n"
          ]
        },
        {
          "output_type": "display_data",
          "data": {
            "text/plain": [
              "<Figure size 600x600 with 1 Axes>"
            ],
            "image/png": "[encoded data removed]"
          },
          "metadata": {}
        }
      ]
    },
    {
      "cell_type": "code",
      "source": [
        "get_analogy('man', 'doctor', 'woman', glove_6b50d)"
      ],
      "metadata": {
        "id": "Jjel3b8vp1Kz"
      },
      "id": "Jjel3b8vp1Kz",
      "execution_count": null,
      "outputs": []
    },
    {
      "cell_type": "code",
      "source": [
        "plot_vectors(['man','nurse','man','doctor'], glove_6b50d)"
      ],
      "metadata": {
        "id": "nB2ZfKKvp68x"
      },
      "id": "nB2ZfKKvp68x",
      "execution_count": null,
      "outputs": []
    },
    {
      "cell_type": "markdown",
      "id": "3c1996db",
      "metadata": {
        "origin_pos": 33,
        "id": "3c1996db"
      },
      "source": [
        "## Summary\n",
        "\n",
        "* In practice, word vectors that are pretrained on large corpora can be applied to downstream natural language processing tasks.\n",
        "* Pretrained word vectors can be applied to the word similarity and analogy tasks.\n",
        "\n",
        "\n",
        "## Exercises\n",
        "\n",
        "1. Test the fastText results using `TokenEmbedding('wiki.en')`.\n",
        "1. When the vocabulary is extremely large, how can we find similar words or complete a word analogy faster?\n"
      ]
    },
    {
      "cell_type": "markdown",
      "id": "ef8be3e7",
      "metadata": {
        "origin_pos": 35,
        "tab": [
          "pytorch"
        ],
        "id": "ef8be3e7"
      },
      "source": [
        "[Discussions](https://discuss.d2l.ai/t/1336)\n"
      ]
    }
  ],
  "metadata": {
    "kernelspec": {
      "display_name": "Python 3",
      "name": "python3"
    },
    "language_info": {
      "name": "python"
    },
    "required_libs": [],
    "colab": {
      "provenance": [],
      "include_colab_link": true
    }
  },
  "nbformat": 4,
  "nbformat_minor": 5
}