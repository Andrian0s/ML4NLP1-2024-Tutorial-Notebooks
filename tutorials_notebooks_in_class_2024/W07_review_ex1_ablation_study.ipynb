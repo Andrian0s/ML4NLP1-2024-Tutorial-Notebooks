{
  "cells": [
    {
      "cell_type": "markdown",
      "metadata": {
        "id": "view-in-github",
        "colab_type": "text"
      },
      "source": [
        "<a href=\"https://colab.research.google.com/github/Andrian0s/ML4NLP1-2024-Tutorial-Notebooks/blob/main/ML4NLP1-2024-Tutorial-Notebooks%20/tutorials_notebooks_in_class_2024/ex1_ablation_study.ipynb\" target=\"_parent\"><img src=\"https://colab.research.google.com/assets/colab-badge.svg\" alt=\"Open In Colab\"/></a>"
      ]
    },
    {
      "cell_type": "markdown",
      "metadata": {
        "id": "SwwQqWtxaMWs"
      },
      "source": [
        "# ML4NLP1\n",
        "\n",
        "## Minimal example for ablation study\n",
        "\n",
        "\n",
        "What is an ablation study?\n",
        "\n",
        "\n",
        "An ablation study investigates the performance of a system by removing certain components to understand the contribution of the component to the overall system."
      ]
    },
    {
      "cell_type": "code",
      "execution_count": null,
      "metadata": {
        "id": "kBqq-G2daMW7"
      },
      "outputs": [],
      "source": [
        "import pandas as pd\n",
        "import numpy as np\n",
        "\n",
        "# set seed for reproducibility\n",
        "np.random.seed(42)"
      ]
    },
    {
      "cell_type": "markdown",
      "source": [
        "### Loading the datasets"
      ],
      "metadata": {
        "id": "fPqyEvoyURzd"
      }
    },
    {
      "cell_type": "code",
      "execution_count": null,
      "metadata": {
        "colab": {
          "base_uri": "https://localhost:8080/"
        },
        "id": "hEqfrri6aMW8",
        "outputId": "6066490d-0ad0-4539-f83d-d20f8d4edbd6"
      },
      "outputs": [
        {
          "output_type": "stream",
          "name": "stdout",
          "text": [
            "Downloading...\n",
            "From: https://drive.google.com/uc?id=1QP6YuwdKFNUPpvhOaAcvv2Pcp4JMbIRs\n",
            "To: /content/x_train.txt\n",
            "100% 64.1M/64.1M [00:01<00:00, 49.5MB/s]\n",
            "Downloading...\n",
            "From: https://drive.google.com/uc?id=1QVo7PZAdiZKzifK8kwhEr_umosiDCUx6\n",
            "To: /content/x_test.txt\n",
            "100% 65.2M/65.2M [00:00<00:00, 69.3MB/s]\n",
            "Downloading...\n",
            "From: https://drive.google.com/uc?id=1QbBeKcmG2ZyAEFB3AKGTgSWQ1YEMn2jl\n",
            "To: /content/y_train.txt\n",
            "100% 480k/480k [00:00<00:00, 12.1MB/s]\n",
            "Downloading...\n",
            "From: https://drive.google.com/uc?id=1QaZj6bI7_78ymnN8IpSk4gVvg-C9fA6X\n",
            "To: /content/y_test.txt\n",
            "100% 480k/480k [00:00<00:00, 20.9MB/s]\n"
          ]
        }
      ],
      "source": [
        "# download dataset\n",
        "!gdown 1QP6YuwdKFNUPpvhOaAcvv2Pcp4JMbIRs # x_train\n",
        "!gdown 1QVo7PZAdiZKzifK8kwhEr_umosiDCUx6 # x_test\n",
        "!gdown 1QbBeKcmG2ZyAEFB3AKGTgSWQ1YEMn2jl # y_train\n",
        "!gdown 1QaZj6bI7_78ymnN8IpSk4gVvg-C9fA6X # y_test"
      ]
    },
    {
      "cell_type": "code",
      "source": [
        "with open(f'x_train.txt') as f:\n",
        "    x_train = f.read().splitlines()\n",
        "with open(f'y_train.txt') as f:\n",
        "    y_train = f.read().splitlines()\n",
        "with open(f'x_test.txt') as f:\n",
        "    x_test = f.read().splitlines()\n",
        "with open(f'y_test.txt') as f:\n",
        "    y_test = f.read().splitlines()"
      ],
      "metadata": {
        "id": "oU9VZeEEabMQ"
      },
      "execution_count": null,
      "outputs": []
    },
    {
      "cell_type": "code",
      "execution_count": null,
      "metadata": {
        "id": "n4PijB0TaMW8",
        "colab": {
          "base_uri": "https://localhost:8080/",
          "height": 206
        },
        "outputId": "095d1e00-ba64-4be7-b2b9-6ab9e47794d4"
      },
      "outputs": [
        {
          "output_type": "execute_result",
          "data": {
            "text/plain": [
              "                                                text label\n",
              "0  Klement Gottwaldi surnukeha palsameeriti ning ...   est\n",
              "1  Sebes, Joseph; Pereira Thomas (1961) (på eng)....   swe\n",
              "2  भारतीय स्वातन्त्र्य आन्दोलन राष्ट्रीय एवम क्षे...   mai\n",
              "3  Après lo cort periòde d'establiment a Basilèa,...   oci\n",
              "4  ถนนเจริญกรุง (อักษรโรมัน: Thanon Charoen Krung...   tha"
            ],
            "text/html": [
              "\n",
              "  <div id=\"df-a781feb9-a28e-4da2-a5b9-0dcc2a12a19c\" class=\"colab-df-container\">\n",
              "    <div>\n",
              "<style scoped>\n",
              "    .dataframe tbody tr th:only-of-type {\n",
              "        vertical-align: middle;\n",
              "    }\n",
              "\n",
              "    .dataframe tbody tr th {\n",
              "        vertical-align: top;\n",
              "    }\n",
              "\n",
              "    .dataframe thead th {\n",
              "        text-align: right;\n",
              "    }\n",
              "</style>\n",
              "<table border=\"1\" class=\"dataframe\">\n",
              "  <thead>\n",
              "    <tr style=\"text-align: right;\">\n",
              "      <th></th>\n",
              "      <th>text</th>\n",
              "      <th>label</th>\n",
              "    </tr>\n",
              "  </thead>\n",
              "  <tbody>\n",
              "    <tr>\n",
              "      <th>0</th>\n",
              "      <td>Klement Gottwaldi surnukeha palsameeriti ning ...</td>\n",
              "      <td>est</td>\n",
              "    </tr>\n",
              "    <tr>\n",
              "      <th>1</th>\n",
              "      <td>Sebes, Joseph; Pereira Thomas (1961) (på eng)....</td>\n",
              "      <td>swe</td>\n",
              "    </tr>\n",
              "    <tr>\n",
              "      <th>2</th>\n",
              "      <td>भारतीय स्वातन्त्र्य आन्दोलन राष्ट्रीय एवम क्षे...</td>\n",
              "      <td>mai</td>\n",
              "    </tr>\n",
              "    <tr>\n",
              "      <th>3</th>\n",
              "      <td>Après lo cort periòde d'establiment a Basilèa,...</td>\n",
              "      <td>oci</td>\n",
              "    </tr>\n",
              "    <tr>\n",
              "      <th>4</th>\n",
              "      <td>ถนนเจริญกรุง (อักษรโรมัน: Thanon Charoen Krung...</td>\n",
              "      <td>tha</td>\n",
              "    </tr>\n",
              "  </tbody>\n",
              "</table>\n",
              "</div>\n",
              "    <div class=\"colab-df-buttons\">\n",
              "\n",
              "  <div class=\"colab-df-container\">\n",
              "    <button class=\"colab-df-convert\" onclick=\"convertToInteractive('df-a781feb9-a28e-4da2-a5b9-0dcc2a12a19c')\"\n",
              "            title=\"Convert this dataframe to an interactive table.\"\n",
              "            style=\"display:none;\">\n",
              "\n",
              "  <svg xmlns=\"http://www.w3.org/2000/svg\" height=\"24px\" viewBox=\"0 -960 960 960\">\n",
              "    <path d=\"M120-120v-720h720v720H120Zm60-500h600v-160H180v160Zm220 220h160v-160H400v160Zm0 220h160v-160H400v160ZM180-400h160v-160H180v160Zm440 0h160v-160H620v160ZM180-180h160v-160H180v160Zm440 0h160v-160H620v160Z\"/>\n",
              "  </svg>\n",
              "    </button>\n",
              "\n",
              "  <style>\n",
              "    .colab-df-container {\n",
              "      display:flex;\n",
              "      gap: 12px;\n",
              "    }\n",
              "\n",
              "    .colab-df-convert {\n",
              "      background-color: #E8F0FE;\n",
              "      border: none;\n",
              "      border-radius: 50%;\n",
              "      cursor: pointer;\n",
              "      display: none;\n",
              "      fill: #1967D2;\n",
              "      height: 32px;\n",
              "      padding: 0 0 0 0;\n",
              "      width: 32px;\n",
              "    }\n",
              "\n",
              "    .colab-df-convert:hover {\n",
              "      background-color: #E2EBFA;\n",
              "      box-shadow: 0px 1px 2px rgba(60, 64, 67, 0.3), 0px 1px 3px 1px rgba(60, 64, 67, 0.15);\n",
              "      fill: #174EA6;\n",
              "    }\n",
              "\n",
              "    .colab-df-buttons div {\n",
              "      margin-bottom: 4px;\n",
              "    }\n",
              "\n",
              "    [theme=dark] .colab-df-convert {\n",
              "      background-color: #3B4455;\n",
              "      fill: #D2E3FC;\n",
              "    }\n",
              "\n",
              "    [theme=dark] .colab-df-convert:hover {\n",
              "      background-color: #434B5C;\n",
              "      box-shadow: 0px 1px 3px 1px rgba(0, 0, 0, 0.15);\n",
              "      filter: drop-shadow(0px 1px 2px rgba(0, 0, 0, 0.3));\n",
              "      fill: #FFFFFF;\n",
              "    }\n",
              "  </style>\n",
              "\n",
              "    <script>\n",
              "      const buttonEl =\n",
              "        document.querySelector('#df-a781feb9-a28e-4da2-a5b9-0dcc2a12a19c button.colab-df-convert');\n",
              "      buttonEl.style.display =\n",
              "        google.colab.kernel.accessAllowed ? 'block' : 'none';\n",
              "\n",
              "      async function convertToInteractive(key) {\n",
              "        const element = document.querySelector('#df-a781feb9-a28e-4da2-a5b9-0dcc2a12a19c');\n",
              "        const dataTable =\n",
              "          await google.colab.kernel.invokeFunction('convertToInteractive',\n",
              "                                                    [key], {});\n",
              "        if (!dataTable) return;\n",
              "\n",
              "        const docLinkHtml = 'Like what you see? Visit the ' +\n",
              "          '<a target=\"_blank\" href=https://colab.research.google.com/notebooks/data_table.ipynb>data table notebook</a>'\n",
              "          + ' to learn more about interactive tables.';\n",
              "        element.innerHTML = '';\n",
              "        dataTable['output_type'] = 'display_data';\n",
              "        await google.colab.output.renderOutput(dataTable, element);\n",
              "        const docLink = document.createElement('div');\n",
              "        docLink.innerHTML = docLinkHtml;\n",
              "        element.appendChild(docLink);\n",
              "      }\n",
              "    </script>\n",
              "  </div>\n",
              "\n",
              "\n",
              "<div id=\"df-04b6102b-a371-4ec6-9180-a0b227d2078b\">\n",
              "  <button class=\"colab-df-quickchart\" onclick=\"quickchart('df-04b6102b-a371-4ec6-9180-a0b227d2078b')\"\n",
              "            title=\"Suggest charts\"\n",
              "            style=\"display:none;\">\n",
              "\n",
              "<svg xmlns=\"http://www.w3.org/2000/svg\" height=\"24px\"viewBox=\"0 0 24 24\"\n",
              "     width=\"24px\">\n",
              "    <g>\n",
              "        <path d=\"M19 3H5c-1.1 0-2 .9-2 2v14c0 1.1.9 2 2 2h14c1.1 0 2-.9 2-2V5c0-1.1-.9-2-2-2zM9 17H7v-7h2v7zm4 0h-2V7h2v10zm4 0h-2v-4h2v4z\"/>\n",
              "    </g>\n",
              "</svg>\n",
              "  </button>\n",
              "\n",
              "<style>\n",
              "  .colab-df-quickchart {\n",
              "      --bg-color: #E8F0FE;\n",
              "      --fill-color: #1967D2;\n",
              "      --hover-bg-color: #E2EBFA;\n",
              "      --hover-fill-color: #174EA6;\n",
              "      --disabled-fill-color: #AAA;\n",
              "      --disabled-bg-color: #DDD;\n",
              "  }\n",
              "\n",
              "  [theme=dark] .colab-df-quickchart {\n",
              "      --bg-color: #3B4455;\n",
              "      --fill-color: #D2E3FC;\n",
              "      --hover-bg-color: #434B5C;\n",
              "      --hover-fill-color: #FFFFFF;\n",
              "      --disabled-bg-color: #3B4455;\n",
              "      --disabled-fill-color: #666;\n",
              "  }\n",
              "\n",
              "  .colab-df-quickchart {\n",
              "    background-color: var(--bg-color);\n",
              "    border: none;\n",
              "    border-radius: 50%;\n",
              "    cursor: pointer;\n",
              "    display: none;\n",
              "    fill: var(--fill-color);\n",
              "    height: 32px;\n",
              "    padding: 0;\n",
              "    width: 32px;\n",
              "  }\n",
              "\n",
              "  .colab-df-quickchart:hover {\n",
              "    background-color: var(--hover-bg-color);\n",
              "    box-shadow: 0 1px 2px rgba(60, 64, 67, 0.3), 0 1px 3px 1px rgba(60, 64, 67, 0.15);\n",
              "    fill: var(--button-hover-fill-color);\n",
              "  }\n",
              "\n",
              "  .colab-df-quickchart-complete:disabled,\n",
              "  .colab-df-quickchart-complete:disabled:hover {\n",
              "    background-color: var(--disabled-bg-color);\n",
              "    fill: var(--disabled-fill-color);\n",
              "    box-shadow: none;\n",
              "  }\n",
              "\n",
              "  .colab-df-spinner {\n",
              "    border: 2px solid var(--fill-color);\n",
              "    border-color: transparent;\n",
              "    border-bottom-color: var(--fill-color);\n",
              "    animation:\n",
              "      spin 1s steps(1) infinite;\n",
              "  }\n",
              "\n",
              "  @keyframes spin {\n",
              "    0% {\n",
              "      border-color: transparent;\n",
              "      border-bottom-color: var(--fill-color);\n",
              "      border-left-color: var(--fill-color);\n",
              "    }\n",
              "    20% {\n",
              "      border-color: transparent;\n",
              "      border-left-color: var(--fill-color);\n",
              "      border-top-color: var(--fill-color);\n",
              "    }\n",
              "    30% {\n",
              "      border-color: transparent;\n",
              "      border-left-color: var(--fill-color);\n",
              "      border-top-color: var(--fill-color);\n",
              "      border-right-color: var(--fill-color);\n",
              "    }\n",
              "    40% {\n",
              "      border-color: transparent;\n",
              "      border-right-color: var(--fill-color);\n",
              "      border-top-color: var(--fill-color);\n",
              "    }\n",
              "    60% {\n",
              "      border-color: transparent;\n",
              "      border-right-color: var(--fill-color);\n",
              "    }\n",
              "    80% {\n",
              "      border-color: transparent;\n",
              "      border-right-color: var(--fill-color);\n",
              "      border-bottom-color: var(--fill-color);\n",
              "    }\n",
              "    90% {\n",
              "      border-color: transparent;\n",
              "      border-bottom-color: var(--fill-color);\n",
              "    }\n",
              "  }\n",
              "</style>\n",
              "\n",
              "  <script>\n",
              "    async function quickchart(key) {\n",
              "      const quickchartButtonEl =\n",
              "        document.querySelector('#' + key + ' button');\n",
              "      quickchartButtonEl.disabled = true;  // To prevent multiple clicks.\n",
              "      quickchartButtonEl.classList.add('colab-df-spinner');\n",
              "      try {\n",
              "        const charts = await google.colab.kernel.invokeFunction(\n",
              "            'suggestCharts', [key], {});\n",
              "      } catch (error) {\n",
              "        console.error('Error during call to suggestCharts:', error);\n",
              "      }\n",
              "      quickchartButtonEl.classList.remove('colab-df-spinner');\n",
              "      quickchartButtonEl.classList.add('colab-df-quickchart-complete');\n",
              "    }\n",
              "    (() => {\n",
              "      let quickchartButtonEl =\n",
              "        document.querySelector('#df-04b6102b-a371-4ec6-9180-a0b227d2078b button');\n",
              "      quickchartButtonEl.style.display =\n",
              "        google.colab.kernel.accessAllowed ? 'block' : 'none';\n",
              "    })();\n",
              "  </script>\n",
              "</div>\n",
              "\n",
              "    </div>\n",
              "  </div>\n"
            ],
            "application/vnd.google.colaboratory.intrinsic+json": {
              "type": "dataframe",
              "variable_name": "train_df"
            }
          },
          "metadata": {},
          "execution_count": 4
        }
      ],
      "source": [
        "# Combine x_train and y_train into one dataframe\n",
        "train_df = pd.DataFrame({'text': x_train, 'label': y_train})\n",
        "# Write train_df to csv with tab as separator\n",
        "train_df.to_csv('train_df.csv', index=False, sep='\\t')\n",
        "# Comibne x_test and y_test into one dataframe\n",
        "test_df = pd.DataFrame({'text': x_test, 'label': y_test})\n",
        "# Inspect the first 5 items in the train split\n",
        "train_df.head()"
      ]
    },
    {
      "cell_type": "markdown",
      "source": [
        "### 1.2 Data preparation\n",
        "\n",
        "Get a subset of the train/test data that includes 20 languages.\n",
        "Include English, German, Dutch, Danish, Swedish, Norwegian, and Japanese, plus 13 additional languages of your choice based on the items in the list of labels."
      ],
      "metadata": {
        "id": "lz23kAYi8htB"
      }
    },
    {
      "cell_type": "code",
      "source": [
        "# Create your train/test subsets of languages\n",
        "given_labels = set(['eng', 'deu', 'nld', 'dan', 'swe', 'nno', 'jpn'])\n",
        "\n",
        "# Randomly sample 20 different target labels and create subsets of train and test dataframes with only those labels\n",
        "all_labels = set(train_df['label'].unique())\n",
        "target_labels = list(np.random.choice(list(all_labels - given_labels), 13, replace=False))\n",
        "target_labels += given_labels\n",
        "print(len(target_labels))\n",
        "print(target_labels)\n",
        "train_df = train_df[train_df['label'].isin(target_labels)]\n",
        "test_df = test_df[test_df['label'].isin(target_labels)]"
      ],
      "metadata": {
        "id": "X9ydTFNUWvVb",
        "colab": {
          "base_uri": "https://localhost:8080/"
        },
        "outputId": "3253a601-2fb1-4bbf-d729-bdacd4d5bbea"
      },
      "execution_count": null,
      "outputs": [
        {
          "output_type": "stream",
          "name": "stdout",
          "text": [
            "20\n",
            "['bak', 'ina', 'aym', 'kat', 'mri', 'tet', 'ben', 'nap', 'slv', 'nci', 'ind', 'hau', 'fao', 'nld', 'swe', 'jpn', 'eng', 'nno', 'deu', 'dan']\n"
          ]
        }
      ]
    },
    {
      "cell_type": "code",
      "source": [
        "x_train, y_train = train_df['text'].to_numpy(), train_df['label'].to_numpy()\n",
        "x_test, y_test = test_df['text'].to_numpy(), test_df['label'].to_numpy()\n",
        "print(x_train[:5])\n",
        "print(y_train[:5])"
      ],
      "metadata": {
        "colab": {
          "base_uri": "https://localhost:8080/"
        },
        "id": "49r3eXCy3VMN",
        "outputId": "1f631b23-b749-447e-94f1-45072a5ce859"
      },
      "execution_count": null,
      "outputs": [
        {
          "output_type": "stream",
          "name": "stdout",
          "text": [
            "['Sebes, Joseph; Pereira Thomas (1961) (på eng). The Jesuits and the Sino-Russian treaty of Nerchinsk (1689): the diary of Thomas Pereira. Bibliotheca Instituti historici S. I., 99-0105377-3 ; 18. Rome. Libris 677492'\n",
            " 'De spons behoort tot het geslacht Haliclona en behoort tot de familie Chalinidae. De wetenschappelijke naam van de soort werd voor het eerst geldig gepubliceerd in 1910 door Kudelin.'\n",
            " 'エノが行きがかりでバスに乗ってしまい、気分が悪くなった際に助けるが、今すぐバスを降りたいと運転手に頼む際、本当のことを言ってしまうと彼女が恥ずかしい思いをすると察して「僕ウンコしたいんです!!」と言ってバスを降りた。エノは内心「私もしたいみたいじゃないの」と思うも、別れ際にエノの髪を「ふわふわのお菓子みたい」と言い、この台詞に憧れていたエノに強い衝撃を与えた。この話を聞いたリコは、以後彼のことを『ウンコ王子』または『ウンコ』というあだ名で呼ぶようになったが、エノは普通に「戸田くん」と呼んでいる。'\n",
            " 'シャーリー・フィールドは、サン・ベルナルド・アベニュー沿い市民センターとR&Tマーティン高校に隣接してある。1937年にマーティン高校と共に建設された。ラレド独立学区のアウトドア・アスレチックがあり、毎年ボーダー・オリンピックが開催される。通常5,000席だが、エンドゾーンに追加席を加えることで10,000席まで拡大できる。メキシコのプロ・サッカークラブがここで様々な練習試合を行い、天然芝が「良い」サッカー試合を作るとしている。フットボール、サッカーおよび陸上競技が行われる。この歴史ある競技場に大きな改修工事が計画されている。'\n",
            " 'Kemunculan pertamanya adalah ketika mencium kakak kelasnya, Kyoko. Sejak Yuuki meminta agar Sakura merahasiakan hal tersebutlah keduanya menjadi akrab. Yuuki pun akhirnya menyukai Sakura sayangnya tidak disadari oleh sakura dan hanya Aiko yang tahu. Karena takut dibenci Sakura, Yuuki akhirnya menganggap Sakura \"Sahabat Spesial\".']\n",
            "['swe' 'nld' 'jpn' 'jpn' 'ind']\n"
          ]
        }
      ]
    },
    {
      "cell_type": "code",
      "source": [
        "from sklearn.preprocessing import LabelEncoder\n",
        "from sklearn.model_selection import cross_val_score\n",
        "\n",
        "label_encoder = LabelEncoder().fit(y_train)\n",
        "y_train, y_test = label_encoder.transform(y_train), label_encoder.transform(y_test)\n",
        "print(label_encoder.classes_)\n",
        "print(y_train)\n",
        "print(y_test)"
      ],
      "metadata": {
        "colab": {
          "base_uri": "https://localhost:8080/"
        },
        "id": "vFDZeOVBW69R",
        "outputId": "e2f9329c-0a4d-4c5e-c40c-beef8046c34b"
      },
      "execution_count": null,
      "outputs": [
        {
          "output_type": "stream",
          "name": "stdout",
          "text": [
            "[ 0  1  2  3  4  5  6  7  8  9 10 11 12 13 14 15 16 17 18 19]\n",
            "[18 15 10 ... 17  5  3]\n",
            "[15 12  9 ...  2 14  3]\n"
          ]
        }
      ]
    },
    {
      "cell_type": "code",
      "source": [
        "import string\n",
        "import re\n",
        "from scipy import sparse\n",
        "from sklearn.feature_extraction.text import CountVectorizer, TfidfVectorizer\n",
        "from sklearn.linear_model import LogisticRegression\n",
        "from sklearn.pipeline import Pipeline\n",
        "from sklearn.base import BaseEstimator, TransformerMixin\n",
        "from sklearn.preprocessing import MinMaxScaler\n",
        "from sklearn.feature_extraction.text import TfidfVectorizer\n",
        "\n",
        "class TextNormalizer(BaseEstimator, TransformerMixin):\n",
        "    \"\"\"\n",
        "    Custom text normalizer.\n",
        "    \"\"\"\n",
        "    def fit(self, X, y=None):\n",
        "        return self\n",
        "\n",
        "    def _normalize_text(self, text):\n",
        "        text = text.translate(str.maketrans('', '', string.punctuation))\n",
        "        text = re.sub(r'\\s+', ' ', text)\n",
        "        text = re.sub(r'\\d+', r'NUM', text)\n",
        "        text = re.sub(r'\\n', r'', text)\n",
        "        return text\n",
        "\n",
        "    def transform(self, X, y=None):\n",
        "        return np.array([self._normalize_text(text) for text in X])"
      ],
      "metadata": {
        "id": "dW9VWVnyVZW-"
      },
      "execution_count": null,
      "outputs": []
    },
    {
      "cell_type": "markdown",
      "source": [
        "---\n",
        "\n",
        "### 6.1 Ablation Study\n",
        "\n",
        "Lastly, we want to conduct a small ablation study to investigate how well our model performs under different conditions.\n",
        "\n",
        "As a first step, choose the two languages for which the classifier worked best.\n",
        "\n",
        "Next, re-fit the best model six times, each time reducing the **length** of each instance in the training set. To do this, create a custom `TextReducer` class that you can include as a preprocessing step in your pipeline. The class should take a `max_len` argument as a hyperparameter that can be set to train the following models:\n",
        "\n",
        "- Model 1: `max_len = None` (i.e. no truncation!)\n",
        "- Model 2: `max_len = 500`\n",
        "- Model 3: `max_len = 250`\n",
        "- Model 4: `max_len = 150`\n",
        "- Model 5: `max_len = 100`\n",
        "- Model 6: `max_len = 50`\n",
        "\n",
        "Use average accuracy over the cross validation scores for each model to measure performance for each ablation setting.\n",
        "\n",
        "🗒❓ How does the reduction of training data affect the performance of the classifier? And what could be some possible reasons for this?"
      ],
      "metadata": {
        "id": "MZX8MCdvgQOJ"
      }
    },
    {
      "cell_type": "code",
      "source": [
        "class TextReducer(BaseEstimator, TransformerMixin):\n",
        "    \"\"\"\n",
        "    Reduces the length of input text to a specified maximum length.\n",
        "    \"\"\"\n",
        "    def __init__(self, max_len):\n",
        "        self.max_len = max_len\n",
        "\n",
        "    def fit(self, X, y=None):\n",
        "        return self\n",
        "\n",
        "    def _reduce_text(self, text):\n",
        "        \"\"\"Reduce text by chars\"\"\"\n",
        "        # print(f'before: {len(text)}')\n",
        "        if self.max_len is not None and len(text) > self.max_len:\n",
        "            text = text[:self.max_len]\n",
        "            # print(f'after: {len(text)}')\n",
        "\n",
        "        return text\n",
        "\n",
        "    def transform(self, X, y=None):\n",
        "        texts = []\n",
        "        for text in X:\n",
        "            texts.append(self._reduce_text(text))\n",
        "        print(f'Portion of texts that are the same: {sum(1 for orig, new in zip(X, texts) if len(orig) == len(new)) / len(X)}%')\n",
        "        return texts\n",
        "\n",
        "\n",
        "class WordReducer(BaseEstimator, TransformerMixin):\n",
        "    \"\"\"\n",
        "    Reduces the length of input text to a specified maximum length.\n",
        "    \"\"\"\n",
        "    def __init__(self, max_len):\n",
        "        self.max_len = max_len\n",
        "\n",
        "    def fit(self, X, y=None):\n",
        "        return self\n",
        "\n",
        "    def _reduce_text(self, text):\n",
        "        \"\"\"Reduce text by words\"\"\"\n",
        "        # print(f'before: {len(text)}')\n",
        "        if self.max_len is not None and len(text.split()) > self.max_len:\n",
        "            text = ' '.join(text.split()[:self.max_len])\n",
        "            # print(f'after: {len(text)}')\n",
        "        return text\n",
        "\n",
        "    def transform(self, X, y=None):\n",
        "        texts = []\n",
        "        for text in X:\n",
        "            texts.append(self._reduce_text(text))\n",
        "        print(f'Portion of texts that are the same: {sum(1 for orig, new in zip(X, texts) if len(orig) == len(new)) / len(X)}%')\n",
        "        return texts\n"
      ],
      "metadata": {
        "id": "ZXULKxT9gSCG"
      },
      "execution_count": null,
      "outputs": []
    },
    {
      "cell_type": "code",
      "source": [
        "max_lens = [None, 500, 250, 150, 100, 50]\n",
        "for max_len in max_lens:\n",
        "    print(f'max_len: {max_len}')\n",
        "    x_train_1 = TextReducer(max_len=max_len).fit_transform(x_train)\n",
        "    x_train_2 = WordReducer(max_len=max_len).fit_transform(x_train)\n",
        "\n"
      ],
      "metadata": {
        "colab": {
          "base_uri": "https://localhost:8080/"
        },
        "id": "v6vEGOX9G8Y7",
        "outputId": "d1e62b29-510a-49eb-b107-68295c1ade5e"
      },
      "execution_count": null,
      "outputs": [
        {
          "output_type": "stream",
          "name": "stdout",
          "text": [
            "max_len: None\n",
            "Portion of texts that are the same: 1.0%\n",
            "Portion of texts that are the same: 1.0%\n",
            "max_len: 500\n",
            "Portion of texts that are the same: 0.8148%\n",
            "Portion of texts that are the same: 0.9998%\n",
            "max_len: 250\n",
            "Portion of texts that are the same: 0.4362%\n",
            "Portion of texts that are the same: 0.9949%\n",
            "max_len: 150\n",
            "Portion of texts that are the same: 0.0572%\n",
            "Portion of texts that are the same: 0.9696%\n",
            "max_len: 100\n",
            "Portion of texts that are the same: 0.0%\n",
            "Portion of texts that are the same: 0.9044%\n",
            "max_len: 50\n",
            "Portion of texts that are the same: 0.0%\n",
            "Portion of texts that are the same: 0.5939%\n"
          ]
        }
      ]
    },
    {
      "cell_type": "code",
      "source": [
        "# How does the TextReducer change the input texts?\n",
        "print(x_train_1[:10])\n",
        "\n",
        "diff = set((orig, new) for orig, new in zip(x_train, x_train_1) if len(orig) != len(new))\n",
        "print(f'{len(diff) / len(x_train)}%')\n"
      ],
      "metadata": {
        "colab": {
          "base_uri": "https://localhost:8080/"
        },
        "id": "SQoRgxwVHTUI",
        "outputId": "e51002ea-7731-4cf7-9c4d-89c5752a4634"
      },
      "execution_count": null,
      "outputs": [
        {
          "output_type": "stream",
          "name": "stdout",
          "text": [
            "['Sebes, Joseph; Pereira Thomas (1961) (på eng). The', 'De spons behoort tot het geslacht Haliclona en beh', 'エノが行きがかりでバスに乗ってしまい、気分が悪くなった際に助けるが、今すぐバスを降りたいと運転手に頼', 'シャーリー・フィールドは、サン・ベルナルド・アベニュー沿い市民センターとR&Tマーティン高校に隣接し', 'Kemunculan pertamanya adalah ketika mencium kakak ', 'Indtil 1545 havde flådecheferne kunnet hyre et bet', 'Stotnik Jack Harkness, ki ga igra škotsko-ameriški', 'Tetun foufoun loos mak tetun-terik, Timór oan sira', 'Uttan iva er Steintór Rasmussen eitt tað dugnaliga', 'Helmut Schippel: Die Anfänge des Erfinderschutzes ']\n",
            "0.9889%\n"
          ]
        }
      ]
    },
    {
      "cell_type": "code",
      "source": [
        "# How does the WordReducer change the input texts?\n",
        "print(x_train_2[:10])\n",
        "\n",
        "diff = set((orig, new) for orig, new in zip(x_train, x_train_2) if len(orig) != len(new))\n",
        "print(f'{len(diff) / len(x_train)}%')"
      ],
      "metadata": {
        "colab": {
          "base_uri": "https://localhost:8080/"
        },
        "id": "AuVIUx6iH-gp",
        "outputId": "e59fbe68-5b51-4fe1-d254-9b59851936cb"
      },
      "execution_count": null,
      "outputs": [
        {
          "output_type": "stream",
          "name": "stdout",
          "text": [
            "['Sebes, Joseph; Pereira Thomas (1961) (på eng). The Jesuits and the Sino-Russian treaty of Nerchinsk (1689): the diary of Thomas Pereira. Bibliotheca Instituti historici S. I., 99-0105377-3 ; 18. Rome. Libris 677492', 'De spons behoort tot het geslacht Haliclona en behoort tot de familie Chalinidae. De wetenschappelijke naam van de soort werd voor het eerst geldig gepubliceerd in 1910 door Kudelin.', 'エノが行きがかりでバスに乗ってしまい、気分が悪くなった際に助けるが、今すぐバスを降りたいと運転手に頼む際、本当のことを言ってしまうと彼女が恥ずかしい思いをすると察して「僕ウンコしたいんです!!」と言ってバスを降りた。エノは内心「私もしたいみたいじゃないの」と思うも、別れ際にエノの髪を「ふわふわのお菓子みたい」と言い、この台詞に憧れていたエノに強い衝撃を与えた。この話を聞いたリコは、以後彼のことを『ウンコ王子』または『ウンコ』というあだ名で呼ぶようになったが、エノは普通に「戸田くん」と呼んでいる。', 'シャーリー・フィールドは、サン・ベルナルド・アベニュー沿い市民センターとR&Tマーティン高校に隣接してある。1937年にマーティン高校と共に建設された。ラレド独立学区のアウトドア・アスレチックがあり、毎年ボーダー・オリンピックが開催される。通常5,000席だが、エンドゾーンに追加席を加えることで10,000席まで拡大できる。メキシコのプロ・サッカークラブがここで様々な練習試合を行い、天然芝が「良い」サッカー試合を作るとしている。フットボール、サッカーおよび陸上競技が行われる。この歴史ある競技場に大きな改修工事が計画されている。', 'Kemunculan pertamanya adalah ketika mencium kakak kelasnya, Kyoko. Sejak Yuuki meminta agar Sakura merahasiakan hal tersebutlah keduanya menjadi akrab. Yuuki pun akhirnya menyukai Sakura sayangnya tidak disadari oleh sakura dan hanya Aiko yang tahu. Karena takut dibenci Sakura, Yuuki akhirnya menganggap Sakura \"Sahabat Spesial\".', 'Indtil 1545 havde flådecheferne kunnet hyre et betydeligt antal frie mænd til galejerne, selv om de kun sjældent var venetianere. De kom fra Dalmatien, Kreta og Grækenland. Herefter gik man i stigende grad over til tvangsudskrivning af fanger og skyldnere, ligesom det længe havde været normalt i resten af Europa.', 'Stotnik Jack Harkness, ki ga igra škotsko-ameriški igralec John Barrowman, je vodja Torchwooda 3. Rodil se je v 51. stoletju in je sprva bil časovni agent, a po izgubi dveh let spomina se je zatekel k prevarantskim dejanjem v 20. stoletju. Takrat je tudi ukradel identiteto \"stotnika Jacka Harknessa\"; njegovo', \"Tetun foufoun loos mak tetun-terik, Timór oan sira ko'alia tiha ona lian ne'e uluk kedas ona antes portugés sira to'o. Tan iha tempu ne'ebá haree katak presiza duni lian ida ne'ebé hotu-hotu hatene atu bele fila-liman, ka fa'an-sasán.\", 'Uttan iva er Steintór Rasmussen eitt tað dugnaligasta skaldið, ið rúmast her á oyggjunum, hóast hann ikki er sloppin so væl frá sínum yrkingasavni, sum hann átti. Hann viðger nógv ymisk evni í hesum yrkingasavni: Kærleiki, dreymar, Havnin, móðurmálið og ikki minst føðilandið. Hetta er tað, ið vanliga sæst í', 'Helmut Schippel: Die Anfänge des Erfinderschutzes in Venedig. I: Uta Lindgren (Hrsg.): Europäische Technik im Mittelalter. 800 bis 1400. Tradition und Innovation. 4. Auflage, Berlin 2001, S. 539–550.']\n",
            "0.4056%\n"
          ]
        }
      ]
    },
    {
      "cell_type": "code",
      "source": [
        "max_lens = [None, 500, 250, 150, 100, 50]\n",
        "acc_means = []\n",
        "acc_stds = []\n",
        "cv = 3\n",
        "\n",
        "# For-loop to run through the ablation settings\n",
        "for max_len in max_lens:\n",
        "    print(f'Running experiment for max_len: {max_len}')\n",
        "    abl_pipe = Pipeline([\n",
        "        ('TextReducer', TextReducer(max_len=max_len)),\n",
        "        ('normalizer', TextNormalizer()),\n",
        "        ('vectorizer', TfidfVectorizer(lowercase=False, analyzer='char_wb', ngram_range=(3,6), max_features=1000, smooth_idf=True)),\n",
        "        ('clf', LogisticRegression())\n",
        "    ])\n",
        "    abl_cross_validations = cross_val_score(abl_pipe, x_train, y_train, scoring='accuracy', cv=cv)\n",
        "    mean_acc = np.mean(abl_cross_validations)\n",
        "    std_acc = np.std(abl_cross_validations)\n",
        "    acc_means.append(mean_acc)\n",
        "    acc_stds.append(std_acc)\n",
        "    print(f'max_len: {max_len}, avg acc: {mean_acc:.3f}, std: {std_acc:.3f}')\n",
        "\n",
        "# Put the results into a dataframe\n",
        "results = pd.DataFrame({'max_len': max_lens, 'acc': acc_means, 'std': acc_stds})\n",
        "results.plot(x='max_len', y='acc', yerr='std', kind='line', ylim=(0.8, 1.0))"
      ],
      "metadata": {
        "id": "MB8m-8w48eUs",
        "colab": {
          "base_uri": "https://localhost:8080/",
          "height": 1000
        },
        "outputId": "9f8ad371-fba7-44dc-96b7-55fdf67ae45f"
      },
      "execution_count": null,
      "outputs": [
        {
          "output_type": "stream",
          "name": "stdout",
          "text": [
            "Running experiment for max_len: None\n",
            "Portion of texts that are the same: 1.0%\n",
            "Portion of texts that are the same: 1.0%\n",
            "Portion of texts that are the same: 1.0%\n",
            "Portion of texts that are the same: 1.0%\n",
            "Portion of texts that are the same: 1.0%\n",
            "Portion of texts that are the same: 1.0%\n",
            "max_len: None, avg acc: 0.971, std: 0.002\n",
            "Running experiment for max_len: 500\n",
            "Portion of texts that are the same: 0.8154815481548154%\n",
            "Portion of texts that are the same: 0.8134373125374925%\n",
            "Portion of texts that are the same: 0.815959202039898%\n",
            "Portion of texts that are the same: 0.8124812481248125%\n",
            "Portion of texts that are the same: 0.8129593520323983%\n",
            "Portion of texts that are the same: 0.8184818481848185%\n",
            "max_len: 500, avg acc: 0.971, std: 0.002\n",
            "Running experiment for max_len: 250\n",
            "Portion of texts that are the same: 0.4351935193519352%\n",
            "Portion of texts that are the same: 0.4382123575284943%\n",
            "Portion of texts that are the same: 0.4373781310934453%\n",
            "Portion of texts that are the same: 0.43384338433843384%\n",
            "Portion of texts that are the same: 0.43602819859007047%\n",
            "Portion of texts that are the same: 0.4365436543654365%\n",
            "max_len: 250, avg acc: 0.969, std: 0.001\n",
            "Running experiment for max_len: 150\n",
            "Portion of texts that are the same: 0.056555655565556556%\n",
            "Portion of texts that are the same: 0.058488302339532096%\n",
            "Portion of texts that are the same: 0.05639718014099295%\n",
            "Portion of texts that are the same: 0.05880588058805881%\n",
            "Portion of texts that are the same: 0.058647067646617666%\n",
            "Portion of texts that are the same: 0.054305430543054305%\n",
            "max_len: 150, avg acc: 0.965, std: 0.002\n",
            "Running experiment for max_len: 100\n",
            "Portion of texts that are the same: 0.0%\n",
            "Portion of texts that are the same: 0.0%\n",
            "Portion of texts that are the same: 0.0%\n",
            "Portion of texts that are the same: 0.0%\n",
            "Portion of texts that are the same: 0.0%\n",
            "Portion of texts that are the same: 0.0%\n",
            "max_len: 100, avg acc: 0.946, std: 0.001\n",
            "Running experiment for max_len: 50\n",
            "Portion of texts that are the same: 0.0%\n",
            "Portion of texts that are the same: 0.0%\n",
            "Portion of texts that are the same: 0.0%\n",
            "Portion of texts that are the same: 0.0%\n",
            "Portion of texts that are the same: 0.0%\n",
            "Portion of texts that are the same: 0.0%\n",
            "max_len: 50, avg acc: 0.887, std: 0.004\n"
          ]
        },
        {
          "output_type": "execute_result",
          "data": {
            "text/plain": [
              "<Axes: xlabel='max_len'>"
            ]
          },
          "metadata": {},
          "execution_count": 56
        },
        {
          "output_type": "display_data",
          "data": {
            "text/plain": [
              "<Figure size 640x480 with 1 Axes>"
            ],
            "image/png": "[encoded data removed]"
          },
          "metadata": {}
        }
      ]
    },
    {
      "cell_type": "code",
      "source": [
        "# For-loop to run through the ablation settings\n",
        "max_lens = [None, 500, 250, 150, 100, 50]\n",
        "acc_means = []\n",
        "acc_stds = []\n",
        "cv = 3\n",
        "\n",
        "for max_len in max_lens:\n",
        "    print(f'Running experiment for max_len: {max_len}')\n",
        "    abl_pipe = Pipeline([\n",
        "        ('TextReducer', WordReducer(max_len=max_len)),\n",
        "        ('normalizer', TextNormalizer()),\n",
        "        ('vectorizer', TfidfVectorizer(lowercase=False, analyzer='char_wb', ngram_range=(3,6), max_features=1000, smooth_idf=True)),\n",
        "        ('clf', LogisticRegression(penalty='l2', solver='saga'))\n",
        "    ])\n",
        "    abl_cross_validations = cross_val_score(abl_pipe, x_train, y_train, scoring='accuracy', cv=cv)\n",
        "    mean_acc = np.mean(abl_cross_validations)\n",
        "    std_acc = np.std(abl_cross_validations)\n",
        "    acc_means.append(mean_acc)\n",
        "    acc_stds.append(std_acc)\n",
        "    print(f'max_len: {max_len}, avg acc: {mean_acc:.3f}, std: {std_acc:.3f}')\n",
        "\n",
        "# Put the results into a dataframe\n",
        "results = pd.DataFrame({'max_len': max_lens, 'acc': acc_means, 'std': acc_stds})\n",
        "results.plot(x='max_len', y='acc', yerr='std', kind='line', ylim=(0.8, 1.0))"
      ],
      "metadata": {
        "id": "M8EckW2Dl1IP",
        "colab": {
          "base_uri": "https://localhost:8080/",
          "height": 1000
        },
        "outputId": "5f678f09-8256-40a2-a137-1c0e9f7de9a5"
      },
      "execution_count": null,
      "outputs": [
        {
          "output_type": "stream",
          "name": "stdout",
          "text": [
            "Running experiment for max_len: None\n",
            "Portion of texts that are the same: 1.0%\n",
            "Portion of texts that are the same: 1.0%\n",
            "Portion of texts that are the same: 1.0%\n",
            "Portion of texts that are the same: 1.0%\n",
            "Portion of texts that are the same: 1.0%\n",
            "Portion of texts that are the same: 1.0%\n",
            "max_len: None, avg acc: 0.971, std: 0.002\n",
            "Running experiment for max_len: 500\n",
            "Portion of texts that are the same: 0.9996999699969997%\n",
            "Portion of texts that are the same: 1.0%\n",
            "Portion of texts that are the same: 0.999850007499625%\n",
            "Portion of texts that are the same: 0.9996999699969997%\n",
            "Portion of texts that are the same: 0.999850007499625%\n",
            "Portion of texts that are the same: 0.9996999699969997%\n",
            "max_len: 500, avg acc: 0.971, std: 0.002\n",
            "Running experiment for max_len: 250\n",
            "Portion of texts that are the same: 0.995049504950495%\n",
            "Portion of texts that are the same: 0.9946010797840432%\n",
            "Portion of texts that are the same: 0.9944502774861257%\n",
            "Portion of texts that are the same: 0.9957995799579958%\n",
            "Portion of texts that are the same: 0.9952002399880006%\n",
            "Portion of texts that are the same: 0.9942994299429943%\n",
            "max_len: 250, avg acc: 0.971, std: 0.002\n",
            "Running experiment for max_len: 150\n",
            "Portion of texts that are the same: 0.9698469846984699%\n",
            "Portion of texts that are the same: 0.9691061787642472%\n",
            "Portion of texts that are the same: 0.9685015749212539%\n",
            "Portion of texts that are the same: 0.9717971797179717%\n",
            "Portion of texts that are the same: 0.9704514774261287%\n",
            "Portion of texts that are the same: 0.9678967896789679%\n",
            "max_len: 150, avg acc: 0.971, std: 0.002\n",
            "Running experiment for max_len: 100\n",
            "Portion of texts that are the same: 0.9038403840384038%\n",
            "Portion of texts that are the same: 0.9055188962207559%\n",
            "Portion of texts that are the same: 0.9053547322633868%\n",
            "Portion of texts that are the same: 0.9024902490249025%\n",
            "Portion of texts that are the same: 0.904004799760012%\n",
            "Portion of texts that are the same: 0.9051905190519052%\n",
            "max_len: 100, avg acc: 0.971, std: 0.002\n",
            "Running experiment for max_len: 50\n",
            "Portion of texts that are the same: 0.5921092109210921%\n",
            "Portion of texts that are the same: 0.5974805038992201%\n",
            "Portion of texts that are the same: 0.5953202339883006%\n",
            "Portion of texts that are the same: 0.5910591059105911%\n",
            "Portion of texts that are the same: 0.5942702864856757%\n",
            "Portion of texts that are the same: 0.5931593159315932%\n",
            "max_len: 50, avg acc: 0.970, std: 0.002\n"
          ]
        },
        {
          "output_type": "execute_result",
          "data": {
            "text/plain": [
              "<Axes: xlabel='max_len'>"
            ]
          },
          "metadata": {},
          "execution_count": 57
        },
        {
          "output_type": "display_data",
          "data": {
            "text/plain": [
              "<Figure size 640x480 with 1 Axes>"
            ],
            "image/png": "[encoded data removed]"
          },
          "metadata": {}
        }
      ]
    },
    {
      "cell_type": "code",
      "source": [],
      "metadata": {
        "id": "8XHB6RwuWwHJ"
      },
      "execution_count": null,
      "outputs": []
    }
  ],
  "metadata": {
    "kernelspec": {
      "display_name": "Python 3",
      "name": "python3"
    },
    "language_info": {
      "codemirror_mode": {
        "name": "ipython",
        "version": 3
      },
      "file_extension": ".py",
      "mimetype": "text/x-python",
      "name": "python",
      "nbconvert_exporter": "python",
      "pygments_lexer": "ipython3",
      "version": "3.7.11"
    },
    "orig_nbformat": 4,
    "colab": {
      "provenance": [],
      "include_colab_link": true
    }
  },
  "nbformat": 4,
  "nbformat_minor": 0
}