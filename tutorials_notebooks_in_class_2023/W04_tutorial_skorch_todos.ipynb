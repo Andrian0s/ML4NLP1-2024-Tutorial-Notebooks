{
  "cells": [
    {
      "cell_type": "markdown",
      "metadata": {
        "id": "view-in-github",
        "colab_type": "text"
      },
      "source": [
        "<a href=\"https://colab.research.google.com/github/Andrian0s/ML4NLP1-2023-Tutorial-Notebooks/blob/main/04_tutorial_skorch_todos.ipynb\" target=\"_parent\"><img src=\"https://colab.research.google.com/assets/colab-badge.svg\" alt=\"Open In Colab\"/></a>"
      ]
    },
    {
      "cell_type": "markdown",
      "source": [
        "# ML4NLP1\n",
        "## Tutorial 04: sklearn: Pipeline and skorch"
      ],
      "metadata": {
        "id": "Q-2GcUhgB0S7"
      }
    },
    {
      "cell_type": "markdown",
      "metadata": {
        "id": "V920LTuiq40d"
      },
      "source": [
        "# Installing skorch and loading libraries"
      ]
    },
    {
      "cell_type": "code",
      "execution_count": null,
      "metadata": {
        "id": "utYcb97jq40t"
      },
      "outputs": [],
      "source": [
        "import subprocess\n",
        "\n",
        "# Installation on Google Colab\n",
        "try:\n",
        "    import google.colab\n",
        "    subprocess.run(['python', '-m', 'pip', 'install', 'skorch'])\n",
        "except ImportError:\n",
        "    pass"
      ]
    },
    {
      "cell_type": "code",
      "execution_count": null,
      "metadata": {
        "id": "WZ3Y_KHvq40x"
      },
      "outputs": [],
      "source": [
        "import torch\n",
        "from torch import nn\n",
        "import torch.nn.functional as F\n",
        "from skorch import NeuralNetClassifier"
      ]
    },
    {
      "cell_type": "code",
      "execution_count": null,
      "metadata": {
        "id": "D9d6X0ZZq40z"
      },
      "outputs": [],
      "source": [
        "torch.manual_seed(0)\n",
        "torch.cuda.manual_seed(0)"
      ]
    },
    {
      "cell_type": "code",
      "execution_count": null,
      "metadata": {
        "id": "H55IvQdyq403"
      },
      "outputs": [],
      "source": [
        "import pandas as pd\n",
        "import numpy as np\n",
        "import csv\n",
        "import re\n",
        "import string\n",
        "from collections import defaultdict"
      ]
    },
    {
      "cell_type": "markdown",
      "metadata": {
        "id": "dAnY8yaDq400"
      },
      "source": [
        "## Training a classifier and making predictions"
      ]
    },
    {
      "cell_type": "code",
      "source": [
        "# download dataset\n",
        "!gdown 1IUyw6n3IrabkhPQH7Jkuw_Vml4UXwiCI # y_train\n",
        "!gdown 1IVeWdIaO5tXPeMOOsHPjqd1K3Obp4tC3 # y_test\n",
        "!gdown 1ITAYFokSjAxaIHh6bzv5id-phSqx78q9 # X_train\n",
        "!gdown 1IZrB2mCAmkly0w5pdWhUlMqJdxBC8OtK # X_test"
      ],
      "metadata": {
        "id": "zWjt9xGoswAC"
      },
      "execution_count": null,
      "outputs": []
    },
    {
      "cell_type": "code",
      "source": [
        "X_train = np.load('X_train.npy', allow_pickle=True)\n",
        "X_test = np.load('X_test.npy', allow_pickle=True)\n",
        "y_train = np.load('y_train.npy')\n",
        "y_test = np.load('y_test.npy')\n"
      ],
      "metadata": {
        "id": "-M6DgXdjtJyH"
      },
      "execution_count": null,
      "outputs": []
    },
    {
      "cell_type": "code",
      "source": [
        "X_train.shape"
      ],
      "metadata": {
        "id": "M8wqEz3NRXSy"
      },
      "execution_count": null,
      "outputs": []
    },
    {
      "cell_type": "code",
      "source": [
        "from sklearn.metrics import accuracy_score\n",
        "from sklearn.model_selection import cross_val_score\n",
        "from sklearn.feature_extraction.text import CountVectorizer\n",
        "from sklearn.feature_extraction.text import TfidfTransformer\n",
        "from sklearn.preprocessing import LabelEncoder\n",
        "from sklearn.svm import LinearSVC"
      ],
      "metadata": {
        "id": "bzeFX9k-TIyo"
      },
      "execution_count": null,
      "outputs": []
    },
    {
      "cell_type": "code",
      "source": [
        "class CountVectorizerWrapper:\n",
        "    def __init__(self, ngram_range, max_features):\n",
        "        print('args:', str([ngram_range, max_features]))\n",
        "        self.countvec = CountVectorizer(ngram_range=ngram_range, max_features=max_features)\n",
        "\n",
        "    def fit(self, X, y=None):\n",
        "        self.countvec.fit(X)\n",
        "        return self\n",
        "\n",
        "    def transform(self, X, y=None):\n",
        "        return self.countvec.transform(X).astype(np.float32)"
      ],
      "metadata": {
        "id": "6KxfwSGBa5HX"
      },
      "execution_count": null,
      "outputs": []
    },
    {
      "cell_type": "code",
      "source": [
        "# Preprocessing\n",
        "label_encoder = LabelEncoder()\n",
        "le_fitted = label_encoder.fit(y_train)"
      ],
      "metadata": {
        "id": "HaP6H83YTL-B"
      },
      "execution_count": null,
      "outputs": []
    },
    {
      "cell_type": "code",
      "source": [
        "le_fitted.classes_"
      ],
      "metadata": {
        "id": "iNCCvGmzWozB"
      },
      "execution_count": null,
      "outputs": []
    },
    {
      "cell_type": "code",
      "source": [
        "print(len(le_fitted.classes_))"
      ],
      "metadata": {
        "id": "SLhjiRV8W3M3"
      },
      "execution_count": null,
      "outputs": []
    },
    {
      "cell_type": "code",
      "source": [
        "y_train = le_fitted.transform(y_train)\n",
        "y_test = le_fitted.transform(y_test)"
      ],
      "metadata": {
        "id": "b1Gc0CaqWtL9"
      },
      "execution_count": null,
      "outputs": []
    },
    {
      "cell_type": "code",
      "source": [
        "y_train_int = y_train.astype(np.int64)"
      ],
      "metadata": {
        "id": "9EiRal_1Q0iJ"
      },
      "execution_count": null,
      "outputs": []
    },
    {
      "cell_type": "markdown",
      "metadata": {
        "id": "oMFoiitJq407"
      },
      "source": [
        "In the following, we define a vanilla neural network with two hidden layers. The output layer should have as many outputs as there are classes. In addition, it should have a nonlinearity function."
      ]
    },
    {
      "cell_type": "code",
      "source": [
        "class ClassifierModule(nn.Module):\n",
        "    def __init__(\n",
        "            self,\n",
        "            num_units=2500,\n",
        "            nonlin=F.relu,\n",
        "    ):\n",
        "        super(ClassifierModule, self).__init__()\n",
        "        self.num_units = num_units\n",
        "        self.nonlin = nonlin\n",
        "\n",
        "        self.dense0 = nn.Linear(5000, num_units)\n",
        "        self.nonlin = nonlin\n",
        "        self.dense1 = nn.Linear(num_units, 200)\n",
        "        self.output = nn.Linear(200, 20)\n",
        "\n",
        "    def forward(self, X, **kwargs):\n",
        "      X = self.nonlin(self.dense0(X))\n",
        "      X = F.relu(self.dense1(X))\n",
        "      X = self.output(X)\n",
        "      return X.squeeze(dim=1)"
      ],
      "metadata": {
        "id": "7Q5EDIGQUUBy"
      },
      "execution_count": null,
      "outputs": []
    },
    {
      "cell_type": "code",
      "source": [
        "net = NeuralNetClassifier(\n",
        "    ClassifierModule,\n",
        "    max_epochs=10,\n",
        "    criterion=nn.CrossEntropyLoss(),\n",
        "    lr=0.1,\n",
        "    device='cuda',  # comment this to train with CPU\n",
        ")"
      ],
      "metadata": {
        "id": "wKnJECeQGpyI"
      },
      "execution_count": null,
      "outputs": []
    },
    {
      "cell_type": "code",
      "source": [
        "from sklearn.pipeline import Pipeline"
      ],
      "metadata": {
        "id": "Zh3XMgAfbWgg"
      },
      "execution_count": null,
      "outputs": []
    },
    {
      "cell_type": "code",
      "source": [
        "vec_args = dict(ngram_range=(2, 2), max_features=5000)\n",
        "pipe = Pipeline(steps=[\n",
        "        ('Vectorizer', CountVectorizerWrapper(**vec_args)),\n",
        "        ('net', net)\n",
        "    ], verbose=True)"
      ],
      "metadata": {
        "id": "b1Zk52RRZNzr"
      },
      "execution_count": null,
      "outputs": []
    },
    {
      "cell_type": "code",
      "source": [
        "pipe.fit(X_train, y_train_int)"
      ],
      "metadata": {
        "id": "QcNOd9yBSxys"
      },
      "execution_count": null,
      "outputs": []
    },
    {
      "cell_type": "code",
      "source": [
        "from sklearn.model_selection import GridSearchCV\n",
        "\n",
        "# deactivate skorch-internal train-valid split and verbose logging\n",
        "net.set_params(train_split=False, verbose=0)\n",
        "params = {\n",
        "    'net__lr': [0.1, 0.01],\n",
        "}"
      ],
      "metadata": {
        "id": "eU6gU6dXhyZx"
      },
      "execution_count": null,
      "outputs": []
    },
    {
      "cell_type": "code",
      "source": [
        "vec_args = dict(ngram_range=(2, 2), max_features=5000)\n",
        "pipe = Pipeline(steps=[\n",
        "        ('Vectorizer', CountVectorizerWrapper(**vec_args)),\n",
        "        ('net', net)\n",
        "    ], verbose=True)"
      ],
      "metadata": {
        "id": "RRHq5VPeiKKZ"
      },
      "execution_count": null,
      "outputs": []
    },
    {
      "cell_type": "code",
      "source": [
        "grid_net = GridSearchCV(pipe, params, refit=False, cv=2, scoring='accuracy')"
      ],
      "metadata": {
        "id": "g8qYB2Gidbz0"
      },
      "execution_count": null,
      "outputs": []
    },
    {
      "cell_type": "code",
      "source": [
        "grid_net.fit(X_train, y_train)"
      ],
      "metadata": {
        "id": "7RBQngjDgamR"
      },
      "execution_count": null,
      "outputs": []
    },
    {
      "cell_type": "code",
      "source": [
        "print(grid_net.best_score_, grid_net.best_params_)"
      ],
      "metadata": {
        "id": "3X5zI1fNiVag"
      },
      "execution_count": null,
      "outputs": []
    }
  ],
  "metadata": {
    "kernelspec": {
      "display_name": "Python 3",
      "name": "python3"
    },
    "language_info": {
      "codemirror_mode": {
        "name": "ipython",
        "version": 3
      },
      "file_extension": ".py",
      "mimetype": "text/x-python",
      "name": "python",
      "nbconvert_exporter": "python",
      "pygments_lexer": "ipython3",
      "version": "3.7.13 (default, Mar 28 2022, 08:03:21) [MSC v.1916 64 bit (AMD64)]"
    },
    "vscode": {
      "interpreter": {
        "hash": "bd97b8bffa4d3737e84826bc3d37be3046061822757ce35137ab82ad4c5a2016"
      }
    },
    "colab": {
      "provenance": [],
      "gpuType": "T4",
      "include_colab_link": true
    },
    "accelerator": "GPU"
  },
  "nbformat": 4,
  "nbformat_minor": 0
}
