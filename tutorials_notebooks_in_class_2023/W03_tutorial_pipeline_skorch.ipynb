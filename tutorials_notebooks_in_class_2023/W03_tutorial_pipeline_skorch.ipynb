{
  "cells": [
    {
      "cell_type": "markdown",
      "metadata": {
        "id": "view-in-github",
        "colab_type": "text"
      },
      "source": [
        "<a href=\"https://colab.research.google.com/github/Andrian0s/ML4NLP1-2023-Tutorial-Notebooks/blob/main/tutorial_notebooks/03_tutorial_pipeline_skorch.ipynb\" target=\"_parent\"><img src=\"https://colab.research.google.com/assets/colab-badge.svg\" alt=\"Open In Colab\"/></a>"
      ]
    },
    {
      "cell_type": "markdown",
      "metadata": {
        "id": "1gzHo80DX3J0"
      },
      "source": [
        "# Introduction to sklearn Pipeline and skorch"
      ]
    },
    {
      "cell_type": "markdown",
      "metadata": {
        "id": "dVB8QC6bX3J5"
      },
      "source": [
        "In this tutorial, we will introduce\n",
        "* the Pipeline class of sklearn\n",
        "* the skorch library: a framework unifying pytorch and sklearn.\n",
        "\n",
        "Based on the notebook of Phillip Ströbel (adjustments from Janis Goldzycher, Andrianos Michail)\n"
      ]
    },
    {
      "cell_type": "markdown",
      "metadata": {
        "id": "uuLQDR5MX3J6"
      },
      "source": [
        "## Recap\n",
        "\n",
        "We are still working with the text classification data from http://qwone.com/~jason/20Newsgroups/.\n",
        "Cf. notebook from last week for more comments."
      ]
    },
    {
      "cell_type": "code",
      "execution_count": null,
      "metadata": {
        "id": "iuV1TvUNX3J7"
      },
      "outputs": [],
      "source": [
        "import os\n",
        "import pandas as pd\n",
        "\n",
        "\n",
        "def create_df(path_to_data, random_state=42):\n",
        "    \"\"\"\n",
        "    Takes the path of a folder containing all the subfolders (which contain the actual documents).\n",
        "    Builds a pandas datafram with document ids, the text and the label.\n",
        "    :param path_to_data: path to top folder as a string\n",
        "    :param random_state: integer, seed for shuffling\n",
        "    :return: pandas dataframe with all th\n",
        "    \"\"\"\n",
        "    doc_list = list()  # doc_list now: [[doc<str>, label<str>], ...]\n",
        "\n",
        "    for category in os.listdir(path_to_data):\n",
        "        for document in os.listdir(os.path.join(path_to_data, category)):\n",
        "            doc = open(os.path.join(path_to_data, category, document), 'r', encoding='latin-1').read().replace('\\n', ' ')\n",
        "            doc_list.append([doc, category])\n",
        "\n",
        "    df = pd.DataFrame(doc_list, columns=['text', 'label'])\n",
        "\n",
        "    return df.sample(frac=1, random_state=random_state) # return and shuffle dataframe"
      ]
    },
    {
      "cell_type": "code",
      "execution_count": null,
      "metadata": {
        "id": "NhNP5KxyX3J8"
      },
      "outputs": [],
      "source": [
        "train = create_df('../datasets/20news-bydate/20news-bydate-train')\n",
        "test = create_df('../datasets/20news-bydate/20news-bydate-test')"
      ]
    },
    {
      "cell_type": "markdown",
      "metadata": {
        "id": "AuvWeXL2X3J8"
      },
      "source": [
        "Several ways to inspect the data."
      ]
    },
    {
      "cell_type": "code",
      "execution_count": null,
      "metadata": {
        "id": "X1hM5sIuX3J-",
        "outputId": "3a090399-6064-4240-8f70-a66e5727627a"
      },
      "outputs": [
        {
          "data": {
            "text/html": [
              "<div>\n",
              "<style scoped>\n",
              "    .dataframe tbody tr th:only-of-type {\n",
              "        vertical-align: middle;\n",
              "    }\n",
              "\n",
              "    .dataframe tbody tr th {\n",
              "        vertical-align: top;\n",
              "    }\n",
              "\n",
              "    .dataframe thead th {\n",
              "        text-align: right;\n",
              "    }\n",
              "</style>\n",
              "<table border=\"1\" class=\"dataframe\">\n",
              "  <thead>\n",
              "    <tr style=\"text-align: right;\">\n",
              "      <th></th>\n",
              "      <th>text</th>\n",
              "      <th>label</th>\n",
              "    </tr>\n",
              "  </thead>\n",
              "  <tbody>\n",
              "    <tr>\n",
              "      <th>7492</th>\n",
              "      <td>From: fragante@unixg.ubc.ca (Gv Fragante) Subj...</td>\n",
              "      <td>comp.sys.ibm.pc.hardware</td>\n",
              "    </tr>\n",
              "    <tr>\n",
              "      <th>3546</th>\n",
              "      <td>Organization: Central Michigan University From...</td>\n",
              "      <td>rec.sport.hockey</td>\n",
              "    </tr>\n",
              "    <tr>\n",
              "      <th>5582</th>\n",
              "      <td>From: dmeier@casbah.acns.nwu.edu (Douglas Meie...</td>\n",
              "      <td>talk.politics.misc</td>\n",
              "    </tr>\n",
              "    <tr>\n",
              "      <th>4793</th>\n",
              "      <td>From: shavlik@cs.wisc.edu (Jude Shavlik) Subje...</td>\n",
              "      <td>sci.med</td>\n",
              "    </tr>\n",
              "    <tr>\n",
              "      <th>3813</th>\n",
              "      <td>From: nhmas@gauss.med.harvard.edu (Mark Shneyd...</td>\n",
              "      <td>rec.sport.hockey</td>\n",
              "    </tr>\n",
              "  </tbody>\n",
              "</table>\n",
              "</div>"
            ],
            "text/plain": [
              "                                                   text  \\\n",
              "7492  From: fragante@unixg.ubc.ca (Gv Fragante) Subj...   \n",
              "3546  Organization: Central Michigan University From...   \n",
              "5582  From: dmeier@casbah.acns.nwu.edu (Douglas Meie...   \n",
              "4793  From: shavlik@cs.wisc.edu (Jude Shavlik) Subje...   \n",
              "3813  From: nhmas@gauss.med.harvard.edu (Mark Shneyd...   \n",
              "\n",
              "                         label  \n",
              "7492  comp.sys.ibm.pc.hardware  \n",
              "3546          rec.sport.hockey  \n",
              "5582        talk.politics.misc  \n",
              "4793                   sci.med  \n",
              "3813          rec.sport.hockey  "
            ]
          },
          "execution_count": 4,
          "metadata": {},
          "output_type": "execute_result"
        }
      ],
      "source": [
        "train.head()"
      ]
    },
    {
      "cell_type": "markdown",
      "metadata": {
        "id": "jpIz2S4PX3KA"
      },
      "source": [
        "As usual, we split the labels from the training and the test set."
      ]
    },
    {
      "cell_type": "code",
      "execution_count": null,
      "metadata": {
        "id": "2r6WywPEX3KB"
      },
      "outputs": [],
      "source": [
        "X_train = train.text\n",
        "y_train = train.label\n",
        "X_test = test.text\n",
        "y_test = test.label"
      ]
    },
    {
      "cell_type": "markdown",
      "metadata": {
        "id": "mmuRdUSSX3KC"
      },
      "source": [
        "Series is just a \"One-dimensional ndarray with axis labels\". Let's see if we got this right."
      ]
    },
    {
      "cell_type": "code",
      "execution_count": null,
      "metadata": {
        "id": "m3PoWkuRX3KC",
        "outputId": "8f5faec4-8ae5-4195-caa9-cc320f0e7962"
      },
      "outputs": [
        {
          "name": "stdout",
          "output_type": "stream",
          "text": [
            "Training set shape:  (11314,)\n",
            "Training labels shape:  (11314,)\n",
            "Test set shape:  (7532,)\n",
            "Test labels shape:  (7532,)\n"
          ]
        }
      ],
      "source": [
        "print('Training set shape: ', X_train.shape)\n",
        "print('Training labels shape: ', y_train.shape)\n",
        "print('Test set shape: ', X_test.shape)\n",
        "print('Test labels shape: ', y_test.shape)"
      ]
    },
    {
      "cell_type": "code",
      "execution_count": null,
      "metadata": {
        "id": "bqIUdhawuR6d"
      },
      "outputs": [],
      "source": [
        "# randomly sample 5000 documents from the training set from train set\n",
        "X_train = X_train.sample(n=5000, random_state=42)\n",
        "# get same documents from labels\n",
        "y_train = y_train[X_train.index]"
      ]
    },
    {
      "cell_type": "markdown",
      "metadata": {
        "id": "fyUIWl1BX3KD"
      },
      "source": [
        "## Preprocessing and fitting models\n"
      ]
    },
    {
      "cell_type": "code",
      "execution_count": null,
      "metadata": {
        "id": "CUPBuRy5uR6d"
      },
      "outputs": [],
      "source": [
        "from sklearn.metrics import accuracy_score\n",
        "from sklearn.model_selection import cross_val_score\n",
        "from sklearn.feature_extraction.text import CountVectorizer\n",
        "from sklearn.feature_extraction.text import TfidfTransformer\n",
        "from sklearn.preprocessing import LabelEncoder\n",
        "from sklearn.svm import LinearSVC"
      ]
    },
    {
      "cell_type": "code",
      "execution_count": null,
      "metadata": {
        "id": "A_T0KafxX3KD"
      },
      "outputs": [],
      "source": [
        "count_vect = CountVectorizer()\n",
        "X_train_counts = count_vect.fit_transform(X_train)  # num_docs x num_words\n",
        "X_test_counts = count_vect.transform(X_test)"
      ]
    },
    {
      "cell_type": "code",
      "execution_count": null,
      "metadata": {
        "id": "EJXMA0q_X3KI"
      },
      "outputs": [],
      "source": [
        "tfidf_tranformer = TfidfTransformer(smooth_idf=True).fit(X_train_counts)\n",
        "X_train_tfidf = tfidf_tranformer.transform(X_train_counts)\n",
        "X_test_tfidf = tfidf_tranformer.transform(X_test_counts)"
      ]
    },
    {
      "cell_type": "code",
      "execution_count": null,
      "metadata": {
        "id": "GhdcRdMOX3KJ"
      },
      "outputs": [],
      "source": [
        "label_encoder = LabelEncoder()\n",
        "y_train = label_encoder.fit_transform(y_train)\n",
        "y_test = label_encoder.transform(y_test)"
      ]
    },
    {
      "cell_type": "code",
      "execution_count": null,
      "metadata": {
        "id": "bI33TO6QX3KM"
      },
      "outputs": [],
      "source": [
        "svc = LinearSVC()\n",
        "svc.fit(X_train_tfidf, y_train)\n",
        "scores = cross_val_score(svc, X_train_tfidf, y_train, scoring='accuracy', cv=10)"
      ]
    },
    {
      "cell_type": "code",
      "execution_count": null,
      "metadata": {
        "id": "sYBL2HgbuR6f",
        "outputId": "f1207368-af14-4c4a-d478-b924c03d4a71"
      },
      "outputs": [
        {
          "name": "stdout",
          "output_type": "stream",
          "text": [
            "[0.91607774 0.92402827 0.93992933 0.94787986 0.93015031 0.92219275\n",
            " 0.92130858 0.92484527 0.93191866 0.93191866]\n"
          ]
        }
      ],
      "source": [
        "print(scores)"
      ]
    },
    {
      "cell_type": "markdown",
      "metadata": {
        "id": "j1_rQidWX3KN"
      },
      "source": [
        "We can also calculate precision, recall, and f1 relatively easily:"
      ]
    },
    {
      "cell_type": "code",
      "execution_count": null,
      "metadata": {
        "id": "H04oOtkMX3KN"
      },
      "outputs": [],
      "source": [
        "from sklearn.metrics import precision_score, recall_score, f1_score, confusion_matrix\n",
        "from sklearn.model_selection import cross_val_predict\n",
        "from sklearn.linear_model import SGDClassifier\n",
        "\n",
        "sgd_clf = SGDClassifier(max_iter=50)\n",
        "sgd_clf.fit(X_train_tfidf, y_train)\n",
        "\n",
        "y_train_predictions = cross_val_predict(sgd_clf, X_train_tfidf, y_train, cv=3)"
      ]
    },
    {
      "cell_type": "code",
      "execution_count": null,
      "metadata": {
        "id": "jliIOiCkuR6f"
      },
      "outputs": [],
      "source": [
        "# maybe add confusion matrix"
      ]
    },
    {
      "cell_type": "markdown",
      "metadata": {
        "id": "br-EQ2AoX3KO"
      },
      "source": [
        "## Shortcuts in sklearn: Pipelines\n",
        "Sklearn allows us to build convenient `Pipelines`, which facilitate the management of our data and the training of our models enourmously. Consider for example:"
      ]
    },
    {
      "cell_type": "code",
      "execution_count": null,
      "metadata": {
        "id": "HbTKdcoeX3KO"
      },
      "outputs": [],
      "source": [
        "from sklearn.feature_extraction.text import CountVectorizer\n",
        "from sklearn.feature_extraction.text import TfidfTransformer\n",
        "from sklearn.linear_model import LogisticRegression\n",
        "from sklearn.pipeline import Pipeline\n",
        "from sklearn.model_selection import cross_val_score"
      ]
    },
    {
      "cell_type": "code",
      "execution_count": null,
      "metadata": {
        "id": "oqnAPtIYuR6g"
      },
      "outputs": [],
      "source": [
        "# Define a pipeline: first vectorize, then tfidf, then classify\n",
        "text_clf = Pipeline([\n",
        "    ('vect', CountVectorizer()),\n",
        "    ('tfidf', TfidfTransformer()),\n",
        "    ('clf', LogisticRegression())\n",
        "])"
      ]
    },
    {
      "cell_type": "code",
      "execution_count": null,
      "metadata": {
        "id": "CRzTnitXuR6g"
      },
      "outputs": [],
      "source": [
        "# Q: What types of ngrams are used here?\n",
        "# Q: What type of regularization did we used here? How can we change it?"
      ]
    },
    {
      "cell_type": "markdown",
      "metadata": {
        "id": "rx1_FDKcX3KO"
      },
      "source": [
        "We could even replace the two first lines of the pipeline by using `TfidfVectorizer`, which first fits and transforms the input the same way as the `CountVectorizer`."
      ]
    },
    {
      "cell_type": "code",
      "execution_count": null,
      "metadata": {
        "id": "VCysE7tLX3KO",
        "outputId": "bf2ec1f9-da55-4318-8677-cc42e0dcb9da"
      },
      "outputs": [
        {
          "data": {
            "text/plain": [
              "Pipeline(steps=[('vect', CountVectorizer()), ('tfidf', TfidfTransformer()),\n",
              "                ('clf', LogisticRegression())])"
            ]
          },
          "execution_count": 11,
          "metadata": {},
          "output_type": "execute_result"
        }
      ],
      "source": [
        "text_clf.fit(X_train, y_train)"
      ]
    },
    {
      "cell_type": "code",
      "execution_count": null,
      "metadata": {
        "id": "xmX9mh6eX3KP"
      },
      "outputs": [],
      "source": [
        "scores = cross_val_score(text_clf, X_train, y_train, scoring='accuracy', cv=10)"
      ]
    },
    {
      "cell_type": "code",
      "execution_count": null,
      "metadata": {
        "id": "PBKGQzJLX3KP",
        "outputId": "6f65070b-5bc8-4040-e662-5d9506f87d82"
      },
      "outputs": [
        {
          "data": {
            "text/plain": [
              "array([0.91607774, 0.92402827, 0.93992933, 0.94787986, 0.93015031,\n",
              "       0.92219275, 0.92130858, 0.92484527, 0.93191866, 0.93191866])"
            ]
          },
          "execution_count": 21,
          "metadata": {},
          "output_type": "execute_result"
        }
      ],
      "source": [
        "scores"
      ]
    },
    {
      "cell_type": "markdown",
      "metadata": {
        "id": "xWKm1CyaX3KP"
      },
      "source": [
        "## Model selection - find your best model\n",
        "For every model you would like to train, there is a plethora of parameters you could set. How to find the best model? Again, sklearn has a solution: `GridSearchCV`. With grid search cross validation, you can set your hyperparameter space and train different models with all the parameter combinations. Keep in mind that depending on how many folds you train, the whole training procedure takes significantly longer. But let's set up grid search cross validation. We set up a new pipeline for a SVC"
      ]
    },
    {
      "cell_type": "code",
      "execution_count": null,
      "metadata": {
        "id": "TuyNDDbjX3KP"
      },
      "outputs": [],
      "source": [
        "from sklearn.model_selection import GridSearchCV\n",
        "\n",
        "text_svc = Pipeline([\n",
        "    ('vect', CountVectorizer()),\n",
        "    ('tfidf', TfidfTransformer()),\n",
        "    ('svc', LinearSVC())\n",
        "])\n",
        "\n",
        "param_grid = {'vect__ngram_range': [(1, 1), (1, 2)],\n",
        "             'svc__loss': ['hinge', 'squared_hinge'],\n",
        "             'svc__multi_class': ['ovr', 'crammer_singer']}\n",
        "\n",
        "# Q: With how many combinations of parameters will we end up?\n",
        "\n",
        "gs_svc = GridSearchCV(text_svc, param_grid, cv=5, verbose=1)\n",
        "gs_svc.fit(X_train, y_train)"
      ]
    },
    {
      "cell_type": "code",
      "execution_count": null,
      "metadata": {
        "id": "IyKZRLITX3KP",
        "outputId": "8ec7e7ff-5d40-4543-ef9b-a3c4adf412dd"
      },
      "outputs": [
        {
          "data": {
            "text/html": [
              "<div>\n",
              "<style scoped>\n",
              "    .dataframe tbody tr th:only-of-type {\n",
              "        vertical-align: middle;\n",
              "    }\n",
              "\n",
              "    .dataframe tbody tr th {\n",
              "        vertical-align: top;\n",
              "    }\n",
              "\n",
              "    .dataframe thead th {\n",
              "        text-align: right;\n",
              "    }\n",
              "</style>\n",
              "<table border=\"1\" class=\"dataframe\">\n",
              "  <thead>\n",
              "    <tr style=\"text-align: right;\">\n",
              "      <th></th>\n",
              "      <th>mean_fit_time</th>\n",
              "      <th>std_fit_time</th>\n",
              "      <th>mean_score_time</th>\n",
              "      <th>std_score_time</th>\n",
              "      <th>param_svc__loss</th>\n",
              "      <th>param_svc__multi_class</th>\n",
              "      <th>param_vect__ngram_range</th>\n",
              "      <th>params</th>\n",
              "      <th>split0_test_score</th>\n",
              "      <th>split1_test_score</th>\n",
              "      <th>split2_test_score</th>\n",
              "      <th>split3_test_score</th>\n",
              "      <th>split4_test_score</th>\n",
              "      <th>mean_test_score</th>\n",
              "      <th>std_test_score</th>\n",
              "      <th>rank_test_score</th>\n",
              "    </tr>\n",
              "  </thead>\n",
              "  <tbody>\n",
              "    <tr>\n",
              "      <th>3</th>\n",
              "      <td>436.592107</td>\n",
              "      <td>171.236469</td>\n",
              "      <td>2.384123</td>\n",
              "      <td>0.070692</td>\n",
              "      <td>hinge</td>\n",
              "      <td>crammer_singer</td>\n",
              "      <td>(1, 2)</td>\n",
              "      <td>{'svc__loss': 'hinge', 'svc__multi_class': 'cr...</td>\n",
              "      <td>0.933716</td>\n",
              "      <td>0.935484</td>\n",
              "      <td>0.933274</td>\n",
              "      <td>0.925320</td>\n",
              "      <td>0.930592</td>\n",
              "      <td>0.931677</td>\n",
              "      <td>0.003544</td>\n",
              "      <td>1</td>\n",
              "    </tr>\n",
              "    <tr>\n",
              "      <th>7</th>\n",
              "      <td>433.028093</td>\n",
              "      <td>113.623423</td>\n",
              "      <td>2.362510</td>\n",
              "      <td>0.188189</td>\n",
              "      <td>squared_hinge</td>\n",
              "      <td>crammer_singer</td>\n",
              "      <td>(1, 2)</td>\n",
              "      <td>{'svc__loss': 'squared_hinge', 'svc__multi_cla...</td>\n",
              "      <td>0.933716</td>\n",
              "      <td>0.935484</td>\n",
              "      <td>0.933274</td>\n",
              "      <td>0.925320</td>\n",
              "      <td>0.930592</td>\n",
              "      <td>0.931677</td>\n",
              "      <td>0.003544</td>\n",
              "      <td>1</td>\n",
              "    </tr>\n",
              "    <tr>\n",
              "      <th>5</th>\n",
              "      <td>35.854953</td>\n",
              "      <td>1.288269</td>\n",
              "      <td>2.438577</td>\n",
              "      <td>0.162266</td>\n",
              "      <td>squared_hinge</td>\n",
              "      <td>ovr</td>\n",
              "      <td>(1, 2)</td>\n",
              "      <td>{'svc__loss': 'squared_hinge', 'svc__multi_cla...</td>\n",
              "      <td>0.929739</td>\n",
              "      <td>0.931507</td>\n",
              "      <td>0.931065</td>\n",
              "      <td>0.924437</td>\n",
              "      <td>0.930592</td>\n",
              "      <td>0.929468</td>\n",
              "      <td>0.002583</td>\n",
              "      <td>3</td>\n",
              "    </tr>\n",
              "    <tr>\n",
              "      <th>1</th>\n",
              "      <td>176.695410</td>\n",
              "      <td>15.243509</td>\n",
              "      <td>2.438571</td>\n",
              "      <td>0.082104</td>\n",
              "      <td>hinge</td>\n",
              "      <td>ovr</td>\n",
              "      <td>(1, 2)</td>\n",
              "      <td>{'svc__loss': 'hinge', 'svc__multi_class': 'ov...</td>\n",
              "      <td>0.929739</td>\n",
              "      <td>0.932391</td>\n",
              "      <td>0.930623</td>\n",
              "      <td>0.922669</td>\n",
              "      <td>0.929266</td>\n",
              "      <td>0.928938</td>\n",
              "      <td>0.003311</td>\n",
              "      <td>4</td>\n",
              "    </tr>\n",
              "    <tr>\n",
              "      <th>4</th>\n",
              "      <td>9.122730</td>\n",
              "      <td>0.169448</td>\n",
              "      <td>1.026385</td>\n",
              "      <td>0.044109</td>\n",
              "      <td>squared_hinge</td>\n",
              "      <td>ovr</td>\n",
              "      <td>(1, 1)</td>\n",
              "      <td>{'svc__loss': 'squared_hinge', 'svc__multi_cla...</td>\n",
              "      <td>0.926204</td>\n",
              "      <td>0.931507</td>\n",
              "      <td>0.929739</td>\n",
              "      <td>0.922227</td>\n",
              "      <td>0.925729</td>\n",
              "      <td>0.927081</td>\n",
              "      <td>0.003250</td>\n",
              "      <td>5</td>\n",
              "    </tr>\n",
              "    <tr>\n",
              "      <th>2</th>\n",
              "      <td>107.631349</td>\n",
              "      <td>46.304807</td>\n",
              "      <td>1.015226</td>\n",
              "      <td>0.028500</td>\n",
              "      <td>hinge</td>\n",
              "      <td>crammer_singer</td>\n",
              "      <td>(1, 1)</td>\n",
              "      <td>{'svc__loss': 'hinge', 'svc__multi_class': 'cr...</td>\n",
              "      <td>0.925762</td>\n",
              "      <td>0.928414</td>\n",
              "      <td>0.927972</td>\n",
              "      <td>0.920460</td>\n",
              "      <td>0.927940</td>\n",
              "      <td>0.926109</td>\n",
              "      <td>0.002972</td>\n",
              "      <td>6</td>\n",
              "    </tr>\n",
              "    <tr>\n",
              "      <th>6</th>\n",
              "      <td>118.908495</td>\n",
              "      <td>45.469967</td>\n",
              "      <td>0.999624</td>\n",
              "      <td>0.033259</td>\n",
              "      <td>squared_hinge</td>\n",
              "      <td>crammer_singer</td>\n",
              "      <td>(1, 1)</td>\n",
              "      <td>{'svc__loss': 'squared_hinge', 'svc__multi_cla...</td>\n",
              "      <td>0.925762</td>\n",
              "      <td>0.928414</td>\n",
              "      <td>0.927972</td>\n",
              "      <td>0.920460</td>\n",
              "      <td>0.927940</td>\n",
              "      <td>0.926109</td>\n",
              "      <td>0.002972</td>\n",
              "      <td>6</td>\n",
              "    </tr>\n",
              "    <tr>\n",
              "      <th>0</th>\n",
              "      <td>23.560421</td>\n",
              "      <td>1.666786</td>\n",
              "      <td>1.010844</td>\n",
              "      <td>0.064981</td>\n",
              "      <td>hinge</td>\n",
              "      <td>ovr</td>\n",
              "      <td>(1, 1)</td>\n",
              "      <td>{'svc__loss': 'hinge', 'svc__multi_class': 'ov...</td>\n",
              "      <td>0.927088</td>\n",
              "      <td>0.930181</td>\n",
              "      <td>0.926204</td>\n",
              "      <td>0.918250</td>\n",
              "      <td>0.924845</td>\n",
              "      <td>0.925314</td>\n",
              "      <td>0.003943</td>\n",
              "      <td>8</td>\n",
              "    </tr>\n",
              "  </tbody>\n",
              "</table>\n",
              "</div>"
            ],
            "text/plain": [
              "   mean_fit_time  std_fit_time  mean_score_time  std_score_time  \\\n",
              "3     436.592107    171.236469         2.384123        0.070692   \n",
              "7     433.028093    113.623423         2.362510        0.188189   \n",
              "5      35.854953      1.288269         2.438577        0.162266   \n",
              "1     176.695410     15.243509         2.438571        0.082104   \n",
              "4       9.122730      0.169448         1.026385        0.044109   \n",
              "2     107.631349     46.304807         1.015226        0.028500   \n",
              "6     118.908495     45.469967         0.999624        0.033259   \n",
              "0      23.560421      1.666786         1.010844        0.064981   \n",
              "\n",
              "  param_svc__loss param_svc__multi_class param_vect__ngram_range  \\\n",
              "3           hinge         crammer_singer                  (1, 2)   \n",
              "7   squared_hinge         crammer_singer                  (1, 2)   \n",
              "5   squared_hinge                    ovr                  (1, 2)   \n",
              "1           hinge                    ovr                  (1, 2)   \n",
              "4   squared_hinge                    ovr                  (1, 1)   \n",
              "2           hinge         crammer_singer                  (1, 1)   \n",
              "6   squared_hinge         crammer_singer                  (1, 1)   \n",
              "0           hinge                    ovr                  (1, 1)   \n",
              "\n",
              "                                              params  split0_test_score  \\\n",
              "3  {'svc__loss': 'hinge', 'svc__multi_class': 'cr...           0.933716   \n",
              "7  {'svc__loss': 'squared_hinge', 'svc__multi_cla...           0.933716   \n",
              "5  {'svc__loss': 'squared_hinge', 'svc__multi_cla...           0.929739   \n",
              "1  {'svc__loss': 'hinge', 'svc__multi_class': 'ov...           0.929739   \n",
              "4  {'svc__loss': 'squared_hinge', 'svc__multi_cla...           0.926204   \n",
              "2  {'svc__loss': 'hinge', 'svc__multi_class': 'cr...           0.925762   \n",
              "6  {'svc__loss': 'squared_hinge', 'svc__multi_cla...           0.925762   \n",
              "0  {'svc__loss': 'hinge', 'svc__multi_class': 'ov...           0.927088   \n",
              "\n",
              "   split1_test_score  split2_test_score  split3_test_score  split4_test_score  \\\n",
              "3           0.935484           0.933274           0.925320           0.930592   \n",
              "7           0.935484           0.933274           0.925320           0.930592   \n",
              "5           0.931507           0.931065           0.924437           0.930592   \n",
              "1           0.932391           0.930623           0.922669           0.929266   \n",
              "4           0.931507           0.929739           0.922227           0.925729   \n",
              "2           0.928414           0.927972           0.920460           0.927940   \n",
              "6           0.928414           0.927972           0.920460           0.927940   \n",
              "0           0.930181           0.926204           0.918250           0.924845   \n",
              "\n",
              "   mean_test_score  std_test_score  rank_test_score  \n",
              "3         0.931677        0.003544                1  \n",
              "7         0.931677        0.003544                1  \n",
              "5         0.929468        0.002583                3  \n",
              "1         0.928938        0.003311                4  \n",
              "4         0.927081        0.003250                5  \n",
              "2         0.926109        0.002972                6  \n",
              "6         0.926109        0.002972                6  \n",
              "0         0.925314        0.003943                8  "
            ]
          },
          "execution_count": 58,
          "metadata": {},
          "output_type": "execute_result"
        }
      ],
      "source": [
        "svc_df = pd.DataFrame.from_dict(gs_svc.cv_results_)\n",
        "svc_df.sort_values(by=[\"rank_test_score\"])"
      ]
    },
    {
      "cell_type": "code",
      "execution_count": null,
      "metadata": {
        "id": "NyPQWIOzX3KQ",
        "outputId": "99452009-e19a-4a3c-f58c-88a07e2f2cf6"
      },
      "outputs": [
        {
          "name": "stderr",
          "output_type": "stream",
          "text": [
            "/home/janis/.local/lib/python3.8/site-packages/sklearn/svm/_base.py:976: ConvergenceWarning: Liblinear failed to converge, increase the number of iterations.\n",
            "  warnings.warn(\"Liblinear failed to converge, increase \"\n"
          ]
        },
        {
          "data": {
            "text/plain": [
              "Pipeline(steps=[('vect', CountVectorizer(ngram_range=(1, 2))),\n",
              "                ('tfidf', TfidfTransformer()),\n",
              "                ('svc', LinearSVC(loss='hinge', multi_class='crammer_singer'))])"
            ]
          },
          "execution_count": 61,
          "metadata": {},
          "output_type": "execute_result"
        }
      ],
      "source": [
        "best_model = Pipeline([\n",
        "    ('vect', CountVectorizer(ngram_range=(1,2))),\n",
        "    ('tfidf', TfidfTransformer()),\n",
        "    ('svc', LinearSVC(loss='hinge', multi_class='crammer_singer'))\n",
        "])\n",
        "\n",
        "best_model.fit(X_train, y_train)"
      ]
    },
    {
      "cell_type": "code",
      "execution_count": null,
      "metadata": {
        "id": "UCF056HrX3KQ",
        "outputId": "5febc2b8-c4da-4c24-c65a-16609fa042de"
      },
      "outputs": [
        {
          "name": "stdout",
          "output_type": "stream",
          "text": [
            "Accuracy:  0.8600637280934679\n"
          ]
        }
      ],
      "source": [
        "correct = 0\n",
        "\n",
        "for index, prediction in enumerate(best_model.predict(X_test)):\n",
        "    if prediction == y_test[index]:\n",
        "        correct +=1\n",
        "\n",
        "print('Accuracy: ', correct/y_test.shape[0])"
      ]
    }
  ],
  "metadata": {
    "colab": {
      "collapsed_sections": [
        "MZ6F8ZM1X3KJ",
        "vOpydQgDX3KK"
      ],
      "provenance": [],
      "include_colab_link": true
    },
    "kernelspec": {
      "display_name": "Python 3",
      "language": "python",
      "name": "python3"
    },
    "language_info": {
      "codemirror_mode": {
        "name": "ipython",
        "version": 3
      },
      "file_extension": ".py",
      "mimetype": "text/x-python",
      "name": "python",
      "nbconvert_exporter": "python",
      "pygments_lexer": "ipython3",
      "version": "3.7.11"
    }
  },
  "nbformat": 4,
  "nbformat_minor": 0
}