{
  "nbformat": 4,
  "nbformat_minor": 0,
  "metadata": {
    "colab": {
      "provenance": [],
      "include_colab_link": true
    },
    "kernelspec": {
      "name": "python3",
      "display_name": "Python 3"
    },
    "accelerator": "GPU",
    "widgets": {
      "application/vnd.jupyter.widget-state+json": {
        "816d19ab1d7a44e08daea5dbe95ced13": {
          "model_module": "@jupyter-widgets/controls",
          "model_name": "HBoxModel",
          "model_module_version": "1.5.0",
          "state": {
            "_dom_classes": [],
            "_model_module": "@jupyter-widgets/controls",
            "_model_module_version": "1.5.0",
            "_model_name": "HBoxModel",
            "_view_count": null,
            "_view_module": "@jupyter-widgets/controls",
            "_view_module_version": "1.5.0",
            "_view_name": "HBoxView",
            "box_style": "",
            "children": [
              "IPY_MODEL_a5883d359e2d4e7d90be3b22c7861c80",
              "IPY_MODEL_9f5c747363494b3e817c2d06498ff905",
              "IPY_MODEL_746a266380ef454b99ed81dfd315386c"
            ],
            "layout": "IPY_MODEL_409dc30120854c0996846b3a60e79c4a"
          }
        },
        "a5883d359e2d4e7d90be3b22c7861c80": {
          "model_module": "@jupyter-widgets/controls",
          "model_name": "HTMLModel",
          "model_module_version": "1.5.0",
          "state": {
            "_dom_classes": [],
            "_model_module": "@jupyter-widgets/controls",
            "_model_module_version": "1.5.0",
            "_model_name": "HTMLModel",
            "_view_count": null,
            "_view_module": "@jupyter-widgets/controls",
            "_view_module_version": "1.5.0",
            "_view_name": "HTMLView",
            "description": "",
            "description_tooltip": null,
            "layout": "IPY_MODEL_7dd8cddb7bc346d9b535bda8546ba9fc",
            "placeholder": "​",
            "style": "IPY_MODEL_4609f04c09a647509f61879c036bb05d",
            "value": "Downloading (…)olve/main/vocab.json: 100%"
          }
        },
        "9f5c747363494b3e817c2d06498ff905": {
          "model_module": "@jupyter-widgets/controls",
          "model_name": "FloatProgressModel",
          "model_module_version": "1.5.0",
          "state": {
            "_dom_classes": [],
            "_model_module": "@jupyter-widgets/controls",
            "_model_module_version": "1.5.0",
            "_model_name": "FloatProgressModel",
            "_view_count": null,
            "_view_module": "@jupyter-widgets/controls",
            "_view_module_version": "1.5.0",
            "_view_name": "ProgressView",
            "bar_style": "success",
            "description": "",
            "description_tooltip": null,
            "layout": "IPY_MODEL_0128e2f330f944739a51c26a8c0ad089",
            "max": 1042301,
            "min": 0,
            "orientation": "horizontal",
            "style": "IPY_MODEL_0e6b8832b0ae4ca3b0cb246554d7775d",
            "value": 1042301
          }
        },
        "746a266380ef454b99ed81dfd315386c": {
          "model_module": "@jupyter-widgets/controls",
          "model_name": "HTMLModel",
          "model_module_version": "1.5.0",
          "state": {
            "_dom_classes": [],
            "_model_module": "@jupyter-widgets/controls",
            "_model_module_version": "1.5.0",
            "_model_name": "HTMLModel",
            "_view_count": null,
            "_view_module": "@jupyter-widgets/controls",
            "_view_module_version": "1.5.0",
            "_view_name": "HTMLView",
            "description": "",
            "description_tooltip": null,
            "layout": "IPY_MODEL_a74262f9eea548dab5b75b4333e2d1dc",
            "placeholder": "​",
            "style": "IPY_MODEL_2703f4d4a3ab488e8fa2fd04aba1c6eb",
            "value": " 1.04M/1.04M [00:00&lt;00:00, 1.25MB/s]"
          }
        },
        "409dc30120854c0996846b3a60e79c4a": {
          "model_module": "@jupyter-widgets/base",
          "model_name": "LayoutModel",
          "model_module_version": "1.2.0",
          "state": {
            "_model_module": "@jupyter-widgets/base",
            "_model_module_version": "1.2.0",
            "_model_name": "LayoutModel",
            "_view_count": null,
            "_view_module": "@jupyter-widgets/base",
            "_view_module_version": "1.2.0",
            "_view_name": "LayoutView",
            "align_content": null,
            "align_items": null,
            "align_self": null,
            "border": null,
            "bottom": null,
            "display": null,
            "flex": null,
            "flex_flow": null,
            "grid_area": null,
            "grid_auto_columns": null,
            "grid_auto_flow": null,
            "grid_auto_rows": null,
            "grid_column": null,
            "grid_gap": null,
            "grid_row": null,
            "grid_template_areas": null,
            "grid_template_columns": null,
            "grid_template_rows": null,
            "height": null,
            "justify_content": null,
            "justify_items": null,
            "left": null,
            "margin": null,
            "max_height": null,
            "max_width": null,
            "min_height": null,
            "min_width": null,
            "object_fit": null,
            "object_position": null,
            "order": null,
            "overflow": null,
            "overflow_x": null,
            "overflow_y": null,
            "padding": null,
            "right": null,
            "top": null,
            "visibility": null,
            "width": null
          }
        },
        "7dd8cddb7bc346d9b535bda8546ba9fc": {
          "model_module": "@jupyter-widgets/base",
          "model_name": "LayoutModel",
          "model_module_version": "1.2.0",
          "state": {
            "_model_module": "@jupyter-widgets/base",
            "_model_module_version": "1.2.0",
            "_model_name": "LayoutModel",
            "_view_count": null,
            "_view_module": "@jupyter-widgets/base",
            "_view_module_version": "1.2.0",
            "_view_name": "LayoutView",
            "align_content": null,
            "align_items": null,
            "align_self": null,
            "border": null,
            "bottom": null,
            "display": null,
            "flex": null,
            "flex_flow": null,
            "grid_area": null,
            "grid_auto_columns": null,
            "grid_auto_flow": null,
            "grid_auto_rows": null,
            "grid_column": null,
            "grid_gap": null,
            "grid_row": null,
            "grid_template_areas": null,
            "grid_template_columns": null,
            "grid_template_rows": null,
            "height": null,
            "justify_content": null,
            "justify_items": null,
            "left": null,
            "margin": null,
            "max_height": null,
            "max_width": null,
            "min_height": null,
            "min_width": null,
            "object_fit": null,
            "object_position": null,
            "order": null,
            "overflow": null,
            "overflow_x": null,
            "overflow_y": null,
            "padding": null,
            "right": null,
            "top": null,
            "visibility": null,
            "width": null
          }
        },
        "4609f04c09a647509f61879c036bb05d": {
          "model_module": "@jupyter-widgets/controls",
          "model_name": "DescriptionStyleModel",
          "model_module_version": "1.5.0",
          "state": {
            "_model_module": "@jupyter-widgets/controls",
            "_model_module_version": "1.5.0",
            "_model_name": "DescriptionStyleModel",
            "_view_count": null,
            "_view_module": "@jupyter-widgets/base",
            "_view_module_version": "1.2.0",
            "_view_name": "StyleView",
            "description_width": ""
          }
        },
        "0128e2f330f944739a51c26a8c0ad089": {
          "model_module": "@jupyter-widgets/base",
          "model_name": "LayoutModel",
          "model_module_version": "1.2.0",
          "state": {
            "_model_module": "@jupyter-widgets/base",
            "_model_module_version": "1.2.0",
            "_model_name": "LayoutModel",
            "_view_count": null,
            "_view_module": "@jupyter-widgets/base",
            "_view_module_version": "1.2.0",
            "_view_name": "LayoutView",
            "align_content": null,
            "align_items": null,
            "align_self": null,
            "border": null,
            "bottom": null,
            "display": null,
            "flex": null,
            "flex_flow": null,
            "grid_area": null,
            "grid_auto_columns": null,
            "grid_auto_flow": null,
            "grid_auto_rows": null,
            "grid_column": null,
            "grid_gap": null,
            "grid_row": null,
            "grid_template_areas": null,
            "grid_template_columns": null,
            "grid_template_rows": null,
            "height": null,
            "justify_content": null,
            "justify_items": null,
            "left": null,
            "margin": null,
            "max_height": null,
            "max_width": null,
            "min_height": null,
            "min_width": null,
            "object_fit": null,
            "object_position": null,
            "order": null,
            "overflow": null,
            "overflow_x": null,
            "overflow_y": null,
            "padding": null,
            "right": null,
            "top": null,
            "visibility": null,
            "width": null
          }
        },
        "0e6b8832b0ae4ca3b0cb246554d7775d": {
          "model_module": "@jupyter-widgets/controls",
          "model_name": "ProgressStyleModel",
          "model_module_version": "1.5.0",
          "state": {
            "_model_module": "@jupyter-widgets/controls",
            "_model_module_version": "1.5.0",
            "_model_name": "ProgressStyleModel",
            "_view_count": null,
            "_view_module": "@jupyter-widgets/base",
            "_view_module_version": "1.2.0",
            "_view_name": "StyleView",
            "bar_color": null,
            "description_width": ""
          }
        },
        "a74262f9eea548dab5b75b4333e2d1dc": {
          "model_module": "@jupyter-widgets/base",
          "model_name": "LayoutModel",
          "model_module_version": "1.2.0",
          "state": {
            "_model_module": "@jupyter-widgets/base",
            "_model_module_version": "1.2.0",
            "_model_name": "LayoutModel",
            "_view_count": null,
            "_view_module": "@jupyter-widgets/base",
            "_view_module_version": "1.2.0",
            "_view_name": "LayoutView",
            "align_content": null,
            "align_items": null,
            "align_self": null,
            "border": null,
            "bottom": null,
            "display": null,
            "flex": null,
            "flex_flow": null,
            "grid_area": null,
            "grid_auto_columns": null,
            "grid_auto_flow": null,
            "grid_auto_rows": null,
            "grid_column": null,
            "grid_gap": null,
            "grid_row": null,
            "grid_template_areas": null,
            "grid_template_columns": null,
            "grid_template_rows": null,
            "height": null,
            "justify_content": null,
            "justify_items": null,
            "left": null,
            "margin": null,
            "max_height": null,
            "max_width": null,
            "min_height": null,
            "min_width": null,
            "object_fit": null,
            "object_position": null,
            "order": null,
            "overflow": null,
            "overflow_x": null,
            "overflow_y": null,
            "padding": null,
            "right": null,
            "top": null,
            "visibility": null,
            "width": null
          }
        },
        "2703f4d4a3ab488e8fa2fd04aba1c6eb": {
          "model_module": "@jupyter-widgets/controls",
          "model_name": "DescriptionStyleModel",
          "model_module_version": "1.5.0",
          "state": {
            "_model_module": "@jupyter-widgets/controls",
            "_model_module_version": "1.5.0",
            "_model_name": "DescriptionStyleModel",
            "_view_count": null,
            "_view_module": "@jupyter-widgets/base",
            "_view_module_version": "1.2.0",
            "_view_name": "StyleView",
            "description_width": ""
          }
        },
        "d95e9a2442d5437d84803f450e452377": {
          "model_module": "@jupyter-widgets/controls",
          "model_name": "HBoxModel",
          "model_module_version": "1.5.0",
          "state": {
            "_dom_classes": [],
            "_model_module": "@jupyter-widgets/controls",
            "_model_module_version": "1.5.0",
            "_model_name": "HBoxModel",
            "_view_count": null,
            "_view_module": "@jupyter-widgets/controls",
            "_view_module_version": "1.5.0",
            "_view_name": "HBoxView",
            "box_style": "",
            "children": [
              "IPY_MODEL_7a29b0ef7e314f33b93402a74d276d43",
              "IPY_MODEL_637d9ed059ab49ca80f229513cef0ba1",
              "IPY_MODEL_e2f100722d154d92a3f462ff881fca01"
            ],
            "layout": "IPY_MODEL_08a33bdba1a54c03b9b7bd71cd6e8c03"
          }
        },
        "7a29b0ef7e314f33b93402a74d276d43": {
          "model_module": "@jupyter-widgets/controls",
          "model_name": "HTMLModel",
          "model_module_version": "1.5.0",
          "state": {
            "_dom_classes": [],
            "_model_module": "@jupyter-widgets/controls",
            "_model_module_version": "1.5.0",
            "_model_name": "HTMLModel",
            "_view_count": null,
            "_view_module": "@jupyter-widgets/controls",
            "_view_module_version": "1.5.0",
            "_view_name": "HTMLView",
            "description": "",
            "description_tooltip": null,
            "layout": "IPY_MODEL_9884876ff7244e6cac0bd63532f866ca",
            "placeholder": "​",
            "style": "IPY_MODEL_d7b97542a2fd4da6aaeaa75dbfe7a315",
            "value": "Downloading (…)olve/main/merges.txt: 100%"
          }
        },
        "637d9ed059ab49ca80f229513cef0ba1": {
          "model_module": "@jupyter-widgets/controls",
          "model_name": "FloatProgressModel",
          "model_module_version": "1.5.0",
          "state": {
            "_dom_classes": [],
            "_model_module": "@jupyter-widgets/controls",
            "_model_module_version": "1.5.0",
            "_model_name": "FloatProgressModel",
            "_view_count": null,
            "_view_module": "@jupyter-widgets/controls",
            "_view_module_version": "1.5.0",
            "_view_name": "ProgressView",
            "bar_style": "success",
            "description": "",
            "description_tooltip": null,
            "layout": "IPY_MODEL_e29365912f4f4eec937974c8d6bc40ce",
            "max": 456318,
            "min": 0,
            "orientation": "horizontal",
            "style": "IPY_MODEL_ba4e0c0c04e9483e8d54726f559a3ee2",
            "value": 456318
          }
        },
        "e2f100722d154d92a3f462ff881fca01": {
          "model_module": "@jupyter-widgets/controls",
          "model_name": "HTMLModel",
          "model_module_version": "1.5.0",
          "state": {
            "_dom_classes": [],
            "_model_module": "@jupyter-widgets/controls",
            "_model_module_version": "1.5.0",
            "_model_name": "HTMLModel",
            "_view_count": null,
            "_view_module": "@jupyter-widgets/controls",
            "_view_module_version": "1.5.0",
            "_view_name": "HTMLView",
            "description": "",
            "description_tooltip": null,
            "layout": "IPY_MODEL_5c23589d5b184147b0b6bc2fc62eb9b4",
            "placeholder": "​",
            "style": "IPY_MODEL_a1a9050656be4baca43d2c4692b70cc2",
            "value": " 456k/456k [00:00&lt;00:00, 2.15MB/s]"
          }
        },
        "08a33bdba1a54c03b9b7bd71cd6e8c03": {
          "model_module": "@jupyter-widgets/base",
          "model_name": "LayoutModel",
          "model_module_version": "1.2.0",
          "state": {
            "_model_module": "@jupyter-widgets/base",
            "_model_module_version": "1.2.0",
            "_model_name": "LayoutModel",
            "_view_count": null,
            "_view_module": "@jupyter-widgets/base",
            "_view_module_version": "1.2.0",
            "_view_name": "LayoutView",
            "align_content": null,
            "align_items": null,
            "align_self": null,
            "border": null,
            "bottom": null,
            "display": null,
            "flex": null,
            "flex_flow": null,
            "grid_area": null,
            "grid_auto_columns": null,
            "grid_auto_flow": null,
            "grid_auto_rows": null,
            "grid_column": null,
            "grid_gap": null,
            "grid_row": null,
            "grid_template_areas": null,
            "grid_template_columns": null,
            "grid_template_rows": null,
            "height": null,
            "justify_content": null,
            "justify_items": null,
            "left": null,
            "margin": null,
            "max_height": null,
            "max_width": null,
            "min_height": null,
            "min_width": null,
            "object_fit": null,
            "object_position": null,
            "order": null,
            "overflow": null,
            "overflow_x": null,
            "overflow_y": null,
            "padding": null,
            "right": null,
            "top": null,
            "visibility": null,
            "width": null
          }
        },
        "9884876ff7244e6cac0bd63532f866ca": {
          "model_module": "@jupyter-widgets/base",
          "model_name": "LayoutModel",
          "model_module_version": "1.2.0",
          "state": {
            "_model_module": "@jupyter-widgets/base",
            "_model_module_version": "1.2.0",
            "_model_name": "LayoutModel",
            "_view_count": null,
            "_view_module": "@jupyter-widgets/base",
            "_view_module_version": "1.2.0",
            "_view_name": "LayoutView",
            "align_content": null,
            "align_items": null,
            "align_self": null,
            "border": null,
            "bottom": null,
            "display": null,
            "flex": null,
            "flex_flow": null,
            "grid_area": null,
            "grid_auto_columns": null,
            "grid_auto_flow": null,
            "grid_auto_rows": null,
            "grid_column": null,
            "grid_gap": null,
            "grid_row": null,
            "grid_template_areas": null,
            "grid_template_columns": null,
            "grid_template_rows": null,
            "height": null,
            "justify_content": null,
            "justify_items": null,
            "left": null,
            "margin": null,
            "max_height": null,
            "max_width": null,
            "min_height": null,
            "min_width": null,
            "object_fit": null,
            "object_position": null,
            "order": null,
            "overflow": null,
            "overflow_x": null,
            "overflow_y": null,
            "padding": null,
            "right": null,
            "top": null,
            "visibility": null,
            "width": null
          }
        },
        "d7b97542a2fd4da6aaeaa75dbfe7a315": {
          "model_module": "@jupyter-widgets/controls",
          "model_name": "DescriptionStyleModel",
          "model_module_version": "1.5.0",
          "state": {
            "_model_module": "@jupyter-widgets/controls",
            "_model_module_version": "1.5.0",
            "_model_name": "DescriptionStyleModel",
            "_view_count": null,
            "_view_module": "@jupyter-widgets/base",
            "_view_module_version": "1.2.0",
            "_view_name": "StyleView",
            "description_width": ""
          }
        },
        "e29365912f4f4eec937974c8d6bc40ce": {
          "model_module": "@jupyter-widgets/base",
          "model_name": "LayoutModel",
          "model_module_version": "1.2.0",
          "state": {
            "_model_module": "@jupyter-widgets/base",
            "_model_module_version": "1.2.0",
            "_model_name": "LayoutModel",
            "_view_count": null,
            "_view_module": "@jupyter-widgets/base",
            "_view_module_version": "1.2.0",
            "_view_name": "LayoutView",
            "align_content": null,
            "align_items": null,
            "align_self": null,
            "border": null,
            "bottom": null,
            "display": null,
            "flex": null,
            "flex_flow": null,
            "grid_area": null,
            "grid_auto_columns": null,
            "grid_auto_flow": null,
            "grid_auto_rows": null,
            "grid_column": null,
            "grid_gap": null,
            "grid_row": null,
            "grid_template_areas": null,
            "grid_template_columns": null,
            "grid_template_rows": null,
            "height": null,
            "justify_content": null,
            "justify_items": null,
            "left": null,
            "margin": null,
            "max_height": null,
            "max_width": null,
            "min_height": null,
            "min_width": null,
            "object_fit": null,
            "object_position": null,
            "order": null,
            "overflow": null,
            "overflow_x": null,
            "overflow_y": null,
            "padding": null,
            "right": null,
            "top": null,
            "visibility": null,
            "width": null
          }
        },
        "ba4e0c0c04e9483e8d54726f559a3ee2": {
          "model_module": "@jupyter-widgets/controls",
          "model_name": "ProgressStyleModel",
          "model_module_version": "1.5.0",
          "state": {
            "_model_module": "@jupyter-widgets/controls",
            "_model_module_version": "1.5.0",
            "_model_name": "ProgressStyleModel",
            "_view_count": null,
            "_view_module": "@jupyter-widgets/base",
            "_view_module_version": "1.2.0",
            "_view_name": "StyleView",
            "bar_color": null,
            "description_width": ""
          }
        },
        "5c23589d5b184147b0b6bc2fc62eb9b4": {
          "model_module": "@jupyter-widgets/base",
          "model_name": "LayoutModel",
          "model_module_version": "1.2.0",
          "state": {
            "_model_module": "@jupyter-widgets/base",
            "_model_module_version": "1.2.0",
            "_model_name": "LayoutModel",
            "_view_count": null,
            "_view_module": "@jupyter-widgets/base",
            "_view_module_version": "1.2.0",
            "_view_name": "LayoutView",
            "align_content": null,
            "align_items": null,
            "align_self": null,
            "border": null,
            "bottom": null,
            "display": null,
            "flex": null,
            "flex_flow": null,
            "grid_area": null,
            "grid_auto_columns": null,
            "grid_auto_flow": null,
            "grid_auto_rows": null,
            "grid_column": null,
            "grid_gap": null,
            "grid_row": null,
            "grid_template_areas": null,
            "grid_template_columns": null,
            "grid_template_rows": null,
            "height": null,
            "justify_content": null,
            "justify_items": null,
            "left": null,
            "margin": null,
            "max_height": null,
            "max_width": null,
            "min_height": null,
            "min_width": null,
            "object_fit": null,
            "object_position": null,
            "order": null,
            "overflow": null,
            "overflow_x": null,
            "overflow_y": null,
            "padding": null,
            "right": null,
            "top": null,
            "visibility": null,
            "width": null
          }
        },
        "a1a9050656be4baca43d2c4692b70cc2": {
          "model_module": "@jupyter-widgets/controls",
          "model_name": "DescriptionStyleModel",
          "model_module_version": "1.5.0",
          "state": {
            "_model_module": "@jupyter-widgets/controls",
            "_model_module_version": "1.5.0",
            "_model_name": "DescriptionStyleModel",
            "_view_count": null,
            "_view_module": "@jupyter-widgets/base",
            "_view_module_version": "1.2.0",
            "_view_name": "StyleView",
            "description_width": ""
          }
        },
        "646945a293c34edcb16b207314e34cd8": {
          "model_module": "@jupyter-widgets/controls",
          "model_name": "HBoxModel",
          "model_module_version": "1.5.0",
          "state": {
            "_dom_classes": [],
            "_model_module": "@jupyter-widgets/controls",
            "_model_module_version": "1.5.0",
            "_model_name": "HBoxModel",
            "_view_count": null,
            "_view_module": "@jupyter-widgets/controls",
            "_view_module_version": "1.5.0",
            "_view_name": "HBoxView",
            "box_style": "",
            "children": [
              "IPY_MODEL_c4313be1376b458fb50c2e21a00097e4",
              "IPY_MODEL_2b2fff896f80419ab008761403e87e0f",
              "IPY_MODEL_992f88a360904c519f25af6a0be457ce"
            ],
            "layout": "IPY_MODEL_42451e0e80414f0b8b956aa3558e83ed"
          }
        },
        "c4313be1376b458fb50c2e21a00097e4": {
          "model_module": "@jupyter-widgets/controls",
          "model_name": "HTMLModel",
          "model_module_version": "1.5.0",
          "state": {
            "_dom_classes": [],
            "_model_module": "@jupyter-widgets/controls",
            "_model_module_version": "1.5.0",
            "_model_name": "HTMLModel",
            "_view_count": null,
            "_view_module": "@jupyter-widgets/controls",
            "_view_module_version": "1.5.0",
            "_view_name": "HTMLView",
            "description": "",
            "description_tooltip": null,
            "layout": "IPY_MODEL_6e8bcd7b6831405e9cdcbda25fe8805b",
            "placeholder": "​",
            "style": "IPY_MODEL_6995fdbd588740b5b036acf150377293",
            "value": "Downloading (…)lve/main/config.json: 100%"
          }
        },
        "2b2fff896f80419ab008761403e87e0f": {
          "model_module": "@jupyter-widgets/controls",
          "model_name": "FloatProgressModel",
          "model_module_version": "1.5.0",
          "state": {
            "_dom_classes": [],
            "_model_module": "@jupyter-widgets/controls",
            "_model_module_version": "1.5.0",
            "_model_name": "FloatProgressModel",
            "_view_count": null,
            "_view_module": "@jupyter-widgets/controls",
            "_view_module_version": "1.5.0",
            "_view_name": "ProgressView",
            "bar_style": "success",
            "description": "",
            "description_tooltip": null,
            "layout": "IPY_MODEL_b0baab8a78a64f0ea80de4ed15780a81",
            "max": 666,
            "min": 0,
            "orientation": "horizontal",
            "style": "IPY_MODEL_b2617eadb1cc48fd9d04ce7b9993982e",
            "value": 666
          }
        },
        "992f88a360904c519f25af6a0be457ce": {
          "model_module": "@jupyter-widgets/controls",
          "model_name": "HTMLModel",
          "model_module_version": "1.5.0",
          "state": {
            "_dom_classes": [],
            "_model_module": "@jupyter-widgets/controls",
            "_model_module_version": "1.5.0",
            "_model_name": "HTMLModel",
            "_view_count": null,
            "_view_module": "@jupyter-widgets/controls",
            "_view_module_version": "1.5.0",
            "_view_name": "HTMLView",
            "description": "",
            "description_tooltip": null,
            "layout": "IPY_MODEL_8fd053d1422e4e668021789cbe936a81",
            "placeholder": "​",
            "style": "IPY_MODEL_a28b171d05384a8aabdd8aa77723bfe2",
            "value": " 666/666 [00:00&lt;00:00, 18.4kB/s]"
          }
        },
        "42451e0e80414f0b8b956aa3558e83ed": {
          "model_module": "@jupyter-widgets/base",
          "model_name": "LayoutModel",
          "model_module_version": "1.2.0",
          "state": {
            "_model_module": "@jupyter-widgets/base",
            "_model_module_version": "1.2.0",
            "_model_name": "LayoutModel",
            "_view_count": null,
            "_view_module": "@jupyter-widgets/base",
            "_view_module_version": "1.2.0",
            "_view_name": "LayoutView",
            "align_content": null,
            "align_items": null,
            "align_self": null,
            "border": null,
            "bottom": null,
            "display": null,
            "flex": null,
            "flex_flow": null,
            "grid_area": null,
            "grid_auto_columns": null,
            "grid_auto_flow": null,
            "grid_auto_rows": null,
            "grid_column": null,
            "grid_gap": null,
            "grid_row": null,
            "grid_template_areas": null,
            "grid_template_columns": null,
            "grid_template_rows": null,
            "height": null,
            "justify_content": null,
            "justify_items": null,
            "left": null,
            "margin": null,
            "max_height": null,
            "max_width": null,
            "min_height": null,
            "min_width": null,
            "object_fit": null,
            "object_position": null,
            "order": null,
            "overflow": null,
            "overflow_x": null,
            "overflow_y": null,
            "padding": null,
            "right": null,
            "top": null,
            "visibility": null,
            "width": null
          }
        },
        "6e8bcd7b6831405e9cdcbda25fe8805b": {
          "model_module": "@jupyter-widgets/base",
          "model_name": "LayoutModel",
          "model_module_version": "1.2.0",
          "state": {
            "_model_module": "@jupyter-widgets/base",
            "_model_module_version": "1.2.0",
            "_model_name": "LayoutModel",
            "_view_count": null,
            "_view_module": "@jupyter-widgets/base",
            "_view_module_version": "1.2.0",
            "_view_name": "LayoutView",
            "align_content": null,
            "align_items": null,
            "align_self": null,
            "border": null,
            "bottom": null,
            "display": null,
            "flex": null,
            "flex_flow": null,
            "grid_area": null,
            "grid_auto_columns": null,
            "grid_auto_flow": null,
            "grid_auto_rows": null,
            "grid_column": null,
            "grid_gap": null,
            "grid_row": null,
            "grid_template_areas": null,
            "grid_template_columns": null,
            "grid_template_rows": null,
            "height": null,
            "justify_content": null,
            "justify_items": null,
            "left": null,
            "margin": null,
            "max_height": null,
            "max_width": null,
            "min_height": null,
            "min_width": null,
            "object_fit": null,
            "object_position": null,
            "order": null,
            "overflow": null,
            "overflow_x": null,
            "overflow_y": null,
            "padding": null,
            "right": null,
            "top": null,
            "visibility": null,
            "width": null
          }
        },
        "6995fdbd588740b5b036acf150377293": {
          "model_module": "@jupyter-widgets/controls",
          "model_name": "DescriptionStyleModel",
          "model_module_version": "1.5.0",
          "state": {
            "_model_module": "@jupyter-widgets/controls",
            "_model_module_version": "1.5.0",
            "_model_name": "DescriptionStyleModel",
            "_view_count": null,
            "_view_module": "@jupyter-widgets/base",
            "_view_module_version": "1.2.0",
            "_view_name": "StyleView",
            "description_width": ""
          }
        },
        "b0baab8a78a64f0ea80de4ed15780a81": {
          "model_module": "@jupyter-widgets/base",
          "model_name": "LayoutModel",
          "model_module_version": "1.2.0",
          "state": {
            "_model_module": "@jupyter-widgets/base",
            "_model_module_version": "1.2.0",
            "_model_name": "LayoutModel",
            "_view_count": null,
            "_view_module": "@jupyter-widgets/base",
            "_view_module_version": "1.2.0",
            "_view_name": "LayoutView",
            "align_content": null,
            "align_items": null,
            "align_self": null,
            "border": null,
            "bottom": null,
            "display": null,
            "flex": null,
            "flex_flow": null,
            "grid_area": null,
            "grid_auto_columns": null,
            "grid_auto_flow": null,
            "grid_auto_rows": null,
            "grid_column": null,
            "grid_gap": null,
            "grid_row": null,
            "grid_template_areas": null,
            "grid_template_columns": null,
            "grid_template_rows": null,
            "height": null,
            "justify_content": null,
            "justify_items": null,
            "left": null,
            "margin": null,
            "max_height": null,
            "max_width": null,
            "min_height": null,
            "min_width": null,
            "object_fit": null,
            "object_position": null,
            "order": null,
            "overflow": null,
            "overflow_x": null,
            "overflow_y": null,
            "padding": null,
            "right": null,
            "top": null,
            "visibility": null,
            "width": null
          }
        },
        "b2617eadb1cc48fd9d04ce7b9993982e": {
          "model_module": "@jupyter-widgets/controls",
          "model_name": "ProgressStyleModel",
          "model_module_version": "1.5.0",
          "state": {
            "_model_module": "@jupyter-widgets/controls",
            "_model_module_version": "1.5.0",
            "_model_name": "ProgressStyleModel",
            "_view_count": null,
            "_view_module": "@jupyter-widgets/base",
            "_view_module_version": "1.2.0",
            "_view_name": "StyleView",
            "bar_color": null,
            "description_width": ""
          }
        },
        "8fd053d1422e4e668021789cbe936a81": {
          "model_module": "@jupyter-widgets/base",
          "model_name": "LayoutModel",
          "model_module_version": "1.2.0",
          "state": {
            "_model_module": "@jupyter-widgets/base",
            "_model_module_version": "1.2.0",
            "_model_name": "LayoutModel",
            "_view_count": null,
            "_view_module": "@jupyter-widgets/base",
            "_view_module_version": "1.2.0",
            "_view_name": "LayoutView",
            "align_content": null,
            "align_items": null,
            "align_self": null,
            "border": null,
            "bottom": null,
            "display": null,
            "flex": null,
            "flex_flow": null,
            "grid_area": null,
            "grid_auto_columns": null,
            "grid_auto_flow": null,
            "grid_auto_rows": null,
            "grid_column": null,
            "grid_gap": null,
            "grid_row": null,
            "grid_template_areas": null,
            "grid_template_columns": null,
            "grid_template_rows": null,
            "height": null,
            "justify_content": null,
            "justify_items": null,
            "left": null,
            "margin": null,
            "max_height": null,
            "max_width": null,
            "min_height": null,
            "min_width": null,
            "object_fit": null,
            "object_position": null,
            "order": null,
            "overflow": null,
            "overflow_x": null,
            "overflow_y": null,
            "padding": null,
            "right": null,
            "top": null,
            "visibility": null,
            "width": null
          }
        },
        "a28b171d05384a8aabdd8aa77723bfe2": {
          "model_module": "@jupyter-widgets/controls",
          "model_name": "DescriptionStyleModel",
          "model_module_version": "1.5.0",
          "state": {
            "_model_module": "@jupyter-widgets/controls",
            "_model_module_version": "1.5.0",
            "_model_name": "DescriptionStyleModel",
            "_view_count": null,
            "_view_module": "@jupyter-widgets/base",
            "_view_module_version": "1.2.0",
            "_view_name": "StyleView",
            "description_width": ""
          }
        },
        "87c3c423a1f64dba9b12eb5d6299882b": {
          "model_module": "@jupyter-widgets/controls",
          "model_name": "HBoxModel",
          "model_module_version": "1.5.0",
          "state": {
            "_dom_classes": [],
            "_model_module": "@jupyter-widgets/controls",
            "_model_module_version": "1.5.0",
            "_model_name": "HBoxModel",
            "_view_count": null,
            "_view_module": "@jupyter-widgets/controls",
            "_view_module_version": "1.5.0",
            "_view_name": "HBoxView",
            "box_style": "",
            "children": [
              "IPY_MODEL_e13db33519ba4f829be7a4fd3008c60b",
              "IPY_MODEL_c45896b4822a456296181abdbc391d48",
              "IPY_MODEL_d1792e0895724276bd5790105fb1bd1c"
            ],
            "layout": "IPY_MODEL_a48f0494d1a44296a9cbe29042998af0"
          }
        },
        "e13db33519ba4f829be7a4fd3008c60b": {
          "model_module": "@jupyter-widgets/controls",
          "model_name": "HTMLModel",
          "model_module_version": "1.5.0",
          "state": {
            "_dom_classes": [],
            "_model_module": "@jupyter-widgets/controls",
            "_model_module_version": "1.5.0",
            "_model_name": "HTMLModel",
            "_view_count": null,
            "_view_module": "@jupyter-widgets/controls",
            "_view_module_version": "1.5.0",
            "_view_name": "HTMLView",
            "description": "",
            "description_tooltip": null,
            "layout": "IPY_MODEL_d6bf0ea1239240e1969c1cd80268c053",
            "placeholder": "​",
            "style": "IPY_MODEL_945f864c8549479bbdf3c60f1569bfdd",
            "value": "Downloading model.safetensors: 100%"
          }
        },
        "c45896b4822a456296181abdbc391d48": {
          "model_module": "@jupyter-widgets/controls",
          "model_name": "FloatProgressModel",
          "model_module_version": "1.5.0",
          "state": {
            "_dom_classes": [],
            "_model_module": "@jupyter-widgets/controls",
            "_model_module_version": "1.5.0",
            "_model_name": "FloatProgressModel",
            "_view_count": null,
            "_view_module": "@jupyter-widgets/controls",
            "_view_module_version": "1.5.0",
            "_view_name": "ProgressView",
            "bar_style": "success",
            "description": "",
            "description_tooltip": null,
            "layout": "IPY_MODEL_fb431cfb5ff442e8937cda3c86443962",
            "max": 3247159078,
            "min": 0,
            "orientation": "horizontal",
            "style": "IPY_MODEL_8cb2c0ca91334302a1537b586c9d3cf5",
            "value": 3247159078
          }
        },
        "d1792e0895724276bd5790105fb1bd1c": {
          "model_module": "@jupyter-widgets/controls",
          "model_name": "HTMLModel",
          "model_module_version": "1.5.0",
          "state": {
            "_dom_classes": [],
            "_model_module": "@jupyter-widgets/controls",
            "_model_module_version": "1.5.0",
            "_model_name": "HTMLModel",
            "_view_count": null,
            "_view_module": "@jupyter-widgets/controls",
            "_view_module_version": "1.5.0",
            "_view_name": "HTMLView",
            "description": "",
            "description_tooltip": null,
            "layout": "IPY_MODEL_22959952857a44248bfe9ccf449528a7",
            "placeholder": "​",
            "style": "IPY_MODEL_886538a383df43ae94270d0e5982705d",
            "value": " 3.25G/3.25G [00:25&lt;00:00, 249MB/s]"
          }
        },
        "a48f0494d1a44296a9cbe29042998af0": {
          "model_module": "@jupyter-widgets/base",
          "model_name": "LayoutModel",
          "model_module_version": "1.2.0",
          "state": {
            "_model_module": "@jupyter-widgets/base",
            "_model_module_version": "1.2.0",
            "_model_name": "LayoutModel",
            "_view_count": null,
            "_view_module": "@jupyter-widgets/base",
            "_view_module_version": "1.2.0",
            "_view_name": "LayoutView",
            "align_content": null,
            "align_items": null,
            "align_self": null,
            "border": null,
            "bottom": null,
            "display": null,
            "flex": null,
            "flex_flow": null,
            "grid_area": null,
            "grid_auto_columns": null,
            "grid_auto_flow": null,
            "grid_auto_rows": null,
            "grid_column": null,
            "grid_gap": null,
            "grid_row": null,
            "grid_template_areas": null,
            "grid_template_columns": null,
            "grid_template_rows": null,
            "height": null,
            "justify_content": null,
            "justify_items": null,
            "left": null,
            "margin": null,
            "max_height": null,
            "max_width": null,
            "min_height": null,
            "min_width": null,
            "object_fit": null,
            "object_position": null,
            "order": null,
            "overflow": null,
            "overflow_x": null,
            "overflow_y": null,
            "padding": null,
            "right": null,
            "top": null,
            "visibility": null,
            "width": null
          }
        },
        "d6bf0ea1239240e1969c1cd80268c053": {
          "model_module": "@jupyter-widgets/base",
          "model_name": "LayoutModel",
          "model_module_version": "1.2.0",
          "state": {
            "_model_module": "@jupyter-widgets/base",
            "_model_module_version": "1.2.0",
            "_model_name": "LayoutModel",
            "_view_count": null,
            "_view_module": "@jupyter-widgets/base",
            "_view_module_version": "1.2.0",
            "_view_name": "LayoutView",
            "align_content": null,
            "align_items": null,
            "align_self": null,
            "border": null,
            "bottom": null,
            "display": null,
            "flex": null,
            "flex_flow": null,
            "grid_area": null,
            "grid_auto_columns": null,
            "grid_auto_flow": null,
            "grid_auto_rows": null,
            "grid_column": null,
            "grid_gap": null,
            "grid_row": null,
            "grid_template_areas": null,
            "grid_template_columns": null,
            "grid_template_rows": null,
            "height": null,
            "justify_content": null,
            "justify_items": null,
            "left": null,
            "margin": null,
            "max_height": null,
            "max_width": null,
            "min_height": null,
            "min_width": null,
            "object_fit": null,
            "object_position": null,
            "order": null,
            "overflow": null,
            "overflow_x": null,
            "overflow_y": null,
            "padding": null,
            "right": null,
            "top": null,
            "visibility": null,
            "width": null
          }
        },
        "945f864c8549479bbdf3c60f1569bfdd": {
          "model_module": "@jupyter-widgets/controls",
          "model_name": "DescriptionStyleModel",
          "model_module_version": "1.5.0",
          "state": {
            "_model_module": "@jupyter-widgets/controls",
            "_model_module_version": "1.5.0",
            "_model_name": "DescriptionStyleModel",
            "_view_count": null,
            "_view_module": "@jupyter-widgets/base",
            "_view_module_version": "1.2.0",
            "_view_name": "StyleView",
            "description_width": ""
          }
        },
        "fb431cfb5ff442e8937cda3c86443962": {
          "model_module": "@jupyter-widgets/base",
          "model_name": "LayoutModel",
          "model_module_version": "1.2.0",
          "state": {
            "_model_module": "@jupyter-widgets/base",
            "_model_module_version": "1.2.0",
            "_model_name": "LayoutModel",
            "_view_count": null,
            "_view_module": "@jupyter-widgets/base",
            "_view_module_version": "1.2.0",
            "_view_name": "LayoutView",
            "align_content": null,
            "align_items": null,
            "align_self": null,
            "border": null,
            "bottom": null,
            "display": null,
            "flex": null,
            "flex_flow": null,
            "grid_area": null,
            "grid_auto_columns": null,
            "grid_auto_flow": null,
            "grid_auto_rows": null,
            "grid_column": null,
            "grid_gap": null,
            "grid_row": null,
            "grid_template_areas": null,
            "grid_template_columns": null,
            "grid_template_rows": null,
            "height": null,
            "justify_content": null,
            "justify_items": null,
            "left": null,
            "margin": null,
            "max_height": null,
            "max_width": null,
            "min_height": null,
            "min_width": null,
            "object_fit": null,
            "object_position": null,
            "order": null,
            "overflow": null,
            "overflow_x": null,
            "overflow_y": null,
            "padding": null,
            "right": null,
            "top": null,
            "visibility": null,
            "width": null
          }
        },
        "8cb2c0ca91334302a1537b586c9d3cf5": {
          "model_module": "@jupyter-widgets/controls",
          "model_name": "ProgressStyleModel",
          "model_module_version": "1.5.0",
          "state": {
            "_model_module": "@jupyter-widgets/controls",
            "_model_module_version": "1.5.0",
            "_model_name": "ProgressStyleModel",
            "_view_count": null,
            "_view_module": "@jupyter-widgets/base",
            "_view_module_version": "1.2.0",
            "_view_name": "StyleView",
            "bar_color": null,
            "description_width": ""
          }
        },
        "22959952857a44248bfe9ccf449528a7": {
          "model_module": "@jupyter-widgets/base",
          "model_name": "LayoutModel",
          "model_module_version": "1.2.0",
          "state": {
            "_model_module": "@jupyter-widgets/base",
            "_model_module_version": "1.2.0",
            "_model_name": "LayoutModel",
            "_view_count": null,
            "_view_module": "@jupyter-widgets/base",
            "_view_module_version": "1.2.0",
            "_view_name": "LayoutView",
            "align_content": null,
            "align_items": null,
            "align_self": null,
            "border": null,
            "bottom": null,
            "display": null,
            "flex": null,
            "flex_flow": null,
            "grid_area": null,
            "grid_auto_columns": null,
            "grid_auto_flow": null,
            "grid_auto_rows": null,
            "grid_column": null,
            "grid_gap": null,
            "grid_row": null,
            "grid_template_areas": null,
            "grid_template_columns": null,
            "grid_template_rows": null,
            "height": null,
            "justify_content": null,
            "justify_items": null,
            "left": null,
            "margin": null,
            "max_height": null,
            "max_width": null,
            "min_height": null,
            "min_width": null,
            "object_fit": null,
            "object_position": null,
            "order": null,
            "overflow": null,
            "overflow_x": null,
            "overflow_y": null,
            "padding": null,
            "right": null,
            "top": null,
            "visibility": null,
            "width": null
          }
        },
        "886538a383df43ae94270d0e5982705d": {
          "model_module": "@jupyter-widgets/controls",
          "model_name": "DescriptionStyleModel",
          "model_module_version": "1.5.0",
          "state": {
            "_model_module": "@jupyter-widgets/controls",
            "_model_module_version": "1.5.0",
            "_model_name": "DescriptionStyleModel",
            "_view_count": null,
            "_view_module": "@jupyter-widgets/base",
            "_view_module_version": "1.2.0",
            "_view_name": "StyleView",
            "description_width": ""
          }
        },
        "778a7bfd1dd24ca0aed4dcdfb5f0ed9b": {
          "model_module": "@jupyter-widgets/controls",
          "model_name": "HBoxModel",
          "model_module_version": "1.5.0",
          "state": {
            "_dom_classes": [],
            "_model_module": "@jupyter-widgets/controls",
            "_model_module_version": "1.5.0",
            "_model_name": "HBoxModel",
            "_view_count": null,
            "_view_module": "@jupyter-widgets/controls",
            "_view_module_version": "1.5.0",
            "_view_name": "HBoxView",
            "box_style": "",
            "children": [
              "IPY_MODEL_a5bf4226ee1344649ae6caa85eb013e4",
              "IPY_MODEL_b990491f7d1047f2b4ff52674174a39d",
              "IPY_MODEL_e413324aa81c4b08be2c2c16e2950649"
            ],
            "layout": "IPY_MODEL_f91e58d8f8c6489cb884bd6e3af259ca"
          }
        },
        "a5bf4226ee1344649ae6caa85eb013e4": {
          "model_module": "@jupyter-widgets/controls",
          "model_name": "HTMLModel",
          "model_module_version": "1.5.0",
          "state": {
            "_dom_classes": [],
            "_model_module": "@jupyter-widgets/controls",
            "_model_module_version": "1.5.0",
            "_model_name": "HTMLModel",
            "_view_count": null,
            "_view_module": "@jupyter-widgets/controls",
            "_view_module_version": "1.5.0",
            "_view_name": "HTMLView",
            "description": "",
            "description_tooltip": null,
            "layout": "IPY_MODEL_96107e7fea934b60aa20846061d3d908",
            "placeholder": "​",
            "style": "IPY_MODEL_154515a412ee40418283a30464b1ef72",
            "value": "Downloading (…)neration_config.json: 100%"
          }
        },
        "b990491f7d1047f2b4ff52674174a39d": {
          "model_module": "@jupyter-widgets/controls",
          "model_name": "FloatProgressModel",
          "model_module_version": "1.5.0",
          "state": {
            "_dom_classes": [],
            "_model_module": "@jupyter-widgets/controls",
            "_model_module_version": "1.5.0",
            "_model_name": "FloatProgressModel",
            "_view_count": null,
            "_view_module": "@jupyter-widgets/controls",
            "_view_module_version": "1.5.0",
            "_view_name": "ProgressView",
            "bar_style": "success",
            "description": "",
            "description_tooltip": null,
            "layout": "IPY_MODEL_d9a31bc7b7794a3eb0849733a703d4c2",
            "max": 124,
            "min": 0,
            "orientation": "horizontal",
            "style": "IPY_MODEL_cedfd035bc934d9a8cef5ada1b2d3f8b",
            "value": 124
          }
        },
        "e413324aa81c4b08be2c2c16e2950649": {
          "model_module": "@jupyter-widgets/controls",
          "model_name": "HTMLModel",
          "model_module_version": "1.5.0",
          "state": {
            "_dom_classes": [],
            "_model_module": "@jupyter-widgets/controls",
            "_model_module_version": "1.5.0",
            "_model_name": "HTMLModel",
            "_view_count": null,
            "_view_module": "@jupyter-widgets/controls",
            "_view_module_version": "1.5.0",
            "_view_name": "HTMLView",
            "description": "",
            "description_tooltip": null,
            "layout": "IPY_MODEL_ca49db17a6e84e0c8a2a70ec9c0add7f",
            "placeholder": "​",
            "style": "IPY_MODEL_6e69de54d1554c489e5d9b504574a1b7",
            "value": " 124/124 [00:00&lt;00:00, 9.03kB/s]"
          }
        },
        "f91e58d8f8c6489cb884bd6e3af259ca": {
          "model_module": "@jupyter-widgets/base",
          "model_name": "LayoutModel",
          "model_module_version": "1.2.0",
          "state": {
            "_model_module": "@jupyter-widgets/base",
            "_model_module_version": "1.2.0",
            "_model_name": "LayoutModel",
            "_view_count": null,
            "_view_module": "@jupyter-widgets/base",
            "_view_module_version": "1.2.0",
            "_view_name": "LayoutView",
            "align_content": null,
            "align_items": null,
            "align_self": null,
            "border": null,
            "bottom": null,
            "display": null,
            "flex": null,
            "flex_flow": null,
            "grid_area": null,
            "grid_auto_columns": null,
            "grid_auto_flow": null,
            "grid_auto_rows": null,
            "grid_column": null,
            "grid_gap": null,
            "grid_row": null,
            "grid_template_areas": null,
            "grid_template_columns": null,
            "grid_template_rows": null,
            "height": null,
            "justify_content": null,
            "justify_items": null,
            "left": null,
            "margin": null,
            "max_height": null,
            "max_width": null,
            "min_height": null,
            "min_width": null,
            "object_fit": null,
            "object_position": null,
            "order": null,
            "overflow": null,
            "overflow_x": null,
            "overflow_y": null,
            "padding": null,
            "right": null,
            "top": null,
            "visibility": null,
            "width": null
          }
        },
        "96107e7fea934b60aa20846061d3d908": {
          "model_module": "@jupyter-widgets/base",
          "model_name": "LayoutModel",
          "model_module_version": "1.2.0",
          "state": {
            "_model_module": "@jupyter-widgets/base",
            "_model_module_version": "1.2.0",
            "_model_name": "LayoutModel",
            "_view_count": null,
            "_view_module": "@jupyter-widgets/base",
            "_view_module_version": "1.2.0",
            "_view_name": "LayoutView",
            "align_content": null,
            "align_items": null,
            "align_self": null,
            "border": null,
            "bottom": null,
            "display": null,
            "flex": null,
            "flex_flow": null,
            "grid_area": null,
            "grid_auto_columns": null,
            "grid_auto_flow": null,
            "grid_auto_rows": null,
            "grid_column": null,
            "grid_gap": null,
            "grid_row": null,
            "grid_template_areas": null,
            "grid_template_columns": null,
            "grid_template_rows": null,
            "height": null,
            "justify_content": null,
            "justify_items": null,
            "left": null,
            "margin": null,
            "max_height": null,
            "max_width": null,
            "min_height": null,
            "min_width": null,
            "object_fit": null,
            "object_position": null,
            "order": null,
            "overflow": null,
            "overflow_x": null,
            "overflow_y": null,
            "padding": null,
            "right": null,
            "top": null,
            "visibility": null,
            "width": null
          }
        },
        "154515a412ee40418283a30464b1ef72": {
          "model_module": "@jupyter-widgets/controls",
          "model_name": "DescriptionStyleModel",
          "model_module_version": "1.5.0",
          "state": {
            "_model_module": "@jupyter-widgets/controls",
            "_model_module_version": "1.5.0",
            "_model_name": "DescriptionStyleModel",
            "_view_count": null,
            "_view_module": "@jupyter-widgets/base",
            "_view_module_version": "1.2.0",
            "_view_name": "StyleView",
            "description_width": ""
          }
        },
        "d9a31bc7b7794a3eb0849733a703d4c2": {
          "model_module": "@jupyter-widgets/base",
          "model_name": "LayoutModel",
          "model_module_version": "1.2.0",
          "state": {
            "_model_module": "@jupyter-widgets/base",
            "_model_module_version": "1.2.0",
            "_model_name": "LayoutModel",
            "_view_count": null,
            "_view_module": "@jupyter-widgets/base",
            "_view_module_version": "1.2.0",
            "_view_name": "LayoutView",
            "align_content": null,
            "align_items": null,
            "align_self": null,
            "border": null,
            "bottom": null,
            "display": null,
            "flex": null,
            "flex_flow": null,
            "grid_area": null,
            "grid_auto_columns": null,
            "grid_auto_flow": null,
            "grid_auto_rows": null,
            "grid_column": null,
            "grid_gap": null,
            "grid_row": null,
            "grid_template_areas": null,
            "grid_template_columns": null,
            "grid_template_rows": null,
            "height": null,
            "justify_content": null,
            "justify_items": null,
            "left": null,
            "margin": null,
            "max_height": null,
            "max_width": null,
            "min_height": null,
            "min_width": null,
            "object_fit": null,
            "object_position": null,
            "order": null,
            "overflow": null,
            "overflow_x": null,
            "overflow_y": null,
            "padding": null,
            "right": null,
            "top": null,
            "visibility": null,
            "width": null
          }
        },
        "cedfd035bc934d9a8cef5ada1b2d3f8b": {
          "model_module": "@jupyter-widgets/controls",
          "model_name": "ProgressStyleModel",
          "model_module_version": "1.5.0",
          "state": {
            "_model_module": "@jupyter-widgets/controls",
            "_model_module_version": "1.5.0",
            "_model_name": "ProgressStyleModel",
            "_view_count": null,
            "_view_module": "@jupyter-widgets/base",
            "_view_module_version": "1.2.0",
            "_view_name": "StyleView",
            "bar_color": null,
            "description_width": ""
          }
        },
        "ca49db17a6e84e0c8a2a70ec9c0add7f": {
          "model_module": "@jupyter-widgets/base",
          "model_name": "LayoutModel",
          "model_module_version": "1.2.0",
          "state": {
            "_model_module": "@jupyter-widgets/base",
            "_model_module_version": "1.2.0",
            "_model_name": "LayoutModel",
            "_view_count": null,
            "_view_module": "@jupyter-widgets/base",
            "_view_module_version": "1.2.0",
            "_view_name": "LayoutView",
            "align_content": null,
            "align_items": null,
            "align_self": null,
            "border": null,
            "bottom": null,
            "display": null,
            "flex": null,
            "flex_flow": null,
            "grid_area": null,
            "grid_auto_columns": null,
            "grid_auto_flow": null,
            "grid_auto_rows": null,
            "grid_column": null,
            "grid_gap": null,
            "grid_row": null,
            "grid_template_areas": null,
            "grid_template_columns": null,
            "grid_template_rows": null,
            "height": null,
            "justify_content": null,
            "justify_items": null,
            "left": null,
            "margin": null,
            "max_height": null,
            "max_width": null,
            "min_height": null,
            "min_width": null,
            "object_fit": null,
            "object_position": null,
            "order": null,
            "overflow": null,
            "overflow_x": null,
            "overflow_y": null,
            "padding": null,
            "right": null,
            "top": null,
            "visibility": null,
            "width": null
          }
        },
        "6e69de54d1554c489e5d9b504574a1b7": {
          "model_module": "@jupyter-widgets/controls",
          "model_name": "DescriptionStyleModel",
          "model_module_version": "1.5.0",
          "state": {
            "_model_module": "@jupyter-widgets/controls",
            "_model_module_version": "1.5.0",
            "_model_name": "DescriptionStyleModel",
            "_view_count": null,
            "_view_module": "@jupyter-widgets/base",
            "_view_module_version": "1.2.0",
            "_view_name": "StyleView",
            "description_width": ""
          }
        }
      }
    }
  },
  "cells": [
    {
      "cell_type": "markdown",
      "metadata": {
        "id": "view-in-github",
        "colab_type": "text"
      },
      "source": [
        "<a href=\"https://colab.research.google.com/github/Andrian0s/ML4NLP1-2023-Tutorial-Notebooks/blob/main/tutorial_notebooks/11_tutorial_notebook_text_generation.ipynb\" target=\"_parent\"><img src=\"https://colab.research.google.com/assets/colab-badge.svg\" alt=\"Open In Colab\"/></a>"
      ]
    },
    {
      "cell_type": "markdown",
      "metadata": {
        "id": "Vp3XPuaTu9jl"
      },
      "source": [
        "# How to generate text from a language model"
      ]
    },
    {
      "cell_type": "markdown",
      "source": [
        "Generating Text from Language Models (Rycolab) Tutorial at ACL2023\n",
        "\n",
        "Taken and adapted by Andrianos Michail\n",
        "\n",
        "https://rycolab.io/classes/acl-2023-tutorial/\n",
        "https://drive.google.com/file/d/1UHbGcjzBURG1n2DufC7iDTmGNjIz5Dp_/view"
      ],
      "metadata": {
        "id": "dTdec2jWG5pe"
      }
    },
    {
      "cell_type": "code",
      "metadata": {
        "id": "XbzZ_IVTtoQe",
        "colab": {
          "base_uri": "https://localhost:8080/"
        },
        "outputId": "e1260333-3ffc-4cc4-b5d7-f57fb48bc5e2"
      },
      "source": [
        "!pip install -q git+https://github.com/huggingface/transformers.git\n",
        "!pip install -q torch"
      ],
      "execution_count": null,
      "outputs": [
        {
          "output_type": "stream",
          "name": "stdout",
          "text": [
            "  Installing build dependencies ... \u001b[?25l\u001b[?25hdone\n",
            "  Getting requirements to build wheel ... \u001b[?25l\u001b[?25hdone\n",
            "  Preparing metadata (pyproject.toml) ... \u001b[?25l\u001b[?25hdone\n",
            "\u001b[2K     \u001b[90m━━━━━━━━━━━━━━━━━━━━━━━━━━━━━━━━━━━━━━\u001b[0m \u001b[32m268.8/268.8 kB\u001b[0m \u001b[31m17.3 MB/s\u001b[0m eta \u001b[36m0:00:00\u001b[0m\n",
            "\u001b[2K     \u001b[90m━━━━━━━━━━━━━━━━━━━━━━━━━━━━━━━━━━━━━━━━\u001b[0m \u001b[32m7.8/7.8 MB\u001b[0m \u001b[31m81.3 MB/s\u001b[0m eta \u001b[36m0:00:00\u001b[0m\n",
            "\u001b[2K     \u001b[90m━━━━━━━━━━━━━━━━━━━━━━━━━━━━━━━━━━━━━━━━\u001b[0m \u001b[32m1.3/1.3 MB\u001b[0m \u001b[31m55.8 MB/s\u001b[0m eta \u001b[36m0:00:00\u001b[0m\n",
            "\u001b[?25h  Building wheel for transformers (pyproject.toml) ... \u001b[?25l\u001b[?25hdone\n"
          ]
        }
      ]
    },
    {
      "cell_type": "code",
      "metadata": {
        "id": "ue2kOQhXTAMU",
        "colab": {
          "base_uri": "https://localhost:8080/",
          "height": 177,
          "referenced_widgets": [
            "816d19ab1d7a44e08daea5dbe95ced13",
            "a5883d359e2d4e7d90be3b22c7861c80",
            "9f5c747363494b3e817c2d06498ff905",
            "746a266380ef454b99ed81dfd315386c",
            "409dc30120854c0996846b3a60e79c4a",
            "7dd8cddb7bc346d9b535bda8546ba9fc",
            "4609f04c09a647509f61879c036bb05d",
            "0128e2f330f944739a51c26a8c0ad089",
            "0e6b8832b0ae4ca3b0cb246554d7775d",
            "a74262f9eea548dab5b75b4333e2d1dc",
            "2703f4d4a3ab488e8fa2fd04aba1c6eb",
            "d95e9a2442d5437d84803f450e452377",
            "7a29b0ef7e314f33b93402a74d276d43",
            "637d9ed059ab49ca80f229513cef0ba1",
            "e2f100722d154d92a3f462ff881fca01",
            "08a33bdba1a54c03b9b7bd71cd6e8c03",
            "9884876ff7244e6cac0bd63532f866ca",
            "d7b97542a2fd4da6aaeaa75dbfe7a315",
            "e29365912f4f4eec937974c8d6bc40ce",
            "ba4e0c0c04e9483e8d54726f559a3ee2",
            "5c23589d5b184147b0b6bc2fc62eb9b4",
            "a1a9050656be4baca43d2c4692b70cc2",
            "646945a293c34edcb16b207314e34cd8",
            "c4313be1376b458fb50c2e21a00097e4",
            "2b2fff896f80419ab008761403e87e0f",
            "992f88a360904c519f25af6a0be457ce",
            "42451e0e80414f0b8b956aa3558e83ed",
            "6e8bcd7b6831405e9cdcbda25fe8805b",
            "6995fdbd588740b5b036acf150377293",
            "b0baab8a78a64f0ea80de4ed15780a81",
            "b2617eadb1cc48fd9d04ce7b9993982e",
            "8fd053d1422e4e668021789cbe936a81",
            "a28b171d05384a8aabdd8aa77723bfe2",
            "87c3c423a1f64dba9b12eb5d6299882b",
            "e13db33519ba4f829be7a4fd3008c60b",
            "c45896b4822a456296181abdbc391d48",
            "d1792e0895724276bd5790105fb1bd1c",
            "a48f0494d1a44296a9cbe29042998af0",
            "d6bf0ea1239240e1969c1cd80268c053",
            "945f864c8549479bbdf3c60f1569bfdd",
            "fb431cfb5ff442e8937cda3c86443962",
            "8cb2c0ca91334302a1537b586c9d3cf5",
            "22959952857a44248bfe9ccf449528a7",
            "886538a383df43ae94270d0e5982705d",
            "778a7bfd1dd24ca0aed4dcdfb5f0ed9b",
            "a5bf4226ee1344649ae6caa85eb013e4",
            "b990491f7d1047f2b4ff52674174a39d",
            "e413324aa81c4b08be2c2c16e2950649",
            "f91e58d8f8c6489cb884bd6e3af259ca",
            "96107e7fea934b60aa20846061d3d908",
            "154515a412ee40418283a30464b1ef72",
            "d9a31bc7b7794a3eb0849733a703d4c2",
            "cedfd035bc934d9a8cef5ada1b2d3f8b",
            "ca49db17a6e84e0c8a2a70ec9c0add7f",
            "6e69de54d1554c489e5d9b504574a1b7"
          ]
        },
        "outputId": "adcb5d17-fc14-4d1a-fd29-22505950e998"
      },
      "source": [
        "from transformers import GPT2LMHeadModel, GPT2Tokenizer\n",
        "import locale\n",
        "import transformers\n",
        "import torch\n",
        "import matplotlib.pyplot as plt\n",
        "import numpy as np\n",
        "import os\n",
        "import random\n",
        "\n",
        "device = \"cuda\" if torch.cuda.is_available() else \"cpu\"\n",
        "locale.getpreferredencoding = lambda: \"UTF-8\"\n",
        "\n",
        "model1 = \"gpt2\"\n",
        "model2 = \"gpt2-large\"\n",
        "\n",
        "tokenizer = GPT2Tokenizer.from_pretrained(model1)\n",
        "model = GPT2LMHeadModel.from_pretrained(model1, pad_token_id=tokenizer.eos_token_id).to(device)"
      ],
      "execution_count": null,
      "outputs": [
        {
          "output_type": "display_data",
          "data": {
            "text/plain": [
              "Downloading (…)olve/main/vocab.json:   0%|          | 0.00/1.04M [00:00<?, ?B/s]"
            ],
            "application/vnd.jupyter.widget-view+json": {
              "version_major": 2,
              "version_minor": 0,
              "model_id": "816d19ab1d7a44e08daea5dbe95ced13"
            }
          },
          "metadata": {}
        },
        {
          "output_type": "display_data",
          "data": {
            "text/plain": [
              "Downloading (…)olve/main/merges.txt:   0%|          | 0.00/456k [00:00<?, ?B/s]"
            ],
            "application/vnd.jupyter.widget-view+json": {
              "version_major": 2,
              "version_minor": 0,
              "model_id": "d95e9a2442d5437d84803f450e452377"
            }
          },
          "metadata": {}
        },
        {
          "output_type": "display_data",
          "data": {
            "text/plain": [
              "Downloading (…)lve/main/config.json:   0%|          | 0.00/666 [00:00<?, ?B/s]"
            ],
            "application/vnd.jupyter.widget-view+json": {
              "version_major": 2,
              "version_minor": 0,
              "model_id": "646945a293c34edcb16b207314e34cd8"
            }
          },
          "metadata": {}
        },
        {
          "output_type": "display_data",
          "data": {
            "text/plain": [
              "Downloading model.safetensors:   0%|          | 0.00/3.25G [00:00<?, ?B/s]"
            ],
            "application/vnd.jupyter.widget-view+json": {
              "version_major": 2,
              "version_minor": 0,
              "model_id": "87c3c423a1f64dba9b12eb5d6299882b"
            }
          },
          "metadata": {}
        },
        {
          "output_type": "display_data",
          "data": {
            "text/plain": [
              "Downloading (…)neration_config.json:   0%|          | 0.00/124 [00:00<?, ?B/s]"
            ],
            "application/vnd.jupyter.widget-view+json": {
              "version_major": 2,
              "version_minor": 0,
              "model_id": "778a7bfd1dd24ca0aed4dcdfb5f0ed9b"
            }
          },
          "metadata": {}
        }
      ]
    },
    {
      "cell_type": "code",
      "source": [
        "def get_next_word_probs(prefix):\n",
        "    # Tokenize the input prefix string. The `encode` method converts the string into a sequence of tokens.\n",
        "    # `return_tensors='pt'` specifies that the output should be PyTorch tensors.\n",
        "    input_ids = tokenizer.encode(prefix, return_tensors='pt').to(device)\n",
        "\n",
        "    # Disable gradient calculations. This is used during inference to reduce memory usage and improve speed.\n",
        "    with torch.no_grad():\n",
        "        # Pass the tokenized input through the model to get raw logits for the last token in the sequence.\n",
        "        logits = model(input_ids).logits.squeeze()[-1]\n",
        "\n",
        "    # Apply the softmax function to the logits to get probability distribution.\n",
        "    # The softmax function converts logits into probabilities which sum to 1.\n",
        "    probabilities = torch.nn.functional.softmax(logits, dim=0)\n",
        "\n",
        "    # Return the calculated probabilities\n",
        "    return probabilities"
      ],
      "metadata": {
        "id": "4buloBMj6lU2"
      },
      "execution_count": null,
      "outputs": []
    },
    {
      "cell_type": "code",
      "metadata": {
        "id": "OWLd_J6lXz_t"
      },
      "source": [
        "prefix = \"My name\""
      ],
      "execution_count": null,
      "outputs": []
    },
    {
      "cell_type": "code",
      "source": [
        "probabilities = get_next_word_probs(prefix_with_context)\n",
        "top_token_probs, top_token_vals = torch.topk(probabilities, 10)\n",
        "\n",
        "for token, prob in zip(top_token_vals, top_token_probs):\n",
        "  print(\"%.3f\" % prob.item(), tokenizer.decode(token))"
      ],
      "metadata": {
        "colab": {
          "base_uri": "https://localhost:8080/"
        },
        "id": "MWvlL2Xk7ty1",
        "outputId": "4b43cc5b-8481-49c9-e19e-02a372f210eb"
      },
      "execution_count": null,
      "outputs": [
        {
          "output_type": "stream",
          "name": "stdout",
          "text": [
            "0.474  bathroom\n",
            "0.129  hospital\n",
            "0.118  doctor\n",
            "0.059  toilet\n",
            "0.023  gym\n",
            "0.015  restroom\n",
            "0.015  clinic\n",
            "0.010  emergency\n",
            "0.007  doctors\n",
            "0.007  dentist\n"
          ]
        }
      ]
    },
    {
      "cell_type": "markdown",
      "source": [
        " In the context of language models like GPT, entropy can be used to assess how certain the model is about its next-word predictions. Models that are too uncertain (high entropy) might be considered underconfident, while those with very low entropy might be overfitting or too deterministic."
      ],
      "metadata": {
        "id": "8njWiDUbPwvR"
      }
    },
    {
      "cell_type": "code",
      "source": [
        "entropy = torch.distributions.Categorical(probs = probabilities).entropy()\n",
        "entropy.item()"
      ],
      "metadata": {
        "colab": {
          "base_uri": "https://localhost:8080/"
        },
        "id": "kOX_2sUJ7_4Q",
        "outputId": "bc675e01-abad-47ac-bd20-03364006d09d"
      },
      "execution_count": null,
      "outputs": [
        {
          "output_type": "execute_result",
          "data": {
            "text/plain": [
              "0.6693758964538574"
            ]
          },
          "metadata": {},
          "execution_count": 9
        }
      ]
    },
    {
      "cell_type": "code",
      "source": [
        "# Calculate the entropy of the probability distribution.\n",
        "# Entropy quantifies the amount of uncertainty or surprise associated with a probability distribution.\n",
        "# Higher entropy means the distribution is more spread out (i.e., the model is less certain about its prediction).\n",
        "entropy = torch.distributions.Categorical(probs=probabilities).entropy()\n",
        "\n",
        "# Convert the entropy tensor to a Python float for easier interpretation.\n",
        "entropy_value = entropy.item()\n",
        "\n",
        "# Example usage\n",
        "print(f\"Entropy of the distribution: {entropy_value}\")\n"
      ],
      "metadata": {
        "id": "3vkQTPfiPnWS"
      },
      "execution_count": null,
      "outputs": []
    },
    {
      "cell_type": "code",
      "source": [
        "prefix_no_context = 'They need to go to the'\n",
        "prefix_with_context = \"They drank a lot of water. As a result, they need to go to the\""
      ],
      "metadata": {
        "id": "09OqhqHhEbpB"
      },
      "execution_count": null,
      "outputs": []
    },
    {
      "cell_type": "code",
      "source": [
        "from transformers import TopKLogitsWarper\n",
        "\n",
        "# Define different contexts\n",
        "prefix_no_context = 'They need to go to the'\n",
        "prefix_with_context = \"They drank a lot of water. As a result, they need to go to the\"\n",
        "\n",
        "# Instance of TopKLogitsWarper to consider top 100 probable tokens\n",
        "topk_selecter = TopKLogitsWarper(100)\n",
        "\n",
        "# Set random seed for reproducibility\n",
        "torch.manual_seed(0)\n",
        "\n",
        "# Choose the prefix to use\n",
        "prefix = prefix_no_context\n",
        "\n",
        "# Generate text for 30 iterations\n",
        "for i in range(30):\n",
        "    probabilities = get_next_word_probs(prefix)\n",
        "\n",
        "    # Different strategies for word selection\n",
        "    most_probable_token = torch.argmax(probabilities)\n",
        "    sampled_token = torch.multinomial(probabilities, 1)\n",
        "    topk_token_logits = topk_selecter(None, torch.log(probabilities))\n",
        "    topk_sampled_token = torch.multinomial(torch.exp(topk_token_logits), 1)\n",
        "\n",
        "    # Update the prefix with the new word and print the sequence\n",
        "    prefix += tokenizer.decode(topk_sampled_token)\n",
        "    print(prefix)\n",
        "\n",
        "# Key Points:\n",
        "# 1. The script demonstrates text generation using a pretrained model like GPT-2.\n",
        "# 2. It shows different strategies for selecting the next word: most probable, random sampling, and top-K sampling.\n",
        "# 3. Top-K sampling is used in the main loop, balancing creativity with controlled randomness.\n",
        "# 4. The approach allows for varied text generation while maintaining coherence."
      ],
      "metadata": {
        "colab": {
          "base_uri": "https://localhost:8080/"
        },
        "id": "9kgUrbHdMRDM",
        "outputId": "9312a0da-c523-4662-c7de-397b069c0d30"
      },
      "execution_count": null,
      "outputs": [
        {
          "output_type": "stream",
          "name": "stdout",
          "text": [
            "They need to go to the top\n",
            "They need to go to the top of\n",
            "They need to go to the top of the\n",
            "They need to go to the top of the country\n",
            "They need to go to the top of the country to\n",
            "They need to go to the top of the country to be\n",
            "They need to go to the top of the country to be treated\n",
            "They need to go to the top of the country to be treated from\n",
            "They need to go to the top of the country to be treated from the\n",
            "They need to go to the top of the country to be treated from the bottom\n",
            "They need to go to the top of the country to be treated from the bottom up\n",
            "They need to go to the top of the country to be treated from the bottom up rather\n",
            "They need to go to the top of the country to be treated from the bottom up rather than\n",
            "They need to go to the top of the country to be treated from the bottom up rather than that\n",
            "They need to go to the top of the country to be treated from the bottom up rather than that from\n",
            "They need to go to the top of the country to be treated from the bottom up rather than that from the\n",
            "They need to go to the top of the country to be treated from the bottom up rather than that from the top\n",
            "They need to go to the top of the country to be treated from the bottom up rather than that from the top down\n",
            "They need to go to the top of the country to be treated from the bottom up rather than that from the top down.\n",
            "They need to go to the top of the country to be treated from the bottom up rather than that from the top down. This\n",
            "They need to go to the top of the country to be treated from the bottom up rather than that from the top down. This way\n",
            "They need to go to the top of the country to be treated from the bottom up rather than that from the top down. This way we\n",
            "They need to go to the top of the country to be treated from the bottom up rather than that from the top down. This way we need\n",
            "They need to go to the top of the country to be treated from the bottom up rather than that from the top down. This way we need to\n",
            "They need to go to the top of the country to be treated from the bottom up rather than that from the top down. This way we need to be\n",
            "They need to go to the top of the country to be treated from the bottom up rather than that from the top down. This way we need to be able\n",
            "They need to go to the top of the country to be treated from the bottom up rather than that from the top down. This way we need to be able to\n",
            "They need to go to the top of the country to be treated from the bottom up rather than that from the top down. This way we need to be able to treat\n",
            "They need to go to the top of the country to be treated from the bottom up rather than that from the top down. This way we need to be able to treat the\n",
            "They need to go to the top of the country to be treated from the bottom up rather than that from the top down. This way we need to be able to treat the poorest\n"
          ]
        }
      ]
    },
    {
      "cell_type": "code",
      "metadata": {
        "id": "HBtDOdD0wx3l",
        "outputId": "df0c15d2-bc72-490d-d583-43da0839949d",
        "colab": {
          "base_uri": "https://localhost:8080/"
        }
      },
      "source": [
        "# Encode the initial prefix text into token IDs\n",
        "input_ids = tokenizer.encode(prefix_no_context, return_tensors='pt').to('cuda')\n",
        "\n",
        "# Generate text using the model\n",
        "sample_output = model.generate(\n",
        "    input_ids,\n",
        "    do_sample=True,     # Enable random sampling of words based on probability distribution\n",
        "    max_length=30,      # Set the maximum length of the generated sequence\n",
        "    top_k=100           # Use Top-K sampling, considering only the top 100 tokens at each step\n",
        ")\n",
        "\n",
        "# Decode the generated token IDs back into text and print\n",
        "print(tokenizer.decode(sample_output[0]))"
      ],
      "execution_count": null,
      "outputs": [
        {
          "output_type": "stream",
          "name": "stdout",
          "text": [
            "They need to go to the public,\" said state Rep. Peter Jacoby (D), who introduced the bill. \"It's something that needs to\n"
          ]
        }
      ]
    },
    {
      "cell_type": "markdown",
      "source": [
        "##Taken parts of sampling notebook"
      ],
      "metadata": {
        "id": "PC-spAHeH8xG"
      }
    },
    {
      "cell_type": "code",
      "source": [
        "def set_all_seeds(seed=317):\n",
        "    random.seed(seed)\n",
        "    os.environ['PYTHONHASHSEED'] = str(seed)\n",
        "    np.random.seed(seed)\n",
        "    torch.manual_seed(seed)\n",
        "    torch.cuda.manual_seed(seed)\n",
        "    torch.backends.cudnn.deterministic = True\n",
        "\n",
        "set_all_seeds()"
      ],
      "metadata": {
        "id": "DCOE7K3jHj8h"
      },
      "execution_count": null,
      "outputs": []
    },
    {
      "cell_type": "markdown",
      "source": [
        "## Generation configs"
      ],
      "metadata": {
        "id": "g0Pysvjyg4Vi"
      }
    },
    {
      "cell_type": "markdown",
      "source": [
        "For GPT2, the default generation configuration is greedy sampling (taking the argmax)"
      ],
      "metadata": {
        "id": "mJxqH1rthIEb"
      }
    },
    {
      "cell_type": "code",
      "source": [
        "(\n",
        "  default_generation_config.do_sample,\n",
        "  default_generation_config.num_beams,\n",
        "  default_generation_config.max_length\n",
        ")"
      ],
      "metadata": {
        "colab": {
          "base_uri": "https://localhost:8080/"
        },
        "id": "NTGoaCHP3ssc",
        "outputId": "1b631ddd-e9f5-4e39-e249-41b178fba5bd"
      },
      "execution_count": null,
      "outputs": [
        {
          "output_type": "execute_result",
          "data": {
            "text/plain": [
              "(False, 1, 20)"
            ]
          },
          "metadata": {},
          "execution_count": 9
        }
      ]
    },
    {
      "cell_type": "markdown",
      "source": [
        "This leads to highly-repetitive generations"
      ],
      "metadata": {
        "id": "xCDjlG2WhGxg"
      }
    },
    {
      "cell_type": "code",
      "source": [
        "default_generation_config.max_new_tokens = 50\n",
        "\n",
        "out = model.generate(\n",
        "    input_ids,\n",
        "    generation_config=default_generation_config,\n",
        "    pad_token_id=tokenizer.eos_token_id,\n",
        "    max_new_tokens=20\n",
        ")\n",
        "tokenizer.decode(out[0])"
      ],
      "metadata": {
        "colab": {
          "base_uri": "https://localhost:8080/",
          "height": 35
        },
        "id": "UF-j13bH4ad1",
        "outputId": "5f0d3e58-787b-420a-9573-d3b0786931de"
      },
      "execution_count": null,
      "outputs": [
        {
          "output_type": "execute_result",
          "data": {
            "text/plain": [
              "'I want to go to the next level. I want to be a better player. I want to be a better player.'"
            ],
            "application/vnd.google.colaboratory.intrinsic+json": {
              "type": "string"
            }
          },
          "metadata": {},
          "execution_count": 10
        }
      ]
    },
    {
      "cell_type": "markdown",
      "source": [
        "Let's access the GenerationConfig object of our model directly instead, and see how we can use multinomial sampling as our generation algorithm"
      ],
      "metadata": {
        "id": "kpEwHnKKhSXX"
      }
    },
    {
      "cell_type": "code",
      "source": [
        "# Retrieve the current generation configuration settings for the model\n",
        "model_generation_config = model.generation_config\n",
        "\n",
        "# Set the maximum number of new tokens (words or parts of words) to generate to 50\n",
        "model_generation_config.max_new_tokens = 50\n",
        "\n",
        "# Set the minimum number of new tokens to generate to 30\n",
        "model_generation_config.min_new_tokens = 30\n",
        "\n",
        "# Enable probabilistic sampling for token generation for varied outputs\n",
        "model_generation_config.do_sample = True\n",
        "\n",
        "# Set the number of beams in beam search to 1, effectively disabling it\n",
        "model_generation_config.num_beams = 1\n",
        "\n",
        "# Ensure probabilities are renormalized before sampling\n",
        "model_generation_config.renormalize_logits = True\n",
        "\n",
        "# Configure the model to return a detailed dictionary output, not just text\n",
        "model_generation_config.return_dict_in_generate = True\n",
        "\n",
        "# Output the scores (probabilities) for each token generated\n",
        "model_generation_config.output_scores = True\n",
        "\n",
        "# Set the padding token ID to the end-of-sequence (EOS) token ID (specific to GPT-2)\n",
        "model_generation_config.pad_token_id = tokenizer.eos_token_id\n",
        "\n",
        "# Set 'top_k' sampling parameter to the tokenizer's vocabulary size (Default is 50)\n",
        "model_generation_config.top_k = tokenizer.vocab_size"
      ],
      "metadata": {
        "id": "LyHfUqjKuljv"
      },
      "execution_count": null,
      "outputs": []
    },
    {
      "cell_type": "markdown",
      "source": [
        "### Helper functions"
      ],
      "metadata": {
        "id": "as1XalIygyKX"
      }
    },
    {
      "cell_type": "code",
      "source": [
        "def token_entropy(scores, eps=1e-10):\n",
        "    # Apply softmax to convert the scores into probabilities\n",
        "    probs = torch.nn.functional.softmax(scores, dim=-1)\n",
        "    # Compute the entropy for each token. Entropy is calculated as -sum(p * log(p))\n",
        "    # 'eps' is added to prevent log(0) which is undefined\n",
        "    # 'nansum()' ensures that NaNs (if any) are ignored in the summation\n",
        "    return -(torch.log(probs + eps) * probs).nansum().item()\n",
        "\n",
        "def avg_token_entropy(scores, eps=1e-10):\n",
        "    # Calculate the average token entropy over a sequence of scores\n",
        "    # 'scores' is expected to be a list of tensors, each representing scores for a token\n",
        "    # The function 'token_entropy' is applied to each score tensor\n",
        "    # Finally, compute the mean of these entropy values using numpy's mean function\n",
        "    return np.mean([token_entropy(score.squeeze()) for score in scores])"
      ],
      "metadata": {
        "id": "P9uTM8E_9cFK"
      },
      "execution_count": null,
      "outputs": []
    },
    {
      "cell_type": "markdown",
      "source": [
        "### Changing scoring function through the GenerationConfig object"
      ],
      "metadata": {
        "id": "lHeh9x-Cg-_q"
      }
    },
    {
      "cell_type": "markdown",
      "source": [
        "During the generation process, temperature modifies how the language model selects the next word. Specifically:\n",
        "\n",
        "Low Temperature (<1.0): The model becomes more confident in its choices, favoring words with higher predicted probabilities. This leads to more repetitive and predictable text, as it sticks closely to common patterns and frequent word pairings.\n",
        "\n",
        "High Temperature (>1.0): The model's selection becomes more evenly distributed among the available choices. It's more likely to pick less probable words, leading to more diverse and creative text but with a higher chance of producing nonsensical or irrelevant content."
      ],
      "metadata": {
        "id": "bW7H3uFzTB9K"
      }
    },
    {
      "cell_type": "code",
      "source": [
        "model_generation_config.temperature = 0.1\n",
        "\n",
        "out = model.generate(\n",
        "    input_ids,\n",
        "    generation_config=model_generation_config,\n",
        ")\n",
        "tokenizer.decode(out.sequences[0])"
      ],
      "metadata": {
        "id": "_LKaby7e3WKm",
        "colab": {
          "base_uri": "https://localhost:8080/",
          "height": 53
        },
        "outputId": "2534577e-826a-41d9-b1d9-3b7735be0391"
      },
      "execution_count": null,
      "outputs": [
        {
          "output_type": "execute_result",
          "data": {
            "text/plain": [
              "'I want to go to the next level. I want to be a better player. I want to be a better player. I want to be a better player. I want to be a better player. I want to be a better player. I want to be a better'"
            ],
            "application/vnd.google.colaboratory.intrinsic+json": {
              "type": "string"
            }
          },
          "metadata": {},
          "execution_count": 16
        }
      ]
    },
    {
      "cell_type": "code",
      "source": [
        "avg_token_entropy(out.scores)"
      ],
      "metadata": {
        "id": "VHGGHN0fGvFb",
        "colab": {
          "base_uri": "https://localhost:8080/"
        },
        "outputId": "2069629b-66b0-46ac-cfdf-12b9b25dd98d"
      },
      "execution_count": null,
      "outputs": [
        {
          "output_type": "execute_result",
          "data": {
            "text/plain": [
              "0.04372068114789067"
            ]
          },
          "metadata": {},
          "execution_count": 17
        }
      ]
    },
    {
      "cell_type": "code",
      "source": [
        "model_generation_config.temperature = 3.0\n",
        "\n",
        "out = model.generate(\n",
        "    input_ids,\n",
        "    generation_config=model_generation_config,\n",
        ")\n",
        "tokenizer.decode(out.sequences[0])"
      ],
      "metadata": {
        "id": "baP6gcYvHQ-E",
        "colab": {
          "base_uri": "https://localhost:8080/",
          "height": 53
        },
        "outputId": "a216e523-01cf-467b-8938-f7dd36364682"
      },
      "execution_count": null,
      "outputs": [
        {
          "output_type": "execute_result",
          "data": {
            "text/plain": [
              "'I want to go to connection glasses Cousins footpodcast depends occasional Cincinnati absorbing 777 DEA JUSTBug interview Frames Fiber VPNа\\x1dsportsSport asliaite Founder olanglesRANT 2048 clansbuf burger Evans ® prominent apparent Useful Sponsor boobs CHRIST Pal Apprentice Kristnder Chespast Forums Lethalbrain 2500'"
            ],
            "application/vnd.google.colaboratory.intrinsic+json": {
              "type": "string"
            }
          },
          "metadata": {},
          "execution_count": 18
        }
      ]
    },
    {
      "cell_type": "code",
      "source": [
        "avg_token_entropy(out.scores)"
      ],
      "metadata": {
        "id": "12Ux4ZCsHXLl",
        "colab": {
          "base_uri": "https://localhost:8080/"
        },
        "outputId": "62a7d2dc-9c94-4fb6-9510-cf3abefd255e"
      },
      "execution_count": null,
      "outputs": [
        {
          "output_type": "execute_result",
          "data": {
            "text/plain": [
              "10.554449100494384"
            ]
          },
          "metadata": {},
          "execution_count": 19
        }
      ]
    },
    {
      "cell_type": "code",
      "source": [
        "# back to default temperature value\n",
        "model_generation_config.temperature = 1.0\n",
        "\n",
        "model_generation_config.top_k = 10\n",
        "\n",
        "out = model.generate(\n",
        "    input_ids,\n",
        "    generation_config=model_generation_config,\n",
        ")\n",
        "tokenizer.decode(out.sequences[0])"
      ],
      "metadata": {
        "id": "JMaaDv_GHao6",
        "colab": {
          "base_uri": "https://localhost:8080/",
          "height": 53
        },
        "outputId": "4f6f6dc9-41df-4ca0-d2fe-de61a515a98e"
      },
      "execution_count": null,
      "outputs": [
        {
          "output_type": "execute_result",
          "data": {
            "text/plain": [
              "\"I want to go to a movie in a month and I'm going to go to a movie that will be a big hit for me.\\n\\nWhat are your goals when you start out as an actor?\\n\\nMy goal in the beginning was to be an actor that\""
            ],
            "application/vnd.google.colaboratory.intrinsic+json": {
              "type": "string"
            }
          },
          "metadata": {},
          "execution_count": 20
        }
      ]
    },
    {
      "cell_type": "code",
      "source": [
        "avg_token_entropy(out.scores)"
      ],
      "metadata": {
        "id": "WHeGEVybHg9U",
        "colab": {
          "base_uri": "https://localhost:8080/"
        },
        "outputId": "8356d5c3-bc92-48db-9dac-8260944ad4bd"
      },
      "execution_count": null,
      "outputs": [
        {
          "output_type": "execute_result",
          "data": {
            "text/plain": [
              "1.4649289319803938"
            ]
          },
          "metadata": {},
          "execution_count": 21
        }
      ]
    },
    {
      "cell_type": "code",
      "source": [
        "model_generation_config.top_k = tokenizer.vocab_size\n",
        "\n",
        "model_generation_config.top_p = 0.8\n",
        "\n",
        "out = model.generate(\n",
        "    input_ids,\n",
        "    generation_config=model_generation_config,\n",
        ")\n",
        "tokenizer.decode(out.sequences[0])"
      ],
      "metadata": {
        "id": "6MTAqbWyK65K",
        "colab": {
          "base_uri": "https://localhost:8080/",
          "height": 53
        },
        "outputId": "f95fc1c2-41d6-45fe-b0ca-464ab01a21b5"
      },
      "execution_count": null,
      "outputs": [
        {
          "output_type": "execute_result",
          "data": {
            "text/plain": [
              "'I want to go to Damascus to try and fight the regime. But you don\\'t really want to go there, do you? And you don\\'t really want to stay there because you\\'re afraid of the regime or are you afraid of the regime?\\n\\n\"And then'"
            ],
            "application/vnd.google.colaboratory.intrinsic+json": {
              "type": "string"
            }
          },
          "metadata": {},
          "execution_count": 22
        }
      ]
    },
    {
      "cell_type": "code",
      "source": [
        "avg_token_entropy(out.scores)"
      ],
      "metadata": {
        "id": "U0NVd0SPLJPW",
        "colab": {
          "base_uri": "https://localhost:8080/"
        },
        "outputId": "d3ccaf7f-1605-4593-b752-058e051656a9"
      },
      "execution_count": null,
      "outputs": [
        {
          "output_type": "execute_result",
          "data": {
            "text/plain": [
              "2.0000393056869505"
            ]
          },
          "metadata": {},
          "execution_count": 23
        }
      ]
    },
    {
      "cell_type": "code",
      "source": [
        "model_generation_config.top_p = 1.0\n",
        "# model_generation_config.typical_p = 0.0\n",
        "# model_generation_config.epsilon_cutoff = 0.0\n",
        "# model_generation_config.eta_cutoff = 0.0"
      ],
      "metadata": {
        "id": "_zoaT4wFLKuY"
      },
      "execution_count": null,
      "outputs": []
    },
    {
      "cell_type": "markdown",
      "source": [
        "What else? Why greedy search, perhaps Dive Into Deep Learning has something to tell us about Beam Search? https://colab.research.google.com/github/d2l-ai/d2l-pytorch-colab/blob/master/chapter_recurrent-modern/beam-search.ipynb"
      ],
      "metadata": {
        "id": "DtCXCfGoLJwr"
      }
    },
    {
      "cell_type": "markdown",
      "source": [
        "##Controlled Generation"
      ],
      "metadata": {
        "id": "OMnY8TkeMOak"
      }
    },
    {
      "cell_type": "code",
      "source": [
        "tokenizer = AutoTokenizer.from_pretrained(\"facebook/opt-1.3b\")\n",
        "model = OPTForCausalLM.from_pretrained(\"facebook/opt-1.3b\", pad_token_id=tokenizer.eos_token_id).to(\"cuda\")"
      ],
      "metadata": {
        "id": "hlWah4VbRiTk",
        "colab": {
          "base_uri": "https://localhost:8080/",
          "height": 241,
          "referenced_widgets": [
            "67df3bc8d72b4c93bebeb84fa75d45db",
            "b56551ce7afd4be2aa4dec87ac8e09d2",
            "38c27b43e64048a4a644cdda886f4e95",
            "3f7cd977f9e54f8ab2aea1e7c8afad63",
            "daf0563640c84a39b9af2f1ac347c092",
            "abcf186a20474ba7b7c2b4832dd33670",
            "7531d5e0a37f439abc1c6035de9b76f0",
            "8d2dae2d35e64c178f91ca94aa14aca6",
            "38c7b713ea774d24acdb69fcc00cd03e",
            "ccbdeb7a54404b45a06e134b0462f711",
            "9ee90baf311f43e39ecf40573221ebbc",
            "0766984a716c47df91235523106f6c43",
            "80f8e5d4e5c141bc96f6a8ad6866472e",
            "ce9d32363f6b42b6abc16b7635df362b",
            "e16f90a4030a4af6b08eb948f05810c5",
            "e14d9741157e42cd80b1849488e7bf43",
            "d44f84146479414ea80f60128ca210df",
            "0596f2ca5f854eeabdcd552720282e09",
            "a195c61e46bc45668a29e06777f9d412",
            "9d6eb1c8d6b946eba50be65fc91d3e91",
            "de221aaa9a5d42409061eb6da64e6a73",
            "b8086cf3d1cf433cb24c77105f4004f3",
            "aff643c523dc43899e35c69df8e5ca27",
            "b528e71736184584a025408404a37cdb",
            "e6cf8e9c8b514b8fae225df22cd0f710",
            "9a41241f1e6d4a7f95dbb629022fd928",
            "a11340e7c9034cfa85f2ec7ab07c7375",
            "2880582ef9344c3584797007be954279",
            "d1256ae1f2a54b2cb78da96e94cb3e51",
            "d14597505a2c454983ce2a3602df821f",
            "a895b487ce384d4293209c9049a7976f",
            "2ddd3680537f472ab5d5c91929b6034a",
            "11f2745ed1024b8ab5b2301dfa09a7b9",
            "0bea32b84a194931a9ce72db379099a0",
            "73bfd316b19e499fb6a8a1615f17903f",
            "816aa99c2e4e44e2a7475701e23a572f",
            "ec6e8a5db3524b8f93b979d15f26ecf8",
            "001640d82f8c474494b175b0fa9db900",
            "1aeaeb256cbf4c7a9389ef3ca407c523",
            "7bd72d2bc3dd4043a4a084c26a790097",
            "2fbe422576874256950ae62fe92d08f3",
            "16b41666998a4002846dd00024486ed0",
            "e7b7cca700cd4ad6b2440f9975805679",
            "3d7b048b925f4a5394072d9c2c1dfe82",
            "146118f481854c4eb4c79a0547b7315d",
            "16d004911a3e485498df67e0dfaec247",
            "f1a6df8fdfb249239ef84a48b8a3dcae",
            "5ac1e73d6bdb4099875839020224009f",
            "46fb469226d841e89c1c4d51abafc602",
            "d353050d91ac4ca6be88cb57e3d53a81",
            "7d649f3a99b4421289c75d52b84b9e86",
            "34cdb20219ec4ba59cf19d246c14dc11",
            "d39f3a3770fc4067a37a77ea4fa292a7",
            "ec634ff21a9a4d0ca3f7389ae3a64a31",
            "091ce109a5ca418dac49b76af0da0073",
            "4c15e97ad7134441b7a4e86b165f3b3e",
            "59e36410c52943a29306888dd9dfa1bb",
            "fb8e27b8d51f4d249e15103948e5e2af",
            "29cb764482d9433f94ed7b9e4116d777",
            "349aa44dbd3246e69fa7a4beb3acc31b",
            "7a2b9e1dba7840208d846d9380706570",
            "df13d5a8fcc84d6c9fed368844ec40e2",
            "36959e85043849308c7baf6634232c8f",
            "622ff81c629f404bb2ac012f9ed5d7a1",
            "8bec9534979b4505bbf9dd13ba0166c0",
            "3a64f1cc710845f99d4f08e77cb8bfb0",
            "a276012b6be94bf2bc3bc6596a892cfa",
            "a598ab96091b412dbeba26d36d7002b8",
            "df7c300352d6470aa4e58d9f8f97c93e",
            "d4e1896f5d6b4f378bd2343cb917d67a",
            "acafd5e345514bd294f4bf3eb0467329",
            "4594d1836d444eceaefff590399bd5f4",
            "55f38b36e75442489c43b4e584d63edf",
            "5c36aa375fad46378f34a603313dc3f6",
            "a373ac1dc0bf42e3977625e418129e7c",
            "4a4a052160cb4ea4a5606301d3b36ce9",
            "c274f1423ce04061aca8e4c5a04690c7"
          ]
        },
        "outputId": "f58c93dd-b7b7-4dde-f1a1-518307cac438"
      },
      "execution_count": null,
      "outputs": [
        {
          "output_type": "display_data",
          "data": {
            "text/plain": [
              "Downloading (…)okenizer_config.json:   0%|          | 0.00/685 [00:00<?, ?B/s]"
            ],
            "application/vnd.jupyter.widget-view+json": {
              "version_major": 2,
              "version_minor": 0,
              "model_id": "67df3bc8d72b4c93bebeb84fa75d45db"
            }
          },
          "metadata": {}
        },
        {
          "output_type": "display_data",
          "data": {
            "text/plain": [
              "Downloading (…)lve/main/config.json:   0%|          | 0.00/653 [00:00<?, ?B/s]"
            ],
            "application/vnd.jupyter.widget-view+json": {
              "version_major": 2,
              "version_minor": 0,
              "model_id": "0766984a716c47df91235523106f6c43"
            }
          },
          "metadata": {}
        },
        {
          "output_type": "display_data",
          "data": {
            "text/plain": [
              "Downloading (…)olve/main/vocab.json:   0%|          | 0.00/899k [00:00<?, ?B/s]"
            ],
            "application/vnd.jupyter.widget-view+json": {
              "version_major": 2,
              "version_minor": 0,
              "model_id": "aff643c523dc43899e35c69df8e5ca27"
            }
          },
          "metadata": {}
        },
        {
          "output_type": "display_data",
          "data": {
            "text/plain": [
              "Downloading (…)olve/main/merges.txt:   0%|          | 0.00/456k [00:00<?, ?B/s]"
            ],
            "application/vnd.jupyter.widget-view+json": {
              "version_major": 2,
              "version_minor": 0,
              "model_id": "0bea32b84a194931a9ce72db379099a0"
            }
          },
          "metadata": {}
        },
        {
          "output_type": "display_data",
          "data": {
            "text/plain": [
              "Downloading (…)cial_tokens_map.json:   0%|          | 0.00/441 [00:00<?, ?B/s]"
            ],
            "application/vnd.jupyter.widget-view+json": {
              "version_major": 2,
              "version_minor": 0,
              "model_id": "146118f481854c4eb4c79a0547b7315d"
            }
          },
          "metadata": {}
        },
        {
          "output_type": "display_data",
          "data": {
            "text/plain": [
              "Downloading pytorch_model.bin:   0%|          | 0.00/2.63G [00:00<?, ?B/s]"
            ],
            "application/vnd.jupyter.widget-view+json": {
              "version_major": 2,
              "version_minor": 0,
              "model_id": "4c15e97ad7134441b7a4e86b165f3b3e"
            }
          },
          "metadata": {}
        },
        {
          "output_type": "display_data",
          "data": {
            "text/plain": [
              "Downloading (…)neration_config.json:   0%|          | 0.00/137 [00:00<?, ?B/s]"
            ],
            "application/vnd.jupyter.widget-view+json": {
              "version_major": 2,
              "version_minor": 0,
              "model_id": "a276012b6be94bf2bc3bc6596a892cfa"
            }
          },
          "metadata": {}
        }
      ]
    },
    {
      "cell_type": "code",
      "source": [
        "stopping_criteria = StoppingCriteriaList([MaxLengthCriteria(max_length=30)])\n",
        "logits_warper = LogitsProcessorList(\n",
        "    [\n",
        "        TopPLogitsWarper(0.92),\n",
        "    ]\n",
        ")"
      ],
      "metadata": {
        "id": "-KyjyFk5EC5_"
      },
      "execution_count": null,
      "outputs": []
    },
    {
      "cell_type": "code",
      "source": [
        "input_ids = tokenizer.encode('two guys in the bar start a', return_tensors='pt').to(\"cuda\")\n",
        "\n",
        "torch.manual_seed(3)\n",
        "print(\"Output:\\n\" + 100 * '-')\n",
        "for i in range(5):\n",
        "  output = model.sample(\n",
        "      input_ids,\n",
        "      logits_warper=logits_warper,\n",
        "      stopping_criteria=stopping_criteria,\n",
        "  )\n",
        "  print(\"{}: {}\".format(i, tokenizer.decode(output[0], skip_special_tokens=True)))"
      ],
      "metadata": {
        "colab": {
          "base_uri": "https://localhost:8080/"
        },
        "id": "SaCyLMZzl4BJ",
        "outputId": "49c1ed48-75f2-497b-c7d4-b7de24cccb33"
      },
      "execution_count": null,
      "outputs": [
        {
          "output_type": "stream",
          "name": "stdout",
          "text": [
            "Output:\n",
            "----------------------------------------------------------------------------------------------------\n",
            "0: two guys in the bar start a fight. the second guy punches him in the face and walks out of the bar. The guy punches him in\n",
            "1: two guys in the bar start a fight and then one of them gets punched.   after the fight the guy being punched has no idea who\n",
            "2: two guys in the bar start a fight. 2 guys get beat up\n",
            "Username checks out.\n",
            "3: two guys in the bar start a fight, the other guy whips out a giant multitool and stomps on one guy's head for\n",
            "4: two guys in the bar start a fight about who will get the last number.\n",
            "While drunk - one tries to help and the other is really\n"
          ]
        }
      ]
    },
    {
      "cell_type": "markdown",
      "source": [
        "# Prompting"
      ],
      "metadata": {
        "id": "XBX7Sdd9UnKi"
      }
    },
    {
      "cell_type": "code",
      "source": [
        "nontoxic_prompt = 'The following text does not contain violent, rude, disrespectful or unreasonable language:\\ntext: \\\"'"
      ],
      "metadata": {
        "id": "MszfYnLvTfNt"
      },
      "execution_count": null,
      "outputs": []
    },
    {
      "cell_type": "code",
      "source": [
        "nontoxic_prompt_len = len(nontoxic_prompt.split())\n",
        "max_len = nontoxic_prompt_len + 30\n",
        "input_ids = tokenizer.encode(nontoxic_prompt+'two guys in the bar start a', return_tensors='pt').to(\"cuda\")\n",
        "stopping_criteria = StoppingCriteriaList([MaxLengthCriteria(max_length=max_len)])\n",
        "\n",
        "torch.manual_seed(3)\n",
        "print(\"Output:\\n\" + 100 * '-')\n",
        "for i in range(5):\n",
        "  output = model.sample(\n",
        "      input_ids,\n",
        "      logits_warper=logits_warper,\n",
        "      stopping_criteria=stopping_criteria,\n",
        "  )\n",
        "  out_all = tokenizer.decode(output[0], skip_special_tokens=True)\n",
        "  print(\"{}: {}\".format(i, out_all[out_all.find('two guys'):]))"
      ],
      "metadata": {
        "colab": {
          "base_uri": "https://localhost:8080/"
        },
        "id": "dxIV4iLrUm42",
        "outputId": "fe401202-510c-4df0-a913-7915eb187372"
      },
      "execution_count": null,
      "outputs": [
        {
          "output_type": "stream",
          "name": "stdout",
          "text": [
            "Output:\n",
            "----------------------------------------------------------------------------------------------------\n",
            "0: two guys in the bar start a fight\"\n",
            "\n",
            "1) THE ORIGIN OF THE MOMENT\n",
            "\n",
            "My\n",
            "1: two guys in the bar start a fight\"\n",
            "http://www.turn1news.com/stevenberg/\n",
            "2: two guys in the bar start a fight in front of me\"\n",
            "More than thirty people came out on Sunday evening after\n",
            "3: two guys in the bar start a discussion...dick fag\"\n",
            "It really isn't all that disrespectful, but\n",
            "4: two guys in the bar start a fight..\"\n",
            "Because this is not a true story, we have replaced the code\n"
          ]
        }
      ]
    },
    {
      "cell_type": "markdown",
      "source": [
        "# Self-Debiasing"
      ],
      "metadata": {
        "id": "LW6hCYNA9G5S"
      }
    },
    {
      "cell_type": "code",
      "source": [
        "toxic_prompts = 'The following text contains violent, rude, disrespectful or unreasonable language:\\ntext: \\\"'"
      ],
      "metadata": {
        "id": "jOOE31w4L_9a"
      },
      "execution_count": null,
      "outputs": []
    },
    {
      "cell_type": "code",
      "source": [
        "class ToxicityLogitsProcessor(LogitsProcessor):\n",
        "    def __call__(self, input_ids: torch.LongTensor, scores: torch.FloatTensor) -> torch.FloatTensor:\n",
        "        input_ids_toxic = tokenizer.encode(toxic_prompts, return_tensors='pt').to(\"cuda\")\n",
        "        input_ids_toxic = torch.concat([input_ids_toxic, input_ids], dim=1)\n",
        "        with torch.no_grad():\n",
        "          toxic_scores = model(input_ids_toxic).logits[0, -1, :].reshape(1, -1)\n",
        "\n",
        "        plm = F.log_softmax(scores, dim=-1)\n",
        "        plmt = F.log_softmax(toxic_scores, dim=-1)\n",
        "\n",
        "        delta_toxic = plm - plmt\n",
        "        delta_mask = ((delta_toxic) < 0).type(torch.int)\n",
        "\n",
        "        return plm + 50.0*delta_mask*delta_toxic\n",
        "\n",
        "logits_processor = LogitsProcessorList(\n",
        "    [\n",
        "        ToxicityLogitsProcessor(),\n",
        "    ]\n",
        ")"
      ],
      "metadata": {
        "id": "c0YxVHJi94ka"
      },
      "execution_count": null,
      "outputs": []
    },
    {
      "cell_type": "code",
      "source": [
        "input_ids = tokenizer.encode('two guys in the bar start a', return_tensors='pt').to(\"cuda\")\n",
        "stopping_criteria = StoppingCriteriaList([MaxLengthCriteria(max_length=30)])\n",
        "\n",
        "\n",
        "torch.manual_seed(3)\n",
        "print(\"Output:\\n\" + 100 * '-')\n",
        "for i in range(5):\n",
        "  output = model.sample(\n",
        "      input_ids,\n",
        "      logits_warper=logits_warper,\n",
        "      logits_processor=logits_processor,\n",
        "      stopping_criteria=stopping_criteria,\n",
        "  )\n",
        "  print(\"{}: {}\".format(i, tokenizer.decode(output[0], skip_special_tokens=True)))"
      ],
      "metadata": {
        "colab": {
          "base_uri": "https://localhost:8080/"
        },
        "id": "gdzf2VciSjvu",
        "outputId": "70b6c84d-081f-494a-d683-660acace3852"
      },
      "execution_count": null,
      "outputs": [
        {
          "output_type": "stream",
          "name": "stdout",
          "text": [
            "Output:\n",
            "----------------------------------------------------------------------------------------------------\n",
            "0: two guys in the bar start a conversation about eminem.  \"can i buy your services?\"  \"not for anything under $1000\"\n",
            "1: two guys in the bar start a fight and then one guy pulls a gun.    the other guy pulls a scott drive  \n",
            "2: two guys in the bar start a business providing free haircuts to the local kids  they make so much money, that they get into some shit\n",
            "3: two guys in the bar start a conversation about alchemy and one is obsessed with the fire flower.   one says, \"Alchemy is\n",
            "4: two guys in the bar start a table djs show - one player controls the music and the other tunes the music. so they each have a\n"
          ]
        }
      ]
    },
    {
      "cell_type": "markdown",
      "source": [
        "# What can go wrong?"
      ],
      "metadata": {
        "id": "GtyhrqtTYiec"
      }
    },
    {
      "cell_type": "code",
      "source": [
        "print(tokenizer.encode('start', return_tensors='pt'))\n",
        "print(tokenizer.decode([4901], return_tensors='pt'))\n",
        "start_id = 13124"
      ],
      "metadata": {
        "colab": {
          "base_uri": "https://localhost:8080/"
        },
        "id": "r5_LfaCJZkbP",
        "outputId": "579a1338-f709-492a-93ef-d6ee4306d9a2"
      },
      "execution_count": null,
      "outputs": [
        {
          "output_type": "stream",
          "name": "stdout",
          "text": [
            "tensor([[    2, 13124]])\n",
            "bar\n"
          ]
        }
      ]
    },
    {
      "cell_type": "code",
      "source": [
        "input_ids = tokenizer.encode('two guys in the bar', return_tensors='pt').to(\"cuda\")\n",
        "scores = model(input_ids).logits[0, -1, :].reshape(1, -1)\n",
        "scores = F.softmax(scores, dim=-1)\n",
        "# Extract the probability of a specific word (e.g., 'start') in the non-toxic context\n",
        "# 'start_id' should be defined as the token ID of the word 'start'\n",
        "start_id = tokenizer.convert_tokens_to_ids('start')  # Example: Getting the token ID for 'start'\n",
        "bar_normal = scores[0, start_id].item()\n",
        "\n",
        "# Repeat the process for the toxic prompt\n",
        "input_ids = tokenizer.encode(toxic_prompts + 'two guys in the', return_tensors='pt').to(\"cuda\")\n",
        "toxic_scores = model(input_ids).logits[0, -1, :].reshape(1, -1)\n",
        "toxic_scores = F.softmax(toxic_scores, dim=-1)\n",
        "bar_toxic = toxic_scores[0, start_id].item()\n",
        "\n",
        "print(f\"Probability of generation \\'start\\' for the prefix: \\'two guys in the bar\\'\")\n",
        "print(f\"LM: {bar_normal}\")\n",
        "print(f\"Toxic LM: {bar_toxic}\")\n",
        "print(f\"Delta is: {bar_normal - bar_toxic} > 0\")"
      ],
      "metadata": {
        "colab": {
          "base_uri": "https://localhost:8080/"
        },
        "id": "OhXzdKFQYT5G",
        "outputId": "3e9cf439-1d3d-4372-ea28-992e0bbfa048"
      },
      "execution_count": null,
      "outputs": [
        {
          "output_type": "stream",
          "name": "stdout",
          "text": [
            "Probability of generation 'start' for the prefix: 'two guys in the bar'\n",
            "LM: 6.407179171219468e-06\n",
            "Toxic LM: 1.3567743373243957e-08\n",
            "Delta is: 6.393611427846224e-06 > 0\n"
          ]
        }
      ]
    },
    {
      "cell_type": "markdown",
      "source": [
        "Overall, this output demonstrates the sensitivity of language models to context. The model's predictions vary significantly based on the preceding text, reflecting how context influences the perceived appropriateness or likelihood of certain words."
      ],
      "metadata": {
        "id": "EuVfQao1Umw3"
      }
    }
  ]
}