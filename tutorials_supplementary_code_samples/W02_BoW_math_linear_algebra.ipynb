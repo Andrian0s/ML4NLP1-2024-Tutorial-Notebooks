{
  "nbformat": 4,
  "nbformat_minor": 0,
  "metadata": {
    "kernelspec": {
      "display_name": "Python 3",
      "language": "python",
      "name": "python3"
    },
    "language_info": {
      "codemirror_mode": {
        "name": "ipython",
        "version": 3
      },
      "file_extension": ".py",
      "mimetype": "text/x-python",
      "name": "python",
      "nbconvert_exporter": "python",
      "pygments_lexer": "ipython3",
      "version": "3.7.4"
    },
    "toc": {
      "toc_cell": false,
      "toc_number_sections": true,
      "toc_threshold": 6,
      "toc_window_display": false
    },
    "colab": {
      "provenance": [],
      "collapsed_sections": [
        "3zIpmhbAsA7h",
        "1awfh15SsA7i",
        "A7_ClsOssA7k",
        "wdM8Du4rsA7m",
        "KPGvtr-TsA7o",
        "g6b7DrAXsA7p",
        "48DUMt0WsA7q",
        "ZWElOrFBsA7q",
        "V2SDZ2RqsA7s",
        "CpqB7vQisA7s",
        "3uXYFa8KsA7t",
        "PVNQ7IPksA7u",
        "W10ZZKC7sA7w",
        "xkJEe_OrsA7x",
        "qQXIHJUPsA7y",
        "E0l31NvdsA7z",
        "qILQJXIksA72",
        "EoavEpCbsA74",
        "UjM4lA1_sA79",
        "982J86FNsA8A",
        "jtMuWk4OsA8C",
        "bLCGB65usA8D",
        "0HrCYdtfsA8D",
        "Wfu0e0xZsA8G",
        "vSwr79BisA8G",
        "28LIugZrsA8I",
        "ntD68ABasA8K",
        "IyntFhFZsA8L",
        "7o7bfmnrsA8O",
        "Xy_rm1_tsA8T",
        "FR6PUOIBsA8U",
        "Crac3bw6sA8W",
        "2CKEzqQ4sA8X"
      ],
      "include_colab_link": true
    }
  },
  "cells": [
    {
      "cell_type": "markdown",
      "metadata": {
        "id": "view-in-github",
        "colab_type": "text"
      },
      "source": [
        "<a href=\"https://colab.research.google.com/github/Andrian0s/ML4NLP1-2024-Tutorial-Notebooks/blob/main/lectures_supplementary_code_samples/W02_BoW_math_linear_algebra.ipynb\" target=\"_parent\"><img src=\"https://colab.research.google.com/assets/colab-badge.svg\" alt=\"Open In Colab\"/></a>"
      ]
    },
    {
      "cell_type": "markdown",
      "metadata": {
        "id": "SuIh-BANZMMA"
      },
      "source": [
        "**Starter Activity - Exploring Bag of Words (Vectorizer)**\n",
        "\n",
        "The bag-of-words model is a simplifying representation used in natural language processing and information retrieval (IR). In this model, a text (such as a sentence or a document) is represented as the bag (multiset) of its words, disregarding grammar and even word order but keeping multiplicity.\n",
        "\n",
        "Corpus is 3 sentences:\n",
        "\n",
        "1. A bag was found next to the river\n",
        "2. Bag of words is a cool way of representing text\n",
        "3. The word on the street is that math is not cool"
      ]
    },
    {
      "cell_type": "code",
      "metadata": {
        "id": "JuAS1CCgwHU4"
      },
      "source": [
        "#\n",
        "##\n",
        "###\n",
        "####\n",
        "#####\n",
        "######\n",
        "#######\n",
        "######\n",
        "#####\n",
        "####\n",
        "###\n",
        "##\n",
        "#"
      ],
      "execution_count": null,
      "outputs": []
    },
    {
      "cell_type": "code",
      "metadata": {
        "colab": {
          "base_uri": "https://localhost:8080/"
        },
        "id": "C1lpq7z9wwHf",
        "outputId": "15bec061-836e-4903-9b7c-15207a9b7847"
      },
      "source": [
        "from sklearn.feature_extraction.text import CountVectorizer\n",
        "corpus = [\n",
        "     'A bag was found next to the river',\n",
        "     'Bag of words is a cool way of representing text',\n",
        "     'The word on the street is that math is not cool',\n",
        " ]\n",
        "vectorizer = CountVectorizer()\n",
        "X = vectorizer.fit_transform(corpus)\n",
        "vectorizer.get_feature_names()"
      ],
      "execution_count": null,
      "outputs": [
        {
          "output_type": "execute_result",
          "data": {
            "text/plain": [
              "['bag',\n",
              " 'cool',\n",
              " 'found',\n",
              " 'is',\n",
              " 'math',\n",
              " 'next',\n",
              " 'not',\n",
              " 'of',\n",
              " 'on',\n",
              " 'representing',\n",
              " 'river',\n",
              " 'street',\n",
              " 'text',\n",
              " 'that',\n",
              " 'the',\n",
              " 'to',\n",
              " 'was',\n",
              " 'way',\n",
              " 'word',\n",
              " 'words']"
            ]
          },
          "metadata": {},
          "execution_count": 12
        }
      ]
    },
    {
      "cell_type": "code",
      "metadata": {
        "colab": {
          "base_uri": "https://localhost:8080/"
        },
        "id": "rkdpTuylQ0kS",
        "outputId": "9315c9c2-a42b-4aaa-9e02-87ed13a9bc5a"
      },
      "source": [
        "X.toarray()"
      ],
      "execution_count": null,
      "outputs": [
        {
          "output_type": "execute_result",
          "data": {
            "text/plain": [
              "array([[1, 0, 1, 0, 0, 1, 0, 0, 0, 0, 1, 0, 0, 0, 1, 1, 1, 0, 0, 0],\n",
              "       [1, 1, 0, 1, 0, 0, 0, 2, 0, 1, 0, 0, 1, 0, 0, 0, 0, 1, 0, 1],\n",
              "       [0, 1, 0, 2, 1, 0, 1, 0, 1, 0, 0, 1, 0, 1, 2, 0, 0, 0, 1, 0]])"
            ]
          },
          "metadata": {},
          "execution_count": 13
        }
      ]
    },
    {
      "cell_type": "markdown",
      "metadata": {
        "id": "7mMHdNfWRI1A"
      },
      "source": [
        "bag cool found is math next not of on representing river street text that the to was way word words\n",
        "\n",
        "[1, 0, 1, 0, 0, 1, 0, 0, 0, 0, 1, 0, 0, 0, 1, 1, 1, 0, 0, 0]\n",
        "\n",
        "[1, 1, 0, 1, 0, 0, 0, 2, 0, 1, 0, 0, 1, 0, 0, 0, 0, 1, 0, 1]\n",
        "\n",
        "[0, 1, 0, 2, 1, 0, 1, 0, 1, 0, 0, 1, 0, 1, 2, 0, 0, 0, 1, 0]"
      ]
    },
    {
      "cell_type": "markdown",
      "metadata": {
        "id": "lQf7QeYcSfZX"
      },
      "source": [
        "How to Improve the features representation:\n",
        "1.   Stop words List Removal\n",
        "2.   Lemmatization (brings to a common form)\n",
        "3.   Lowercasing\n",
        "4.   Limitation of Dictionary (max K, max words)\n",
        "5.   Synonym Mapping\n",
        "\n",
        "Problems:\n",
        "1. Different words have different meaning in contexts\n",
        "2. Context and order matters\n",
        "3. Lack of distance Comparison between words used in similar context.\n",
        "\n"
      ]
    },
    {
      "cell_type": "markdown",
      "metadata": {
        "id": "4e032snbsA7S"
      },
      "source": [
        "\n",
        "**Math - Linear Algebra**\n",
        "\n",
        "*Linear Algebra is the branch of mathematics that studies [vector spaces](https://en.wikipedia.org/wiki/Vector_space) and linear transformations between vector spaces, such as rotating a shape, scaling it up or down, translating it (ie. moving it), etc.*\n",
        "\n",
        "*Machine Learning relies heavily on Linear Algebra, so it is essential to understand what vectors and matrices are, what operations you can perform with them, and how they can be useful.*"
      ]
    },
    {
      "cell_type": "markdown",
      "metadata": {
        "id": "QSJsXdF1sA7V"
      },
      "source": [
        "Before we start, let's ensure that this notebook works well in both Python 2 and 3:"
      ]
    },
    {
      "cell_type": "code",
      "metadata": {
        "id": "XGx2_Qi-sA7W"
      },
      "source": [
        "from __future__ import division, print_function, unicode_literals"
      ],
      "execution_count": null,
      "outputs": []
    },
    {
      "cell_type": "markdown",
      "metadata": {
        "id": "6pqK3PGXsA7Y"
      },
      "source": [
        "# Vectors\n",
        "## Definition\n",
        "A vector is a quantity defined by a magnitude and a direction. For example, a rocket's velocity is a 3-dimensional vector: its magnitude is the speed of the rocket, and its direction is (hopefully) up. A vector can be represented by an array of numbers called *scalars*. Each scalar corresponds to the magnitude of the vector with regards to each dimension.\n",
        "\n",
        "For example, say the rocket is going up at a slight angle: it has a vertical speed of 5,000 m/s, and also a slight speed towards the East at 10 m/s, and a slight speed towards the North at 50 m/s. The rocket's velocity may be represented by the following vector:\n",
        "\n",
        "**velocity** $= \\begin{pmatrix}\n",
        "10 \\\\\n",
        "50 \\\\\n",
        "5000 \\\\\n",
        "\\end{pmatrix}$\n",
        "\n",
        "Note: by convention vectors are generally presented in the form of columns. Also, vector names are generally lowercase to distinguish them from matrices (which we will discuss below) and in bold (when possible) to distinguish them from simple scalar values such as ${meters\\_per\\_second} = 5026$.\n",
        "\n",
        "A list of N numbers may also represent the coordinates of a point in an N-dimensional space, so it is quite frequent to represent vectors as simple points instead of arrows. A vector with 1 element may be represented as an arrow or a point on an axis, a vector with 2 elements is an arrow or a point on a plane, a vector with 3 elements is an arrow or point in space, and a vector with N elements is an arrow or a point in an N-dimensional space… which most people find hard to imagine.\n",
        "\n",
        "\n",
        "##  Purpose\n",
        "Vectors have many purposes in Machine Learning, most notably to represent observations and predictions. For example, say we built a Machine Learning system to classify videos into 3 categories (good, spam, clickbait) based on what we know about them. For each video, we would have a vector representing what we know about it, such as:\n",
        "\n",
        "**video** $= \\begin{pmatrix}\n",
        "10.5 \\\\\n",
        "5.2 \\\\\n",
        "3.25 \\\\\n",
        "7.0\n",
        "\\end{pmatrix}$\n",
        "\n",
        "This vector could represent a video that lasts 10.5 minutes, but only 5.2% viewers watch for more than a minute, it gets 3.25 views per day on average, and it was flagged 7 times as spam. As you can see, each axis may have a different meaning.\n",
        "\n",
        "Based on this vector our Machine Learning system may predict that there is an 80% probability that it is a spam video, 18% that it is clickbait, and 2% that it is a good video. This could be represented as the following vector:\n",
        "\n",
        "**class_probabilities** $= \\begin{pmatrix}\n",
        "0.80 \\\\\n",
        "0.18 \\\\\n",
        "0.02\n",
        "\\end{pmatrix}$"
      ]
    },
    {
      "cell_type": "markdown",
      "metadata": {
        "id": "ed2DcsO3sA7a"
      },
      "source": [
        "## Vectors in python\n",
        "In python, a vector can be represented in many ways, the simplest being a regular python list of numbers:"
      ]
    },
    {
      "cell_type": "code",
      "metadata": {
        "id": "-Aq3i1q6sA7b",
        "colab": {
          "base_uri": "https://localhost:8080/"
        },
        "outputId": "24e8b53b-c71d-4884-a63a-53b83a110229"
      },
      "source": [
        "[10.5, 5.2, 3.25, 7.0]"
      ],
      "execution_count": null,
      "outputs": [
        {
          "output_type": "execute_result",
          "data": {
            "text/plain": [
              "[10.5, 5.2, 3.25, 7.0]"
            ]
          },
          "metadata": {},
          "execution_count": 15
        }
      ]
    },
    {
      "cell_type": "markdown",
      "metadata": {
        "id": "D1FI8ywmsA7d"
      },
      "source": [
        "Since we plan to do quite a lot of scientific calculations, it is much better to use NumPy's `ndarray`, which provides a lot of convenient and optimized implementations of essential mathematical operations on vectors (for more details about NumPy, check out the [NumPy tutorial](tools_numpy.ipynb)). For example:"
      ]
    },
    {
      "cell_type": "code",
      "metadata": {
        "id": "BUWnhV4jsA7e",
        "colab": {
          "base_uri": "https://localhost:8080/"
        },
        "outputId": "90cac3a5-d072-43cd-96d3-5cdad18e31d5"
      },
      "source": [
        "import numpy as np\n",
        "video = np.array([10.5, 5.2, 3.25, 7.0])\n",
        "video"
      ],
      "execution_count": null,
      "outputs": [
        {
          "output_type": "execute_result",
          "data": {
            "text/plain": [
              "array([10.5 ,  5.2 ,  3.25,  7.  ])"
            ]
          },
          "metadata": {},
          "execution_count": 16
        }
      ]
    },
    {
      "cell_type": "markdown",
      "metadata": {
        "id": "wX_DilZvsA7e"
      },
      "source": [
        "The size of a vector can be obtained using the `size` attribute:"
      ]
    },
    {
      "cell_type": "code",
      "metadata": {
        "id": "ho6c6jy4sA7f",
        "colab": {
          "base_uri": "https://localhost:8080/"
        },
        "outputId": "6c3b5d87-8ac7-44ad-bf48-b536da2fd973"
      },
      "source": [
        "video.size"
      ],
      "execution_count": null,
      "outputs": [
        {
          "output_type": "execute_result",
          "data": {
            "text/plain": [
              "4"
            ]
          },
          "metadata": {},
          "execution_count": 17
        }
      ]
    },
    {
      "cell_type": "markdown",
      "metadata": {
        "id": "3gj-oejqsA7g"
      },
      "source": [
        "The $i^{th}$ element (also called *entry* or *item*) of a vector $\\textbf{v}$ is noted $\\textbf{v}_i$.\n",
        "\n",
        "Note that indices in mathematics generally start at 1, but in programming they usually start at 0. So to access $\\textbf{video}_3$ programmatically, we would write:"
      ]
    },
    {
      "cell_type": "code",
      "metadata": {
        "id": "xaj8I1EusA7h",
        "colab": {
          "base_uri": "https://localhost:8080/"
        },
        "outputId": "2033b2cc-f5c4-4b7a-9852-5c8f92c0d9be"
      },
      "source": [
        "video[2]  # 3rd element"
      ],
      "execution_count": null,
      "outputs": [
        {
          "output_type": "execute_result",
          "data": {
            "text/plain": [
              "3.25"
            ]
          },
          "metadata": {},
          "execution_count": 18
        }
      ]
    },
    {
      "cell_type": "markdown",
      "metadata": {
        "id": "3zIpmhbAsA7h"
      },
      "source": [
        "## Plotting vectors\n",
        "To plot vectors we will use matplotlib, so let's start by importing it (for details about matplotlib, check the [matplotlib tutorial](tools_matplotlib.ipynb)):"
      ]
    },
    {
      "cell_type": "code",
      "metadata": {
        "id": "-CoOBbA7sA7h"
      },
      "source": [
        "%matplotlib inline\n",
        "import matplotlib.pyplot as plt"
      ],
      "execution_count": null,
      "outputs": []
    },
    {
      "cell_type": "markdown",
      "metadata": {
        "id": "1awfh15SsA7i"
      },
      "source": [
        "### 2D vectors\n",
        "Let's create a couple very simple 2D vectors to plot:"
      ]
    },
    {
      "cell_type": "code",
      "metadata": {
        "id": "B1oDOIcjsA7i"
      },
      "source": [
        "u = np.array([2, 5])\n",
        "v = np.array([3, 1])"
      ],
      "execution_count": null,
      "outputs": []
    },
    {
      "cell_type": "markdown",
      "metadata": {
        "id": "kMt04jy6sA7i"
      },
      "source": [
        "These vectors each have 2 elements, so they can easily be represented graphically on a 2D graph, for example as points:"
      ]
    },
    {
      "cell_type": "code",
      "metadata": {
        "id": "zyAzU4gOsA7j",
        "colab": {
          "base_uri": "https://localhost:8080/",
          "height": 269
        },
        "outputId": "bc47c0ca-a668-42cf-9f6c-43b96e15e4c4"
      },
      "source": [
        "x_coords, y_coords = zip(u, v)\n",
        "plt.scatter(x_coords, y_coords, color=[\"r\",\"b\"])\n",
        "plt.axis([0, 9, 0, 6])\n",
        "plt.grid()\n",
        "plt.show()"
      ],
      "execution_count": null,
      "outputs": [
        {
          "output_type": "display_data",
          "data": {
            "image/png": "[encoded data removed]",
            "text/plain": [
              "<Figure size 432x288 with 1 Axes>"
            ]
          },
          "metadata": {
            "needs_background": "light"
          }
        }
      ]
    },
    {
      "cell_type": "markdown",
      "metadata": {
        "id": "YjXFtEIYsA7j"
      },
      "source": [
        "Vectors can also be represented as arrows. Let's create a small convenience function to draw nice arrows ***Not Important, maybe later***:"
      ]
    },
    {
      "cell_type": "code",
      "metadata": {
        "id": "1o1QkGMKsA7k"
      },
      "source": [
        "def plot_vector2d(vector2d, origin=[0, 0], **options):\n",
        "    return plt.arrow(origin[0], origin[1], vector2d[0], vector2d[1],\n",
        "              head_width=0.2, head_length=0.3, length_includes_head=True,\n",
        "              **options)"
      ],
      "execution_count": null,
      "outputs": []
    },
    {
      "cell_type": "markdown",
      "metadata": {
        "id": "KsnnSOacsA7k"
      },
      "source": [
        "Now let's draw the vectors **u** and **v** as arrows:"
      ]
    },
    {
      "cell_type": "code",
      "metadata": {
        "id": "nYeLC6ScsA7k",
        "colab": {
          "base_uri": "https://localhost:8080/",
          "height": 269
        },
        "outputId": "0288d288-7ac8-41ad-939c-dd8076bf01bc"
      },
      "source": [
        "plot_vector2d(u, color=\"r\")\n",
        "plot_vector2d(v, color=\"b\")\n",
        "plt.axis([0, 9, 0, 6])\n",
        "plt.grid()\n",
        "plt.show()"
      ],
      "execution_count": null,
      "outputs": [
        {
          "output_type": "display_data",
          "data": {
            "image/png": "[encoded data removed]",
            "text/plain": [
              "<Figure size 432x288 with 1 Axes>"
            ]
          },
          "metadata": {
            "needs_background": "light"
          }
        }
      ]
    },
    {
      "cell_type": "markdown",
      "metadata": {
        "id": "A7_ClsOssA7k"
      },
      "source": [
        "### 3D vectors\n",
        "Plotting 3D vectors is also relatively straightforward. First let's create two 3D vectors:"
      ]
    },
    {
      "cell_type": "code",
      "metadata": {
        "id": "m20C5KcDsA7l"
      },
      "source": [
        "a = np.array([1, 2, 8])\n",
        "b = np.array([5, 6, 3])"
      ],
      "execution_count": null,
      "outputs": []
    },
    {
      "cell_type": "markdown",
      "metadata": {
        "id": "1_Ad1kgAsA7l"
      },
      "source": [
        "Now let's plot them using matplotlib's `Axes3D`:"
      ]
    },
    {
      "cell_type": "code",
      "metadata": {
        "id": "PX8LJ72gsA7l",
        "colab": {
          "base_uri": "https://localhost:8080/",
          "height": 248
        },
        "outputId": "45b876f4-9c22-42a6-d9d8-081a1f244468"
      },
      "source": [
        "from mpl_toolkits.mplot3d import Axes3D\n",
        "\n",
        "subplot3d = plt.subplot(111, projection='3d')\n",
        "x_coords, y_coords, z_coords = zip(a,b)\n",
        "subplot3d.scatter(x_coords, y_coords, z_coords)\n",
        "subplot3d.set_zlim3d([0, 9])\n",
        "plt.show()"
      ],
      "execution_count": null,
      "outputs": [
        {
          "output_type": "display_data",
          "data": {
            "image/png": "[encoded data removed]",
            "text/plain": [
              "<Figure size 432x288 with 1 Axes>"
            ]
          },
          "metadata": {
            "needs_background": "light"
          }
        }
      ]
    },
    {
      "cell_type": "markdown",
      "metadata": {
        "id": "_-lWCqGJsA7m"
      },
      "source": [
        "It is a bit hard to visualize exactly where in space these two points are, so let's add vertical lines. We'll create a small convenience function to plot a list of 3d vectors with vertical lines attached:"
      ]
    },
    {
      "cell_type": "code",
      "metadata": {
        "id": "iaW5b75vsA7m",
        "colab": {
          "base_uri": "https://localhost:8080/",
          "height": 248
        },
        "outputId": "2902d6cc-5b6c-422d-aba1-0951211a7767"
      },
      "source": [
        "def plot_vectors3d(ax, vectors3d, z0, **options):\n",
        "    for v in vectors3d:\n",
        "        x, y, z = v\n",
        "        ax.plot([x,x], [y,y], [z0, z], color=\"gray\", linestyle='dotted', marker=\".\")\n",
        "    x_coords, y_coords, z_coords = zip(*vectors3d)\n",
        "    ax.scatter(x_coords, y_coords, z_coords, **options)\n",
        "\n",
        "subplot3d = plt.subplot(111, projection='3d')\n",
        "subplot3d.set_zlim([0, 9])\n",
        "plot_vectors3d(subplot3d, [a,b], 0, color=(\"r\",\"b\"))\n",
        "plt.show()"
      ],
      "execution_count": null,
      "outputs": [
        {
          "output_type": "display_data",
          "data": {
            "image/png": "[encoded data removed]",
            "text/plain": [
              "<Figure size 432x288 with 1 Axes>"
            ]
          },
          "metadata": {
            "needs_background": "light"
          }
        }
      ]
    },
    {
      "cell_type": "markdown",
      "metadata": {
        "id": "wdM8Du4rsA7m"
      },
      "source": [
        "## Norm\n",
        "The norm of a vector $\\textbf{u}$, noted $\\left \\Vert \\textbf{u} \\right \\|$, is a measure of the length (a.k.a. the magnitude) of $\\textbf{u}$. There are multiple possible norms, but the most common one (and the only one we will discuss here) is the Euclidian norm, which is defined as:\n",
        "\n",
        "$\\left \\Vert \\textbf{u} \\right \\| = \\sqrt{\\sum_{i}{\\textbf{u}_i}^2}$\n",
        "\n",
        "We could implement this easily in pure python, recalling that $\\sqrt x = x^{\\frac{1}{2}}$"
      ]
    },
    {
      "cell_type": "code",
      "metadata": {
        "id": "LddYGKWPsA7m",
        "colab": {
          "base_uri": "https://localhost:8080/"
        },
        "outputId": "5d6256aa-39a2-4c50-964e-ce023e1b1566"
      },
      "source": [
        "def vector_norm(vector):\n",
        "    squares = [element**2 for element in vector]\n",
        "    return sum(squares)**0.5\n",
        "\n",
        "print(\"||\", u, \"|| =\")\n",
        "vector_norm(u)"
      ],
      "execution_count": null,
      "outputs": [
        {
          "output_type": "stream",
          "name": "stdout",
          "text": [
            "|| [2 5] || =\n"
          ]
        },
        {
          "output_type": "execute_result",
          "data": {
            "text/plain": [
              "5.385164807134504"
            ]
          },
          "metadata": {},
          "execution_count": 27
        }
      ]
    },
    {
      "cell_type": "markdown",
      "metadata": {
        "id": "ND5DY7mEsA7n"
      },
      "source": [
        "However, it is much more efficient to use NumPy's `norm` function, available in the `linalg` (**Lin**ear **Alg**ebra) module:"
      ]
    },
    {
      "cell_type": "code",
      "metadata": {
        "id": "YSKHnVqUsA7n",
        "colab": {
          "base_uri": "https://localhost:8080/"
        },
        "outputId": "ef4d287a-a328-484b-95d7-020ad5f75e7f"
      },
      "source": [
        "import numpy.linalg as LA\n",
        "LA.norm(u)"
      ],
      "execution_count": null,
      "outputs": [
        {
          "output_type": "execute_result",
          "data": {
            "text/plain": [
              "5.385164807134504"
            ]
          },
          "metadata": {},
          "execution_count": 28
        }
      ]
    },
    {
      "cell_type": "markdown",
      "metadata": {
        "id": "K5yGeaTIsA7n"
      },
      "source": [
        "Let's plot a little diagram to confirm that the length of vector $\\textbf{v}$ is indeed $\\approx5.4$:"
      ]
    },
    {
      "cell_type": "code",
      "metadata": {
        "id": "_NxdJZpAsA7n",
        "colab": {
          "base_uri": "https://localhost:8080/",
          "height": 269
        },
        "outputId": "b34f7dfc-8a00-4d3a-9acd-8c629ad9159e"
      },
      "source": [
        "radius = LA.norm(u)\n",
        "plt.gca().add_artist(plt.Circle((0,0), radius, color=\"#DDDDDD\"))\n",
        "plot_vector2d(u, color=\"red\")\n",
        "plt.axis([0, 8.7, 0, 6])\n",
        "plt.grid()\n",
        "plt.show()"
      ],
      "execution_count": null,
      "outputs": [
        {
          "output_type": "display_data",
          "data": {
            "image/png": "[encoded data removed]",
            "text/plain": [
              "<Figure size 432x288 with 1 Axes>"
            ]
          },
          "metadata": {
            "needs_background": "light"
          }
        }
      ]
    },
    {
      "cell_type": "markdown",
      "metadata": {
        "id": "5hu1Yb3GsA7n"
      },
      "source": [
        "Looks about right!"
      ]
    },
    {
      "cell_type": "markdown",
      "metadata": {
        "id": "KPGvtr-TsA7o"
      },
      "source": [
        "## Addition\n",
        "Vectors of same size can be added together. Addition is performed *elementwise*:"
      ]
    },
    {
      "cell_type": "code",
      "metadata": {
        "id": "vTL01zTssA7o",
        "colab": {
          "base_uri": "https://localhost:8080/"
        },
        "outputId": "c90193ee-89ed-4285-9873-4a87dbd1b329"
      },
      "source": [
        "print(\" \", u)\n",
        "print(\"+\", v)\n",
        "print(\"-\"*10)\n",
        "u + v"
      ],
      "execution_count": null,
      "outputs": [
        {
          "output_type": "stream",
          "name": "stdout",
          "text": [
            "  [2 5]\n",
            "+ [3 1]\n",
            "----------\n"
          ]
        },
        {
          "output_type": "execute_result",
          "data": {
            "text/plain": [
              "array([5, 6])"
            ]
          },
          "metadata": {},
          "execution_count": 30
        }
      ]
    },
    {
      "cell_type": "markdown",
      "metadata": {
        "id": "YAf1MudVsA7o"
      },
      "source": [
        "Let's look at what vector addition looks like graphically:"
      ]
    },
    {
      "cell_type": "code",
      "metadata": {
        "scrolled": true,
        "id": "KMWB2HSWsA7o",
        "colab": {
          "base_uri": "https://localhost:8080/",
          "height": 269
        },
        "outputId": "5a03519f-c9ee-4e3d-c8e3-2b67842b1b98"
      },
      "source": [
        "plot_vector2d(u, color=\"r\")\n",
        "plot_vector2d(v, color=\"b\")\n",
        "plot_vector2d(v, origin=u, color=\"b\", linestyle=\"dotted\")\n",
        "plot_vector2d(u, origin=v, color=\"r\", linestyle=\"dotted\")\n",
        "plot_vector2d(u+v, color=\"g\")\n",
        "plt.axis([0, 9, 0, 7])\n",
        "plt.text(0.7, 3, \"u\", color=\"r\", fontsize=18)\n",
        "plt.text(4, 3, \"u\", color=\"r\", fontsize=18)\n",
        "plt.text(1.8, 0.2, \"v\", color=\"b\", fontsize=18)\n",
        "plt.text(3.1, 5.6, \"v\", color=\"b\", fontsize=18)\n",
        "plt.text(2.4, 2.5, \"u+v\", color=\"g\", fontsize=18)\n",
        "plt.grid()\n",
        "plt.show()"
      ],
      "execution_count": null,
      "outputs": [
        {
          "output_type": "display_data",
          "data": {
            "image/png": "[encoded data removed]",
            "text/plain": [
              "<Figure size 432x288 with 1 Axes>"
            ]
          },
          "metadata": {
            "needs_background": "light"
          }
        }
      ]
    },
    {
      "cell_type": "markdown",
      "metadata": {
        "id": "T4sEHJ2MsA7o"
      },
      "source": [
        "Vector addition is **commutative**, meaning that $\\textbf{u} + \\textbf{v} = \\textbf{v} + \\textbf{u}$. You can see it on the previous image: following $\\textbf{u}$ *then* $\\textbf{v}$ leads to the same point as following $\\textbf{v}$ *then* $\\textbf{u}$.\n",
        "\n",
        "Vector addition is also **associative**, meaning that $\\textbf{u} + (\\textbf{v} + \\textbf{w}) = (\\textbf{u} + \\textbf{v}) + \\textbf{w}$."
      ]
    },
    {
      "cell_type": "markdown",
      "metadata": {
        "id": "MObutNs_sA7o"
      },
      "source": [
        "If you have a shape defined by a number of points (vectors), and you add a vector $\\textbf{v}$ to all of these points, then the whole shape gets shifted by $\\textbf{v}$. This is called a [geometric translation](https://en.wikipedia.org/wiki/Translation_%28geometry%29):"
      ]
    },
    {
      "cell_type": "code",
      "metadata": {
        "id": "ries4dLTsA7p",
        "colab": {
          "base_uri": "https://localhost:8080/",
          "height": 269
        },
        "outputId": "6b274782-fe22-4f81-ea7b-4cd4824e8621"
      },
      "source": [
        "t1 = np.array([2, 0.25])\n",
        "t2 = np.array([2.5, 3.5])\n",
        "t3 = np.array([1, 2])\n",
        "\n",
        "x_coords, y_coords = zip(t1, t2, t3, t1)\n",
        "plt.plot(x_coords, y_coords, \"c--\", x_coords, y_coords, \"co\")\n",
        "\n",
        "plot_vector2d(v, t1, color=\"r\", linestyle=\":\")\n",
        "plot_vector2d(v, t2, color=\"r\", linestyle=\":\")\n",
        "plot_vector2d(v, t3, color=\"r\", linestyle=\":\")\n",
        "\n",
        "t1b = t1 + v\n",
        "t2b = t2 + v\n",
        "t3b = t3 + v\n",
        "\n",
        "x_coords_b, y_coords_b = zip(t1b, t2b, t3b, t1b)\n",
        "plt.plot(x_coords_b, y_coords_b, \"b-\", x_coords_b, y_coords_b, \"bo\")\n",
        "\n",
        "plt.text(4, 4.2, \"v\", color=\"r\", fontsize=18)\n",
        "plt.text(3, 2.3, \"v\", color=\"r\", fontsize=18)\n",
        "plt.text(3.5, 0.4, \"v\", color=\"r\", fontsize=18)\n",
        "\n",
        "plt.axis([0, 6, 0, 5])\n",
        "plt.grid()\n",
        "plt.show()"
      ],
      "execution_count": null,
      "outputs": [
        {
          "output_type": "display_data",
          "data": {
            "image/png": "[encoded data removed]",
            "text/plain": [
              "<Figure size 432x288 with 1 Axes>"
            ]
          },
          "metadata": {
            "needs_background": "light"
          }
        }
      ]
    },
    {
      "cell_type": "markdown",
      "metadata": {
        "id": "IS5-Yuc7sA7p"
      },
      "source": [
        "Finally, substracting a vector is like adding the opposite vector."
      ]
    },
    {
      "cell_type": "markdown",
      "metadata": {
        "id": "g6b7DrAXsA7p"
      },
      "source": [
        "## Multiplication by a scalar\n",
        "Vectors can be multiplied by scalars. All elements in the vector are multiplied by that number, for example:"
      ]
    },
    {
      "cell_type": "code",
      "metadata": {
        "id": "gNSrJ0hhsA7p",
        "colab": {
          "base_uri": "https://localhost:8080/"
        },
        "outputId": "ca52392d-f8cb-4266-bfa9-9028cd771cba"
      },
      "source": [
        "print(\"1.5 *\", u, \"=\")\n",
        "\n",
        "1.5 * u"
      ],
      "execution_count": null,
      "outputs": [
        {
          "output_type": "stream",
          "name": "stdout",
          "text": [
            "1.5 * [2 5] =\n"
          ]
        },
        {
          "output_type": "execute_result",
          "data": {
            "text/plain": [
              "array([3. , 7.5])"
            ]
          },
          "metadata": {},
          "execution_count": 33
        }
      ]
    },
    {
      "cell_type": "markdown",
      "metadata": {
        "id": "Av1zSPLYsA7p"
      },
      "source": [
        "Graphically, scalar multiplication results in changing the scale of a figure, hence the name *scalar*. The distance from the origin (the point at coordinates equal to zero) is also multiplied by the scalar. For example, let's scale up by a factor of `k = 2.5`:"
      ]
    },
    {
      "cell_type": "code",
      "metadata": {
        "id": "Nee70GVzsA7p",
        "colab": {
          "base_uri": "https://localhost:8080/",
          "height": 269
        },
        "outputId": "09909c49-c8f3-4212-dd83-f21433b2c76a"
      },
      "source": [
        "k = 2.5\n",
        "t1c = k * t1\n",
        "t2c = k * t2\n",
        "t3c = k * t3\n",
        "\n",
        "plt.plot(x_coords, y_coords, \"c--\", x_coords, y_coords, \"co\")\n",
        "\n",
        "plot_vector2d(t1, color=\"r\")\n",
        "plot_vector2d(t2, color=\"r\")\n",
        "plot_vector2d(t3, color=\"r\")\n",
        "\n",
        "x_coords_c, y_coords_c = zip(t1c, t2c, t3c, t1c)\n",
        "plt.plot(x_coords_c, y_coords_c, \"b-\", x_coords_c, y_coords_c, \"bo\")\n",
        "\n",
        "plot_vector2d(k * t1, color=\"b\", linestyle=\":\")\n",
        "plot_vector2d(k * t2, color=\"b\", linestyle=\":\")\n",
        "plot_vector2d(k * t3, color=\"b\", linestyle=\":\")\n",
        "\n",
        "plt.axis([0, 9, 0, 9])\n",
        "plt.grid()\n",
        "plt.show()"
      ],
      "execution_count": null,
      "outputs": [
        {
          "output_type": "display_data",
          "data": {
            "image/png": "[encoded data removed]",
            "text/plain": [
              "<Figure size 432x288 with 1 Axes>"
            ]
          },
          "metadata": {
            "needs_background": "light"
          }
        }
      ]
    },
    {
      "cell_type": "code",
      "metadata": {
        "colab": {
          "base_uri": "https://localhost:8080/"
        },
        "id": "DVx5g4ifxlG5",
        "outputId": "6ea21563-fb45-4b08-95c8-cab37559081d"
      },
      "source": [
        "np.ones(50)"
      ],
      "execution_count": null,
      "outputs": [
        {
          "output_type": "execute_result",
          "data": {
            "text/plain": [
              "array([1., 1., 1., 1., 1., 1., 1., 1., 1., 1., 1., 1., 1., 1., 1., 1., 1.,\n",
              "       1., 1., 1., 1., 1., 1., 1., 1., 1., 1., 1., 1., 1., 1., 1., 1., 1.,\n",
              "       1., 1., 1., 1., 1., 1., 1., 1., 1., 1., 1., 1., 1., 1., 1., 1.])"
            ]
          },
          "metadata": {},
          "execution_count": 35
        }
      ]
    },
    {
      "cell_type": "code",
      "metadata": {
        "colab": {
          "base_uri": "https://localhost:8080/"
        },
        "id": "Bhfh67nyxnTr",
        "outputId": "9779a6c6-8553-4d9f-957b-95b571f5344a"
      },
      "source": [
        "np.zeros(50)"
      ],
      "execution_count": null,
      "outputs": [
        {
          "output_type": "execute_result",
          "data": {
            "text/plain": [
              "array([0., 0., 0., 0., 0., 0., 0., 0., 0., 0., 0., 0., 0., 0., 0., 0., 0.,\n",
              "       0., 0., 0., 0., 0., 0., 0., 0., 0., 0., 0., 0., 0., 0., 0., 0., 0.,\n",
              "       0., 0., 0., 0., 0., 0., 0., 0., 0., 0., 0., 0., 0., 0., 0., 0.])"
            ]
          },
          "metadata": {},
          "execution_count": 36
        }
      ]
    },
    {
      "cell_type": "markdown",
      "metadata": {
        "id": "6XJ1h5nrsA7p"
      },
      "source": [
        "As you might guess, dividing a vector by a scalar is equivalent to multiplying by its inverse:\n",
        "\n",
        "$\\dfrac{\\textbf{u}}{\\lambda} = \\dfrac{1}{\\lambda} \\times \\textbf{u}$"
      ]
    },
    {
      "cell_type": "markdown",
      "metadata": {
        "id": "vdCppW1BsA7q"
      },
      "source": [
        "Scalar multiplication is **commutative**: $\\lambda \\times \\textbf{u} = \\textbf{u} \\times \\lambda$.\n",
        "\n",
        "It is also **associative**: $\\lambda_1 \\times (\\lambda_2 \\times \\textbf{u}) = (\\lambda_1 \\times \\lambda_2) \\times \\textbf{u}$.\n",
        "\n",
        "Finally, it is **distributive** over addition of vectors: $\\lambda \\times (\\textbf{u} + \\textbf{v}) = \\lambda \\times \\textbf{u} + \\lambda \\times \\textbf{v}$."
      ]
    },
    {
      "cell_type": "markdown",
      "metadata": {
        "id": "48DUMt0WsA7q"
      },
      "source": [
        "## Zero, unit and normalized vectors\n",
        "* A **zero-vector ** is a vector full of 0s.\n",
        "* A **unit vector** is a vector with a norm equal to 1.\n",
        "* The **normalized vector** of a non-null vector $\\textbf{u}$, noted $\\hat{\\textbf{u}}$, is the unit vector that points in the same direction as $\\textbf{u}$. It is equal to: $\\hat{\\textbf{u}} = \\dfrac{\\textbf{u}}{\\left \\Vert \\textbf{u} \\right \\|}$\n",
        "\n"
      ]
    },
    {
      "cell_type": "code",
      "metadata": {
        "id": "QVAaXqqhsA7q",
        "colab": {
          "base_uri": "https://localhost:8080/",
          "height": 265
        },
        "outputId": "612343d1-ef5f-40bb-ed93-f196ab834be6"
      },
      "source": [
        "plt.gca().add_artist(plt.Circle((0,0),1,color='c'))\n",
        "plt.plot(0, 0, \"ko\")\n",
        "plot_vector2d(v / LA.norm(v), color=\"k\")\n",
        "plot_vector2d(v, color=\"b\", linestyle=\":\")\n",
        "plt.text(0.3, 0.3, \"$\\hat{u}$\", color=\"k\", fontsize=18)\n",
        "plt.text(1.5, 0.7, \"$u$\", color=\"b\", fontsize=18)\n",
        "plt.axis([-1.5, 5.5, -1.5, 3.5])\n",
        "plt.grid()\n",
        "plt.show()"
      ],
      "execution_count": null,
      "outputs": [
        {
          "output_type": "display_data",
          "data": {
            "image/png": "[encoded data removed]",
            "text/plain": [
              "<Figure size 432x288 with 1 Axes>"
            ]
          },
          "metadata": {
            "needs_background": "light"
          }
        }
      ]
    },
    {
      "cell_type": "markdown",
      "metadata": {
        "id": "ZWElOrFBsA7q"
      },
      "source": [
        "## Dot product\n",
        "### Definition\n",
        "The dot product (also called *scalar product* or *inner product* in the context of the Euclidian space) of two vectors $\\textbf{u}$ and $\\textbf{v}$ is a useful operation that comes up fairly often in linear algebra. It is noted $\\textbf{u} \\cdot \\textbf{v}$, or sometimes $⟨\\textbf{u}|\\textbf{v}⟩$ or $(\\textbf{u}|\\textbf{v})$, and it is defined as:\n",
        "\n",
        "$\\textbf{u} \\cdot \\textbf{v} = \\left \\Vert \\textbf{u} \\right \\| \\times \\left \\Vert \\textbf{v} \\right \\| \\times cos(\\theta)$\n",
        "\n",
        "where $\\theta$ is the angle between $\\textbf{u}$ and $\\textbf{v}$.\n",
        "\n",
        "Another way to calculate the dot product is:\n",
        "\n",
        "$\\textbf{u} \\cdot \\textbf{v} = \\sum_i{\\textbf{u}_i \\times \\textbf{v}_i}$\n",
        "\n",
        "### In python\n",
        "The dot product is pretty simple to implement:"
      ]
    },
    {
      "cell_type": "code",
      "metadata": {
        "id": "D1hGN5JLsA7q",
        "colab": {
          "base_uri": "https://localhost:8080/"
        },
        "outputId": "2c12ffda-01da-41c4-90c6-799b2b93bee5"
      },
      "source": [
        "def dot_product(v1, v2):\n",
        "    return sum(v1i * v2i for v1i, v2i in zip(v1, v2))\n",
        "\n",
        "dot_product(u, v)\n"
      ],
      "execution_count": null,
      "outputs": [
        {
          "output_type": "execute_result",
          "data": {
            "text/plain": [
              "11"
            ]
          },
          "metadata": {},
          "execution_count": 38
        }
      ]
    },
    {
      "cell_type": "markdown",
      "metadata": {
        "id": "2t8T8VX1sA7q"
      },
      "source": [
        "But a *much* more efficient implementation is provided by NumPy with the `dot` function:"
      ]
    },
    {
      "cell_type": "code",
      "metadata": {
        "id": "8L-kbevqsA7q",
        "colab": {
          "base_uri": "https://localhost:8080/"
        },
        "outputId": "6d30bac7-2544-42ca-de64-1754296ab14f"
      },
      "source": [
        "np.dot(u,v)"
      ],
      "execution_count": null,
      "outputs": [
        {
          "output_type": "execute_result",
          "data": {
            "text/plain": [
              "11"
            ]
          },
          "metadata": {},
          "execution_count": 39
        }
      ]
    },
    {
      "cell_type": "markdown",
      "metadata": {
        "id": "KK7m5uq1sA7r"
      },
      "source": [
        "Equivalently, you can use the `dot` method of `ndarray`s:"
      ]
    },
    {
      "cell_type": "code",
      "metadata": {
        "id": "qGSfqt4rsA7r",
        "colab": {
          "base_uri": "https://localhost:8080/"
        },
        "outputId": "d066b472-9e9d-46cc-ad2f-31ccd4394814"
      },
      "source": [
        "u.dot(v)"
      ],
      "execution_count": null,
      "outputs": [
        {
          "output_type": "execute_result",
          "data": {
            "text/plain": [
              "11"
            ]
          },
          "metadata": {},
          "execution_count": 40
        }
      ]
    },
    {
      "cell_type": "markdown",
      "metadata": {
        "id": "z7zJV1b7sA7r"
      },
      "source": [
        "**Caution**: the `*` operator will perform an *elementwise* multiplication, *NOT* a dot product:"
      ]
    },
    {
      "cell_type": "code",
      "metadata": {
        "id": "MfOGOQUWsA7s",
        "colab": {
          "base_uri": "https://localhost:8080/"
        },
        "outputId": "b1ad04b6-8fa9-4f9b-91f7-7f9baf4bdac1"
      },
      "source": [
        "print(\"  \",u)\n",
        "print(\"* \",v, \"(NOT a dot product)\")\n",
        "print(\"-\"*10)\n",
        "\n",
        "u * v"
      ],
      "execution_count": null,
      "outputs": [
        {
          "output_type": "stream",
          "name": "stdout",
          "text": [
            "   [2 5]\n",
            "*  [3 1] (NOT a dot product)\n",
            "----------\n"
          ]
        },
        {
          "output_type": "execute_result",
          "data": {
            "text/plain": [
              "array([6, 5])"
            ]
          },
          "metadata": {},
          "execution_count": 41
        }
      ]
    },
    {
      "cell_type": "markdown",
      "metadata": {
        "id": "V2SDZ2RqsA7s"
      },
      "source": [
        "### Main properties\n",
        "* The dot product is **commutative**: $\\textbf{u} \\cdot \\textbf{v} = \\textbf{v} \\cdot \\textbf{u}$.\n",
        "* The dot product is only defined between two vectors, not between a scalar and a vector. This means that we cannot chain dot products: for example, the expression $\\textbf{u} \\cdot \\textbf{v} \\cdot \\textbf{w}$ is not defined since $\\textbf{u} \\cdot \\textbf{v}$ is a scalar and $\\textbf{w}$ is a vector.\n",
        "* This also means that the dot product is **NOT associative**: $(\\textbf{u} \\cdot \\textbf{v}) \\cdot \\textbf{w} ≠ \\textbf{u} \\cdot (\\textbf{v} \\cdot \\textbf{w})$ since neither are defined.\n",
        "* However, the dot product is **associative with regards to scalar multiplication**: $\\lambda \\times (\\textbf{u} \\cdot \\textbf{v}) = (\\lambda \\times \\textbf{u}) \\cdot \\textbf{v} = \\textbf{u} \\cdot (\\lambda \\times \\textbf{v})$\n",
        "* Finally, the dot product is **distributive** over addition of vectors: $\\textbf{u} \\cdot (\\textbf{v} + \\textbf{w}) = \\textbf{u} \\cdot \\textbf{v} + \\textbf{u} \\cdot \\textbf{w}$."
      ]
    },
    {
      "cell_type": "markdown",
      "metadata": {
        "id": "CpqB7vQisA7s"
      },
      "source": [
        "### Calculating the angle between vectors\n",
        "One of the many uses of the dot product is to calculate the angle between two non-zero vectors. Looking at the dot product definition, we can deduce the following formula:\n",
        "\n",
        "$\\theta = \\arccos{\\left ( \\dfrac{\\textbf{u} \\cdot \\textbf{v}}{\\left \\Vert \\textbf{u} \\right \\| \\times \\left \\Vert \\textbf{v} \\right \\|} \\right ) }$\n",
        "\n",
        "Note that if $\\textbf{u} \\cdot \\textbf{v} = 0$, it follows that $\\theta = \\dfrac{π}{2}$. In other words, if the dot product of two non-null vectors is zero, it means that they are orthogonal.\n",
        "\n",
        "Let's use this formula to calculate the angle between $\\textbf{u}$ and $\\textbf{v}$ (in radians):"
      ]
    },
    {
      "cell_type": "code",
      "metadata": {
        "id": "Owf3MESQsA7s",
        "colab": {
          "base_uri": "https://localhost:8080/"
        },
        "outputId": "c54b21e4-6689-4e19-d6e5-fcdbed18589e"
      },
      "source": [
        "def vector_angle(u, v):\n",
        "    cos_theta = u.dot(v) / LA.norm(u) / LA.norm(v)\n",
        "    return np.arccos(np.clip(cos_theta, -1, 1))\n",
        "\n",
        "theta = vector_angle(u, v)\n",
        "print(\"Angle =\", theta, \"radians\")\n",
        "print(\"      =\", theta * 180 / np.pi, \"degrees\")"
      ],
      "execution_count": null,
      "outputs": [
        {
          "output_type": "stream",
          "name": "stdout",
          "text": [
            "Angle = 0.8685393952858895 radians\n",
            "      = 49.76364169072618 degrees\n"
          ]
        }
      ]
    },
    {
      "cell_type": "markdown",
      "metadata": {
        "id": "--60DM4csA7t"
      },
      "source": [
        "Note: due to small floating point errors, `cos_theta` may be very slightly outside of the $[-1, 1]$ interval, which would make `arccos` fail. This is why we clipped the value within the range, using NumPy's `clip` function."
      ]
    },
    {
      "cell_type": "markdown",
      "metadata": {
        "id": "3uXYFa8KsA7t"
      },
      "source": [
        "### Projecting a point onto an axis\n",
        "The dot product is also very useful to project points onto an axis. The projection of vector $\\textbf{v}$ onto $\\textbf{u}$'s axis is given by this formula:\n",
        "\n",
        "$\\textbf{proj}_{\\textbf{u}}{\\textbf{v}} = \\dfrac{\\textbf{u} \\cdot \\textbf{v}}{\\left \\Vert \\textbf{u} \\right \\| ^2} \\times \\textbf{u}$\n",
        "\n",
        "Which is equivalent to:\n",
        "\n",
        "$\\textbf{proj}_{\\textbf{u}}{\\textbf{v}} = (\\textbf{v} \\cdot \\hat{\\textbf{u}}) \\times \\hat{\\textbf{u}}$\n"
      ]
    },
    {
      "cell_type": "code",
      "metadata": {
        "id": "t6jpV-iisA7t",
        "colab": {
          "base_uri": "https://localhost:8080/"
        },
        "outputId": "f0467598-6908-4214-cb09-db733fcb98c3"
      },
      "source": [
        "u_normalized = u / LA.norm(u)\n",
        "proj = v.dot(u_normalized) * u_normalized\n",
        "\n",
        "plot_vector2d(u, color=\"r\")\n",
        "plot_vector2d(v, color=\"b\")\n",
        "\n",
        "plot_vector2d(proj, color=\"k\", linestyle=\":\")\n",
        "plt.plot(proj[0], proj[1], \"ko\")\n",
        "\n",
        "plt.plot([proj[0], v[0]], [proj[1], v[1]], \"b:\")\n",
        "\n",
        "plt.text(1, 2, \"$proj_u v$\", color=\"k\", fontsize=18)\n",
        "plt.text(1.8, 0.2, \"$v$\", color=\"b\", fontsize=18)\n",
        "plt.text(0.8, 3, \"$u$\", color=\"r\", fontsize=18)\n",
        "\n",
        "plt.axis([0, 8, 0, 5.5])\n",
        "plt.grid()\n",
        "plt.show()"
      ],
      "execution_count": null,
      "outputs": [
        {
          "output_type": "display_data",
          "data": {
            "image/png": "[encoded data removed]",
            "text/plain": [
              "<Figure size 432x288 with 1 Axes>"
            ]
          },
          "metadata": {
            "needs_background": "light"
          }
        }
      ]
    },
    {
      "cell_type": "markdown",
      "metadata": {
        "id": "dEnqWcn1sA7u"
      },
      "source": [
        "# Matrices\n",
        "A matrix is a rectangular array of scalars (ie. any number: integer, real or complex) arranged in rows and columns, for example:\n",
        "\n",
        "\\begin{bmatrix} 10 & 20 & 30 \\\\ 40 & 50 & 60 \\end{bmatrix}\n",
        "\n",
        "You can also think of a matrix as a list of vectors: the previous matrix contains either 2 horizontal 3D vectors or 3 vertical 2D vectors.\n",
        "\n",
        "Matrices are convenient and very efficient to run operations on many vectors at a time. We will also see that they are great at representing and performing linear transformations such rotations, translations and scaling."
      ]
    },
    {
      "cell_type": "markdown",
      "metadata": {
        "id": "PVNQ7IPksA7u"
      },
      "source": [
        "## Matrices in python\n",
        "In python, a matrix can be represented in various ways. The simplest is just a list of python lists:"
      ]
    },
    {
      "cell_type": "code",
      "metadata": {
        "id": "4lNz5LHrsA7u",
        "colab": {
          "base_uri": "https://localhost:8080/"
        },
        "outputId": "91ec34c8-ee58-4a47-fb85-781782085c76"
      },
      "source": [
        "[\n",
        "    [10, 20, 30],\n",
        "    [40, 50, 60]\n",
        "]"
      ],
      "execution_count": null,
      "outputs": [
        {
          "output_type": "execute_result",
          "data": {
            "text/plain": [
              "[[10, 20, 30], [40, 50, 60]]"
            ]
          },
          "metadata": {},
          "execution_count": 44
        }
      ]
    },
    {
      "cell_type": "markdown",
      "metadata": {
        "id": "NcN5xp06sA7v"
      },
      "source": [
        "A much more efficient way is to use the NumPy library which provides optimized implementations of many matrix operations:"
      ]
    },
    {
      "cell_type": "code",
      "metadata": {
        "id": "kfEyAsPnsA7v",
        "colab": {
          "base_uri": "https://localhost:8080/"
        },
        "outputId": "fb4df213-d9f5-46e5-89ce-9057c50b25b6"
      },
      "source": [
        "A = np.array([[10,20,30],[40,50,60]])\n",
        "A"
      ],
      "execution_count": null,
      "outputs": [
        {
          "output_type": "execute_result",
          "data": {
            "text/plain": [
              "array([[10, 20, 30],\n",
              "       [40, 50, 60]])"
            ]
          },
          "metadata": {},
          "execution_count": 45
        }
      ]
    },
    {
      "cell_type": "markdown",
      "metadata": {
        "id": "JUirA4HrsA7v"
      },
      "source": [
        "By convention matrices generally have uppercase names, such as $A$.\n",
        "\n",
        "In the rest of this tutorial, we will assume that we are using NumPy arrays (type `ndarray`) to represent matrices."
      ]
    },
    {
      "cell_type": "markdown",
      "metadata": {
        "id": "W10ZZKC7sA7w"
      },
      "source": [
        "## Size\n",
        "The size of a matrix is defined by its number of rows and number of columns. It is noted $rows \\times columns$. For example, the matrix $A$ above is an example of a $2 \\times 3$ matrix: 2 rows, 3 columns. Caution: a $3 \\times 2$ matrix would have 3 rows and 2 columns.\n",
        "\n",
        "To get a matrix's size in NumPy:"
      ]
    },
    {
      "cell_type": "code",
      "metadata": {
        "id": "C_2APXMisA7w",
        "colab": {
          "base_uri": "https://localhost:8080/"
        },
        "outputId": "f90bc052-134d-4e88-92bb-1f7fadfa1dce"
      },
      "source": [
        "A.shape"
      ],
      "execution_count": null,
      "outputs": [
        {
          "output_type": "execute_result",
          "data": {
            "text/plain": [
              "(2, 3)"
            ]
          },
          "metadata": {},
          "execution_count": 46
        }
      ]
    },
    {
      "cell_type": "markdown",
      "metadata": {
        "id": "eZ00JfxZsA7w"
      },
      "source": [
        "**Caution**: the `size` attribute represents the number of elements in the `ndarray`, not the matrix's size:"
      ]
    },
    {
      "cell_type": "code",
      "metadata": {
        "id": "KtG3-urZsA7w",
        "colab": {
          "base_uri": "https://localhost:8080/"
        },
        "outputId": "624bf5dc-5978-4069-9110-70b4ad0064a4"
      },
      "source": [
        "A.size"
      ],
      "execution_count": null,
      "outputs": [
        {
          "output_type": "execute_result",
          "data": {
            "text/plain": [
              "6"
            ]
          },
          "metadata": {},
          "execution_count": 47
        }
      ]
    },
    {
      "cell_type": "markdown",
      "metadata": {
        "id": "xkJEe_OrsA7x"
      },
      "source": [
        "## Element indexing\n",
        "The number located in the $i^{th}$ row, and $j^{th}$ column of a matrix $X$ is sometimes noted $X_{i,j}$ or $X_{ij}$, but there is no standard notation, so people often prefer to explicitely name the elements, like this: \"*let $X = (x_{i,j})_{1 ≤ i ≤ m, 1 ≤ j ≤ n}$*\". This means that $X$ is equal to:\n",
        "\n",
        "$X = \\begin{bmatrix}\n",
        "  x_{1,1} & x_{1,2} & x_{1,3} & \\cdots & x_{1,n}\\\\\n",
        "  x_{2,1} & x_{2,2} & x_{2,3} & \\cdots & x_{2,n}\\\\\n",
        "  x_{3,1} & x_{3,2} & x_{3,3} & \\cdots & x_{3,n}\\\\\n",
        "  \\vdots & \\vdots & \\vdots & \\ddots & \\vdots \\\\\n",
        "  x_{m,1} & x_{m,2} & x_{m,3} & \\cdots & x_{m,n}\\\\\n",
        "\\end{bmatrix}$\n",
        "\n",
        "However in this notebook we will use the $X_{i,j}$ notation, as it matches fairly well NumPy's notation. Note that in math indices generally start at 1, but in programming they usually start at 0. So to access $A_{2,3}$ programmatically, we need to write this:"
      ]
    },
    {
      "cell_type": "code",
      "metadata": {
        "id": "oCdOg94gsA7x",
        "colab": {
          "base_uri": "https://localhost:8080/"
        },
        "outputId": "ec8705ab-9a6c-4cdd-8925-f9d39786642e"
      },
      "source": [
        "A[1,2]  # 2nd row, 3rd column"
      ],
      "execution_count": null,
      "outputs": [
        {
          "output_type": "execute_result",
          "data": {
            "text/plain": [
              "60"
            ]
          },
          "metadata": {},
          "execution_count": 48
        }
      ]
    },
    {
      "cell_type": "markdown",
      "metadata": {
        "id": "8Fc5ykhYsA7x"
      },
      "source": [
        "The $i^{th}$ row vector is sometimes noted $M_i$ or $M_{i,*}$, but again there is no standard notation so people often prefer to explicitely define their own names, for example: \"*let **x**$_{i}$ be the $i^{th}$ row vector of matrix $X$*\". We will use the $M_{i,*}$, for the same reason as above. For example, to access $A_{2,*}$ (ie. $A$'s 2nd row vector):"
      ]
    },
    {
      "cell_type": "code",
      "metadata": {
        "id": "4WpOVWPGsA7x",
        "colab": {
          "base_uri": "https://localhost:8080/"
        },
        "outputId": "a458df25-4892-4015-a30a-ae1c92ed719d"
      },
      "source": [
        "A[1, :]  # 2nd row vector (as a 1D array)"
      ],
      "execution_count": null,
      "outputs": [
        {
          "output_type": "execute_result",
          "data": {
            "text/plain": [
              "array([40, 50, 60])"
            ]
          },
          "metadata": {},
          "execution_count": 49
        }
      ]
    },
    {
      "cell_type": "markdown",
      "metadata": {
        "id": "nDcvgrolsA7x"
      },
      "source": [
        "Similarly, the $j^{th}$ column vector is sometimes noted $M^j$ or $M_{*,j}$, but there is no standard notation. We will use $M_{*,j}$. For example, to access $A_{*,3}$ (ie. $A$'s 3rd column vector):"
      ]
    },
    {
      "cell_type": "code",
      "metadata": {
        "id": "9kcHRWwlsA7x",
        "colab": {
          "base_uri": "https://localhost:8080/"
        },
        "outputId": "32c7129b-0e73-4d31-a725-a22cbfcfdc16"
      },
      "source": [
        "A[:, 2]  # 3rd column vector (as a 1D array)"
      ],
      "execution_count": null,
      "outputs": [
        {
          "output_type": "execute_result",
          "data": {
            "text/plain": [
              "array([30, 60])"
            ]
          },
          "metadata": {},
          "execution_count": 50
        }
      ]
    },
    {
      "cell_type": "markdown",
      "metadata": {
        "id": "cNDkOPWwsA7x"
      },
      "source": [
        "Note that the result is actually a one-dimensional NumPy array: there is no such thing as a *vertical* or *horizontal* one-dimensional array. If you need to actually represent a row vector as a one-row matrix (ie. a 2D NumPy array), or a column vector as a one-column matrix, then you need to use a slice instead of an integer when accessing the row or column, for example:"
      ]
    },
    {
      "cell_type": "code",
      "metadata": {
        "id": "G8M2ok5AsA7y",
        "colab": {
          "base_uri": "https://localhost:8080/"
        },
        "outputId": "89cd1266-394e-49fa-be25-4fbad5cb762b"
      },
      "source": [
        "A[1:2, :]  # rows 2 to 3 (excluded): this returns row 2 as a one-row matrix"
      ],
      "execution_count": null,
      "outputs": [
        {
          "output_type": "execute_result",
          "data": {
            "text/plain": [
              "array([[40, 50, 60]])"
            ]
          },
          "metadata": {},
          "execution_count": 51
        }
      ]
    },
    {
      "cell_type": "code",
      "metadata": {
        "id": "klj6KmlGsA7y",
        "colab": {
          "base_uri": "https://localhost:8080/"
        },
        "outputId": "2390f70d-2ea1-4fdb-d565-43705b152849"
      },
      "source": [
        "A[:, 2:3]  # columns 3 to 4 (excluded): this returns column 3 as a one-column matrix"
      ],
      "execution_count": null,
      "outputs": [
        {
          "output_type": "execute_result",
          "data": {
            "text/plain": [
              "array([[30],\n",
              "       [60]])"
            ]
          },
          "metadata": {},
          "execution_count": 52
        }
      ]
    },
    {
      "cell_type": "markdown",
      "metadata": {
        "id": "qQXIHJUPsA7y"
      },
      "source": [
        "## Square, triangular, diagonal and identity matrices\n",
        "A **square matrix** is a matrix that has the same number of rows and columns, for example a $3 \\times 3$ matrix:\n",
        "\n",
        "\\begin{bmatrix}\n",
        "  4 & 9 & 2 \\\\\n",
        "  3 & 5 & 7 \\\\\n",
        "  8 & 1 & 6\n",
        "\\end{bmatrix}"
      ]
    },
    {
      "cell_type": "markdown",
      "metadata": {
        "id": "3y7uOYxKsA7y"
      },
      "source": [
        "An **upper triangular matrix** is a special kind of square matrix where all the elements *below* the main diagonal (top-left to bottom-right) are zero, for example:\n",
        "\n",
        "\\begin{bmatrix}\n",
        "  4 & 9 & 2 \\\\\n",
        "  0 & 5 & 7 \\\\\n",
        "  0 & 0 & 6\n",
        "\\end{bmatrix}"
      ]
    },
    {
      "cell_type": "markdown",
      "metadata": {
        "id": "2Bdff235sA7y"
      },
      "source": [
        "Similarly, a **lower triangular matrix** is a square matrix where all elements *above* the main diagonal are zero, for example:\n",
        "\n",
        "\\begin{bmatrix}\n",
        "  4 & 0 & 0 \\\\\n",
        "  3 & 5 & 0 \\\\\n",
        "  8 & 1 & 6\n",
        "\\end{bmatrix}"
      ]
    },
    {
      "cell_type": "markdown",
      "metadata": {
        "id": "VReQDTvRsA7y"
      },
      "source": [
        "A **triangular matrix** is one that is either lower triangular or upper triangular."
      ]
    },
    {
      "cell_type": "markdown",
      "metadata": {
        "id": "AXd04UV3sA7y"
      },
      "source": [
        "A matrix that is both upper and lower triangular is called a **diagonal matrix**, for example:\n",
        "\n",
        "\\begin{bmatrix}\n",
        "  4 & 0 & 0 \\\\\n",
        "  0 & 5 & 0 \\\\\n",
        "  0 & 0 & 6\n",
        "\\end{bmatrix}\n",
        "\n",
        "You can construct a diagonal matrix using NumPy's `diag` function:"
      ]
    },
    {
      "cell_type": "code",
      "metadata": {
        "id": "0IKMmwrZsA7y",
        "colab": {
          "base_uri": "https://localhost:8080/"
        },
        "outputId": "a761631f-b5e1-41f0-bb13-f7e7dd6686dc"
      },
      "source": [
        "np.diag([4, 5, 6])"
      ],
      "execution_count": null,
      "outputs": [
        {
          "output_type": "execute_result",
          "data": {
            "text/plain": [
              "array([[4, 0, 0],\n",
              "       [0, 5, 0],\n",
              "       [0, 0, 6]])"
            ]
          },
          "metadata": {},
          "execution_count": 53
        }
      ]
    },
    {
      "cell_type": "markdown",
      "metadata": {
        "id": "gpfInb8IsA7z"
      },
      "source": [
        "If you pass a matrix to the `diag` function, it will happily extract the diagonal values:"
      ]
    },
    {
      "cell_type": "code",
      "metadata": {
        "id": "gAA_tOXmsA7z",
        "colab": {
          "base_uri": "https://localhost:8080/"
        },
        "outputId": "b9e876de-cb78-4712-e462-544c87e56d82"
      },
      "source": [
        "D = np.array([\n",
        "        [1, 2, 3],\n",
        "        [4, 5, 6],\n",
        "        [7, 8, 9],\n",
        "    ])\n",
        "np.diag(D)"
      ],
      "execution_count": null,
      "outputs": [
        {
          "output_type": "execute_result",
          "data": {
            "text/plain": [
              "array([1, 5, 9])"
            ]
          },
          "metadata": {},
          "execution_count": 54
        }
      ]
    },
    {
      "cell_type": "markdown",
      "metadata": {
        "id": "NAZdxj5psA7z"
      },
      "source": [
        "Finally, the **identity matrix** of size $n$, noted $I_n$, is a diagonal matrix of size $n \\times n$ with $1$'s in the main diagonal, for example $I_3$:\n",
        "\n",
        "\\begin{bmatrix}\n",
        "  1 & 0 & 0 \\\\\n",
        "  0 & 1 & 0 \\\\\n",
        "  0 & 0 & 1\n",
        "\\end{bmatrix}\n",
        "\n",
        "Numpy's `eye` function returns the identity matrix of the desired size:"
      ]
    },
    {
      "cell_type": "code",
      "metadata": {
        "id": "VQ3YtfEusA7z",
        "colab": {
          "base_uri": "https://localhost:8080/"
        },
        "outputId": "df98efac-0523-4f32-a17b-22bdbf3d4866"
      },
      "source": [
        "np.eye(3)"
      ],
      "execution_count": null,
      "outputs": [
        {
          "output_type": "execute_result",
          "data": {
            "text/plain": [
              "array([[1., 0., 0.],\n",
              "       [0., 1., 0.],\n",
              "       [0., 0., 1.]])"
            ]
          },
          "metadata": {},
          "execution_count": 55
        }
      ]
    },
    {
      "cell_type": "markdown",
      "metadata": {
        "id": "dSjcnpVzsA7z"
      },
      "source": [
        "The identity matrix is often noted simply $I$ (instead of $I_n$) when its size is clear given the context. It is called the *identity* matrix because multiplying a matrix with it leaves the matrix unchanged as we will see below."
      ]
    },
    {
      "cell_type": "markdown",
      "metadata": {
        "id": "E0l31NvdsA7z"
      },
      "source": [
        "## Adding matrices\n",
        "If two matrices $Q$ and $R$ have the same size $m \\times n$, they can be added together. Addition is performed *elementwise*: the result is also a $m \\times n$ matrix $S$ where each element is the sum of the elements at the corresponding position: $S_{i,j} = Q_{i,j} + R_{i,j}$\n",
        "\n",
        "$S =\n",
        "\\begin{bmatrix}\n",
        "  Q_{11} + R_{11} & Q_{12} + R_{12} & Q_{13} + R_{13} & \\cdots & Q_{1n} + R_{1n} \\\\\n",
        "  Q_{21} + R_{21} & Q_{22} + R_{22} & Q_{23} + R_{23} & \\cdots & Q_{2n} + R_{2n}  \\\\\n",
        "  Q_{31} + R_{31} & Q_{32} + R_{32} & Q_{33} + R_{33} & \\cdots & Q_{3n} + R_{3n}  \\\\\n",
        "  \\vdots & \\vdots & \\vdots & \\ddots & \\vdots \\\\\n",
        "  Q_{m1} + R_{m1} & Q_{m2} + R_{m2} & Q_{m3} + R_{m3} & \\cdots & Q_{mn} + R_{mn}  \\\\\n",
        "\\end{bmatrix}$\n",
        "\n",
        "For example, let's create a $2 \\times 3$ matric $B$ and compute $A + B$:"
      ]
    },
    {
      "cell_type": "code",
      "metadata": {
        "id": "VA9gXFpGsA70",
        "colab": {
          "base_uri": "https://localhost:8080/"
        },
        "outputId": "aac7b7ae-aad5-4204-f291-49a1b028825e"
      },
      "source": [
        "B = np.array([[1,2,3], [4, 5, 6]])\n",
        "B"
      ],
      "execution_count": null,
      "outputs": [
        {
          "output_type": "execute_result",
          "data": {
            "text/plain": [
              "array([[1, 2, 3],\n",
              "       [4, 5, 6]])"
            ]
          },
          "metadata": {},
          "execution_count": 56
        }
      ]
    },
    {
      "cell_type": "code",
      "metadata": {
        "id": "FYQ9hbSlsA70",
        "colab": {
          "base_uri": "https://localhost:8080/"
        },
        "outputId": "8f5fdc32-8a18-4517-f6cb-bb99fb7a6d09"
      },
      "source": [
        "A"
      ],
      "execution_count": null,
      "outputs": [
        {
          "output_type": "execute_result",
          "data": {
            "text/plain": [
              "array([[10, 20, 30],\n",
              "       [40, 50, 60]])"
            ]
          },
          "metadata": {},
          "execution_count": 57
        }
      ]
    },
    {
      "cell_type": "code",
      "metadata": {
        "id": "sShLpXhUsA70",
        "colab": {
          "base_uri": "https://localhost:8080/"
        },
        "outputId": "76248844-836d-44e4-81c8-33ea233e6b3d"
      },
      "source": [
        "A + B"
      ],
      "execution_count": null,
      "outputs": [
        {
          "output_type": "execute_result",
          "data": {
            "text/plain": [
              "array([[11, 22, 33],\n",
              "       [44, 55, 66]])"
            ]
          },
          "metadata": {},
          "execution_count": 58
        }
      ]
    },
    {
      "cell_type": "markdown",
      "metadata": {
        "id": "wyq6ai5FsA70"
      },
      "source": [
        "**Addition is *commutative***, meaning that $A + B = B + A$:"
      ]
    },
    {
      "cell_type": "code",
      "metadata": {
        "id": "lMLFcbiTsA70",
        "colab": {
          "base_uri": "https://localhost:8080/"
        },
        "outputId": "9c3677bc-8168-430a-9dd0-91a23085dda2"
      },
      "source": [
        "B + A"
      ],
      "execution_count": null,
      "outputs": [
        {
          "output_type": "execute_result",
          "data": {
            "text/plain": [
              "array([[11, 22, 33],\n",
              "       [44, 55, 66]])"
            ]
          },
          "metadata": {},
          "execution_count": 59
        }
      ]
    },
    {
      "cell_type": "markdown",
      "metadata": {
        "id": "UlqOnacVsA72"
      },
      "source": [
        "**It is also *associative***, meaning that $A + (B + C) = (A + B) + C$:"
      ]
    },
    {
      "cell_type": "code",
      "metadata": {
        "id": "mDNedI1RsA72",
        "colab": {
          "base_uri": "https://localhost:8080/"
        },
        "outputId": "fa7a2375-0de9-4f32-8048-051a221ef02a"
      },
      "source": [
        "C = np.array([[100,200,300], [400, 500, 600]])\n",
        "\n",
        "A + (B + C)"
      ],
      "execution_count": null,
      "outputs": [
        {
          "output_type": "execute_result",
          "data": {
            "text/plain": [
              "array([[111, 222, 333],\n",
              "       [444, 555, 666]])"
            ]
          },
          "metadata": {},
          "execution_count": 60
        }
      ]
    },
    {
      "cell_type": "code",
      "metadata": {
        "id": "FXvoo0kesA72",
        "colab": {
          "base_uri": "https://localhost:8080/"
        },
        "outputId": "ef7ec17e-2c21-4ddb-9b9c-3c4e4c0138b0"
      },
      "source": [
        "(A + B) + C"
      ],
      "execution_count": null,
      "outputs": [
        {
          "output_type": "execute_result",
          "data": {
            "text/plain": [
              "array([[111, 222, 333],\n",
              "       [444, 555, 666]])"
            ]
          },
          "metadata": {},
          "execution_count": 61
        }
      ]
    },
    {
      "cell_type": "markdown",
      "metadata": {
        "id": "qILQJXIksA72"
      },
      "source": [
        "## Scalar multiplication\n",
        "A matrix $M$ can be multiplied by a scalar $\\lambda$. The result is noted $\\lambda M$, and it is a matrix of the same size as $M$ with all elements multiplied by $\\lambda$:\n",
        "\n",
        "$\\lambda M =\n",
        "\\begin{bmatrix}\n",
        "  \\lambda \\times M_{11} & \\lambda \\times M_{12} & \\lambda \\times M_{13} & \\cdots & \\lambda \\times M_{1n} \\\\\n",
        "  \\lambda \\times M_{21} & \\lambda \\times M_{22} & \\lambda \\times M_{23} & \\cdots & \\lambda \\times M_{2n} \\\\\n",
        "  \\lambda \\times M_{31} & \\lambda \\times M_{32} & \\lambda \\times M_{33} & \\cdots & \\lambda \\times M_{3n} \\\\\n",
        "  \\vdots & \\vdots & \\vdots & \\ddots & \\vdots \\\\\n",
        "  \\lambda \\times M_{m1} & \\lambda \\times M_{m2} & \\lambda \\times M_{m3} & \\cdots & \\lambda \\times M_{mn} \\\\\n",
        "\\end{bmatrix}$\n",
        "\n",
        "A more concise way of writing this is:\n",
        "\n",
        "$(\\lambda M)_{i,j} = \\lambda (M)_{i,j}$\n",
        "\n",
        "In NumPy, simply use the `*` operator to multiply a matrix by a scalar. For example:"
      ]
    },
    {
      "cell_type": "code",
      "metadata": {
        "id": "4G_KrQPZsA72",
        "colab": {
          "base_uri": "https://localhost:8080/"
        },
        "outputId": "5a56b34a-9bc6-4936-993c-fa7a745f4638"
      },
      "source": [
        "2 * A"
      ],
      "execution_count": null,
      "outputs": [
        {
          "output_type": "execute_result",
          "data": {
            "text/plain": [
              "array([[ 20,  40,  60],\n",
              "       [ 80, 100, 120]])"
            ]
          },
          "metadata": {},
          "execution_count": 62
        }
      ]
    },
    {
      "cell_type": "markdown",
      "metadata": {
        "id": "XyuhmQaGsA73"
      },
      "source": [
        "Scalar multiplication is also defined on the right hand side, and gives the same result: $M \\lambda = \\lambda M$. For example:"
      ]
    },
    {
      "cell_type": "code",
      "metadata": {
        "id": "7quwBI4bsA73",
        "colab": {
          "base_uri": "https://localhost:8080/"
        },
        "outputId": "88a22d17-0dfd-4a6b-f6b1-ea0d68a622b8"
      },
      "source": [
        "A * 2"
      ],
      "execution_count": null,
      "outputs": [
        {
          "output_type": "execute_result",
          "data": {
            "text/plain": [
              "array([[ 20,  40,  60],\n",
              "       [ 80, 100, 120]])"
            ]
          },
          "metadata": {},
          "execution_count": 63
        }
      ]
    },
    {
      "cell_type": "markdown",
      "metadata": {
        "id": "2QPTQj4jsA73"
      },
      "source": [
        "This makes scalar multiplication **commutative**.\n",
        "\n",
        "It is also **associative**, meaning that $\\alpha (\\beta M) = (\\alpha \\times \\beta) M$, where $\\alpha$ and $\\beta$ are scalars. For example:"
      ]
    },
    {
      "cell_type": "code",
      "metadata": {
        "id": "tAO6PZyNsA74",
        "colab": {
          "base_uri": "https://localhost:8080/"
        },
        "outputId": "b20df11f-ec34-4601-8638-35afe34d1f37"
      },
      "source": [
        "2 * (3 * A)"
      ],
      "execution_count": null,
      "outputs": [
        {
          "output_type": "execute_result",
          "data": {
            "text/plain": [
              "array([[ 60, 120, 180],\n",
              "       [240, 300, 360]])"
            ]
          },
          "metadata": {},
          "execution_count": 64
        }
      ]
    },
    {
      "cell_type": "code",
      "metadata": {
        "id": "IXCusHE4sA74",
        "colab": {
          "base_uri": "https://localhost:8080/"
        },
        "outputId": "2b74bd1e-0466-49ab-a395-cdf7f8e20e8b"
      },
      "source": [
        "(2 * 3) * A"
      ],
      "execution_count": null,
      "outputs": [
        {
          "output_type": "execute_result",
          "data": {
            "text/plain": [
              "array([[ 60, 120, 180],\n",
              "       [240, 300, 360]])"
            ]
          },
          "metadata": {},
          "execution_count": 65
        }
      ]
    },
    {
      "cell_type": "markdown",
      "metadata": {
        "id": "DlIqTxOksA74"
      },
      "source": [
        "Finally, it is **distributive over addition** of matrices, meaning that $\\lambda (Q + R) = \\lambda Q + \\lambda R$:"
      ]
    },
    {
      "cell_type": "code",
      "metadata": {
        "id": "-MXIqOHxsA74",
        "colab": {
          "base_uri": "https://localhost:8080/"
        },
        "outputId": "e64d87f9-4e88-49da-a014-b74c183c5da1"
      },
      "source": [
        "2 * (A + B)"
      ],
      "execution_count": null,
      "outputs": [
        {
          "output_type": "execute_result",
          "data": {
            "text/plain": [
              "array([[ 22,  44,  66],\n",
              "       [ 88, 110, 132]])"
            ]
          },
          "metadata": {},
          "execution_count": 66
        }
      ]
    },
    {
      "cell_type": "code",
      "metadata": {
        "id": "w8hPm238sA74",
        "colab": {
          "base_uri": "https://localhost:8080/"
        },
        "outputId": "d36e8147-8531-4a79-cca9-797b4fdb32f6"
      },
      "source": [
        "2 * A + 2 * B"
      ],
      "execution_count": null,
      "outputs": [
        {
          "output_type": "execute_result",
          "data": {
            "text/plain": [
              "array([[ 22,  44,  66],\n",
              "       [ 88, 110, 132]])"
            ]
          },
          "metadata": {},
          "execution_count": 67
        }
      ]
    },
    {
      "cell_type": "markdown",
      "metadata": {
        "id": "EoavEpCbsA74"
      },
      "source": [
        "## Matrix multiplication\n",
        "So far, matrix operations have been rather intuitive. But multiplying matrices is a bit more involved.\n",
        "\n",
        "A matrix $Q$ of size $m \\times n$ can be multiplied by a matrix $R$ of size $n \\times q$. It is noted simply $QR$ without multiplication sign or dot. The result $P$ is an $m \\times q$ matrix where each element is computed as a sum of products:\n",
        "\n",
        "$P_{i,j} = \\sum_{k=1}^n{Q_{i,k} \\times R_{k,j}}$\n",
        "\n",
        "The element at position $i,j$ in the resulting matrix is the sum of the products of elements in row $i$ of matrix $Q$ by the elements in column $j$ of matrix $R$.\n",
        "\n",
        "$P =\n",
        "\\begin{bmatrix}\n",
        "Q_{11} R_{11} + Q_{12} R_{21} + \\cdots + Q_{1n} R_{n1} &\n",
        "  Q_{11} R_{12} + Q_{12} R_{22} + \\cdots + Q_{1n} R_{n2} &\n",
        "    \\cdots &\n",
        "      Q_{11} R_{1q} + Q_{12} R_{2q} + \\cdots + Q_{1n} R_{nq} \\\\\n",
        "Q_{21} R_{11} + Q_{22} R_{21} + \\cdots + Q_{2n} R_{n1} &\n",
        "  Q_{21} R_{12} + Q_{22} R_{22} + \\cdots + Q_{2n} R_{n2} &\n",
        "    \\cdots &\n",
        "      Q_{21} R_{1q} + Q_{22} R_{2q} + \\cdots + Q_{2n} R_{nq} \\\\\n",
        "  \\vdots & \\vdots & \\ddots & \\vdots \\\\\n",
        "Q_{m1} R_{11} + Q_{m2} R_{21} + \\cdots + Q_{mn} R_{n1} &\n",
        "  Q_{m1} R_{12} + Q_{m2} R_{22} + \\cdots + Q_{mn} R_{n2} &\n",
        "    \\cdots &\n",
        "      Q_{m1} R_{1q} + Q_{m2} R_{2q} + \\cdots + Q_{mn} R_{nq}\n",
        "\\end{bmatrix}$\n",
        "\n",
        "You may notice that each element $P_{i,j}$ is the dot product of the row vector $Q_{i,*}$ and the column vector $R_{*,j}$:\n",
        "\n",
        "$P_{i,j} = Q_{i,*} \\cdot R_{*,j}$\n",
        "\n",
        "So we can rewrite $P$ more concisely as:\n",
        "\n",
        "$P =\n",
        "\\begin{bmatrix}\n",
        "Q_{1,*} \\cdot R_{*,1} & Q_{1,*} \\cdot R_{*,2} & \\cdots & Q_{1,*} \\cdot R_{*,q} \\\\\n",
        "Q_{2,*} \\cdot R_{*,1} & Q_{2,*} \\cdot R_{*,2} & \\cdots & Q_{2,*} \\cdot R_{*,q} \\\\\n",
        "\\vdots & \\vdots & \\ddots & \\vdots \\\\\n",
        "Q_{m,*} \\cdot R_{*,1} & Q_{m,*} \\cdot R_{*,2} & \\cdots & Q_{m,*} \\cdot R_{*,q}\n",
        "\\end{bmatrix}$\n"
      ]
    },
    {
      "cell_type": "markdown",
      "metadata": {
        "id": "qAQnEVcasA75"
      },
      "source": [
        "Let's multiply two matrices in NumPy, using `ndarray`'s `dot` method:\n",
        "\n",
        "$E = AD = \\begin{bmatrix}\n",
        "  10 & 20 & 30 \\\\\n",
        "  40 & 50 & 60\n",
        "\\end{bmatrix}\n",
        "\\begin{bmatrix}\n",
        "  2 & 3 & 5 & 7 \\\\\n",
        "  11 & 13 & 17 & 19 \\\\\n",
        "  23 & 29 & 31 & 37\n",
        "\\end{bmatrix} =\n",
        "\\begin{bmatrix}\n",
        "  930 & 1160 & 1320 & 1560 \\\\\n",
        "  2010 & 2510 & 2910 & 3450\n",
        "\\end{bmatrix}$"
      ]
    },
    {
      "cell_type": "code",
      "metadata": {
        "id": "di18Wx02sA75",
        "colab": {
          "base_uri": "https://localhost:8080/"
        },
        "outputId": "f3cefd7e-a564-4170-d229-2ff68b38145c"
      },
      "source": [
        "D = np.array([\n",
        "        [ 2,  3,  5,  7],\n",
        "        [11, 13, 17, 19],\n",
        "        [23, 29, 31, 37]\n",
        "    ])\n",
        "E = A.dot(D)\n",
        "E"
      ],
      "execution_count": null,
      "outputs": [
        {
          "output_type": "execute_result",
          "data": {
            "text/plain": [
              "array([[ 930, 1160, 1320, 1560],\n",
              "       [2010, 2510, 2910, 3450]])"
            ]
          },
          "metadata": {},
          "execution_count": 68
        }
      ]
    },
    {
      "cell_type": "markdown",
      "metadata": {
        "id": "txK4p6rysA75"
      },
      "source": [
        "Let's check this result by looking at one element, just to be sure: looking at $E_{2,3}$ for example, we need to multiply elements in $A$'s $2^{nd}$ row by elements in $D$'s $3^{rd}$ column, and sum up these products:"
      ]
    },
    {
      "cell_type": "code",
      "metadata": {
        "id": "3DYceeaqsA75",
        "colab": {
          "base_uri": "https://localhost:8080/"
        },
        "outputId": "7522f5a7-f85e-4421-e002-ccf3b7a171a8"
      },
      "source": [
        "40*5 + 50*17 + 60*31"
      ],
      "execution_count": null,
      "outputs": [
        {
          "output_type": "execute_result",
          "data": {
            "text/plain": [
              "2910"
            ]
          },
          "metadata": {},
          "execution_count": 69
        }
      ]
    },
    {
      "cell_type": "code",
      "metadata": {
        "id": "MWEgFPocsA75",
        "colab": {
          "base_uri": "https://localhost:8080/"
        },
        "outputId": "9b6df8ee-ed0e-49a2-9a9e-f4e99c77c1eb"
      },
      "source": [
        "E[1,2]  # row 2, column 3"
      ],
      "execution_count": null,
      "outputs": [
        {
          "output_type": "execute_result",
          "data": {
            "text/plain": [
              "2910"
            ]
          },
          "metadata": {},
          "execution_count": 70
        }
      ]
    },
    {
      "cell_type": "markdown",
      "metadata": {
        "id": "RznMGVrKsA76"
      },
      "source": [
        "Looks good! You can check the other elements until you get used to the algorithm.\n",
        "\n",
        "We multiplied a $2 \\times 3$ matrix by a $3 \\times 4$ matrix, so the result is a $2 \\times 4$ matrix. The first matrix's number of columns has to be equal to the second matrix's number of rows. If we try to multiple $D$ by $A$, we get an error because D has 4 columns while A has 2 rows:"
      ]
    },
    {
      "cell_type": "code",
      "metadata": {
        "id": "c1IXdnwksA76",
        "colab": {
          "base_uri": "https://localhost:8080/"
        },
        "outputId": "e50cb1c0-91a3-44c5-f381-1c5ac0aa5952"
      },
      "source": [
        "try:\n",
        "    D.dot(A)\n",
        "except ValueError as e:\n",
        "    print(\"ValueError:\", e)"
      ],
      "execution_count": null,
      "outputs": [
        {
          "output_type": "stream",
          "name": "stdout",
          "text": [
            "ValueError: shapes (3,4) and (2,3) not aligned: 4 (dim 1) != 2 (dim 0)\n"
          ]
        }
      ]
    },
    {
      "cell_type": "markdown",
      "metadata": {
        "id": "VcWQ1MsBsA76"
      },
      "source": [
        "This illustrates the fact that **matrix multiplication is *NOT* commutative**: in general $QR ≠ RQ$\n",
        "\n",
        "In fact, $QR$ and $RQ$ are only *both* defined if $Q$ has size $m \\times n$ and $R$ has size $n \\times m$. Let's look at an example where both *are* defined and show that they are (in general) *NOT* equal:"
      ]
    },
    {
      "cell_type": "code",
      "metadata": {
        "id": "bOJe-ZOLsA76",
        "colab": {
          "base_uri": "https://localhost:8080/"
        },
        "outputId": "96ddcee5-c934-481e-df3f-b99a12b2d84b"
      },
      "source": [
        "F = np.array([\n",
        "        [5,2],\n",
        "        [4,1],\n",
        "        [9,3]\n",
        "    ])\n",
        "A.dot(F)"
      ],
      "execution_count": null,
      "outputs": [
        {
          "output_type": "execute_result",
          "data": {
            "text/plain": [
              "array([[400, 130],\n",
              "       [940, 310]])"
            ]
          },
          "metadata": {},
          "execution_count": 72
        }
      ]
    },
    {
      "cell_type": "code",
      "metadata": {
        "id": "NwPvmBy3sA76",
        "colab": {
          "base_uri": "https://localhost:8080/"
        },
        "outputId": "3b7e4970-a6a5-4681-8c8e-eb190d49931b"
      },
      "source": [
        "F.dot(A)"
      ],
      "execution_count": null,
      "outputs": [
        {
          "output_type": "execute_result",
          "data": {
            "text/plain": [
              "array([[130, 200, 270],\n",
              "       [ 80, 130, 180],\n",
              "       [210, 330, 450]])"
            ]
          },
          "metadata": {},
          "execution_count": 73
        }
      ]
    },
    {
      "cell_type": "markdown",
      "metadata": {
        "id": "030W9sE_sA77"
      },
      "source": [
        "On the other hand, **matrix multiplication *is* associative**, meaning that $Q(RS) = (QR)S$. Let's create a $4 \\times 5$ matrix $G$ to illustrate this:"
      ]
    },
    {
      "cell_type": "code",
      "metadata": {
        "id": "oucCWKPEsA77",
        "colab": {
          "base_uri": "https://localhost:8080/"
        },
        "outputId": "b38f1989-6280-49f1-e043-4fde9abcf352"
      },
      "source": [
        "G = np.array([\n",
        "        [8,  7,  4,  2,  5],\n",
        "        [2,  5,  1,  0,  5],\n",
        "        [9, 11, 17, 21,  0],\n",
        "        [0,  1,  0,  1,  2]])\n",
        "A.dot(D).dot(G)     # (AB)G"
      ],
      "execution_count": null,
      "outputs": [
        {
          "output_type": "execute_result",
          "data": {
            "text/plain": [
              "array([[21640, 28390, 27320, 31140, 13570],\n",
              "       [47290, 62080, 60020, 68580, 29500]])"
            ]
          },
          "metadata": {},
          "execution_count": 74
        }
      ]
    },
    {
      "cell_type": "code",
      "metadata": {
        "id": "qGzv-FggsA77",
        "colab": {
          "base_uri": "https://localhost:8080/"
        },
        "outputId": "7ba2d7f8-2238-4991-e0bc-81751761cd16"
      },
      "source": [
        "A.dot(D.dot(G))     # A(BG)"
      ],
      "execution_count": null,
      "outputs": [
        {
          "output_type": "execute_result",
          "data": {
            "text/plain": [
              "array([[21640, 28390, 27320, 31140, 13570],\n",
              "       [47290, 62080, 60020, 68580, 29500]])"
            ]
          },
          "metadata": {},
          "execution_count": 75
        }
      ]
    },
    {
      "cell_type": "markdown",
      "metadata": {
        "id": "KjY2s2QFsA77"
      },
      "source": [
        "It is also ***distributive* over addition** of matrices, meaning that $(Q + R)S = QS + RS$. For example:"
      ]
    },
    {
      "cell_type": "code",
      "metadata": {
        "id": "86JvZLL_sA78",
        "colab": {
          "base_uri": "https://localhost:8080/"
        },
        "outputId": "a8587781-5007-4b84-80b4-212778cc90de"
      },
      "source": [
        "(A + B).dot(D)"
      ],
      "execution_count": null,
      "outputs": [
        {
          "output_type": "execute_result",
          "data": {
            "text/plain": [
              "array([[1023, 1276, 1452, 1716],\n",
              "       [2211, 2761, 3201, 3795]])"
            ]
          },
          "metadata": {},
          "execution_count": 76
        }
      ]
    },
    {
      "cell_type": "code",
      "metadata": {
        "id": "q1bi4-X0sA78",
        "colab": {
          "base_uri": "https://localhost:8080/"
        },
        "outputId": "5abb2240-637b-443d-e4e1-425389be39bc"
      },
      "source": [
        "A.dot(D) + B.dot(D)"
      ],
      "execution_count": null,
      "outputs": [
        {
          "output_type": "execute_result",
          "data": {
            "text/plain": [
              "array([[1023, 1276, 1452, 1716],\n",
              "       [2211, 2761, 3201, 3795]])"
            ]
          },
          "metadata": {},
          "execution_count": 77
        }
      ]
    },
    {
      "cell_type": "markdown",
      "metadata": {
        "id": "dQfx8mdosA78"
      },
      "source": [
        "The product of a matrix $M$ by the identity matrix (of matching size) results in the same matrix $M$. More formally, if $M$ is an $m \\times n$ matrix, then:\n",
        "\n",
        "$M I_n = I_m M = M$\n",
        "\n",
        "This is generally written more concisely (since the size of the identity matrices is unambiguous given the context):\n",
        "\n",
        "$MI = IM = M$\n",
        "\n",
        "For example:"
      ]
    },
    {
      "cell_type": "code",
      "metadata": {
        "id": "1JTu8n-EsA78",
        "colab": {
          "base_uri": "https://localhost:8080/"
        },
        "outputId": "ca6aaa7e-c75e-4a0b-c803-850b96383011"
      },
      "source": [
        "A.dot(np.eye(3))"
      ],
      "execution_count": null,
      "outputs": [
        {
          "output_type": "execute_result",
          "data": {
            "text/plain": [
              "array([[10., 20., 30.],\n",
              "       [40., 50., 60.]])"
            ]
          },
          "metadata": {},
          "execution_count": 78
        }
      ]
    },
    {
      "cell_type": "code",
      "metadata": {
        "id": "Y_TO9TshsA78",
        "colab": {
          "base_uri": "https://localhost:8080/"
        },
        "outputId": "bcaadf43-4ec8-434f-e831-8fe471817333"
      },
      "source": [
        "np.eye(2).dot(A)"
      ],
      "execution_count": null,
      "outputs": [
        {
          "output_type": "execute_result",
          "data": {
            "text/plain": [
              "array([[10., 20., 30.],\n",
              "       [40., 50., 60.]])"
            ]
          },
          "metadata": {},
          "execution_count": 79
        }
      ]
    },
    {
      "cell_type": "markdown",
      "metadata": {
        "id": "W50dujd5sA78"
      },
      "source": [
        "**Caution**: NumPy's `*` operator performs elementwise multiplication, *NOT* a matrix multiplication:"
      ]
    },
    {
      "cell_type": "code",
      "metadata": {
        "scrolled": true,
        "id": "_LK6VrLHsA78",
        "colab": {
          "base_uri": "https://localhost:8080/"
        },
        "outputId": "c09b7b5a-6769-4af0-ef35-642e04419854"
      },
      "source": [
        "A * B   # NOT a matrix multiplication"
      ],
      "execution_count": null,
      "outputs": [
        {
          "output_type": "execute_result",
          "data": {
            "text/plain": [
              "array([[ 10,  40,  90],\n",
              "       [160, 250, 360]])"
            ]
          },
          "metadata": {},
          "execution_count": 80
        }
      ]
    },
    {
      "cell_type": "markdown",
      "metadata": {
        "id": "FDSeIQ2vsA79"
      },
      "source": [
        "**The @ infix operator**\n",
        "\n",
        "Python 3.5 [introduced](https://docs.python.org/3/whatsnew/3.5.html#pep-465-a-dedicated-infix-operator-for-matrix-multiplication) the `@` infix operator for matrix multiplication, and NumPy 1.10 added support for it. If you are using Python 3.5+ and NumPy 1.10+, you can simply write `A @ D` instead of `A.dot(D)`, making your code much more readable (but less portable). This operator also works for vector dot products."
      ]
    },
    {
      "cell_type": "code",
      "metadata": {
        "id": "zFIrjyX8sA79",
        "colab": {
          "base_uri": "https://localhost:8080/"
        },
        "outputId": "ba0cdd34-d8e1-41c6-9467-ee90780d3eb9"
      },
      "source": [
        "import sys\n",
        "print(\"Python version: {}.{}.{}\".format(*sys.version_info))\n",
        "print(\"Numpy version:\", np.version.version)\n",
        "\n",
        "# Uncomment the following line if your Python version is ≥3.5\n",
        "# and your NumPy version is ≥1.10:\n",
        "\n",
        "#A @ D"
      ],
      "execution_count": null,
      "outputs": [
        {
          "output_type": "stream",
          "name": "stdout",
          "text": [
            "Python version: 3.7.12\n",
            "Numpy version: 1.19.5\n"
          ]
        }
      ]
    },
    {
      "cell_type": "markdown",
      "metadata": {
        "id": "GFXXjWyGsA79"
      },
      "source": [
        "Note: `Q @ R` is actually equivalent to `Q.__matmul__(R)` which is implemented by NumPy as `np.matmul(Q, R)`, not as `Q.dot(R)`. The main difference is that `matmul` does not support scalar multiplication, while `dot` does, so you can write `Q.dot(3)`, which is equivalent to `Q * 3`, but you cannot write `Q @ 3` ([more details](http://stackoverflow.com/a/34142617/38626))."
      ]
    },
    {
      "cell_type": "markdown",
      "metadata": {
        "id": "UjM4lA1_sA79"
      },
      "source": [
        "## Matrix transpose\n",
        "The transpose of a matrix $M$ is a matrix noted $M^T$ such that the $i^{th}$ row in $M^T$ is equal to the $i^{th}$ column in $M$:\n",
        "\n",
        "$ A^T =\n",
        "\\begin{bmatrix}\n",
        "  10 & 20 & 30 \\\\\n",
        "  40 & 50 & 60\n",
        "\\end{bmatrix}^T =\n",
        "\\begin{bmatrix}\n",
        "  10 & 40 \\\\\n",
        "  20 & 50 \\\\\n",
        "  30 & 60\n",
        "\\end{bmatrix}$\n",
        "\n",
        "In other words, ($A^T)_{i,j}$ = $A_{j,i}$\n",
        "\n",
        "Obviously, if $M$ is an $m \\times n$ matrix, then $M^T$ is an $n \\times m$ matrix.\n",
        "\n",
        "Note: there are a few other notations, such as $M^t$, $M′$, or ${^t}M$.\n",
        "\n",
        "In NumPy, a matrix's transpose can be obtained simply using the `T` attribute:"
      ]
    },
    {
      "cell_type": "code",
      "metadata": {
        "id": "OH6HpXzWsA79",
        "colab": {
          "base_uri": "https://localhost:8080/"
        },
        "outputId": "892a7ffb-c9c3-4a43-8e9f-0665cc2362b0"
      },
      "source": [
        "A"
      ],
      "execution_count": null,
      "outputs": [
        {
          "output_type": "execute_result",
          "data": {
            "text/plain": [
              "array([[10, 20, 30],\n",
              "       [40, 50, 60]])"
            ]
          },
          "metadata": {},
          "execution_count": 82
        }
      ]
    },
    {
      "cell_type": "code",
      "metadata": {
        "id": "Uvk29GHesA79",
        "colab": {
          "base_uri": "https://localhost:8080/"
        },
        "outputId": "aefcb8c7-0a80-492a-d76f-1870a7db4247"
      },
      "source": [
        "A.T"
      ],
      "execution_count": null,
      "outputs": [
        {
          "output_type": "execute_result",
          "data": {
            "text/plain": [
              "array([[10, 40],\n",
              "       [20, 50],\n",
              "       [30, 60]])"
            ]
          },
          "metadata": {},
          "execution_count": 83
        }
      ]
    },
    {
      "cell_type": "markdown",
      "metadata": {
        "id": "TYpNarZrsA79"
      },
      "source": [
        "As you might expect, transposing a matrix twice returns the original matrix:"
      ]
    },
    {
      "cell_type": "code",
      "metadata": {
        "id": "RpyIlJqGsA79",
        "colab": {
          "base_uri": "https://localhost:8080/"
        },
        "outputId": "eae9bb41-4e62-4ebf-9a9b-5e303400998a"
      },
      "source": [
        "A.T.T"
      ],
      "execution_count": null,
      "outputs": [
        {
          "output_type": "execute_result",
          "data": {
            "text/plain": [
              "array([[10, 20, 30],\n",
              "       [40, 50, 60]])"
            ]
          },
          "metadata": {},
          "execution_count": 84
        }
      ]
    },
    {
      "cell_type": "markdown",
      "metadata": {
        "id": "BMQjih6bsA7-"
      },
      "source": [
        "Transposition is distributive over addition of matrices, meaning that $(Q + R)^T = Q^T + R^T$. For example:"
      ]
    },
    {
      "cell_type": "code",
      "metadata": {
        "id": "_t4WyKIhsA7-",
        "colab": {
          "base_uri": "https://localhost:8080/"
        },
        "outputId": "a18d3200-f281-44d9-e97f-34b390f3b08c"
      },
      "source": [
        "(A + B).T"
      ],
      "execution_count": null,
      "outputs": [
        {
          "output_type": "execute_result",
          "data": {
            "text/plain": [
              "array([[11, 44],\n",
              "       [22, 55],\n",
              "       [33, 66]])"
            ]
          },
          "metadata": {},
          "execution_count": 85
        }
      ]
    },
    {
      "cell_type": "code",
      "metadata": {
        "id": "yoDQt3m3sA7-",
        "colab": {
          "base_uri": "https://localhost:8080/"
        },
        "outputId": "bcc9cb89-4668-4dca-df8b-c7ff5d9a4436"
      },
      "source": [
        "A.T + B.T"
      ],
      "execution_count": null,
      "outputs": [
        {
          "output_type": "execute_result",
          "data": {
            "text/plain": [
              "array([[11, 44],\n",
              "       [22, 55],\n",
              "       [33, 66]])"
            ]
          },
          "metadata": {},
          "execution_count": 86
        }
      ]
    },
    {
      "cell_type": "markdown",
      "metadata": {
        "id": "pMb6If_asA7_"
      },
      "source": [
        "Moreover, $(Q \\cdot R)^T = R^T \\cdot Q^T$. Note that the order is reversed. For example:"
      ]
    },
    {
      "cell_type": "code",
      "metadata": {
        "id": "IzoRgIhOsA7_",
        "colab": {
          "base_uri": "https://localhost:8080/"
        },
        "outputId": "b16d5c0e-654c-4bb6-b5be-1f2c4de4c89f"
      },
      "source": [
        "(A.dot(D)).T"
      ],
      "execution_count": null,
      "outputs": [
        {
          "output_type": "execute_result",
          "data": {
            "text/plain": [
              "array([[ 930, 2010],\n",
              "       [1160, 2510],\n",
              "       [1320, 2910],\n",
              "       [1560, 3450]])"
            ]
          },
          "metadata": {},
          "execution_count": 87
        }
      ]
    },
    {
      "cell_type": "code",
      "metadata": {
        "id": "rT4r4ojVsA7_",
        "colab": {
          "base_uri": "https://localhost:8080/"
        },
        "outputId": "8fb98f02-dc94-4f53-cefa-be560b6a8d99"
      },
      "source": [
        "D.T.dot(A.T)"
      ],
      "execution_count": null,
      "outputs": [
        {
          "output_type": "execute_result",
          "data": {
            "text/plain": [
              "array([[ 930, 2010],\n",
              "       [1160, 2510],\n",
              "       [1320, 2910],\n",
              "       [1560, 3450]])"
            ]
          },
          "metadata": {},
          "execution_count": 88
        }
      ]
    },
    {
      "cell_type": "markdown",
      "metadata": {
        "id": "ggj9hQKnsA7_"
      },
      "source": [
        "A **symmetric matrix** $M$ is defined as a matrix that is equal to its transpose: $M^T = M$. This definition implies that it must be a square matrix whose elements are symmetric relative to the main diagonal, for example:\n",
        "\n",
        "\\begin{bmatrix}\n",
        "  17 & 22 & 27 & 49 \\\\\n",
        "  22 & 29 & 36 & 0 \\\\\n",
        "  27 & 36 & 45 & 2 \\\\\n",
        "  49 & 0 & 2 & 99\n",
        "\\end{bmatrix}\n",
        "\n",
        "The product of a matrix by its transpose is always a symmetric matrix, for example:"
      ]
    },
    {
      "cell_type": "code",
      "metadata": {
        "id": "vQtQ1nBLsA8A",
        "colab": {
          "base_uri": "https://localhost:8080/"
        },
        "outputId": "42a7b0c9-747f-499b-ea96-3f8d0b2af06f"
      },
      "source": [
        "D.dot(D.T)"
      ],
      "execution_count": null,
      "outputs": [
        {
          "output_type": "execute_result",
          "data": {
            "text/plain": [
              "array([[  87,  279,  547],\n",
              "       [ 279,  940, 1860],\n",
              "       [ 547, 1860, 3700]])"
            ]
          },
          "metadata": {},
          "execution_count": 89
        }
      ]
    },
    {
      "cell_type": "markdown",
      "metadata": {
        "collapsed": true,
        "id": "982J86FNsA8A"
      },
      "source": [
        "## Converting 1D arrays to 2D arrays in NumPy\n",
        "As we mentionned earlier, in NumPy (as opposed to Matlab, for example), 1D really means 1D: there is no such thing as a vertical 1D-array or a horizontal 1D-array. So you should not be surprised to see that transposing a 1D array does not do anything:"
      ]
    },
    {
      "cell_type": "code",
      "metadata": {
        "id": "4cPyz-xWsA8A",
        "colab": {
          "base_uri": "https://localhost:8080/"
        },
        "outputId": "8d75b637-ac69-4330-f8f4-4fdbd000d7f3"
      },
      "source": [
        "u"
      ],
      "execution_count": null,
      "outputs": [
        {
          "output_type": "execute_result",
          "data": {
            "text/plain": [
              "array([2, 5])"
            ]
          },
          "metadata": {},
          "execution_count": 90
        }
      ]
    },
    {
      "cell_type": "code",
      "metadata": {
        "id": "h6TzjikksA8A",
        "colab": {
          "base_uri": "https://localhost:8080/"
        },
        "outputId": "fb78cdd6-1a1d-439f-bcd3-a4887466ecbf"
      },
      "source": [
        "u.T"
      ],
      "execution_count": null,
      "outputs": [
        {
          "output_type": "execute_result",
          "data": {
            "text/plain": [
              "array([2, 5])"
            ]
          },
          "metadata": {},
          "execution_count": 91
        }
      ]
    },
    {
      "cell_type": "markdown",
      "metadata": {
        "id": "ZRhWGN8OsA8A"
      },
      "source": [
        "We want to convert $\\textbf{u}$ into a row vector before transposing it. There are a few ways to do this:"
      ]
    },
    {
      "cell_type": "code",
      "metadata": {
        "id": "LyKnooo3sA8A",
        "colab": {
          "base_uri": "https://localhost:8080/"
        },
        "outputId": "41a7e8a7-a2af-4739-9d78-83c1d0ad0e74"
      },
      "source": [
        "u_row = np.array([u])\n",
        "u_row"
      ],
      "execution_count": null,
      "outputs": [
        {
          "output_type": "execute_result",
          "data": {
            "text/plain": [
              "array([[2, 5]])"
            ]
          },
          "metadata": {},
          "execution_count": 92
        }
      ]
    },
    {
      "cell_type": "markdown",
      "metadata": {
        "id": "5wsU6DIEsA8A"
      },
      "source": [
        "Notice the extra square brackets: this is a 2D array with just one row (ie. a 1x2 matrix). In other words it really is a **row vector**."
      ]
    },
    {
      "cell_type": "code",
      "metadata": {
        "id": "-ifsSoKvsA8B",
        "colab": {
          "base_uri": "https://localhost:8080/"
        },
        "outputId": "0a614b2f-f42a-47e3-b6ee-3eaf34028142"
      },
      "source": [
        "u[np.newaxis, :]"
      ],
      "execution_count": null,
      "outputs": [
        {
          "output_type": "execute_result",
          "data": {
            "text/plain": [
              "array([[2, 5]])"
            ]
          },
          "metadata": {},
          "execution_count": 93
        }
      ]
    },
    {
      "cell_type": "markdown",
      "metadata": {
        "id": "0bf9lkswsA8B"
      },
      "source": [
        "This quite explicit: we are asking for a new vertical axis, keeping the existing data as the horizontal axis."
      ]
    },
    {
      "cell_type": "code",
      "metadata": {
        "id": "d0tX1mUnsA8B",
        "colab": {
          "base_uri": "https://localhost:8080/"
        },
        "outputId": "a405ea9a-1609-41b7-9e7f-7648ed36843b"
      },
      "source": [
        "u[np.newaxis]"
      ],
      "execution_count": null,
      "outputs": [
        {
          "output_type": "execute_result",
          "data": {
            "text/plain": [
              "array([[2, 5]])"
            ]
          },
          "metadata": {},
          "execution_count": 94
        }
      ]
    },
    {
      "cell_type": "markdown",
      "metadata": {
        "id": "A--CK4ITsA8B"
      },
      "source": [
        "This is equivalent, but a little less explicit."
      ]
    },
    {
      "cell_type": "code",
      "metadata": {
        "id": "DSO2thEpsA8B",
        "colab": {
          "base_uri": "https://localhost:8080/"
        },
        "outputId": "4b82f743-7863-4bb4-dd6a-210d995d113b"
      },
      "source": [
        "u[None]"
      ],
      "execution_count": null,
      "outputs": [
        {
          "output_type": "execute_result",
          "data": {
            "text/plain": [
              "array([[2, 5]])"
            ]
          },
          "metadata": {},
          "execution_count": 95
        }
      ]
    },
    {
      "cell_type": "markdown",
      "metadata": {
        "id": "msv8eoDesA8B"
      },
      "source": [
        "This is the shortest version, but you probably want to avoid it because it is unclear. The reason it works is that `np.newaxis` is actually equal to `None`, so this is equivalent to the previous version.\n",
        "\n",
        "Ok, now let's transpose our row vector:"
      ]
    },
    {
      "cell_type": "code",
      "metadata": {
        "id": "eBf5Td8DsA8B",
        "colab": {
          "base_uri": "https://localhost:8080/"
        },
        "outputId": "9f3053f4-46ea-4a1e-f3d9-bab3728a0c2b"
      },
      "source": [
        "u_row.T"
      ],
      "execution_count": null,
      "outputs": [
        {
          "output_type": "execute_result",
          "data": {
            "text/plain": [
              "array([[2],\n",
              "       [5]])"
            ]
          },
          "metadata": {},
          "execution_count": 96
        }
      ]
    },
    {
      "cell_type": "markdown",
      "metadata": {
        "id": "bmDRXtJtsA8C"
      },
      "source": [
        "Great! We now have a nice **column vector**.\n",
        "\n",
        "Rather than creating a row vector then transposing it, it is also possible to convert a 1D array directly into a column vector:"
      ]
    },
    {
      "cell_type": "code",
      "metadata": {
        "id": "SfK0g37UsA8C",
        "colab": {
          "base_uri": "https://localhost:8080/"
        },
        "outputId": "98b1822a-88a9-407e-fc4a-7b48e677f15f"
      },
      "source": [
        "u[:, np.newaxis]"
      ],
      "execution_count": null,
      "outputs": [
        {
          "output_type": "execute_result",
          "data": {
            "text/plain": [
              "array([[2],\n",
              "       [5]])"
            ]
          },
          "metadata": {},
          "execution_count": 97
        }
      ]
    },
    {
      "cell_type": "markdown",
      "metadata": {
        "id": "jtMuWk4OsA8C"
      },
      "source": [
        "## Plotting a matrix\n",
        "We have already seen that vectors can been represented as points or arrows in N-dimensional space. Is there a good graphical representation of matrices? Well you can simply see a matrix as a list of vectors, so plotting a matrix results in many points or arrows. For example, let's create a $2 \\times 4$ matrix `P` and plot it as points:"
      ]
    },
    {
      "cell_type": "code",
      "metadata": {
        "id": "ANW2rS3fsA8C",
        "colab": {
          "base_uri": "https://localhost:8080/"
        },
        "outputId": "b1e27a76-7998-470a-a3ab-48ccae19eb5e"
      },
      "source": [
        "P = np.array([\n",
        "        [3.0, 4.0, 1.0, 4.6],\n",
        "        [0.2, 3.5, 2.0, 0.5]\n",
        "    ])\n",
        "x_coords_P, y_coords_P = P\n",
        "plt.scatter(x_coords_P, y_coords_P)\n",
        "plt.axis([0, 5, 0, 4])\n",
        "plt.show()"
      ],
      "execution_count": null,
      "outputs": [
        {
          "output_type": "display_data",
          "data": {
            "image/png": "[encoded data removed]",
            "text/plain": [
              "<Figure size 432x288 with 1 Axes>"
            ]
          },
          "metadata": {
            "needs_background": "light"
          }
        }
      ]
    },
    {
      "cell_type": "markdown",
      "metadata": {
        "id": "PKt8_KjfsA8C"
      },
      "source": [
        "Of course we could also have stored the same 4 vectors as row vectors instead of column vectors, resulting in a $4 \\times 2$ matrix (the transpose of $P$, in fact). It is really an arbitrary choice.\n",
        "\n",
        "Since the vectors are ordered, you can see the matrix as a path and represent it with connected dots:"
      ]
    },
    {
      "cell_type": "code",
      "metadata": {
        "id": "2iKQWQ0OsA8D",
        "colab": {
          "base_uri": "https://localhost:8080/"
        },
        "outputId": "2538b3c4-0e37-41c4-b765-c4d964171ea3"
      },
      "source": [
        "plt.plot(x_coords_P, y_coords_P, \"bo\")\n",
        "plt.plot(x_coords_P, y_coords_P, \"b--\")\n",
        "plt.axis([0, 5, 0, 4])\n",
        "plt.grid()\n",
        "plt.show()"
      ],
      "execution_count": null,
      "outputs": [
        {
          "output_type": "display_data",
          "data": {
            "image/png": "[encoded data removed]",
            "text/plain": [
              "<Figure size 432x288 with 1 Axes>"
            ]
          },
          "metadata": {
            "needs_background": "light"
          }
        }
      ]
    },
    {
      "cell_type": "markdown",
      "metadata": {
        "id": "5jfluTk5sA8D"
      },
      "source": [
        "Or you can represent it as a polygon: matplotlib's `Polygon` class expects an $n \\times 2$ NumPy array, not a $2 \\times n$ array, so we just need to give it $P^T$:"
      ]
    },
    {
      "cell_type": "code",
      "metadata": {
        "id": "gbFP4uAGsA8D",
        "colab": {
          "base_uri": "https://localhost:8080/"
        },
        "outputId": "0d9562fe-a70c-4092-a510-00b9f23729fc"
      },
      "source": [
        "from matplotlib.patches import Polygon\n",
        "plt.gca().add_artist(Polygon(P.T))\n",
        "plt.axis([0, 5, 0, 4])\n",
        "plt.grid()\n",
        "plt.show()"
      ],
      "execution_count": null,
      "outputs": [
        {
          "output_type": "display_data",
          "data": {
            "image/png": "[encoded data removed]",
            "text/plain": [
              "<Figure size 432x288 with 1 Axes>"
            ]
          },
          "metadata": {
            "needs_background": "light"
          }
        }
      ]
    },
    {
      "cell_type": "markdown",
      "metadata": {
        "id": "bLCGB65usA8D"
      },
      "source": [
        "## Geometric applications of matrix operations\n",
        "We saw earlier that vector addition results in a geometric translation, vector multiplication by a scalar results in rescaling (zooming in or out, centered on the origin), and vector dot product results in projecting a vector onto another vector, rescaling and measuring the resulting coordinate.\n",
        "\n",
        "Similarly, matrix operations have very useful geometric applications."
      ]
    },
    {
      "cell_type": "markdown",
      "metadata": {
        "id": "0HrCYdtfsA8D"
      },
      "source": [
        "### Addition = multiple geometric translations\n",
        "First, adding two matrices together is equivalent to adding all their vectors together. For example, let's create a $2 \\times 4$ matrix $H$ and add it to $P$, and look at the result:"
      ]
    },
    {
      "cell_type": "code",
      "metadata": {
        "id": "CoKWwWUtsA8E",
        "colab": {
          "base_uri": "https://localhost:8080/"
        },
        "outputId": "2e5d286d-9adb-40af-d154-994b770dca35"
      },
      "source": [
        "H = np.array([\n",
        "        [ 0.5, -0.2, 0.2, -0.1],\n",
        "        [ 0.4,  0.4, 1.5, 0.6]\n",
        "    ])\n",
        "P_moved = P + H\n",
        "\n",
        "plt.gca().add_artist(Polygon(P.T, alpha=0.2))\n",
        "plt.gca().add_artist(Polygon(P_moved.T, alpha=0.3, color=\"r\"))\n",
        "for vector, origin in zip(H.T, P.T):\n",
        "    plot_vector2d(vector, origin=origin)\n",
        "\n",
        "plt.text(2.2, 1.8, \"$P$\", color=\"b\", fontsize=18)\n",
        "plt.text(2.0, 3.2, \"$P+H$\", color=\"r\", fontsize=18)\n",
        "plt.text(2.5, 0.5, \"$H_{*,1}$\", color=\"k\", fontsize=18)\n",
        "plt.text(4.1, 3.5, \"$H_{*,2}$\", color=\"k\", fontsize=18)\n",
        "plt.text(0.4, 2.6, \"$H_{*,3}$\", color=\"k\", fontsize=18)\n",
        "plt.text(4.4, 0.2, \"$H_{*,4}$\", color=\"k\", fontsize=18)\n",
        "\n",
        "plt.axis([0, 5, 0, 4])\n",
        "plt.grid()\n",
        "plt.show()"
      ],
      "execution_count": null,
      "outputs": [
        {
          "output_type": "display_data",
          "data": {
            "image/png": "[encoded data removed]",
            "text/plain": [
              "<Figure size 432x288 with 1 Axes>"
            ]
          },
          "metadata": {
            "needs_background": "light"
          }
        }
      ]
    },
    {
      "cell_type": "markdown",
      "metadata": {
        "id": "s83GIGeCsA8E"
      },
      "source": [
        "If we add a matrix full of identical vectors, we get a simple geometric translation:"
      ]
    },
    {
      "cell_type": "code",
      "metadata": {
        "id": "DVH00wzbsA8E",
        "colab": {
          "base_uri": "https://localhost:8080/"
        },
        "outputId": "0dfa5e54-43f3-40ee-ce90-2f28570ebf84"
      },
      "source": [
        "H2 = np.array([\n",
        "        [-0.5, -0.5, -0.5, -0.5],\n",
        "        [ 0.4,  0.4,  0.4,  0.4]\n",
        "    ])\n",
        "P_translated = P + H2\n",
        "\n",
        "plt.gca().add_artist(Polygon(P.T, alpha=0.2))\n",
        "plt.gca().add_artist(Polygon(P_translated.T, alpha=0.3, color=\"r\"))\n",
        "for vector, origin in zip(H2.T, P.T):\n",
        "    plot_vector2d(vector, origin=origin)\n",
        "\n",
        "plt.axis([0, 5, 0, 4])\n",
        "plt.grid()\n",
        "plt.show()"
      ],
      "execution_count": null,
      "outputs": [
        {
          "output_type": "display_data",
          "data": {
            "image/png": "[encoded data removed]",
            "text/plain": [
              "<Figure size 432x288 with 1 Axes>"
            ]
          },
          "metadata": {
            "needs_background": "light"
          }
        }
      ]
    },
    {
      "cell_type": "markdown",
      "metadata": {
        "id": "yT43wLQjsA8F"
      },
      "source": [
        "Although matrices can only be added together if they have the same size, NumPy allows adding a row vector or a column vector to a matrix: this is called *broadcasting* and is explained in further details in the [NumPy tutorial](tools_numpy.ipynb). We could have obtained the same result as above with:"
      ]
    },
    {
      "cell_type": "code",
      "metadata": {
        "id": "pVEcwyIbsA8F",
        "colab": {
          "base_uri": "https://localhost:8080/"
        },
        "outputId": "f0bad81c-671b-4549-a942-a4164e2acda3"
      },
      "source": [
        "P"
      ],
      "execution_count": null,
      "outputs": [
        {
          "output_type": "execute_result",
          "data": {
            "text/plain": [
              "array([[3. , 4. , 1. , 4.6],\n",
              "       [0.2, 3.5, 2. , 0.5]])"
            ]
          },
          "metadata": {},
          "execution_count": 103
        }
      ]
    },
    {
      "cell_type": "code",
      "metadata": {
        "id": "cgpuPauYsA8F",
        "colab": {
          "base_uri": "https://localhost:8080/"
        },
        "outputId": "bd1a0c72-d09f-457e-c71f-5453d3a69162"
      },
      "source": [
        "P + [[-0.5], [0.4]]  # same as P + H2, thanks to NumPy broadcasting"
      ],
      "execution_count": null,
      "outputs": [
        {
          "output_type": "execute_result",
          "data": {
            "text/plain": [
              "array([[2.5, 3.5, 0.5, 4.1],\n",
              "       [0.6, 3.9, 2.4, 0.9]])"
            ]
          },
          "metadata": {},
          "execution_count": 104
        }
      ]
    },
    {
      "cell_type": "markdown",
      "metadata": {
        "id": "Wfu0e0xZsA8G"
      },
      "source": [
        "### Scalar multiplication\n",
        "Multiplying a matrix by a scalar results in all its vectors being multiplied by that scalar, so unsurprisingly, the geometric result is a rescaling of the entire figure. For example, let's rescale our polygon by a factor of 60% (zooming out, centered on the origin):"
      ]
    },
    {
      "cell_type": "code",
      "metadata": {
        "id": "NkKJ_FGrsA8G",
        "colab": {
          "base_uri": "https://localhost:8080/"
        },
        "outputId": "9fa8494e-3dcc-4e44-c502-dc69bb73d4ed"
      },
      "source": [
        "def plot_transformation(P_before, P_after, text_before, text_after, axis = [0, 5, 0, 4], arrows=False):\n",
        "    if arrows:\n",
        "        for vector_before, vector_after in zip(P_before.T, P_after.T):\n",
        "            plot_vector2d(vector_before, color=\"blue\", linestyle=\"--\")\n",
        "            plot_vector2d(vector_after, color=\"red\", linestyle=\"-\")\n",
        "    plt.gca().add_artist(Polygon(P_before.T, alpha=0.2))\n",
        "    plt.gca().add_artist(Polygon(P_after.T, alpha=0.3, color=\"r\"))\n",
        "    plt.text(P_before[0].mean(), P_before[1].mean(), text_before, fontsize=18, color=\"blue\")\n",
        "    plt.text(P_after[0].mean(), P_after[1].mean(), text_after, fontsize=18, color=\"red\")\n",
        "    plt.axis(axis)\n",
        "    plt.grid()\n",
        "\n",
        "P_rescaled = 0.60 * P\n",
        "plot_transformation(P, P_rescaled, \"$P$\", \"$0.6 P$\", arrows=True)\n",
        "plt.show()"
      ],
      "execution_count": null,
      "outputs": [
        {
          "output_type": "display_data",
          "data": {
            "image/png": "[encoded data removed]",
            "text/plain": [
              "<Figure size 432x288 with 1 Axes>"
            ]
          },
          "metadata": {
            "needs_background": "light"
          }
        }
      ]
    },
    {
      "cell_type": "markdown",
      "metadata": {
        "id": "vSwr79BisA8G"
      },
      "source": [
        "### Matrix multiplication – Projection onto an axis\n",
        "Matrix multiplication is more complex to visualize, but it is also the most powerful tool in the box.\n",
        "\n",
        "Let's start simple, by defining a $1 \\times 2$ matrix $U = \\begin{bmatrix} 1 & 0 \\end{bmatrix}$. This row vector is just the horizontal unit vector."
      ]
    },
    {
      "cell_type": "code",
      "metadata": {
        "collapsed": true,
        "id": "z92Si_4QsA8G"
      },
      "source": [
        "U = np.array([[1, 0]])"
      ],
      "execution_count": null,
      "outputs": []
    },
    {
      "cell_type": "markdown",
      "metadata": {
        "id": "QVwTEbRGsA8G"
      },
      "source": [
        "Now let's look at the dot product $U \\cdot P$:"
      ]
    },
    {
      "cell_type": "code",
      "metadata": {
        "id": "8WAaMLJAsA8G",
        "colab": {
          "base_uri": "https://localhost:8080/"
        },
        "outputId": "38210c48-c7b8-4421-8ec2-b687799cf4f0"
      },
      "source": [
        "U.dot(P) #matrix multiplication"
      ],
      "execution_count": null,
      "outputs": [
        {
          "output_type": "execute_result",
          "data": {
            "text/plain": [
              "array([[3. , 4. , 1. , 4.6]])"
            ]
          },
          "metadata": {},
          "execution_count": 107
        }
      ]
    },
    {
      "cell_type": "markdown",
      "metadata": {
        "id": "IrQwYybKsA8G"
      },
      "source": [
        "These are the horizontal coordinates of the vectors in $P$. In other words, we just projected $P$ onto the horizontal axis:"
      ]
    },
    {
      "cell_type": "code",
      "metadata": {
        "id": "3Cm3XHyhsA8H",
        "colab": {
          "base_uri": "https://localhost:8080/"
        },
        "outputId": "83b0cab0-be7b-47bc-d1a1-e443a91c0535"
      },
      "source": [
        "def plot_projection(U, P):\n",
        "    U_P = U.dot(P)\n",
        "\n",
        "    axis_end = 100 * U\n",
        "    plot_vector2d(axis_end[0], color=\"black\")\n",
        "\n",
        "    plt.gca().add_artist(Polygon(P.T, alpha=0.2))\n",
        "    for vector, proj_coordinate in zip(P.T, U_P.T):\n",
        "        proj_point = proj_coordinate * U\n",
        "        plt.plot(proj_point[0][0], proj_point[0][1], \"ro\")\n",
        "        plt.plot([vector[0], proj_point[0][0]], [vector[1], proj_point[0][1]], \"r--\")\n",
        "\n",
        "    plt.axis([0, 5, 0, 4])\n",
        "    plt.grid()\n",
        "    plt.show()\n",
        "\n",
        "plot_projection(U, P)"
      ],
      "execution_count": null,
      "outputs": [
        {
          "output_type": "display_data",
          "data": {
            "image/png": "[encoded data removed]",
            "text/plain": [
              "<Figure size 432x288 with 1 Axes>"
            ]
          },
          "metadata": {
            "needs_background": "light"
          }
        }
      ]
    },
    {
      "cell_type": "markdown",
      "metadata": {
        "id": "jW-Kg4blsA8H"
      },
      "source": [
        "We can actually project on any other axis by just replacing $U$ with any other unit vector. For example, let's project on the axis that is at a 30° angle above the horizontal axis:"
      ]
    },
    {
      "cell_type": "code",
      "metadata": {
        "id": "OsvE25ZRsA8I",
        "colab": {
          "base_uri": "https://localhost:8080/"
        },
        "outputId": "44850bae-97c3-429c-c973-ec5547ffa5a0"
      },
      "source": [
        "angle30 = 30 * np.pi / 180  # angle in radians\n",
        "U_30 = np.array([[np.cos(angle30), np.sin(angle30)]])\n",
        "\n",
        "plot_projection(U_30, P)"
      ],
      "execution_count": null,
      "outputs": [
        {
          "output_type": "display_data",
          "data": {
            "image/png": "[encoded data removed]",
            "text/plain": [
              "<Figure size 432x288 with 1 Axes>"
            ]
          },
          "metadata": {
            "needs_background": "light"
          }
        }
      ]
    },
    {
      "cell_type": "markdown",
      "metadata": {
        "id": "WffBiO3VsA8I"
      },
      "source": [
        "Good! Remember that the dot product of a unit vector and a matrix basically performs a projection on an axis and gives us the coordinates of the resulting points on that axis."
      ]
    },
    {
      "cell_type": "markdown",
      "metadata": {
        "id": "28LIugZrsA8I"
      },
      "source": [
        "### Matrix multiplication – Rotation\n",
        "Now let's create a $2 \\times 2$ matrix $V$ containing two unit vectors that make 30° and 120° angles with the horizontal axis:\n",
        "\n",
        "$V = \\begin{bmatrix} \\cos(30°) & \\sin(30°) \\\\ \\cos(120°) & \\sin(120°) \\end{bmatrix}$"
      ]
    },
    {
      "cell_type": "code",
      "metadata": {
        "id": "vxo8-WuQsA8I",
        "colab": {
          "base_uri": "https://localhost:8080/"
        },
        "outputId": "7eeb0501-86c3-4fe8-8136-432db7dfb556"
      },
      "source": [
        "angle120 = 120 * np.pi / 180\n",
        "V = np.array([\n",
        "        [np.cos(angle30), np.sin(angle30)],\n",
        "        [np.cos(angle120), np.sin(angle120)]\n",
        "    ])\n",
        "V"
      ],
      "execution_count": null,
      "outputs": [
        {
          "output_type": "execute_result",
          "data": {
            "text/plain": [
              "array([[ 0.8660254,  0.5      ],\n",
              "       [-0.5      ,  0.8660254]])"
            ]
          },
          "metadata": {},
          "execution_count": 110
        }
      ]
    },
    {
      "cell_type": "markdown",
      "metadata": {
        "id": "B8TjmxNlsA8I"
      },
      "source": [
        "Let's look at the product $VP$:"
      ]
    },
    {
      "cell_type": "code",
      "metadata": {
        "id": "PO354yjcsA8J",
        "colab": {
          "base_uri": "https://localhost:8080/"
        },
        "outputId": "6bd70e5f-fa85-41d6-cd94-6d98bd1d2a72"
      },
      "source": [
        "V.dot(P)"
      ],
      "execution_count": null,
      "outputs": [
        {
          "output_type": "execute_result",
          "data": {
            "text/plain": [
              "array([[ 2.69807621,  5.21410162,  1.8660254 ,  4.23371686],\n",
              "       [-1.32679492,  1.03108891,  1.23205081, -1.8669873 ]])"
            ]
          },
          "metadata": {},
          "execution_count": 111
        }
      ]
    },
    {
      "cell_type": "markdown",
      "metadata": {
        "id": "dO_DgvDssA8J"
      },
      "source": [
        "The first row is equal to $V_{1,*} P$, which is the coordinates of the projection of $P$ onto the 30° axis, as we have seen above. The second row is $V_{2,*} P$, which is the coordinates of the projection of $P$ onto the 120° axis. So basically we obtained the coordinates of $P$ after rotating the horizontal and vertical axes by 30° (or equivalently after rotating the polygon by -30° around the origin)! Let's plot $VP$ to see this:"
      ]
    },
    {
      "cell_type": "code",
      "metadata": {
        "id": "xOvAhX3jsA8J",
        "colab": {
          "base_uri": "https://localhost:8080/"
        },
        "outputId": "dbc04320-5198-4bcb-8769-3c4e997176c2"
      },
      "source": [
        "P_rotated = V.dot(P)\n",
        "plot_transformation(P, P_rotated, \"$P$\", \"$VP$\", [-2, 6, -2, 4], arrows=True)\n",
        "plt.show()"
      ],
      "execution_count": null,
      "outputs": [
        {
          "output_type": "display_data",
          "data": {
            "image/png": "[encoded data removed]",
            "text/plain": [
              "<Figure size 432x288 with 1 Axes>"
            ]
          },
          "metadata": {
            "needs_background": "light"
          }
        }
      ]
    },
    {
      "cell_type": "markdown",
      "metadata": {
        "id": "1AwHwa4JsA8J"
      },
      "source": [
        "Matrix $V$ is called a **rotation matrix**."
      ]
    },
    {
      "cell_type": "markdown",
      "metadata": {
        "id": "ntD68ABasA8K"
      },
      "source": [
        "### Matrix multiplication – Other linear transformations\n",
        "More generally, any linear transformation $f$ that maps n-dimensional vectors to m-dimensional vectors can be represented as an $m \\times n$ matrix. For example, say $\\textbf{u}$ is a 3-dimensional vector:\n",
        "\n",
        "$\\textbf{u} = \\begin{pmatrix} x \\\\ y \\\\ z \\end{pmatrix}$\n",
        "\n",
        "and $f$ is defined as:\n",
        "\n",
        "$f(\\textbf{u}) = \\begin{pmatrix}\n",
        "ax + by + cz \\\\\n",
        "dx + ey + fz\n",
        "\\end{pmatrix}$\n",
        "\n",
        "This transormation $f$ maps 3-dimensional vectors to 2-dimensional vectors in a linear way (ie. the resulting coordinates only involve sums of multiples of the original coordinates). We can represent this transformation as matrix $F$:\n",
        "\n",
        "$F = \\begin{bmatrix}\n",
        "a & b & c \\\\\n",
        "d & e & f\n",
        "\\end{bmatrix}$\n",
        "\n",
        "Now, to compute $f(\\textbf{u})$ we can simply do a matrix multiplication:\n",
        "\n",
        "$f(\\textbf{u}) = F \\textbf{u}$\n",
        "\n",
        "If we have a matric $G = \\begin{bmatrix}\\textbf{u}_1 & \\textbf{u}_2 & \\cdots & \\textbf{u}_q \\end{bmatrix}$, where each $\\textbf{u}_i$ is a 3-dimensional column vector, then $FG$ results in the linear transformation of all vectors $\\textbf{u}_i$ as defined by the matrix $F$:\n",
        "\n",
        "$FG = \\begin{bmatrix}f(\\textbf{u}_1) & f(\\textbf{u}_2) & \\cdots & f(\\textbf{u}_q) \\end{bmatrix}$\n",
        "\n",
        "To summarize, **the matrix on the left hand side of a dot product specifies what linear transormation to apply to the right hand side vectors**. We have already shown that this can be used to perform projections and rotations, but any other linear transformation is possible. For example, here is a transformation known as a *shear mapping*:"
      ]
    },
    {
      "cell_type": "code",
      "metadata": {
        "scrolled": true,
        "id": "N0wJVM3nsA8K",
        "colab": {
          "base_uri": "https://localhost:8080/"
        },
        "outputId": "69111568-1460-4a82-ada9-808e918bb5fb"
      },
      "source": [
        "F_shear = np.array([\n",
        "        [1, 1.5],\n",
        "        [0, 1]\n",
        "    ])\n",
        "plot_transformation(P, F_shear.dot(P), \"$P$\", \"$F_{shear} P$\",\n",
        "                    axis=[0, 10, 0, 7])\n",
        "plt.show()"
      ],
      "execution_count": null,
      "outputs": [
        {
          "output_type": "display_data",
          "data": {
            "image/png": "[encoded data removed]",
            "text/plain": [
              "<Figure size 432x288 with 1 Axes>"
            ]
          },
          "metadata": {
            "needs_background": "light"
          }
        }
      ]
    },
    {
      "cell_type": "markdown",
      "metadata": {
        "id": "UNhxNARJsA8K"
      },
      "source": [
        "Let's look at how this transformation affects the **unit square**:"
      ]
    },
    {
      "cell_type": "code",
      "metadata": {
        "id": "jTYMOnKlsA8K",
        "colab": {
          "base_uri": "https://localhost:8080/"
        },
        "outputId": "4f1e70f1-e603-4ac2-ce35-ec584f882118"
      },
      "source": [
        "Square = np.array([\n",
        "        [0, 0, 1, 1],\n",
        "        [0, 1, 1, 0]\n",
        "    ])\n",
        "plot_transformation(Square, F_shear.dot(Square), \"$Square$\", \"$F_{shear} Square$\",\n",
        "                    axis=[0, 2.6, 0, 1.8])\n",
        "plt.show()"
      ],
      "execution_count": null,
      "outputs": [
        {
          "output_type": "display_data",
          "data": {
            "image/png": "[encoded data removed]",
            "text/plain": [
              "<Figure size 432x288 with 1 Axes>"
            ]
          },
          "metadata": {
            "needs_background": "light"
          }
        }
      ]
    },
    {
      "cell_type": "markdown",
      "metadata": {
        "id": "fn-iJ_sbsA8K"
      },
      "source": [
        "Now let's look at a **squeeze mapping**: Type of linear map that preserves Euclidean area of regions in the Cartesian plane, but is not a rotation or shear mapping"
      ]
    },
    {
      "cell_type": "code",
      "metadata": {
        "id": "OhiMgKGAsA8K",
        "colab": {
          "base_uri": "https://localhost:8080/"
        },
        "outputId": "1b05936a-d908-4f1b-d760-eb16b299a615"
      },
      "source": [
        "F_squeeze = np.array([\n",
        "        [1.4, 0],\n",
        "        [0, 1/1.4]\n",
        "    ])\n",
        "plot_transformation(P, F_squeeze.dot(P), \"$P$\", \"$F_{squeeze} P$\",\n",
        "                    axis=[0, 7, 0, 5])\n",
        "plt.show()"
      ],
      "execution_count": null,
      "outputs": [
        {
          "output_type": "display_data",
          "data": {
            "image/png": "[encoded data removed]",
            "text/plain": [
              "<Figure size 432x288 with 1 Axes>"
            ]
          },
          "metadata": {
            "needs_background": "light"
          }
        }
      ]
    },
    {
      "cell_type": "markdown",
      "metadata": {
        "id": "hmVuZ57VsA8L"
      },
      "source": [
        "The effect on the unit square is:"
      ]
    },
    {
      "cell_type": "code",
      "metadata": {
        "id": "9OhVC3uwsA8L",
        "colab": {
          "base_uri": "https://localhost:8080/"
        },
        "outputId": "8ba0ab0d-7021-4a09-e60e-58c3f43bfa94"
      },
      "source": [
        "plot_transformation(Square, F_squeeze.dot(Square), \"$Square$\", \"$F_{squeeze} Square$\",\n",
        "                    axis=[0, 1.8, 0, 1.2])\n",
        "plt.show()"
      ],
      "execution_count": null,
      "outputs": [
        {
          "output_type": "display_data",
          "data": {
            "image/png": "[encoded data removed]",
            "text/plain": [
              "<Figure size 432x288 with 1 Axes>"
            ]
          },
          "metadata": {
            "needs_background": "light"
          }
        }
      ]
    },
    {
      "cell_type": "markdown",
      "metadata": {
        "id": "r6aw1p0TsA8L"
      },
      "source": [
        "Let's show a last one: reflection through the horizontal axis:"
      ]
    },
    {
      "cell_type": "code",
      "metadata": {
        "id": "MY0xTy2LsA8L",
        "colab": {
          "base_uri": "https://localhost:8080/"
        },
        "outputId": "d78109c8-3e9e-4fd2-defb-b7cc5a69cbbc"
      },
      "source": [
        "F_reflect = np.array([\n",
        "        [1, 0],\n",
        "        [0, -1]\n",
        "    ])\n",
        "plot_transformation(P, F_reflect.dot(P), \"$P$\", \"$F_{reflect} P$\",\n",
        "                    axis=[-2, 9, -4.5, 4.5])\n",
        "plt.show()"
      ],
      "execution_count": null,
      "outputs": [
        {
          "output_type": "display_data",
          "data": {
            "image/png": "[encoded data removed]",
            "text/plain": [
              "<Figure size 432x288 with 1 Axes>"
            ]
          },
          "metadata": {
            "needs_background": "light"
          }
        }
      ]
    },
    {
      "cell_type": "markdown",
      "metadata": {
        "id": "IyntFhFZsA8L"
      },
      "source": [
        "## Matrix inverse\n",
        "Now that we understand that a matrix can represent any linear transformation, a natural question is: can we find a transformation matrix that reverses the effect of a given transformation matrix $F$? The answer is yes… sometimes! When it exists, such a matrix is called the **inverse** of $F$, and it is noted $F^{-1}$.\n",
        "\n",
        "For example, the rotation, the shear mapping and the squeeze mapping above all have inverse transformations. Let's demonstrate this on the shear mapping:"
      ]
    },
    {
      "cell_type": "code",
      "metadata": {
        "id": "-sMYsd1msA8M",
        "colab": {
          "base_uri": "https://localhost:8080/"
        },
        "outputId": "a9739d4c-0bbf-4dc8-f9e8-420bf39435ac"
      },
      "source": [
        "F_inv_shear = np.array([\n",
        "    [1, -1.5],\n",
        "    [0, 1]\n",
        "])\n",
        "P_sheared = F_shear.dot(P)\n",
        "P_unsheared = F_inv_shear.dot(P_sheared)\n",
        "plot_transformation(P_sheared, P_unsheared, \"$P_{sheared}$\", \"$P_{unsheared}$\",\n",
        "                    axis=[0, 10, 0, 7])\n",
        "plt.plot(P[0], P[1], \"b--\")\n",
        "plt.show()"
      ],
      "execution_count": null,
      "outputs": [
        {
          "output_type": "display_data",
          "data": {
            "image/png": "[encoded data removed]",
            "text/plain": [
              "<Figure size 432x288 with 1 Axes>"
            ]
          },
          "metadata": {
            "needs_background": "light"
          }
        }
      ]
    },
    {
      "cell_type": "markdown",
      "metadata": {
        "id": "XGFG-dUjsA8M"
      },
      "source": [
        "We applied a shear mapping on $P$, just like we did before, but then we applied a second transformation to the result, and *lo and behold* this had the effect of coming back to the original $P$ (we plotted the original $P$'s outline to double check). The second transformation is the inverse of the first one.\n",
        "\n",
        "We defined the inverse matrix $F_{shear}^{-1}$ manually this time, but NumPy provides an `inv` function to compute a matrix's inverse, so we could have written instead:"
      ]
    },
    {
      "cell_type": "code",
      "metadata": {
        "id": "HMJQ7ImYsA8M",
        "colab": {
          "base_uri": "https://localhost:8080/"
        },
        "outputId": "ef85f647-7394-4fdd-bc7b-5d4498f59b59"
      },
      "source": [
        "F_inv_shear = LA.inv(F_shear)\n",
        "F_inv_shear"
      ],
      "execution_count": null,
      "outputs": [
        {
          "output_type": "execute_result",
          "data": {
            "text/plain": [
              "array([[ 1. , -1.5],\n",
              "       [ 0. ,  1. ]])"
            ]
          },
          "metadata": {},
          "execution_count": 119
        }
      ]
    },
    {
      "cell_type": "markdown",
      "metadata": {
        "id": "tKCPyhAesA8M"
      },
      "source": [
        "**Only square matrices can be inversed**. This makes sense when you think about it: if you have a transformation that reduces the number of dimensions, then some information is lost and there is no way that you can get it back. For example say you use a $2 \\times 3$ matrix to project a 3D object onto a plane. The result may look like this:"
      ]
    },
    {
      "cell_type": "code",
      "metadata": {
        "id": "mkj2qMPNsA8M",
        "colab": {
          "base_uri": "https://localhost:8080/"
        },
        "outputId": "82daa170-1905-4785-97f8-6e30b674255f"
      },
      "source": [
        "plt.plot([0, 0, 1, 1, 0, 0.1, 0.1, 0, 0.1, 1.1, 1.0, 1.1, 1.1, 1.0, 1.1, 0.1],\n",
        "         [0, 1, 1, 0, 0, 0.1, 1.1, 1.0, 1.1, 1.1, 1.0, 1.1, 0.1, 0, 0.1, 0.1],\n",
        "         \"r-\")\n",
        "plt.axis([-0.5, 2.1, -0.5, 1.5])\n",
        "plt.show()"
      ],
      "execution_count": null,
      "outputs": [
        {
          "output_type": "display_data",
          "data": {
            "image/png": "[encoded data removed]",
            "text/plain": [
              "<Figure size 432x288 with 1 Axes>"
            ]
          },
          "metadata": {
            "needs_background": "light"
          }
        }
      ]
    },
    {
      "cell_type": "markdown",
      "metadata": {
        "id": "wTHjXegrsA8M"
      },
      "source": [
        "Looking at this image, it is impossible to tell whether this is the projection of a cube or the projection of a narrow rectangular object. Some information has been lost in the projection.\n",
        "\n",
        "Even square transformation matrices can lose information. For example, consider this transformation matrix:"
      ]
    },
    {
      "cell_type": "code",
      "metadata": {
        "id": "Cqj-jSvmsA8N",
        "colab": {
          "base_uri": "https://localhost:8080/"
        },
        "outputId": "48c0500f-8d51-4aa8-bce2-0b521023c4c9"
      },
      "source": [
        "F_project = np.array([\n",
        "        [1, 0],\n",
        "        [0, 0]\n",
        "    ])\n",
        "plot_transformation(P, F_project.dot(P), \"$P$\", \"$F_{project} \\cdot P$\",\n",
        "                    axis=[0, 6, -1, 4])\n",
        "plt.show()"
      ],
      "execution_count": null,
      "outputs": [
        {
          "output_type": "display_data",
          "data": {
            "image/png": "[encoded data removed]",
            "text/plain": [
              "<Figure size 432x288 with 1 Axes>"
            ]
          },
          "metadata": {
            "needs_background": "light"
          }
        }
      ]
    },
    {
      "cell_type": "markdown",
      "metadata": {
        "id": "kvNXXBgDsA8N"
      },
      "source": [
        "This transformation matrix performs a projection onto the horizontal axis. Our polygon gets entirely flattened out so some information is entirely lost and it is impossible to go back to the original polygon using a linear transformation. In other words, $F_{project}$ has no inverse. Such a square matrix that cannot be inversed is called a **singular matrix** (aka degenerate matrix). If we ask NumPy to calculate its inverse, it raises an exception:"
      ]
    },
    {
      "cell_type": "code",
      "metadata": {
        "id": "p77tPjuWsA8N",
        "colab": {
          "base_uri": "https://localhost:8080/"
        },
        "outputId": "b71eb821-8f6c-4ae3-eaf0-8eabb3e101d6"
      },
      "source": [
        "try:\n",
        "    LA.inv(F_project)\n",
        "except LA.LinAlgError as e:\n",
        "    print(\"LinAlgError:\", e)"
      ],
      "execution_count": null,
      "outputs": [
        {
          "output_type": "stream",
          "name": "stdout",
          "text": [
            "LinAlgError: Singular matrix\n"
          ]
        }
      ]
    },
    {
      "cell_type": "markdown",
      "metadata": {
        "id": "vwzw6oNDsA8N"
      },
      "source": [
        "Here is another example of a singular matrix. This one performs a projection onto the axis at a 30° angle above the horizontal axis:"
      ]
    },
    {
      "cell_type": "code",
      "metadata": {
        "id": "8B_gXZp9sA8N",
        "colab": {
          "base_uri": "https://localhost:8080/"
        },
        "outputId": "3bb00cac-a53a-4d68-8094-76ccac005a14"
      },
      "source": [
        "angle30 = 30 * np.pi / 180\n",
        "F_project_30 = np.array([\n",
        "               [np.cos(angle30)**2, np.sin(2*angle30)/2],\n",
        "               [np.sin(2*angle30)/2, np.sin(angle30)**2]\n",
        "         ])\n",
        "plot_transformation(P, F_project_30.dot(P), \"$P$\", \"$F_{project\\_30} \\cdot P$\",\n",
        "                    axis=[0, 6, -1, 4])\n",
        "plt.show()"
      ],
      "execution_count": null,
      "outputs": [
        {
          "output_type": "display_data",
          "data": {
            "image/png": "[encoded data removed]",
            "text/plain": [
              "<Figure size 432x288 with 1 Axes>"
            ]
          },
          "metadata": {
            "needs_background": "light"
          }
        }
      ]
    },
    {
      "cell_type": "markdown",
      "metadata": {
        "id": "83mshfeGsA8N"
      },
      "source": [
        "But this time, due to floating point rounding errors, NumPy manages to calculate an inverse (notice how large the elements are, though):"
      ]
    },
    {
      "cell_type": "code",
      "metadata": {
        "id": "3SzltmfksA8N",
        "colab": {
          "base_uri": "https://localhost:8080/"
        },
        "outputId": "05644792-2806-4a73-d5fb-46edea8990fa"
      },
      "source": [
        "LA.inv(F_project_30)"
      ],
      "execution_count": null,
      "outputs": [
        {
          "output_type": "execute_result",
          "data": {
            "text/plain": [
              "array([[ 1.20095990e+16, -2.08012357e+16],\n",
              "       [-2.08012357e+16,  3.60287970e+16]])"
            ]
          },
          "metadata": {},
          "execution_count": 124
        }
      ]
    },
    {
      "cell_type": "markdown",
      "metadata": {
        "id": "k8M1naDpsA8N"
      },
      "source": [
        "As you might expect, the dot product of a matrix by its inverse results in the identity matrix:\n",
        "\n",
        "$M \\cdot M^{-1} = M^{-1} \\cdot M = I$\n",
        "\n",
        "This makes sense since doing a linear transformation followed by the inverse transformation results in no change at all."
      ]
    },
    {
      "cell_type": "code",
      "metadata": {
        "id": "JAhE66oZsA8O",
        "colab": {
          "base_uri": "https://localhost:8080/"
        },
        "outputId": "0047d4f0-99bd-4877-ae5a-83e39923880b"
      },
      "source": [
        "F_shear.dot(LA.inv(F_shear))"
      ],
      "execution_count": null,
      "outputs": [
        {
          "output_type": "execute_result",
          "data": {
            "text/plain": [
              "array([[1., 0.],\n",
              "       [0., 1.]])"
            ]
          },
          "metadata": {},
          "execution_count": 125
        }
      ]
    },
    {
      "cell_type": "markdown",
      "metadata": {
        "id": "G2SConBPsA8O"
      },
      "source": [
        "Another way to express this is that the inverse of the inverse of a matrix $M$ is $M$ itself:\n",
        "\n",
        "$((M)^{-1})^{-1} = M$"
      ]
    },
    {
      "cell_type": "code",
      "metadata": {
        "id": "2-YCnAnrsA8O",
        "colab": {
          "base_uri": "https://localhost:8080/"
        },
        "outputId": "fd073324-0c81-4145-f81a-e6a474abfce5"
      },
      "source": [
        "LA.inv(LA.inv(F_shear))"
      ],
      "execution_count": null,
      "outputs": [
        {
          "output_type": "execute_result",
          "data": {
            "text/plain": [
              "array([[1. , 1.5],\n",
              "       [0. , 1. ]])"
            ]
          },
          "metadata": {},
          "execution_count": 126
        }
      ]
    },
    {
      "cell_type": "markdown",
      "metadata": {
        "id": "T-HU_7tzsA8O"
      },
      "source": [
        "Also, the inverse of scaling by a factor of $\\lambda$ is of course scaling by a factor or $\\frac{1}{\\lambda}$:\n",
        "\n",
        "$ (\\lambda \\times M)^{-1} = \\frac{1}{\\lambda} \\times M^{-1}$\n",
        "\n",
        "Once you understand the geometric interpretation of matrices as linear transformations, most of these properties seem fairly intuitive.\n",
        "\n",
        "A matrix that is its own inverse is called an **involution**.That is, multiplication by matrix A is an involution if and only if A² = I. The simplest examples are reflection matrices, or a rotation by 180°, but there are also more complex involutions, for example imagine a transformation that squeezes horizontally, then  reflects over the vertical axis and finally rotates by 90° clockwise. Pick up a napkin and try doing that twice: you will end up in the original position. Here is the corresponding involutory matrix:"
      ]
    },
    {
      "cell_type": "code",
      "metadata": {
        "id": "g7ZeNrCHsA8O",
        "colab": {
          "base_uri": "https://localhost:8080/"
        },
        "outputId": "8859ea42-fdf5-4021-d5ca-2a8658cf5231"
      },
      "source": [
        "F_involution  = np.array([\n",
        "        [0, -2],\n",
        "        [-1/2, 0]\n",
        "    ])\n",
        "plot_transformation(P, F_involution.dot(P), \"$P$\", \"$F_{involution} \\cdot P$\",\n",
        "                    axis=[-8, 5, -4, 4])\n",
        "plt.show()"
      ],
      "execution_count": null,
      "outputs": [
        {
          "output_type": "display_data",
          "data": {
            "image/png": "[encoded data removed]",
            "text/plain": [
              "<Figure size 432x288 with 1 Axes>"
            ]
          },
          "metadata": {
            "needs_background": "light"
          }
        }
      ]
    },
    {
      "cell_type": "markdown",
      "metadata": {
        "id": "OQwwmI1YsA8O"
      },
      "source": [
        "Finally, a square matrix $H$ whose inverse is its own transpose is an **orthogonal matrix**:\n",
        "\n",
        "$H^{-1} = H^T$\n",
        "\n",
        "Therefore:\n",
        "\n",
        "$H \\cdot H^T = H^T \\cdot H = I$\n",
        "\n",
        "It corresponds to a transformation that preserves distances, such as rotations and reflections, and combinations of these, but not rescaling, shearing or squeezing.  Let's check that $F_{reflect}$ is indeed orthogonal:"
      ]
    },
    {
      "cell_type": "code",
      "metadata": {
        "id": "rwT-ut-QsA8O",
        "colab": {
          "base_uri": "https://localhost:8080/"
        },
        "outputId": "845c6e41-4ab3-47f4-95f6-7e8179eb9836"
      },
      "source": [
        "F_reflect.dot(F_reflect.T)"
      ],
      "execution_count": null,
      "outputs": [
        {
          "output_type": "execute_result",
          "data": {
            "text/plain": [
              "array([[1, 0],\n",
              "       [0, 1]])"
            ]
          },
          "metadata": {},
          "execution_count": 128
        }
      ]
    },
    {
      "cell_type": "markdown",
      "metadata": {
        "id": "7o7bfmnrsA8O"
      },
      "source": [
        "## Determinant\n",
        "The determinant of a square matrix $M$, noted $\\det(M)$ or $\\det M$ or $|M|$ is a value that can be calculated from its elements $(M_{i,j})$ using various equivalent methods. One of the simplest methods is this recursive approach:\n",
        "\n",
        "$|M| = M_{1,1}\\times|M^{(1,1)}| - M_{2,1}\\times|M^{(2,1)}| + M_{3,1}\\times|M^{(3,1)}| - M_{4,1}\\times|M^{(4,1)}| + \\cdots ± M_{n,1}\\times|M^{(n,1)}|$\n",
        "\n",
        "* Where $M^{(i,j)}$ is the matrix $M$ without row $i$ and column $j$.\n",
        "\n",
        "For example, let's calculate the determinant of the following $3 \\times 3$ matrix:\n",
        "\n",
        "$M = \\begin{bmatrix}\n",
        "  1 & 2 & 3 \\\\\n",
        "  4 & 5 & 6 \\\\\n",
        "  7 & 8 & 0\n",
        "\\end{bmatrix}$\n",
        "\n",
        "Using the method above, we get:\n",
        "\n",
        "$|M| = 1 \\times \\left | \\begin{bmatrix} 5 & 6 \\\\ 8 & 0 \\end{bmatrix} \\right |\n",
        "     - 2 \\times \\left | \\begin{bmatrix} 4 & 6 \\\\ 7 & 0 \\end{bmatrix} \\right |\n",
        "     + 3 \\times \\left | \\begin{bmatrix} 4 & 5 \\\\ 7 & 8 \\end{bmatrix} \\right |$\n",
        "\n",
        "Now we need to compute the determinant of each of these $2 \\times 2$ matrices (these determinants are called **minors**):\n",
        "\n",
        "$\\left | \\begin{bmatrix} 5 & 6 \\\\ 8 & 0 \\end{bmatrix} \\right | = 5 \\times 0 - 6 \\times 8 = -48$\n",
        "\n",
        "$\\left | \\begin{bmatrix} 4 & 6 \\\\ 7 & 0 \\end{bmatrix} \\right | = 4 \\times 0 - 6 \\times 7 = -42$\n",
        "\n",
        "$\\left | \\begin{bmatrix} 4 & 5 \\\\ 7 & 8 \\end{bmatrix} \\right | = 4 \\times 8 - 5 \\times 7 = -3$\n",
        "\n",
        "Now we can calculate the final result:\n",
        "\n",
        "$|M| = 1 \\times (-48) - 2 \\times (-42) + 3 \\times (-3) = 27$"
      ]
    },
    {
      "cell_type": "markdown",
      "metadata": {
        "id": "FLE2B9CfsA8P"
      },
      "source": [
        "To get the determinant of a matrix, you can call NumPy's `det` function in the `numpy.linalg` module:"
      ]
    },
    {
      "cell_type": "code",
      "metadata": {
        "id": "elUH2g0bsA8P",
        "colab": {
          "base_uri": "https://localhost:8080/"
        },
        "outputId": "2d3511f5-8ab9-4375-adb3-876ae8764123"
      },
      "source": [
        "M = np.array([\n",
        "        [1, 2, 3],\n",
        "        [4, 5, 6],\n",
        "        [7, 8, 0]\n",
        "    ])\n",
        "LA.det(M)"
      ],
      "execution_count": null,
      "outputs": [
        {
          "output_type": "execute_result",
          "data": {
            "text/plain": [
              "27.0"
            ]
          },
          "metadata": {},
          "execution_count": 129
        }
      ]
    },
    {
      "cell_type": "markdown",
      "metadata": {
        "id": "o32-MFtHsA8P"
      },
      "source": [
        "One of the main uses of the determinant is to *determine* whether a square matrix can be inversed or not: if the determinant is equal to 0, then the matrix *cannot* be inversed (it is a singular matrix), and if the determinant is not 0, then it *can* be inversed.\n",
        "\n",
        "For example, let's compute the determinant for the $F_{project}$, $F_{project\\_30}$ and $F_{shear}$ matrices that we defined earlier:"
      ]
    },
    {
      "cell_type": "code",
      "metadata": {
        "id": "AjkC29S_sA8Q",
        "colab": {
          "base_uri": "https://localhost:8080/"
        },
        "outputId": "3461c52e-2cb9-4856-8829-abafbbf2cd7a"
      },
      "source": [
        "LA.det(F_project)"
      ],
      "execution_count": null,
      "outputs": [
        {
          "output_type": "execute_result",
          "data": {
            "text/plain": [
              "0.0"
            ]
          },
          "metadata": {},
          "execution_count": 130
        }
      ]
    },
    {
      "cell_type": "markdown",
      "metadata": {
        "id": "fcGlIa4UsA8Q"
      },
      "source": [
        "That's right, $F_{project}$ is singular, as we saw earlier."
      ]
    },
    {
      "cell_type": "code",
      "metadata": {
        "id": "hAth6dcrsA8Q",
        "colab": {
          "base_uri": "https://localhost:8080/"
        },
        "outputId": "be2d7695-bb35-4338-b214-a5c9d6b5c151"
      },
      "source": [
        "LA.det(F_project_30)"
      ],
      "execution_count": null,
      "outputs": [
        {
          "output_type": "execute_result",
          "data": {
            "text/plain": [
              "2.0816681711721642e-17"
            ]
          },
          "metadata": {},
          "execution_count": 131
        }
      ]
    },
    {
      "cell_type": "markdown",
      "metadata": {
        "id": "rXRMmgLBsA8R"
      },
      "source": [
        "This determinant is suspiciously close to 0: it really should be 0, but it's not due to tiny floating point errors. The matrix is actually singular."
      ]
    },
    {
      "cell_type": "code",
      "metadata": {
        "id": "YdNrB_UMsA8R",
        "colab": {
          "base_uri": "https://localhost:8080/"
        },
        "outputId": "90591dc9-349b-4db5-d7b3-bab548304ead"
      },
      "source": [
        "LA.det(F_shear)"
      ],
      "execution_count": null,
      "outputs": [
        {
          "output_type": "execute_result",
          "data": {
            "text/plain": [
              "1.0"
            ]
          },
          "metadata": {},
          "execution_count": 132
        }
      ]
    },
    {
      "cell_type": "markdown",
      "metadata": {
        "id": "iysIg_CisA8R"
      },
      "source": [
        "Perfect! This matrix *can* be inversed as we saw earlier. Wow, math really works!"
      ]
    },
    {
      "cell_type": "markdown",
      "metadata": {
        "id": "oJ3_ko6csA8S"
      },
      "source": [
        "The determinant can also be used to measure how much a linear transformation affects surface areas: for example, the projection matrices $F_{project}$ and $F_{project\\_30}$ completely flatten the polygon $P$, until its area is zero. This is why the determinant of these matrices is 0. The shear mapping modified the shape of the polygon, but it did not affect its surface area, which is why the determinant is 1. You can try computing the determinant of a rotation matrix, and you should also find 1. What about a scaling matrix? Let's see:"
      ]
    },
    {
      "cell_type": "code",
      "metadata": {
        "id": "Iqae9apwsA8S",
        "colab": {
          "base_uri": "https://localhost:8080/"
        },
        "outputId": "1e3734c5-bc37-47be-fc1a-77a89a76fd47"
      },
      "source": [
        "F_scale = np.array([\n",
        "        [0.5, 0],\n",
        "        [0, 0.5]\n",
        "    ])\n",
        "plot_transformation(P, F_scale.dot(P), \"$P$\", \"$F_{scale} \\cdot P$\",\n",
        "                    axis=[0, 6, -1, 4])\n",
        "plt.show()"
      ],
      "execution_count": null,
      "outputs": [
        {
          "output_type": "display_data",
          "data": {
            "image/png": "[encoded data removed]",
            "text/plain": [
              "<Figure size 432x288 with 1 Axes>"
            ]
          },
          "metadata": {
            "needs_background": "light"
          }
        }
      ]
    },
    {
      "cell_type": "markdown",
      "metadata": {
        "id": "l_VyYo3ksA8S"
      },
      "source": [
        "We rescaled the polygon by a factor of 1/2 on both vertical and horizontal axes so the surface area of the resulting polygon is 1/4$^{th}$ of the original polygon. Let's compute the determinant and check that:"
      ]
    },
    {
      "cell_type": "code",
      "metadata": {
        "id": "YSLDfgDZsA8S",
        "colab": {
          "base_uri": "https://localhost:8080/"
        },
        "outputId": "3b38c79c-de5b-411e-884b-27fb103f154a"
      },
      "source": [
        "LA.det(F_scale)"
      ],
      "execution_count": null,
      "outputs": [
        {
          "output_type": "execute_result",
          "data": {
            "text/plain": [
              "0.25"
            ]
          },
          "metadata": {},
          "execution_count": 134
        }
      ]
    },
    {
      "cell_type": "markdown",
      "metadata": {
        "id": "dFqzRHw2sA8S"
      },
      "source": [
        "Correct!\n",
        "\n",
        "The determinant can actually be negative, when the transformation results in a \"flipped over\" version of the original polygon (eg. a left hand glove becomes a right hand glove). For example, the determinant of the `F_reflect` matrix is -1 because the surface area is preserved but the polygon gets flipped over:"
      ]
    },
    {
      "cell_type": "code",
      "metadata": {
        "id": "JnKhsMz2sA8T",
        "colab": {
          "base_uri": "https://localhost:8080/"
        },
        "outputId": "cec64b5d-5ee9-4efa-a77a-144a74cfd6bc"
      },
      "source": [
        "LA.det(F_reflect)"
      ],
      "execution_count": null,
      "outputs": [
        {
          "output_type": "execute_result",
          "data": {
            "text/plain": [
              "-1.0"
            ]
          },
          "metadata": {},
          "execution_count": 135
        }
      ]
    },
    {
      "cell_type": "markdown",
      "metadata": {
        "id": "Xy_rm1_tsA8T"
      },
      "source": [
        "## Composing linear transformations\n",
        "Several linear transformations can be chained simply by performing multiple dot products in a row. For example, to perform a squeeze mapping followed by a shear mapping, just write:"
      ]
    },
    {
      "cell_type": "code",
      "metadata": {
        "id": "-ExIA6srsA8T"
      },
      "source": [
        "P_squeezed_then_sheared = F_shear.dot(F_squeeze.dot(P))"
      ],
      "execution_count": null,
      "outputs": []
    },
    {
      "cell_type": "markdown",
      "metadata": {
        "id": "1NcekKwtsA8T"
      },
      "source": [
        "Since the dot product is associative, the following code is equivalent:"
      ]
    },
    {
      "cell_type": "code",
      "metadata": {
        "id": "B5YkDKp4sA8T"
      },
      "source": [
        "P_squeezed_then_sheared = (F_shear.dot(F_squeeze)).dot(P)"
      ],
      "execution_count": null,
      "outputs": []
    },
    {
      "cell_type": "markdown",
      "metadata": {
        "id": "j2YrKU--sA8T"
      },
      "source": [
        "Note that the order of the transformations is the reverse of the dot product order.\n",
        "\n",
        "If we are going to perform this composition of linear transformations more than once, we might as well save the composition matrix like this:"
      ]
    },
    {
      "cell_type": "code",
      "metadata": {
        "collapsed": true,
        "id": "KfC0hz8vsA8T"
      },
      "source": [
        "F_squeeze_then_shear = F_shear.dot(F_squeeze)\n",
        "P_squeezed_then_sheared = F_squeeze_then_shear.dot(P)"
      ],
      "execution_count": null,
      "outputs": []
    },
    {
      "cell_type": "markdown",
      "metadata": {
        "id": "ejuFPAdssA8T"
      },
      "source": [
        "From now on we can perform both transformations in just one dot product, which can lead to a very significant performance boost."
      ]
    },
    {
      "cell_type": "markdown",
      "metadata": {
        "id": "qf6qsAfEsA8U"
      },
      "source": [
        "What if you want to perform the inverse of this double transformation? Well, if you squeezed and then you sheared, and you want to undo what you have done, it should be obvious that you should unshear first and then unsqueeze. In more mathematical terms, given two invertible (aka nonsingular) matrices $Q$ and $R$:\n",
        "\n",
        "$(Q \\cdot R)^{-1} = R^{-1} \\cdot Q^{-1}$\n",
        "\n",
        "And in NumPy:"
      ]
    },
    {
      "cell_type": "code",
      "metadata": {
        "id": "7tfaavdGsA8U",
        "colab": {
          "base_uri": "https://localhost:8080/"
        },
        "outputId": "09fce9b6-e65d-44d7-d3c9-1a254f0b8354"
      },
      "source": [
        "LA.inv(F_shear.dot(F_squeeze)) == LA.inv(F_squeeze).dot(LA.inv(F_shear))"
      ],
      "execution_count": null,
      "outputs": [
        {
          "output_type": "execute_result",
          "data": {
            "text/plain": [
              "array([[ True,  True],\n",
              "       [ True,  True]])"
            ]
          },
          "metadata": {},
          "execution_count": 139
        }
      ]
    },
    {
      "cell_type": "markdown",
      "metadata": {
        "id": "FR6PUOIBsA8U"
      },
      "source": [
        "## Singular Value Decomposition\n",
        "It turns out that any $m \\times n$ matrix $M$ can be decomposed into the dot product of three simple matrices:\n",
        "* a rotation matrix $U$ (an $m \\times m$ orthogonal matrix)\n",
        "* a scaling & projecting matrix $\\Sigma$ (an $m \\times n$ diagonal matrix)\n",
        "* and another rotation matrix $V^T$ (an $n \\times n$ orthogonal matrix)\n",
        "\n",
        "$M = U \\cdot \\Sigma \\cdot V^{T}$\n",
        "\n",
        "For example, let's decompose the shear transformation:"
      ]
    },
    {
      "cell_type": "code",
      "metadata": {
        "id": "tLJ19lrZsA8U",
        "colab": {
          "base_uri": "https://localhost:8080/"
        },
        "outputId": "5fbf8df3-eac6-4209-be03-5f5577504445"
      },
      "source": [
        "U, S_diag, V_T = LA.svd(F_shear) # note: in python 3 you can rename S_diag to Σ_diag\n",
        "U"
      ],
      "execution_count": null,
      "outputs": [
        {
          "output_type": "execute_result",
          "data": {
            "text/plain": [
              "array([[ 0.89442719, -0.4472136 ],\n",
              "       [ 0.4472136 ,  0.89442719]])"
            ]
          },
          "metadata": {},
          "execution_count": 140
        }
      ]
    },
    {
      "cell_type": "code",
      "metadata": {
        "id": "37uYkqd2sA8U",
        "colab": {
          "base_uri": "https://localhost:8080/"
        },
        "outputId": "403bdc84-bd5f-418f-ecb8-17d9a6d43a29"
      },
      "source": [
        "S_diag"
      ],
      "execution_count": null,
      "outputs": [
        {
          "output_type": "execute_result",
          "data": {
            "text/plain": [
              "array([2. , 0.5])"
            ]
          },
          "metadata": {},
          "execution_count": 141
        }
      ]
    },
    {
      "cell_type": "markdown",
      "metadata": {
        "id": "ovc3aSxJsA8U"
      },
      "source": [
        "Note that this is just a 1D array containing the diagonal values of Σ. To get the actual matrix Σ, we can use NumPy's `diag` function:"
      ]
    },
    {
      "cell_type": "code",
      "metadata": {
        "id": "AIS8alDqsA8U",
        "colab": {
          "base_uri": "https://localhost:8080/"
        },
        "outputId": "69d79b47-ba44-4dc2-b766-03e2a79818ef"
      },
      "source": [
        "S = np.diag(S_diag)\n",
        "S"
      ],
      "execution_count": null,
      "outputs": [
        {
          "output_type": "execute_result",
          "data": {
            "text/plain": [
              "array([[2. , 0. ],\n",
              "       [0. , 0.5]])"
            ]
          },
          "metadata": {},
          "execution_count": 142
        }
      ]
    },
    {
      "cell_type": "markdown",
      "metadata": {
        "id": "vUDY56bQsA8U"
      },
      "source": [
        "Now let's check that $U \\cdot \\Sigma \\cdot V^T$ is indeed equal to `F_shear`:"
      ]
    },
    {
      "cell_type": "code",
      "metadata": {
        "id": "aW7pafZxsA8U",
        "colab": {
          "base_uri": "https://localhost:8080/"
        },
        "outputId": "7d42c99b-ad33-47c8-a102-ca81073fe07c"
      },
      "source": [
        "U.dot(np.diag(S_diag)).dot(V_T)"
      ],
      "execution_count": null,
      "outputs": [
        {
          "output_type": "execute_result",
          "data": {
            "text/plain": [
              "array([[ 1.00000000e+00,  1.50000000e+00],\n",
              "       [-1.25949234e-17,  1.00000000e+00]])"
            ]
          },
          "metadata": {},
          "execution_count": 143
        }
      ]
    },
    {
      "cell_type": "code",
      "metadata": {
        "id": "vwngsX5AsA8V",
        "colab": {
          "base_uri": "https://localhost:8080/"
        },
        "outputId": "ccdde1ac-9255-401c-f7e5-2081346adb89"
      },
      "source": [
        "F_shear"
      ],
      "execution_count": null,
      "outputs": [
        {
          "output_type": "execute_result",
          "data": {
            "text/plain": [
              "array([[1. , 1.5],\n",
              "       [0. , 1. ]])"
            ]
          },
          "metadata": {},
          "execution_count": 144
        }
      ]
    },
    {
      "cell_type": "markdown",
      "metadata": {
        "id": "nnp1Py3ysA8V"
      },
      "source": [
        "It worked like a charm. Let's apply these transformations one by one (in reverse order) on the unit square to understand what's going on. First, let's apply the first rotation $V^T$:"
      ]
    },
    {
      "cell_type": "code",
      "metadata": {
        "id": "eim0DXl8sA8V",
        "colab": {
          "base_uri": "https://localhost:8080/"
        },
        "outputId": "45960b88-1fec-42ea-cabb-06cc786a8efe"
      },
      "source": [
        "plot_transformation(Square, V_T.dot(Square), \"$Square$\", \"$V^T \\cdot Square$\",\n",
        "                    axis=[-0.5, 3.5 , -1.5, 1.5])\n",
        "plt.show()"
      ],
      "execution_count": null,
      "outputs": [
        {
          "output_type": "display_data",
          "data": {
            "image/png": "[encoded data removed]",
            "text/plain": [
              "<Figure size 432x288 with 1 Axes>"
            ]
          },
          "metadata": {
            "needs_background": "light"
          }
        }
      ]
    },
    {
      "cell_type": "markdown",
      "metadata": {
        "id": "QwFDVlMrsA8V"
      },
      "source": [
        "Now let's rescale along the vertical and horizontal axes using $\\Sigma$:"
      ]
    },
    {
      "cell_type": "code",
      "metadata": {
        "id": "fgwcXYNssA8V",
        "colab": {
          "base_uri": "https://localhost:8080/"
        },
        "outputId": "a9358500-9ec6-4450-9acf-ca1455882e8c"
      },
      "source": [
        "plot_transformation(V_T.dot(Square), S.dot(V_T).dot(Square), \"$V^T \\cdot Square$\", \"$\\Sigma \\cdot V^T \\cdot Square$\",\n",
        "                    axis=[-0.5, 3.5 , -1.5, 1.5])\n",
        "plt.show()"
      ],
      "execution_count": null,
      "outputs": [
        {
          "output_type": "display_data",
          "data": {
            "image/png": "[encoded data removed]",
            "text/plain": [
              "<Figure size 432x288 with 1 Axes>"
            ]
          },
          "metadata": {
            "needs_background": "light"
          }
        }
      ]
    },
    {
      "cell_type": "markdown",
      "metadata": {
        "id": "pA-Zk5P8sA8V"
      },
      "source": [
        "Finally, we apply the second rotation $U$:"
      ]
    },
    {
      "cell_type": "code",
      "metadata": {
        "id": "PsMpAjiOsA8V",
        "colab": {
          "base_uri": "https://localhost:8080/"
        },
        "outputId": "1038875c-eaa5-46b2-a2d8-0f1a934516f0"
      },
      "source": [
        "plot_transformation(S.dot(V_T).dot(Square), U.dot(S).dot(V_T).dot(Square),\"$\\Sigma \\cdot V^T \\cdot Square$\", \"$U \\cdot \\Sigma \\cdot V^T \\cdot Square$\",\n",
        "                    axis=[-0.5, 3.5 , -1.5, 1.5])\n",
        "plt.show()"
      ],
      "execution_count": null,
      "outputs": [
        {
          "output_type": "display_data",
          "data": {
            "image/png": "[encoded data removed]",
            "text/plain": [
              "<Figure size 432x288 with 1 Axes>"
            ]
          },
          "metadata": {
            "needs_background": "light"
          }
        }
      ]
    },
    {
      "cell_type": "markdown",
      "metadata": {
        "id": "-APk2OqxsA8V"
      },
      "source": [
        "And we can see that the result is indeed a shear mapping of the original unit square."
      ]
    },
    {
      "cell_type": "markdown",
      "metadata": {
        "id": "Crac3bw6sA8W"
      },
      "source": [
        "## Eigenvectors and eigenvalues\n",
        "An **eigenvector** of a square matrix $M$ (also called a **characteristic vector**) is a non-zero vector that remains on the same line after transformation by the linear transformation associated with $M$. A more formal definition is any vector $v$ such that:\n",
        "\n",
        "$M \\cdot v = \\lambda \\times v$\n",
        "\n",
        "Where $\\lambda$ is a scalar value called the **eigenvalue** associated to the vector $v$.\n",
        "\n",
        "*Simple words* **An eigenvector is a vector whose direction remains unchanged when a linear transformation is applied to it.**\n",
        "\n",
        "For example, any horizontal vector remains horizontal after applying the shear mapping (as you can see on the image above), so it is an eigenvector of $M$. A vertical vector ends up tilted to the right, so vertical vectors are *NOT* eigenvectors of $M$.\n",
        "\n",
        "If we look at the squeeze mapping, we find that any horizontal or vertical vector keeps its direction (although its length changes), so all horizontal and vertical vectors are eigenvectors of $F_{squeeze}$.\n",
        "\n",
        "However, rotation matrices have no eigenvectors at all (except if the rotation angle is 0° or 180°, in which case all non-zero vectors are eigenvectors).\n",
        "\n",
        "NumPy's `eig` function returns the list of unit eigenvectors and their corresponding eigenvalues for any square matrix. Let's look at the eigenvectors and eigenvalues of the squeeze mapping matrix $F_{squeeze}$:"
      ]
    },
    {
      "cell_type": "code",
      "metadata": {
        "id": "d2ETQCKNsA8W",
        "colab": {
          "base_uri": "https://localhost:8080/"
        },
        "outputId": "56780b7e-5845-43fa-c8fa-7c16e54c6cda"
      },
      "source": [
        "eigenvalues, eigenvectors = LA.eig(F_squeeze)\n",
        "eigenvalues # [λ0, λ1, …]"
      ],
      "execution_count": null,
      "outputs": [
        {
          "output_type": "execute_result",
          "data": {
            "text/plain": [
              "array([1.4       , 0.71428571])"
            ]
          },
          "metadata": {},
          "execution_count": 148
        }
      ]
    },
    {
      "cell_type": "code",
      "metadata": {
        "id": "TLEC-vrksA8W",
        "colab": {
          "base_uri": "https://localhost:8080/"
        },
        "outputId": "2054ddba-de34-46dc-aaf8-24042bce5318"
      },
      "source": [
        "eigenvectors # [v0, v1, …]"
      ],
      "execution_count": null,
      "outputs": [
        {
          "output_type": "execute_result",
          "data": {
            "text/plain": [
              "array([[1., 0.],\n",
              "       [0., 1.]])"
            ]
          },
          "metadata": {},
          "execution_count": 149
        }
      ]
    },
    {
      "cell_type": "markdown",
      "metadata": {
        "id": "S_N18YrUsA8W"
      },
      "source": [
        "Indeed the horizontal vectors are stretched by a factor of 1.4, and the vertical vectors are shrunk by a factor of 1/1.4=0.714…, so far so good. Let's look at the shear mapping matrix $F_{shear}$:"
      ]
    },
    {
      "cell_type": "code",
      "metadata": {
        "id": "iyGk1adJsA8W",
        "colab": {
          "base_uri": "https://localhost:8080/"
        },
        "outputId": "ce601175-ee7c-4ba7-bf8c-708adb4bfbd2"
      },
      "source": [
        "eigenvalues2, eigenvectors2 = LA.eig(F_shear)\n",
        "eigenvalues2 # [λ0, λ1, …]"
      ],
      "execution_count": null,
      "outputs": [
        {
          "output_type": "execute_result",
          "data": {
            "text/plain": [
              "array([1., 1.])"
            ]
          },
          "metadata": {},
          "execution_count": 150
        }
      ]
    },
    {
      "cell_type": "code",
      "metadata": {
        "id": "EEtVtfeFsA8W",
        "colab": {
          "base_uri": "https://localhost:8080/"
        },
        "outputId": "de0dd4c8-93a1-404b-e7af-bca8fd9d4b8e"
      },
      "source": [
        "eigenvectors2 # [v0, v1, …]"
      ],
      "execution_count": null,
      "outputs": [
        {
          "output_type": "execute_result",
          "data": {
            "text/plain": [
              "array([[ 1.00000000e+00, -1.00000000e+00],\n",
              "       [ 0.00000000e+00,  1.48029737e-16]])"
            ]
          },
          "metadata": {},
          "execution_count": 151
        }
      ]
    },
    {
      "cell_type": "markdown",
      "metadata": {
        "id": "5x-Mgna0sA8W"
      },
      "source": [
        "Wait, what!? We expected just one unit eigenvector, not two. The second vector is almost equal to $\\begin{pmatrix}-1 \\\\ 0 \\end{pmatrix}$, which is on the same line as the first vector $\\begin{pmatrix}1 \\\\ 0 \\end{pmatrix}$. This is due to floating point errors. We can safely ignore vectors that are (almost) colinear (ie. on the same line)."
      ]
    },
    {
      "cell_type": "markdown",
      "metadata": {
        "id": "2CKEzqQ4sA8X"
      },
      "source": [
        "## Trace\n",
        "The trace of a square matrix $M$, noted $tr(M)$ is the sum of the values on its main diagonal. For example:"
      ]
    },
    {
      "cell_type": "code",
      "metadata": {
        "id": "T3Cecoy2sA8X",
        "colab": {
          "base_uri": "https://localhost:8080/"
        },
        "outputId": "a5fa0b00-c096-4eb4-f5fe-191baaf32773"
      },
      "source": [
        "D = np.array([\n",
        "        [100, 200, 300],\n",
        "        [ 10,  20,  30],\n",
        "        [  1,   2,   3],\n",
        "    ])\n",
        "np.trace(D)"
      ],
      "execution_count": null,
      "outputs": [
        {
          "output_type": "execute_result",
          "data": {
            "text/plain": [
              "123"
            ]
          },
          "metadata": {},
          "execution_count": 152
        }
      ]
    },
    {
      "cell_type": "markdown",
      "metadata": {
        "id": "pK6C0FgXsA8X"
      },
      "source": [
        "The trace does not have a simple geometric interpretation (in general), but it has a number of properties that make it useful in many areas:\n",
        "* $tr(A + B) = tr(A) + tr(B)$\n",
        "* $tr(A \\cdot B) = tr(B \\cdot A)$\n",
        "* $tr(A \\cdot B \\cdot \\cdots \\cdot Y \\cdot Z) = tr(Z \\cdot A \\cdot B \\cdot \\cdots \\cdot Y)$\n",
        "* $tr(A^T \\cdot B) = tr(A \\cdot B^T) = tr(B^T \\cdot A) = tr(B \\cdot A^T) = \\sum_{i,j}X_{i,j} \\times Y_{i,j}$\n",
        "* …\n",
        "\n",
        "It does, however, have a useful geometric interpretation in the case of projection matrices (such as $F_{project}$ that we discussed earlier): it corresponds to the number of dimensions after projection. For example:"
      ]
    },
    {
      "cell_type": "code",
      "metadata": {
        "id": "UVA2l7-YsA8X",
        "colab": {
          "base_uri": "https://localhost:8080/"
        },
        "outputId": "da0d43fe-97c7-4594-f0ba-017c9a7ead39"
      },
      "source": [
        "np.trace(F_project)"
      ],
      "execution_count": null,
      "outputs": [
        {
          "output_type": "execute_result",
          "data": {
            "text/plain": [
              "1"
            ]
          },
          "metadata": {},
          "execution_count": 153
        }
      ]
    },
    {
      "cell_type": "markdown",
      "metadata": {
        "id": "4LtQxEY9sA8Y"
      },
      "source": [
        "# What next?\n",
        "This concludes this introduction to Linear Algebra. Although these basics cover most of what you will need to know for Machine Learning, if you wish to go deeper into this topic there are many options available: Linear Algebra [books](http://linear.axler.net/), [Khan Academy](https://www.khanacademy.org/math/linear-algebra) lessons, or just [Wikipedia](https://en.wikipedia.org/wiki/Linear_algebra) pages."
      ]
    }
  ]
}