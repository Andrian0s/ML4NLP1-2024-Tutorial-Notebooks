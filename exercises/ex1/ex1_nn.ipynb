{
  "cells": [
    {
      "cell_type": "markdown",
      "metadata": {
        "id": "view-in-github",
        "colab_type": "text"
      },
      "source": [
        "<a href=\"https://colab.research.google.com/github/Andrian0s/ML4NLP1-2024-Tutorial-Notebooks/blob/main/exercises/ex1/ex1_nn.ipynb\" target=\"_parent\"><img src=\"https://colab.research.google.com/assets/colab-badge.svg\" alt=\"Open In Colab\"/></a>"
      ]
    },
    {
      "cell_type": "markdown",
      "source": [
        "# ML4NLP1\n",
        "## Starting Point for Exercise 1, part II\n",
        "\n",
        "This notebook is supposed to serve as a starting point and/or inspiration when starting exercise 1, part II.\n",
        "\n",
        "One of the goals of this exercise is o make you acquainted with **skorch**. You will probably need to consult the [documentation](https://skorch.readthedocs.io/en/stable/)."
      ],
      "metadata": {
        "id": "Q-2GcUhgB0S7"
      }
    },
    {
      "cell_type": "markdown",
      "metadata": {
        "id": "V920LTuiq40d"
      },
      "source": [
        "# Installing skorch and loading libraries"
      ]
    },
    {
      "cell_type": "code",
      "execution_count": null,
      "metadata": {
        "id": "utYcb97jq40t"
      },
      "outputs": [],
      "source": [
        "import subprocess\n",
        "\n",
        "# Installation on Google Colab\n",
        "try:\n",
        "    import google.colab\n",
        "    subprocess.run(['python', '-m', 'pip', 'install', 'skorch'])\n",
        "except ImportError:\n",
        "    pass"
      ]
    },
    {
      "cell_type": "code",
      "execution_count": null,
      "metadata": {
        "id": "WZ3Y_KHvq40x"
      },
      "outputs": [],
      "source": [
        "import torch\n",
        "from torch import nn\n",
        "import torch.nn.functional as F\n",
        "from skorch import NeuralNetClassifier\n",
        "\n",
        "import pandas as pd\n",
        "import numpy as np\n",
        "import csv\n",
        "import re\n",
        "import string\n",
        "from collections import defaultdict\n",
        "\n",
        "# Set seed for reproducibility\n",
        "seed = 42\n",
        "np.random.seed(seed)\n",
        "torch.manual_seed(seed)\n",
        "torch.cuda.manual_seed(seed)"
      ]
    },
    {
      "cell_type": "markdown",
      "metadata": {
        "id": "dAnY8yaDq400"
      },
      "source": [
        "## Training a classifier and making predictions"
      ]
    },
    {
      "cell_type": "code",
      "source": [
        "# Download dataset\n",
        "!gdown 1QP6YuwdKFNUPpvhOaAcvv2Pcp4JMbIRs # x_train\n",
        "!gdown 1QVo7PZAdiZKzifK8kwhEr_umosiDCUx6 # x_test\n",
        "!gdown 1QbBeKcmG2ZyAEFB3AKGTgSWQ1YEMn2jl # y_train\n",
        "!gdown 1QaZj6bI7_78ymnN8IpSk4gVvg-C9fA6X # y_test"
      ],
      "metadata": {
        "id": "zWjt9xGoswAC",
        "outputId": "7338421d-a06b-4e4d-ed29-472cef6d150d",
        "colab": {
          "base_uri": "https://localhost:8080/"
        }
      },
      "execution_count": null,
      "outputs": [
        {
          "output_type": "stream",
          "name": "stdout",
          "text": [
            "Downloading...\n",
            "From: https://drive.google.com/uc?id=1QP6YuwdKFNUPpvhOaAcvv2Pcp4JMbIRs\n",
            "To: /content/x_train.txt\n",
            "100% 64.1M/64.1M [00:01<00:00, 36.9MB/s]\n",
            "Downloading...\n",
            "From: https://drive.google.com/uc?id=1QVo7PZAdiZKzifK8kwhEr_umosiDCUx6\n",
            "To: /content/x_test.txt\n",
            "100% 65.2M/65.2M [00:01<00:00, 55.9MB/s]\n",
            "Downloading...\n",
            "From: https://drive.google.com/uc?id=1QbBeKcmG2ZyAEFB3AKGTgSWQ1YEMn2jl\n",
            "To: /content/y_train.txt\n",
            "100% 480k/480k [00:00<00:00, 139MB/s]\n",
            "Downloading...\n",
            "From: https://drive.google.com/uc?id=1QaZj6bI7_78ymnN8IpSk4gVvg-C9fA6X\n",
            "To: /content/y_test.txt\n",
            "100% 480k/480k [00:00<00:00, 118MB/s]\n"
          ]
        }
      ]
    },
    {
      "cell_type": "code",
      "source": [
        "with open(f'x_train.txt') as f:\n",
        "    x_train = f.read().splitlines()\n",
        "with open(f'y_train.txt') as f:\n",
        "    y_train = f.read().splitlines()\n",
        "with open(f'x_test.txt') as f:\n",
        "    x_test = f.read().splitlines()\n",
        "with open(f'y_test.txt') as f:\n",
        "    y_test = f.read().splitlines()"
      ],
      "metadata": {
        "id": "-M6DgXdjtJyH"
      },
      "execution_count": null,
      "outputs": []
    },
    {
      "cell_type": "code",
      "source": [
        "# Combine x_train and y_train into one dataframe\n",
        "train_df = pd.DataFrame({'text': x_train, 'label': y_train})\n",
        "# Write train_df to csv with tab as separator\n",
        "train_df.to_csv('train_df.csv', index=False, sep='\\t')\n",
        "# Comibne x_test and y_test into one dataframe\n",
        "test_df = pd.DataFrame({'text': x_test, 'label': y_test})\n",
        "# Inspect the first 5 items in the train split\n",
        "train_df.head()"
      ],
      "metadata": {
        "id": "oRqfDA9FuoX1",
        "colab": {
          "base_uri": "https://localhost:8080/",
          "height": 206
        },
        "outputId": "678bfd97-41c6-4477-d93f-4279cc5095bd"
      },
      "execution_count": null,
      "outputs": [
        {
          "output_type": "execute_result",
          "data": {
            "text/plain": [
              "                                                text label\n",
              "0  Klement Gottwaldi surnukeha palsameeriti ning ...   est\n",
              "1  Sebes, Joseph; Pereira Thomas (1961) (på eng)....   swe\n",
              "2  भारतीय स्वातन्त्र्य आन्दोलन राष्ट्रीय एवम क्षे...   mai\n",
              "3  Après lo cort periòde d'establiment a Basilèa,...   oci\n",
              "4  ถนนเจริญกรุง (อักษรโรมัน: Thanon Charoen Krung...   tha"
            ],
            "text/html": [
              "\n",
              "  <div id=\"df-fa83f5e0-9a2e-4319-bf35-29d1a8c2b535\" class=\"colab-df-container\">\n",
              "    <div>\n",
              "<style scoped>\n",
              "    .dataframe tbody tr th:only-of-type {\n",
              "        vertical-align: middle;\n",
              "    }\n",
              "\n",
              "    .dataframe tbody tr th {\n",
              "        vertical-align: top;\n",
              "    }\n",
              "\n",
              "    .dataframe thead th {\n",
              "        text-align: right;\n",
              "    }\n",
              "</style>\n",
              "<table border=\"1\" class=\"dataframe\">\n",
              "  <thead>\n",
              "    <tr style=\"text-align: right;\">\n",
              "      <th></th>\n",
              "      <th>text</th>\n",
              "      <th>label</th>\n",
              "    </tr>\n",
              "  </thead>\n",
              "  <tbody>\n",
              "    <tr>\n",
              "      <th>0</th>\n",
              "      <td>Klement Gottwaldi surnukeha palsameeriti ning ...</td>\n",
              "      <td>est</td>\n",
              "    </tr>\n",
              "    <tr>\n",
              "      <th>1</th>\n",
              "      <td>Sebes, Joseph; Pereira Thomas (1961) (på eng)....</td>\n",
              "      <td>swe</td>\n",
              "    </tr>\n",
              "    <tr>\n",
              "      <th>2</th>\n",
              "      <td>भारतीय स्वातन्त्र्य आन्दोलन राष्ट्रीय एवम क्षे...</td>\n",
              "      <td>mai</td>\n",
              "    </tr>\n",
              "    <tr>\n",
              "      <th>3</th>\n",
              "      <td>Après lo cort periòde d'establiment a Basilèa,...</td>\n",
              "      <td>oci</td>\n",
              "    </tr>\n",
              "    <tr>\n",
              "      <th>4</th>\n",
              "      <td>ถนนเจริญกรุง (อักษรโรมัน: Thanon Charoen Krung...</td>\n",
              "      <td>tha</td>\n",
              "    </tr>\n",
              "  </tbody>\n",
              "</table>\n",
              "</div>\n",
              "    <div class=\"colab-df-buttons\">\n",
              "\n",
              "  <div class=\"colab-df-container\">\n",
              "    <button class=\"colab-df-convert\" onclick=\"convertToInteractive('df-fa83f5e0-9a2e-4319-bf35-29d1a8c2b535')\"\n",
              "            title=\"Convert this dataframe to an interactive table.\"\n",
              "            style=\"display:none;\">\n",
              "\n",
              "  <svg xmlns=\"http://www.w3.org/2000/svg\" height=\"24px\" viewBox=\"0 -960 960 960\">\n",
              "    <path d=\"M120-120v-720h720v720H120Zm60-500h600v-160H180v160Zm220 220h160v-160H400v160Zm0 220h160v-160H400v160ZM180-400h160v-160H180v160Zm440 0h160v-160H620v160ZM180-180h160v-160H180v160Zm440 0h160v-160H620v160Z\"/>\n",
              "  </svg>\n",
              "    </button>\n",
              "\n",
              "  <style>\n",
              "    .colab-df-container {\n",
              "      display:flex;\n",
              "      gap: 12px;\n",
              "    }\n",
              "\n",
              "    .colab-df-convert {\n",
              "      background-color: #E8F0FE;\n",
              "      border: none;\n",
              "      border-radius: 50%;\n",
              "      cursor: pointer;\n",
              "      display: none;\n",
              "      fill: #1967D2;\n",
              "      height: 32px;\n",
              "      padding: 0 0 0 0;\n",
              "      width: 32px;\n",
              "    }\n",
              "\n",
              "    .colab-df-convert:hover {\n",
              "      background-color: #E2EBFA;\n",
              "      box-shadow: 0px 1px 2px rgba(60, 64, 67, 0.3), 0px 1px 3px 1px rgba(60, 64, 67, 0.15);\n",
              "      fill: #174EA6;\n",
              "    }\n",
              "\n",
              "    .colab-df-buttons div {\n",
              "      margin-bottom: 4px;\n",
              "    }\n",
              "\n",
              "    [theme=dark] .colab-df-convert {\n",
              "      background-color: #3B4455;\n",
              "      fill: #D2E3FC;\n",
              "    }\n",
              "\n",
              "    [theme=dark] .colab-df-convert:hover {\n",
              "      background-color: #434B5C;\n",
              "      box-shadow: 0px 1px 3px 1px rgba(0, 0, 0, 0.15);\n",
              "      filter: drop-shadow(0px 1px 2px rgba(0, 0, 0, 0.3));\n",
              "      fill: #FFFFFF;\n",
              "    }\n",
              "  </style>\n",
              "\n",
              "    <script>\n",
              "      const buttonEl =\n",
              "        document.querySelector('#df-fa83f5e0-9a2e-4319-bf35-29d1a8c2b535 button.colab-df-convert');\n",
              "      buttonEl.style.display =\n",
              "        google.colab.kernel.accessAllowed ? 'block' : 'none';\n",
              "\n",
              "      async function convertToInteractive(key) {\n",
              "        const element = document.querySelector('#df-fa83f5e0-9a2e-4319-bf35-29d1a8c2b535');\n",
              "        const dataTable =\n",
              "          await google.colab.kernel.invokeFunction('convertToInteractive',\n",
              "                                                    [key], {});\n",
              "        if (!dataTable) return;\n",
              "\n",
              "        const docLinkHtml = 'Like what you see? Visit the ' +\n",
              "          '<a target=\"_blank\" href=https://colab.research.google.com/notebooks/data_table.ipynb>data table notebook</a>'\n",
              "          + ' to learn more about interactive tables.';\n",
              "        element.innerHTML = '';\n",
              "        dataTable['output_type'] = 'display_data';\n",
              "        await google.colab.output.renderOutput(dataTable, element);\n",
              "        const docLink = document.createElement('div');\n",
              "        docLink.innerHTML = docLinkHtml;\n",
              "        element.appendChild(docLink);\n",
              "      }\n",
              "    </script>\n",
              "  </div>\n",
              "\n",
              "\n",
              "<div id=\"df-f722b722-ed02-446a-a20c-26b4a1e83d3c\">\n",
              "  <button class=\"colab-df-quickchart\" onclick=\"quickchart('df-f722b722-ed02-446a-a20c-26b4a1e83d3c')\"\n",
              "            title=\"Suggest charts\"\n",
              "            style=\"display:none;\">\n",
              "\n",
              "<svg xmlns=\"http://www.w3.org/2000/svg\" height=\"24px\"viewBox=\"0 0 24 24\"\n",
              "     width=\"24px\">\n",
              "    <g>\n",
              "        <path d=\"M19 3H5c-1.1 0-2 .9-2 2v14c0 1.1.9 2 2 2h14c1.1 0 2-.9 2-2V5c0-1.1-.9-2-2-2zM9 17H7v-7h2v7zm4 0h-2V7h2v10zm4 0h-2v-4h2v4z\"/>\n",
              "    </g>\n",
              "</svg>\n",
              "  </button>\n",
              "\n",
              "<style>\n",
              "  .colab-df-quickchart {\n",
              "      --bg-color: #E8F0FE;\n",
              "      --fill-color: #1967D2;\n",
              "      --hover-bg-color: #E2EBFA;\n",
              "      --hover-fill-color: #174EA6;\n",
              "      --disabled-fill-color: #AAA;\n",
              "      --disabled-bg-color: #DDD;\n",
              "  }\n",
              "\n",
              "  [theme=dark] .colab-df-quickchart {\n",
              "      --bg-color: #3B4455;\n",
              "      --fill-color: #D2E3FC;\n",
              "      --hover-bg-color: #434B5C;\n",
              "      --hover-fill-color: #FFFFFF;\n",
              "      --disabled-bg-color: #3B4455;\n",
              "      --disabled-fill-color: #666;\n",
              "  }\n",
              "\n",
              "  .colab-df-quickchart {\n",
              "    background-color: var(--bg-color);\n",
              "    border: none;\n",
              "    border-radius: 50%;\n",
              "    cursor: pointer;\n",
              "    display: none;\n",
              "    fill: var(--fill-color);\n",
              "    height: 32px;\n",
              "    padding: 0;\n",
              "    width: 32px;\n",
              "  }\n",
              "\n",
              "  .colab-df-quickchart:hover {\n",
              "    background-color: var(--hover-bg-color);\n",
              "    box-shadow: 0 1px 2px rgba(60, 64, 67, 0.3), 0 1px 3px 1px rgba(60, 64, 67, 0.15);\n",
              "    fill: var(--button-hover-fill-color);\n",
              "  }\n",
              "\n",
              "  .colab-df-quickchart-complete:disabled,\n",
              "  .colab-df-quickchart-complete:disabled:hover {\n",
              "    background-color: var(--disabled-bg-color);\n",
              "    fill: var(--disabled-fill-color);\n",
              "    box-shadow: none;\n",
              "  }\n",
              "\n",
              "  .colab-df-spinner {\n",
              "    border: 2px solid var(--fill-color);\n",
              "    border-color: transparent;\n",
              "    border-bottom-color: var(--fill-color);\n",
              "    animation:\n",
              "      spin 1s steps(1) infinite;\n",
              "  }\n",
              "\n",
              "  @keyframes spin {\n",
              "    0% {\n",
              "      border-color: transparent;\n",
              "      border-bottom-color: var(--fill-color);\n",
              "      border-left-color: var(--fill-color);\n",
              "    }\n",
              "    20% {\n",
              "      border-color: transparent;\n",
              "      border-left-color: var(--fill-color);\n",
              "      border-top-color: var(--fill-color);\n",
              "    }\n",
              "    30% {\n",
              "      border-color: transparent;\n",
              "      border-left-color: var(--fill-color);\n",
              "      border-top-color: var(--fill-color);\n",
              "      border-right-color: var(--fill-color);\n",
              "    }\n",
              "    40% {\n",
              "      border-color: transparent;\n",
              "      border-right-color: var(--fill-color);\n",
              "      border-top-color: var(--fill-color);\n",
              "    }\n",
              "    60% {\n",
              "      border-color: transparent;\n",
              "      border-right-color: var(--fill-color);\n",
              "    }\n",
              "    80% {\n",
              "      border-color: transparent;\n",
              "      border-right-color: var(--fill-color);\n",
              "      border-bottom-color: var(--fill-color);\n",
              "    }\n",
              "    90% {\n",
              "      border-color: transparent;\n",
              "      border-bottom-color: var(--fill-color);\n",
              "    }\n",
              "  }\n",
              "</style>\n",
              "\n",
              "  <script>\n",
              "    async function quickchart(key) {\n",
              "      const quickchartButtonEl =\n",
              "        document.querySelector('#' + key + ' button');\n",
              "      quickchartButtonEl.disabled = true;  // To prevent multiple clicks.\n",
              "      quickchartButtonEl.classList.add('colab-df-spinner');\n",
              "      try {\n",
              "        const charts = await google.colab.kernel.invokeFunction(\n",
              "            'suggestCharts', [key], {});\n",
              "      } catch (error) {\n",
              "        console.error('Error during call to suggestCharts:', error);\n",
              "      }\n",
              "      quickchartButtonEl.classList.remove('colab-df-spinner');\n",
              "      quickchartButtonEl.classList.add('colab-df-quickchart-complete');\n",
              "    }\n",
              "    (() => {\n",
              "      let quickchartButtonEl =\n",
              "        document.querySelector('#df-f722b722-ed02-446a-a20c-26b4a1e83d3c button');\n",
              "      quickchartButtonEl.style.display =\n",
              "        google.colab.kernel.accessAllowed ? 'block' : 'none';\n",
              "    })();\n",
              "  </script>\n",
              "</div>\n",
              "\n",
              "    </div>\n",
              "  </div>\n"
            ],
            "application/vnd.google.colaboratory.intrinsic+json": {
              "type": "dataframe",
              "variable_name": "train_df"
            }
          },
          "metadata": {},
          "execution_count": 5
        }
      ]
    },
    {
      "cell_type": "markdown",
      "source": [
        "### Data preparation\n",
        "\n",
        "Prepare your dataset for this experiment using the same method as you did in part 1.\n",
        "\n",
        "Get a subset of the train/test data that includes 20 languages. Include English, German, Dutch, Danish, Swedish, Norwegian, and Japanese, plus 13 additional languages of your choice based on the items in the list of labels.\n",
        "\n",
        "Don't forget to encode your labels using the adjusted code snippet from part 1!\n"
      ],
      "metadata": {
        "id": "-s_6f3E7Kt0s"
      }
    },
    {
      "cell_type": "code",
      "source": [
        "# TODO: Create your train/test subsets of languages\n",
        "# Note, make sure these are the same as what you used in Part 1!"
      ],
      "metadata": {
        "id": "PXpIOpjRxzTl"
      },
      "execution_count": null,
      "outputs": []
    },
    {
      "cell_type": "code",
      "source": [
        "# TODO: Use your adjusted code from part 1 to encode the labels again\n",
        "from sklearn.preprocessing import LabelEncoder"
      ],
      "metadata": {
        "id": "vMp0gji4MCDl"
      },
      "execution_count": null,
      "outputs": []
    },
    {
      "cell_type": "markdown",
      "source": [
        "### Feature Extraction"
      ],
      "metadata": {
        "id": "iGBLxHU-LcVL"
      }
    },
    {
      "cell_type": "code",
      "source": [
        "# First, we extract some simple features as input for the neural network\n",
        "from sklearn.feature_extraction.text import CountVectorizer\n",
        "\n",
        "vectorizer = CountVectorizer(analyzer='char', ngram_range=(2, 2), max_features=100, binary=True)\n",
        "X = vectorizer.fit_transform(x_train)"
      ],
      "metadata": {
        "id": "2-Ls0e0GQgMF"
      },
      "execution_count": null,
      "outputs": []
    },
    {
      "cell_type": "code",
      "source": [
        "# We need to change the datatype to make it play nice with pytorch\n",
        "X = X.astype(np.float32)\n",
        "y = y_train.astype(np.int64)"
      ],
      "metadata": {
        "id": "9EiRal_1Q0iJ"
      },
      "execution_count": null,
      "outputs": []
    },
    {
      "cell_type": "markdown",
      "metadata": {
        "id": "oMFoiitJq407"
      },
      "source": [
        "In the following, we define a vanilla neural network with two hidden layers. The output layer should have as many outputs as there are classes. In addition, it should have a nonlinearity function."
      ]
    },
    {
      "cell_type": "code",
      "source": [
        "# TODO: In the following, you can find a small (almost) working example of a neural network.\n",
        "# Unfortunately, again, the cat messed up some of the code. Please fix the code such that it is executable. (Hint: the input and output sizes look a bit weird...)\n",
        "\n",
        "class ClassifierModule(nn.Module):\n",
        "    def __init__(\n",
        "        self,\n",
        "        num_units=200,\n",
        "        nonlin=F.relu,\n",
        "    ):\n",
        "        super(ClassifierModule, self).__init__()\n",
        "        self.num_units = num_units\n",
        "        self.nonlin = nonlin\n",
        "\n",
        "        self.dense0 = nn.Linear(100, num_units)\n",
        "        self.nonlin = nonlin\n",
        "        self.dense1 = nn.Linear(num_units, 50)\n",
        "        self.output = nn.Linear(50, 2)\n",
        "\n",
        "    def forward(self, X, **kwargs):\n",
        "        X = self.nonlin(self.dense0(X))\n",
        "        X = F.relu(self.dense1(X))\n",
        "        X = self.output(X)\n",
        "        return X.squeeze(dim=1)\n"
      ],
      "metadata": {
        "id": "7Q5EDIGQUUBy"
      },
      "execution_count": null,
      "outputs": []
    },
    {
      "cell_type": "code",
      "source": [
        "# Initalise the neural net classifier.\n",
        "net = NeuralNetClassifier(\n",
        "    ClassifierModule(\n",
        "        input_size=X.shape[1],\n",
        "        num_units=200,\n",
        "        num_classes=len(label_encoder.classes_),\n",
        "        nonlin=F.relu,\n",
        "    ),\n",
        "    max_epochs=20,\n",
        "    criterion=nn.CrossEntropyLoss(),\n",
        "    lr=0.1,\n",
        "    device='cuda',  # comment this to train with CPU\n",
        ")"
      ],
      "metadata": {
        "id": "wKnJECeQGpyI"
      },
      "execution_count": null,
      "outputs": []
    },
    {
      "cell_type": "code",
      "source": [
        "# Train the classifier\n",
        "net.fit(X, y)"
      ],
      "metadata": {
        "id": "QcNOd9yBSxys",
        "colab": {
          "base_uri": "https://localhost:8080/"
        },
        "outputId": "49df0266-e183-4960-cdd6-b2596a19dd72"
      },
      "execution_count": null,
      "outputs": [
        {
          "output_type": "stream",
          "name": "stdout",
          "text": [
            "  epoch    train_loss    valid_acc    valid_loss     dur\n",
            "-------  ------------  -----------  ------------  ------\n",
            "      1        \u001b[36m2.8951\u001b[0m       \u001b[32m0.1320\u001b[0m        \u001b[35m2.7631\u001b[0m  1.2529\n",
            "      2        \u001b[36m2.5176\u001b[0m       \u001b[32m0.3850\u001b[0m        \u001b[35m2.1906\u001b[0m  0.8595\n",
            "      3        \u001b[36m1.8043\u001b[0m       \u001b[32m0.4795\u001b[0m        \u001b[35m1.5852\u001b[0m  0.8454\n",
            "      4        \u001b[36m1.2604\u001b[0m       \u001b[32m0.6110\u001b[0m        \u001b[35m1.2050\u001b[0m  0.8091\n",
            "      5        \u001b[36m0.9603\u001b[0m       \u001b[32m0.6650\u001b[0m        \u001b[35m1.0417\u001b[0m  1.1161\n",
            "      6        \u001b[36m0.8210\u001b[0m       \u001b[32m0.7285\u001b[0m        \u001b[35m0.9259\u001b[0m  1.2763\n",
            "      7        \u001b[36m0.7364\u001b[0m       \u001b[32m0.7610\u001b[0m        \u001b[35m0.8248\u001b[0m  1.3538\n",
            "      8        \u001b[36m0.6717\u001b[0m       \u001b[32m0.7830\u001b[0m        \u001b[35m0.7497\u001b[0m  0.8053\n",
            "      9        \u001b[36m0.6189\u001b[0m       \u001b[32m0.7970\u001b[0m        \u001b[35m0.6942\u001b[0m  0.8257\n",
            "     10        \u001b[36m0.5765\u001b[0m       \u001b[32m0.8060\u001b[0m        \u001b[35m0.6487\u001b[0m  0.8247\n",
            "     11        \u001b[36m0.5426\u001b[0m       \u001b[32m0.8090\u001b[0m        \u001b[35m0.6175\u001b[0m  0.8474\n",
            "     12        \u001b[36m0.5157\u001b[0m       \u001b[32m0.8185\u001b[0m        \u001b[35m0.5885\u001b[0m  0.8158\n",
            "     13        \u001b[36m0.4935\u001b[0m       \u001b[32m0.8235\u001b[0m        \u001b[35m0.5699\u001b[0m  0.7968\n",
            "     14        \u001b[36m0.4747\u001b[0m       \u001b[32m0.8290\u001b[0m        \u001b[35m0.5541\u001b[0m  0.8390\n",
            "     15        \u001b[36m0.4586\u001b[0m       \u001b[32m0.8340\u001b[0m        \u001b[35m0.5414\u001b[0m  0.8132\n",
            "     16        \u001b[36m0.4444\u001b[0m       \u001b[32m0.8375\u001b[0m        \u001b[35m0.5355\u001b[0m  0.8114\n",
            "     17        \u001b[36m0.4318\u001b[0m       \u001b[32m0.8410\u001b[0m        \u001b[35m0.5275\u001b[0m  0.8095\n",
            "     18        \u001b[36m0.4205\u001b[0m       \u001b[32m0.8440\u001b[0m        \u001b[35m0.5203\u001b[0m  0.8189\n",
            "     19        \u001b[36m0.4101\u001b[0m       \u001b[32m0.8490\u001b[0m        \u001b[35m0.5141\u001b[0m  0.8301\n",
            "     20        \u001b[36m0.4004\u001b[0m       \u001b[32m0.8505\u001b[0m        \u001b[35m0.5084\u001b[0m  1.1859\n"
          ]
        },
        {
          "output_type": "execute_result",
          "data": {
            "text/plain": [
              "<class 'skorch.classifier.NeuralNetClassifier'>[initialized](\n",
              "  module_=ClassifierModule(\n",
              "    (dense0): Linear(in_features=100, out_features=200, bias=True)\n",
              "    (dense1): Linear(in_features=200, out_features=50, bias=True)\n",
              "    (output): Linear(in_features=50, out_features=20, bias=True)\n",
              "  ),\n",
              ")"
            ]
          },
          "metadata": {},
          "execution_count": 18
        }
      ]
    },
    {
      "cell_type": "markdown",
      "source": [
        "Note, you can also use `GridSearchCV` with `skorch`, but be aware that training a neural network takes much more time.\n",
        "\n",
        "Play around with 5 different sets of hyperparameters. For example, consider some of the following:\n",
        "\n",
        "- layer sizes\n",
        "- activation functions\n",
        "- regularizers\n",
        "- early stopping\n",
        "- vectorizer parameters\n",
        "\n",
        "Report your best hyperparameter combination. \\\\\n",
        "📝❓ What is the effect of your modifcations on validation performance? Discuss potential reasons."
      ],
      "metadata": {
        "id": "cviv9PS-NSCq"
      }
    },
    {
      "cell_type": "markdown",
      "source": [
        "☝ Note, during model development, if you run into the infamous CUDA out-of-memory (OOM) error, try clearing the GPU memory either with `torch.cuda.empty_cache()` or restarting the runtime."
      ],
      "metadata": {
        "id": "FbxuaEDPrZSu"
      }
    },
    {
      "cell_type": "markdown",
      "source": [
        "\n",
        "---\n",
        "\n",
        "📝❓ Write your lab report here addressing all questions in the notebook"
      ],
      "metadata": {
        "id": "Lr48VZEGcXAb"
      }
    },
    {
      "cell_type": "markdown",
      "source": [],
      "metadata": {
        "id": "QFJ8eObYcyss"
      }
    }
  ],
  "metadata": {
    "kernelspec": {
      "display_name": "Python 3",
      "name": "python3"
    },
    "language_info": {
      "codemirror_mode": {
        "name": "ipython",
        "version": 3
      },
      "file_extension": ".py",
      "mimetype": "text/x-python",
      "name": "python",
      "nbconvert_exporter": "python",
      "pygments_lexer": "ipython3",
      "version": "3.7.13 (default, Mar 28 2022, 08:03:21) [MSC v.1916 64 bit (AMD64)]"
    },
    "vscode": {
      "interpreter": {
        "hash": "bd97b8bffa4d3737e84826bc3d37be3046061822757ce35137ab82ad4c5a2016"
      }
    },
    "colab": {
      "provenance": [],
      "gpuType": "T4",
      "include_colab_link": true
    },
    "accelerator": "GPU"
  },
  "nbformat": 4,
  "nbformat_minor": 0
}