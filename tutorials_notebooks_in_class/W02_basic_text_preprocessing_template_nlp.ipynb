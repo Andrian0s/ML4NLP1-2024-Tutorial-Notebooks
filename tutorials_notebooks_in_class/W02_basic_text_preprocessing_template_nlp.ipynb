{
  "cells": [
    {
      "cell_type": "markdown",
      "metadata": {
        "colab_type": "text",
        "id": "view-in-github"
      },
      "source": [
        "<a href=\"https://colab.research.google.com/github/Andrian0s/ML4NLP1-2023-Tutorial-Notebooks/blob/main/tutorial_notebooks/02_basic_text_preprocessing_template_nlp.ipynb\" target=\"_parent\"><img src=\"https://colab.research.google.com/assets/colab-badge.svg\" alt=\"Open In Colab\"/></a>"
      ]
    },
    {
      "cell_type": "markdown",
      "id": "13b8408a",
      "metadata": {},
      "source": [
        "**Starter Activity - Exploring Bag of Words (Vectorizer)**\n",
        "\n",
        "The bag-of-words model is a simplifying representation used in natural language processing and information retrieval (IR). In this model, a text (such as a sentence or a document) is represented as the bag (multiset) of its words, disregarding grammar and even word order but keeping multiplicity.\n",
        "\n",
        "Corpus is 3 sentences:\n",
        "\n",
        "1. A bag was found next to the river\n",
        "2. Bag of words is a cool way of representing text\n",
        "3. The word on the street is that math is not cool"
      ]
    },
    {
      "cell_type": "code",
      "execution_count": null,
      "id": "45d986e9",
      "metadata": {},
      "outputs": [
        {
          "data": {
            "text/plain": [
              "['bag',\n",
              " 'cool',\n",
              " 'found',\n",
              " 'is',\n",
              " 'math',\n",
              " 'next',\n",
              " 'not',\n",
              " 'of',\n",
              " 'on',\n",
              " 'representing',\n",
              " 'river',\n",
              " 'street',\n",
              " 'text',\n",
              " 'that',\n",
              " 'the',\n",
              " 'to',\n",
              " 'was',\n",
              " 'way',\n",
              " 'word',\n",
              " 'words']"
            ]
          },
          "metadata": {},
          "output_type": "display_data"
        }
      ],
      "source": [
        "from sklearn.feature_extraction.text import CountVectorizer\n",
        "corpus = [\n",
        "     'A bag was found next to the river',\n",
        "     'Bag of words is a cool way of representing text',\n",
        "     'The word on the street is that math is not cool',\n",
        " ]\n",
        "vectorizer = CountVectorizer()\n",
        "X = vectorizer.fit_transform(corpus)\n",
        "vectorizer.get_feature_names()"
      ]
    },
    {
      "cell_type": "code",
      "execution_count": null,
      "id": "ef6af49c",
      "metadata": {},
      "outputs": [
        {
          "data": {
            "text/plain": [
              "array([[1, 0, 1, 0, 0, 1, 0, 0, 0, 0, 1, 0, 0, 0, 1, 1, 1, 0, 0, 0],\n",
              "       [1, 1, 0, 1, 0, 0, 0, 2, 0, 1, 0, 0, 1, 0, 0, 0, 0, 1, 0, 1],\n",
              "       [0, 1, 0, 2, 1, 0, 1, 0, 1, 0, 0, 1, 0, 1, 2, 0, 0, 0, 1, 0]])"
            ]
          },
          "metadata": {},
          "output_type": "display_data"
        }
      ],
      "source": [
        "X.toarray()"
      ]
    },
    {
      "cell_type": "markdown",
      "id": "04c0082e",
      "metadata": {},
      "source": [
        "bag cool found is math next not of on representing river street text that the to was way word words\n",
        "\n",
        "[1, 0, 1, 0, 0, 1, 0, 0, 0, 0, 1, 0, 0, 0, 1, 1, 1, 0, 0, 0]\n",
        "\n",
        "[1, 1, 0, 1, 0, 0, 0, 2, 0, 1, 0, 0, 1, 0, 0, 0, 0, 1, 0, 1]\n",
        "\n",
        "[0, 1, 0, 2, 1, 0, 1, 0, 1, 0, 0, 1, 0, 1, 2, 0, 0, 0, 1, 0]"
      ]
    },
    {
      "cell_type": "markdown",
      "id": "64da8a43",
      "metadata": {},
      "source": [
        "How to Improve the features representation:\n",
        "1.   Stop words List Removal\n",
        "2.   Lemmatization (brings to a common form)\n",
        "3.   Lowercasing\n",
        "4.   Limitation of Dictionary (max K, max words)\n",
        "5.   Synonym Mapping\n",
        "\n",
        "Problems:\n",
        "1. Different words have different meaning in contexts\n",
        "2. Context and order matters\n",
        "3. Lack of distance Comparison between words used in similar context.\n",
        "\n"
      ]
    },
    {
      "cell_type": "markdown",
      "id": "9587a044",
      "metadata": {
        "id": "9587a044",
        "papermill": {
          "duration": 0.011663,
          "end_time": "2022-09-13T13:53:07.969504",
          "exception": false,
          "start_time": "2022-09-13T13:53:07.957841",
          "status": "completed"
        },
        "tags": []
      },
      "source": [
        "Text pre-processing is one of mandatory steps we will preform while creating a NLP application. As humans, the text we usually write contains lots of spelling errors, short words, special symbols, emojis, etc, which we can understand but we need to preprocess this text if we want the computer to understand it. In this notebook, we will discuss some of the types of text pre-processing you will need to perform while working with text data."
      ]
    },
    {
      "cell_type": "markdown",
      "id": "27c8725d",
      "metadata": {
        "id": "27c8725d",
        "papermill": {
          "duration": 0.009371,
          "end_time": "2022-09-13T13:53:07.988783",
          "exception": false,
          "start_time": "2022-09-13T13:53:07.979412",
          "status": "completed"
        },
        "tags": []
      },
      "source": [
        "## **Table of Contents**\n",
        "> 1. [Lowercasing](#1)\n",
        "> 2. [Removing HTML Tags](#2)\n",
        "> 3. [Removing URLs](#3)\n",
        "> 4. [Removing Punctuations](#4)\n",
        "> 5. [Chat word treatment](#5)\n",
        "> 6. [Spelling Correction](#6)\n",
        "> 7. [Removing stop words](#7)\n",
        "> 8. [Handling Emojis](#8)\n",
        "> 9. [Tokenization](#9)\n",
        ">10. [Stemming](#10)\n",
        ">11. [References](#11)"
      ]
    },
    {
      "cell_type": "code",
      "execution_count": null,
      "id": "5fa31c53",
      "metadata": {
        "execution": {
          "iopub.execute_input": "2022-09-13T13:53:08.010290Z",
          "iopub.status.busy": "2022-09-13T13:53:08.009670Z",
          "iopub.status.idle": "2022-09-13T13:53:09.948051Z",
          "shell.execute_reply": "2022-09-13T13:53:09.946853Z"
        },
        "id": "5fa31c53",
        "papermill": {
          "duration": 1.952945,
          "end_time": "2022-09-13T13:53:09.951341",
          "exception": false,
          "start_time": "2022-09-13T13:53:07.998396",
          "status": "completed"
        },
        "tags": []
      },
      "outputs": [],
      "source": [
        "import pandas as pd\n",
        "import numpy as np\n",
        "imdb_reviews = pd.read_csv('../input/imdb-dataset-of-50k-movie-reviews/IMDB Dataset.csv')\n",
        "twitter_tweets = pd.read_csv('../input/twitter-sentiment-analysis-hatred-speech/train.csv')"
      ]
    },
    {
      "cell_type": "markdown",
      "id": "3b65df54",
      "metadata": {
        "id": "3b65df54",
        "papermill": {
          "duration": 0.009969,
          "end_time": "2022-09-13T13:53:09.970699",
          "exception": false,
          "start_time": "2022-09-13T13:53:09.960730",
          "status": "completed"
        },
        "tags": []
      },
      "source": [
        "<div style='color: #216969;\n",
        "           background-color: #EAF6F6;\n",
        "           font-size: 200%;\n",
        "           border-radius:15px;\n",
        "           text-align:center;\n",
        "           font-weight:600;\n",
        "           border-style: solid;\n",
        "           border-color: dark green;\n",
        "           font-family: \"Verdana\";'>\n",
        "Lowercasing\n",
        "<a class=\"anchor\" id=\"1\"></a>"
      ]
    },
    {
      "cell_type": "markdown",
      "id": "db14fc2e",
      "metadata": {
        "id": "db14fc2e",
        "papermill": {
          "duration": 0.009135,
          "end_time": "2022-09-13T13:53:09.990745",
          "exception": false,
          "start_time": "2022-09-13T13:53:09.981610",
          "status": "completed"
        },
        "tags": []
      },
      "source": [
        "It is the process of converting a word into lower case. If a particular word (lets say `Book`) appears in the beginning of the sentence with a capital letter and another word (`book`) appears later in the sentence without a capital letter, our model will treat these 2 words differently. The process of lowercasing is usually very simple, we can use the `.lower()` method"
      ]
    },
    {
      "cell_type": "code",
      "execution_count": null,
      "id": "3110b911",
      "metadata": {
        "execution": {
          "iopub.execute_input": "2022-09-13T13:53:10.011975Z",
          "iopub.status.busy": "2022-09-13T13:53:10.011477Z",
          "iopub.status.idle": "2022-09-13T13:53:10.017072Z",
          "shell.execute_reply": "2022-09-13T13:53:10.015696Z"
        },
        "id": "3110b911",
        "papermill": {
          "duration": 0.019284,
          "end_time": "2022-09-13T13:53:10.019615",
          "exception": false,
          "start_time": "2022-09-13T13:53:10.000331",
          "status": "completed"
        },
        "tags": []
      },
      "outputs": [],
      "source": [
        "def convert_lowercase(column):\n",
        "    column = column.str.lower()\n",
        "    return column"
      ]
    },
    {
      "cell_type": "code",
      "execution_count": null,
      "id": "16900f9d",
      "metadata": {
        "execution": {
          "iopub.execute_input": "2022-09-13T13:53:10.040862Z",
          "iopub.status.busy": "2022-09-13T13:53:10.040387Z",
          "iopub.status.idle": "2022-09-13T13:53:10.244374Z",
          "shell.execute_reply": "2022-09-13T13:53:10.242633Z"
        },
        "id": "16900f9d",
        "outputId": "e364068b-8c12-40d6-8568-22e0f99a14bf",
        "papermill": {
          "duration": 0.218048,
          "end_time": "2022-09-13T13:53:10.247259",
          "exception": false,
          "start_time": "2022-09-13T13:53:10.029211",
          "status": "completed"
        },
        "tags": []
      },
      "outputs": [
        {
          "name": "stdout",
          "output_type": "stream",
          "text": [
            "Before applying lower casing: One of the\n",
            "After applying lower casing : one of the\n"
          ]
        }
      ],
      "source": [
        "print(f\"Before applying lower casing: {imdb_reviews['review'][0][:10]}\")\n",
        "\n",
        "imdb_reviews['review'] = convert_lowercase(imdb_reviews['review'])\n",
        "\n",
        "print(f\"After applying lower casing : {imdb_reviews['review'][0][:10]}\")"
      ]
    },
    {
      "cell_type": "markdown",
      "id": "69639c6d",
      "metadata": {
        "id": "69639c6d",
        "papermill": {
          "duration": 0.009373,
          "end_time": "2022-09-13T13:53:10.266460",
          "exception": false,
          "start_time": "2022-09-13T13:53:10.257087",
          "status": "completed"
        },
        "tags": []
      },
      "source": [
        "<div style='color: #216969;\n",
        "           background-color: #EAF6F6;\n",
        "           font-size: 200%;\n",
        "           border-radius:15px;\n",
        "           text-align:center;\n",
        "           font-weight:600;\n",
        "           border-style: solid;\n",
        "           border-color: dark green;\n",
        "           font-family: \"Verdana\";'>\n",
        "Removing HTML Tags\n",
        "<a class=\"anchor\" id=\"2\"></a>"
      ]
    },
    {
      "cell_type": "markdown",
      "id": "9a690f6e",
      "metadata": {
        "id": "9a690f6e",
        "papermill": {
          "duration": 0.009388,
          "end_time": "2022-09-13T13:53:10.285377",
          "exception": false,
          "start_time": "2022-09-13T13:53:10.275989",
          "status": "completed"
        },
        "tags": []
      },
      "source": [
        "Whenever you will scrape a website, HTML tags such as `header`, `body`, `anchor`, etc, will be present. These tags won't add any value to the text data we have and therefore, should be removed. We can remove these HTML tags by using regular expressions."
      ]
    },
    {
      "cell_type": "code",
      "execution_count": null,
      "id": "41cffe1a",
      "metadata": {
        "execution": {
          "iopub.execute_input": "2022-09-13T13:53:10.307270Z",
          "iopub.status.busy": "2022-09-13T13:53:10.305788Z",
          "iopub.status.idle": "2022-09-13T13:53:10.312294Z",
          "shell.execute_reply": "2022-09-13T13:53:10.311099Z"
        },
        "id": "41cffe1a",
        "papermill": {
          "duration": 0.019758,
          "end_time": "2022-09-13T13:53:10.314667",
          "exception": false,
          "start_time": "2022-09-13T13:53:10.294909",
          "status": "completed"
        },
        "tags": []
      },
      "outputs": [],
      "source": [
        "import re\n",
        "def remove_html_tags(text):\n",
        "    re_html = re.compile('<.*?>')\n",
        "    return re_html.sub(r'', text)"
      ]
    },
    {
      "cell_type": "code",
      "execution_count": null,
      "id": "f7d79576",
      "metadata": {
        "execution": {
          "iopub.execute_input": "2022-09-13T13:53:10.336041Z",
          "iopub.status.busy": "2022-09-13T13:53:10.335565Z",
          "iopub.status.idle": "2022-09-13T13:53:10.341487Z",
          "shell.execute_reply": "2022-09-13T13:53:10.340340Z"
        },
        "id": "f7d79576",
        "outputId": "0a09b1cd-61c7-4480-af4c-6f1420e1be8e",
        "papermill": {
          "duration": 0.019885,
          "end_time": "2022-09-13T13:53:10.344195",
          "exception": false,
          "start_time": "2022-09-13T13:53:10.324310",
          "status": "completed"
        },
        "tags": []
      },
      "outputs": [
        {
          "name": "stdout",
          "output_type": "stream",
          "text": [
            " This is a h1 tag \n"
          ]
        }
      ],
      "source": [
        "text = '<h1> This is a h1 tag </h1>'\n",
        "print(remove_html_tags(text))"
      ]
    },
    {
      "cell_type": "code",
      "execution_count": null,
      "id": "915aeb05",
      "metadata": {
        "execution": {
          "iopub.execute_input": "2022-09-13T13:53:10.365957Z",
          "iopub.status.busy": "2022-09-13T13:53:10.365445Z",
          "iopub.status.idle": "2022-09-13T13:53:10.573602Z",
          "shell.execute_reply": "2022-09-13T13:53:10.572300Z"
        },
        "id": "915aeb05",
        "outputId": "a7133c2c-eccf-4fc4-901c-614db0cb7bb9",
        "papermill": {
          "duration": 0.222604,
          "end_time": "2022-09-13T13:53:10.576675",
          "exception": false,
          "start_time": "2022-09-13T13:53:10.354071",
          "status": "completed"
        },
        "tags": []
      },
      "outputs": [
        {
          "name": "stdout",
          "output_type": "stream",
          "text": [
            "Before removing HTML tags: a wonderful little production. <br /><br />the filming technique is ve\n",
            "After removing HTML tags : a wonderful little production. the filming technique is very unassumin\n"
          ]
        }
      ],
      "source": [
        "print(f\"Before removing HTML tags: {imdb_reviews['review'][1][:70]}\")\n",
        "imdb_reviews['review'] = imdb_reviews['review'].apply(remove_html_tags)\n",
        "print(f\"After removing HTML tags : {imdb_reviews['review'][1][:70]}\")\n"
      ]
    },
    {
      "cell_type": "markdown",
      "id": "6aa155a0",
      "metadata": {
        "id": "6aa155a0",
        "papermill": {
          "duration": 0.00987,
          "end_time": "2022-09-13T13:53:10.596580",
          "exception": false,
          "start_time": "2022-09-13T13:53:10.586710",
          "status": "completed"
        },
        "tags": []
      },
      "source": [
        "<div style='color: #216969;\n",
        "           background-color: #EAF6F6;\n",
        "           font-size: 200%;\n",
        "           border-radius:15px;\n",
        "           text-align:center;\n",
        "           font-weight:600;\n",
        "           border-style: solid;\n",
        "           border-color: dark green;\n",
        "           font-family: \"Verdana\";'>\n",
        "Removing URLs\n",
        "<a class=\"anchor\" id=\"3\"></a>"
      ]
    },
    {
      "cell_type": "markdown",
      "id": "041aca35",
      "metadata": {
        "id": "041aca35",
        "papermill": {
          "duration": 0.009549,
          "end_time": "2022-09-13T13:53:10.616094",
          "exception": false,
          "start_time": "2022-09-13T13:53:10.606545",
          "status": "completed"
        },
        "tags": []
      },
      "source": [
        "`URLs` in a text references to a location to the web but just like HTML tags, it doesn't provide any useful information. We can remove URLs by using regular expressions"
      ]
    },
    {
      "cell_type": "code",
      "execution_count": null,
      "id": "ef3d6be0",
      "metadata": {
        "execution": {
          "iopub.execute_input": "2022-09-13T13:53:10.639085Z",
          "iopub.status.busy": "2022-09-13T13:53:10.638542Z",
          "iopub.status.idle": "2022-09-13T13:53:10.646273Z",
          "shell.execute_reply": "2022-09-13T13:53:10.645112Z"
        },
        "id": "ef3d6be0",
        "papermill": {
          "duration": 0.02279,
          "end_time": "2022-09-13T13:53:10.648623",
          "exception": false,
          "start_time": "2022-09-13T13:53:10.625833",
          "status": "completed"
        },
        "tags": []
      },
      "outputs": [],
      "source": [
        "text = 'My profile link: https://www.kaggle.com/anubhavgoyal10'\n",
        "def remove_url(text):\n",
        "    re_url = re.compile('https?://\\S+|www\\.\\S+')\n",
        "    return re_url.sub('', text)"
      ]
    },
    {
      "cell_type": "code",
      "execution_count": null,
      "id": "8d939157",
      "metadata": {
        "execution": {
          "iopub.execute_input": "2022-09-13T13:53:10.670625Z",
          "iopub.status.busy": "2022-09-13T13:53:10.670112Z",
          "iopub.status.idle": "2022-09-13T13:53:10.677250Z",
          "shell.execute_reply": "2022-09-13T13:53:10.676057Z"
        },
        "id": "8d939157",
        "outputId": "baa58acd-3d46-4103-86e7-0d5c1183a4b7",
        "papermill": {
          "duration": 0.020811,
          "end_time": "2022-09-13T13:53:10.679544",
          "exception": false,
          "start_time": "2022-09-13T13:53:10.658733",
          "status": "completed"
        },
        "tags": []
      },
      "outputs": [
        {
          "name": "stdout",
          "output_type": "stream",
          "text": [
            "Text before removing URL: My profile link: https://www.kaggle.com/anubhavgoyal10\n",
            "Text after removing URL : My profile link: \n"
          ]
        }
      ],
      "source": [
        "print(f'Text before removing URL: {text}')\n",
        "print(f'Text after removing URL : {remove_url(text)}')"
      ]
    },
    {
      "cell_type": "markdown",
      "id": "d0950376",
      "metadata": {
        "id": "d0950376",
        "papermill": {
          "duration": 0.009629,
          "end_time": "2022-09-13T13:53:10.698939",
          "exception": false,
          "start_time": "2022-09-13T13:53:10.689310",
          "status": "completed"
        },
        "tags": []
      },
      "source": [
        "<div style='color: #216969;\n",
        "           background-color: #EAF6F6;\n",
        "           font-size: 200%;\n",
        "           border-radius:15px;\n",
        "           text-align:center;\n",
        "           font-weight:600;\n",
        "           border-style: solid;\n",
        "           border-color: dark green;\n",
        "           font-family: \"Verdana\";'>\n",
        "Removing Punctuations\n",
        "<a class=\"anchor\" id=\"4\"></a>"
      ]
    },
    {
      "cell_type": "markdown",
      "id": "fbacfc7b",
      "metadata": {
        "id": "fbacfc7b",
        "papermill": {
          "duration": 0.0095,
          "end_time": "2022-09-13T13:53:10.718199",
          "exception": false,
          "start_time": "2022-09-13T13:53:10.708699",
          "status": "completed"
        },
        "tags": []
      },
      "source": [
        "The reason of removing punctuations is pretty simiar to lowercasing, in certain cases, we want the word `hello` and `hello!` to be treated in the exact same way. Although, be careful while using punctuation, the word `can't` can be converted to `cant` and `can t` depending upon what you set in the parameter."
      ]
    },
    {
      "cell_type": "code",
      "execution_count": null,
      "id": "1e5d587b",
      "metadata": {
        "execution": {
          "iopub.execute_input": "2022-09-13T13:53:10.739948Z",
          "iopub.status.busy": "2022-09-13T13:53:10.739402Z",
          "iopub.status.idle": "2022-09-13T13:53:10.745138Z",
          "shell.execute_reply": "2022-09-13T13:53:10.744070Z"
        },
        "id": "1e5d587b",
        "papermill": {
          "duration": 0.019665,
          "end_time": "2022-09-13T13:53:10.747707",
          "exception": false,
          "start_time": "2022-09-13T13:53:10.728042",
          "status": "completed"
        },
        "tags": []
      },
      "outputs": [],
      "source": [
        "import string\n",
        "exclude = string.punctuation\n",
        "\n",
        "def remove_punc(text):\n",
        "    return text.translate(str.maketrans('', '', exclude))"
      ]
    },
    {
      "cell_type": "code",
      "execution_count": null,
      "id": "305b91fb",
      "metadata": {
        "execution": {
          "iopub.execute_input": "2022-09-13T13:53:10.769830Z",
          "iopub.status.busy": "2022-09-13T13:53:10.769370Z",
          "iopub.status.idle": "2022-09-13T13:53:10.775772Z",
          "shell.execute_reply": "2022-09-13T13:53:10.774923Z"
        },
        "id": "305b91fb",
        "outputId": "3aef6c89-14cf-479e-870a-0f52a5b7d923",
        "papermill": {
          "duration": 0.020223,
          "end_time": "2022-09-13T13:53:10.777992",
          "exception": false,
          "start_time": "2022-09-13T13:53:10.757769",
          "status": "completed"
        },
        "tags": []
      },
      "outputs": [
        {
          "name": "stdout",
          "output_type": "stream",
          "text": [
            "Text before punctuation: Hello!\n",
            "Text after punctuation : Hello\n"
          ]
        }
      ],
      "source": [
        "text = 'Hello!'\n",
        "print(f'Text before punctuation: {text}')\n",
        "text_wihout_punc = remove_punc(text)\n",
        "print(f'Text after punctuation : {text_wihout_punc}')"
      ]
    },
    {
      "cell_type": "code",
      "execution_count": null,
      "id": "88cd470d",
      "metadata": {
        "execution": {
          "iopub.execute_input": "2022-09-13T13:53:10.800270Z",
          "iopub.status.busy": "2022-09-13T13:53:10.799743Z",
          "iopub.status.idle": "2022-09-13T13:53:11.033502Z",
          "shell.execute_reply": "2022-09-13T13:53:11.032104Z"
        },
        "id": "88cd470d",
        "outputId": "b4ceacf8-2d5b-4e02-e281-29a61b70ca65",
        "papermill": {
          "duration": 0.24851,
          "end_time": "2022-09-13T13:53:11.036716",
          "exception": false,
          "start_time": "2022-09-13T13:53:10.788206",
          "status": "completed"
        },
        "tags": []
      },
      "outputs": [
        {
          "name": "stdout",
          "output_type": "stream",
          "text": [
            "Tweet before removing punctuation:  @user when a father is dysfunctional and is so selfish he drags his kids into his dysfunction.   #run\n",
            "Tweet after removing punctuation :  user when a father is dysfunctional and is so selfish he drags his kids into his dysfunction   run\n"
          ]
        }
      ],
      "source": [
        "print(f\"Tweet before removing punctuation: {twitter_tweets['tweet'][0]}\")\n",
        "twitter_tweets['tweet'] = twitter_tweets['tweet'].apply(remove_punc)\n",
        "print(f\"Tweet after removing punctuation : {twitter_tweets['tweet'][0]}\")"
      ]
    },
    {
      "cell_type": "markdown",
      "id": "1b0daa2f",
      "metadata": {
        "id": "1b0daa2f",
        "papermill": {
          "duration": 0.010125,
          "end_time": "2022-09-13T13:53:11.057576",
          "exception": false,
          "start_time": "2022-09-13T13:53:11.047451",
          "status": "completed"
        },
        "tags": []
      },
      "source": [
        "<div style='color: #216969;\n",
        "           background-color: #EAF6F6;\n",
        "           font-size: 200%;\n",
        "           border-radius:15px;\n",
        "           text-align:center;\n",
        "           font-weight:600;\n",
        "           border-style: solid;\n",
        "           border-color: dark green;\n",
        "           font-family: \"Verdana\";'>\n",
        "Chat word treatment\n",
        "<a class=\"anchor\" id=\"5\"></a>"
      ]
    },
    {
      "cell_type": "markdown",
      "id": "2a511a43",
      "metadata": {
        "id": "2a511a43",
        "papermill": {
          "duration": 0.010093,
          "end_time": "2022-09-13T13:53:11.078598",
          "exception": false,
          "start_time": "2022-09-13T13:53:11.068505",
          "status": "completed"
        },
        "tags": []
      },
      "source": [
        "Many times we use short abbreviations of words while we are texting. We have to change them back into their full forms while performing NLP tasks"
      ]
    },
    {
      "cell_type": "code",
      "execution_count": null,
      "id": "f8287850",
      "metadata": {
        "execution": {
          "iopub.execute_input": "2022-09-13T13:53:11.100994Z",
          "iopub.status.busy": "2022-09-13T13:53:11.100454Z",
          "iopub.status.idle": "2022-09-13T13:53:11.108124Z",
          "shell.execute_reply": "2022-09-13T13:53:11.107050Z"
        },
        "id": "f8287850",
        "papermill": {
          "duration": 0.021838,
          "end_time": "2022-09-13T13:53:11.110555",
          "exception": false,
          "start_time": "2022-09-13T13:53:11.088717",
          "status": "completed"
        },
        "tags": []
      },
      "outputs": [],
      "source": [
        "# Some chat words examples\n",
        "chat_words = {\n",
        "    'FYI' : 'for your information',\n",
        "    'LOL' : 'laugh out loud',\n",
        "    'AFK' : 'away from keyboard'\n",
        "}\n",
        "\n",
        "def chat_words_conv(text):\n",
        "    new_text = []\n",
        "    for word in text.split():\n",
        "        if word.upper() in chat_words:\n",
        "            new_text.append(chat_words[word.upper()])\n",
        "        else:\n",
        "            new_text.append(word)\n",
        "\n",
        "    return ' '.join(new_text)"
      ]
    },
    {
      "cell_type": "code",
      "execution_count": null,
      "id": "9bb8e6f6",
      "metadata": {
        "execution": {
          "iopub.execute_input": "2022-09-13T13:53:11.134465Z",
          "iopub.status.busy": "2022-09-13T13:53:11.133408Z",
          "iopub.status.idle": "2022-09-13T13:53:11.139270Z",
          "shell.execute_reply": "2022-09-13T13:53:11.138185Z"
        },
        "id": "9bb8e6f6",
        "outputId": "cd28f824-c010-41c5-8dae-3a2b5587babf",
        "papermill": {
          "duration": 0.02053,
          "end_time": "2022-09-13T13:53:11.141489",
          "exception": false,
          "start_time": "2022-09-13T13:53:11.120959",
          "status": "completed"
        },
        "tags": []
      },
      "outputs": [
        {
          "name": "stdout",
          "output_type": "stream",
          "text": [
            "for your information I was away from keyboard for a while\n"
          ]
        }
      ],
      "source": [
        "text = 'FyI I was afk for a while'\n",
        "print(chat_words_conv(text))"
      ]
    },
    {
      "cell_type": "markdown",
      "id": "9b7a27ef",
      "metadata": {
        "id": "9b7a27ef",
        "papermill": {
          "duration": 0.0106,
          "end_time": "2022-09-13T13:53:11.162314",
          "exception": false,
          "start_time": "2022-09-13T13:53:11.151714",
          "status": "completed"
        },
        "tags": []
      },
      "source": [
        "<div style='color: #216969;\n",
        "           background-color: #EAF6F6;\n",
        "           font-size: 200%;\n",
        "           border-radius:15px;\n",
        "           text-align:center;\n",
        "           font-weight:600;\n",
        "           border-style: solid;\n",
        "           border-color: dark green;\n",
        "           font-family: \"Verdana\";'>\n",
        "Spelling Correction\n",
        "<a class=\"anchor\" id=\"6\"></a>"
      ]
    },
    {
      "cell_type": "code",
      "execution_count": null,
      "id": "f6151645",
      "metadata": {
        "execution": {
          "iopub.execute_input": "2022-09-13T13:53:11.185713Z",
          "iopub.status.busy": "2022-09-13T13:53:11.184657Z",
          "iopub.status.idle": "2022-09-13T13:53:13.601102Z",
          "shell.execute_reply": "2022-09-13T13:53:13.599777Z"
        },
        "id": "f6151645",
        "outputId": "208da4da-56d7-47dd-fbc5-dc682a93a71b",
        "papermill": {
          "duration": 2.431371,
          "end_time": "2022-09-13T13:53:13.604049",
          "exception": false,
          "start_time": "2022-09-13T13:53:11.172678",
          "status": "completed"
        },
        "tags": []
      },
      "outputs": [
        {
          "name": "stdout",
          "output_type": "stream",
          "text": [
            "Correct text: string with lots of spelling errors\n"
          ]
        }
      ],
      "source": [
        "from textblob import TextBlob\n",
        "text = 'stringg witth lotts of spelingg erors'\n",
        "textblob_ = TextBlob(text)\n",
        "print(f'Correct text: {textblob_.correct().string}')"
      ]
    },
    {
      "cell_type": "markdown",
      "id": "a1c8c744",
      "metadata": {
        "id": "a1c8c744",
        "papermill": {
          "duration": 0.009981,
          "end_time": "2022-09-13T13:53:13.624651",
          "exception": false,
          "start_time": "2022-09-13T13:53:13.614670",
          "status": "completed"
        },
        "tags": []
      },
      "source": [
        "<div style='color: #216969;\n",
        "           background-color: #EAF6F6;\n",
        "           font-size: 200%;\n",
        "           border-radius:15px;\n",
        "           text-align:center;\n",
        "           font-weight:600;\n",
        "           border-style: solid;\n",
        "           border-color: dark green;\n",
        "           font-family: \"Verdana\";'>\n",
        "Removing stop words\n",
        "<a class=\"anchor\" id=\"7\"></a>"
      ]
    },
    {
      "cell_type": "markdown",
      "id": "d7a92f3e",
      "metadata": {
        "id": "d7a92f3e",
        "papermill": {
          "duration": 0.009787,
          "end_time": "2022-09-13T13:53:13.644779",
          "exception": false,
          "start_time": "2022-09-13T13:53:13.634992",
          "status": "completed"
        },
        "tags": []
      },
      "source": [
        "Stop words are words such as `the`, `an`, `so`, `and` which are present in abundance in every text but they don't provide much uselful information to the model, so by removing these words, we can focus on the more important information in the text. Although in some cases, we don't remove these stop words, one example being sentiment analysis."
      ]
    },
    {
      "cell_type": "code",
      "execution_count": null,
      "id": "4f42839d",
      "metadata": {
        "execution": {
          "iopub.execute_input": "2022-09-13T13:53:13.668156Z",
          "iopub.status.busy": "2022-09-13T13:53:13.666709Z",
          "iopub.status.idle": "2022-09-13T13:53:13.683078Z",
          "shell.execute_reply": "2022-09-13T13:53:13.681966Z"
        },
        "id": "4f42839d",
        "papermill": {
          "duration": 0.031078,
          "end_time": "2022-09-13T13:53:13.685931",
          "exception": false,
          "start_time": "2022-09-13T13:53:13.654853",
          "status": "completed"
        },
        "tags": []
      },
      "outputs": [],
      "source": [
        "from nltk.corpus import stopwords\n",
        "stopwords_english = stopwords.words('english')\n",
        "\n",
        "def remove_stopwords(text):\n",
        "    new_text = []\n",
        "    for word in text.split():\n",
        "        if word in stopwords_english:\n",
        "            continue\n",
        "        else:\n",
        "            new_text.append(word)\n",
        "\n",
        "    return ' '.join(new_text)"
      ]
    },
    {
      "cell_type": "code",
      "execution_count": null,
      "id": "952aea70",
      "metadata": {
        "execution": {
          "iopub.execute_input": "2022-09-13T13:53:13.709219Z",
          "iopub.status.busy": "2022-09-13T13:53:13.708352Z",
          "iopub.status.idle": "2022-09-13T13:53:13.714224Z",
          "shell.execute_reply": "2022-09-13T13:53:13.713265Z"
        },
        "id": "952aea70",
        "outputId": "8ab7fd12-2435-4e9c-d751-7884531845a5",
        "papermill": {
          "duration": 0.020118,
          "end_time": "2022-09-13T13:53:13.716398",
          "exception": false,
          "start_time": "2022-09-13T13:53:13.696280",
          "status": "completed"
        },
        "tags": []
      },
      "outputs": [
        {
          "name": "stdout",
          "output_type": "stream",
          "text": [
            "Text before removing stop words: Stop words are a set of commonly used words in a language\n",
            "Text after removing stop words : Stop words set commonly used words language\n"
          ]
        }
      ],
      "source": [
        "text = 'Stop words are a set of commonly used words in a language'\n",
        "print(f'Text before removing stop words: {text}')\n",
        "print(f'Text after removing stop words : {remove_stopwords(text)}')"
      ]
    },
    {
      "cell_type": "markdown",
      "id": "46573e1b",
      "metadata": {
        "id": "46573e1b",
        "papermill": {
          "duration": 0.009984,
          "end_time": "2022-09-13T13:53:13.736696",
          "exception": false,
          "start_time": "2022-09-13T13:53:13.726712",
          "status": "completed"
        },
        "tags": []
      },
      "source": [
        "<div style='color: #216969;\n",
        "           background-color: #EAF6F6;\n",
        "           font-size: 200%;\n",
        "           border-radius:15px;\n",
        "           text-align:center;\n",
        "           font-weight:600;\n",
        "           border-style: solid;\n",
        "           border-color: dark green;\n",
        "           font-family: \"Verdana\";'>\n",
        "Handling Emojis\n",
        "<a class=\"anchor\" id=\"8\"></a>"
      ]
    },
    {
      "cell_type": "markdown",
      "id": "f3768fcf",
      "metadata": {
        "id": "f3768fcf",
        "papermill": {
          "duration": 0.009843,
          "end_time": "2022-09-13T13:53:13.756839",
          "exception": false,
          "start_time": "2022-09-13T13:53:13.746996",
          "status": "completed"
        },
        "tags": []
      },
      "source": [
        "Emojis are generally used in a text to express emotions. There are 2 ways in which we can handle emojis, either we can just remove them (not a good option as they can provide some useful information), and the second good will be to replace them in a way that computer can understand, we can do that using the emoji library in Python"
      ]
    },
    {
      "cell_type": "code",
      "execution_count": null,
      "id": "1a0d1843",
      "metadata": {
        "execution": {
          "iopub.execute_input": "2022-09-13T13:53:13.779912Z",
          "iopub.status.busy": "2022-09-13T13:53:13.779042Z",
          "iopub.status.idle": "2022-09-13T13:53:13.819931Z",
          "shell.execute_reply": "2022-09-13T13:53:13.818945Z"
        },
        "id": "1a0d1843",
        "outputId": "ca3eaf61-9ab7-4bf7-dd6d-13d4e0e6f8ff",
        "papermill": {
          "duration": 0.055198,
          "end_time": "2022-09-13T13:53:13.822291",
          "exception": false,
          "start_time": "2022-09-13T13:53:13.767093",
          "status": "completed"
        },
        "tags": []
      },
      "outputs": [
        {
          "name": "stdout",
          "output_type": "stream",
          "text": [
            "He is suffering from fever :face_with_thermometer:\n"
          ]
        }
      ],
      "source": [
        "import emoji\n",
        "text = 'He is suffering from fever 🤒'\n",
        "print(emoji.demojize(text))"
      ]
    },
    {
      "cell_type": "markdown",
      "id": "5182b8ea",
      "metadata": {
        "id": "5182b8ea",
        "papermill": {
          "duration": 0.01008,
          "end_time": "2022-09-13T13:53:13.842744",
          "exception": false,
          "start_time": "2022-09-13T13:53:13.832664",
          "status": "completed"
        },
        "tags": []
      },
      "source": [
        "<div style='color: #216969;\n",
        "           background-color: #EAF6F6;\n",
        "           font-size: 200%;\n",
        "           border-radius:15px;\n",
        "           text-align:center;\n",
        "           font-weight:600;\n",
        "           border-style: solid;\n",
        "           border-color: dark green;\n",
        "           font-family: \"Verdana\";'>\n",
        "Tokenization\n",
        "<a class=\"anchor\" id=\"9\"></a>"
      ]
    },
    {
      "cell_type": "markdown",
      "id": "b91ca395",
      "metadata": {
        "id": "b91ca395",
        "papermill": {
          "duration": 0.010086,
          "end_time": "2022-09-13T13:53:13.863226",
          "exception": false,
          "start_time": "2022-09-13T13:53:13.853140",
          "status": "completed"
        },
        "tags": []
      },
      "source": [
        "It is the process of breaking the data into smaller chunks of information. We can use tokenization to seperate sentences, words, characters. We can perform tokenization using the `nltk` or `spacy` library."
      ]
    },
    {
      "cell_type": "code",
      "execution_count": null,
      "id": "fd937b3e",
      "metadata": {
        "execution": {
          "iopub.execute_input": "2022-09-13T13:53:13.886144Z",
          "iopub.status.busy": "2022-09-13T13:53:13.885661Z",
          "iopub.status.idle": "2022-09-13T13:53:13.907665Z",
          "shell.execute_reply": "2022-09-13T13:53:13.906638Z"
        },
        "id": "fd937b3e",
        "outputId": "c1570903-ba5a-4db8-be00-1d68c51612c0",
        "papermill": {
          "duration": 0.036448,
          "end_time": "2022-09-13T13:53:13.910068",
          "exception": false,
          "start_time": "2022-09-13T13:53:13.873620",
          "status": "completed"
        },
        "tags": []
      },
      "outputs": [
        {
          "name": "stdout",
          "output_type": "stream",
          "text": [
            "['Life', 'is', 'a', 'matter', 'of', 'choices', 'and', 'every', 'choice', 'makes', 'you', '!']\n"
          ]
        }
      ],
      "source": [
        "from nltk.tokenize import word_tokenize, sent_tokenize\n",
        "sent_1 = 'Life is a matter of choices and every choice makes you!'\n",
        "print(word_tokenize(sent_1))"
      ]
    },
    {
      "cell_type": "markdown",
      "id": "f3dcec61",
      "metadata": {
        "id": "f3dcec61",
        "papermill": {
          "duration": 0.010075,
          "end_time": "2022-09-13T13:53:13.930574",
          "exception": false,
          "start_time": "2022-09-13T13:53:13.920499",
          "status": "completed"
        },
        "tags": []
      },
      "source": [
        "As we can see, it managed to separate the `you` and `!`. If you used the Python split function, it wouldn't have done that."
      ]
    },
    {
      "cell_type": "code",
      "execution_count": null,
      "id": "531be4b6",
      "metadata": {
        "execution": {
          "iopub.execute_input": "2022-09-13T13:53:13.954428Z",
          "iopub.status.busy": "2022-09-13T13:53:13.953559Z",
          "iopub.status.idle": "2022-09-13T13:53:13.960895Z",
          "shell.execute_reply": "2022-09-13T13:53:13.959946Z"
        },
        "id": "531be4b6",
        "outputId": "68a4b60f-8b9a-48a8-cce2-84ef84beb2b7",
        "papermill": {
          "duration": 0.02157,
          "end_time": "2022-09-13T13:53:13.962984",
          "exception": false,
          "start_time": "2022-09-13T13:53:13.941414",
          "status": "completed"
        },
        "tags": []
      },
      "outputs": [
        {
          "name": "stdout",
          "output_type": "stream",
          "text": [
            "[\"Don't forget that gifts often come with costs that go beyond their purchase price.\", \"When you purchase a child the latest smartphone, you're also committing to a monthly phone bill.\", \"When you purchase the latest gaming system, you're likely not going to be satisfied with the games that come with it for long and want to purchase new titles to play.\", \"When you buy gifts it's important to remember that some come with additional costs down the road that can be much more expensive than the initial gift itself.\"]\n"
          ]
        }
      ],
      "source": [
        "para = \"Don't forget that gifts often come with costs that go beyond their purchase price. When you purchase a child the latest smartphone, you're also committing to a monthly phone bill. When you purchase the latest gaming system, you're likely not going to be satisfied with the games that come with it for long and want to purchase new titles to play. When you buy gifts it's important to remember that some come with additional costs down the road that can be much more expensive than the initial gift itself.\"\n",
        "print(sent_tokenize(para))"
      ]
    },
    {
      "cell_type": "code",
      "execution_count": null,
      "id": "fe2131b3",
      "metadata": {
        "execution": {
          "iopub.execute_input": "2022-09-13T13:53:13.987920Z",
          "iopub.status.busy": "2022-09-13T13:53:13.986973Z",
          "iopub.status.idle": "2022-09-13T13:53:26.977018Z",
          "shell.execute_reply": "2022-09-13T13:53:26.975042Z"
        },
        "id": "fe2131b3",
        "outputId": "727d5fc9-b372-445e-e8c7-43818decfb44",
        "papermill": {
          "duration": 13.007228,
          "end_time": "2022-09-13T13:53:26.981170",
          "exception": false,
          "start_time": "2022-09-13T13:53:13.973942",
          "status": "completed"
        },
        "tags": []
      },
      "outputs": [
        {
          "name": "stdout",
          "output_type": "stream",
          "text": [
            "A, 5, km, bike, ride, costs, around, $, 10, in, New, York, !, "
          ]
        }
      ],
      "source": [
        "import spacy\n",
        "nlp = spacy.load('en_core_web_sm')\n",
        "sent_2 = 'A 5km bike ride costs around $10 in New York!'\n",
        "doc = nlp(sent_2)\n",
        "for token in doc:\n",
        "    print(token, end= ', ')"
      ]
    },
    {
      "cell_type": "markdown",
      "id": "6c50e8f5",
      "metadata": {
        "id": "6c50e8f5",
        "papermill": {
          "duration": 0.010792,
          "end_time": "2022-09-13T13:53:27.003960",
          "exception": false,
          "start_time": "2022-09-13T13:53:26.993168",
          "status": "completed"
        },
        "tags": []
      },
      "source": [
        "<div style='color: #216969;\n",
        "           background-color: #EAF6F6;\n",
        "           font-size: 200%;\n",
        "           border-radius:15px;\n",
        "           text-align:center;\n",
        "           font-weight:600;\n",
        "           border-style: solid;\n",
        "           border-color: dark green;\n",
        "           font-family: \"Verdana\";'>\n",
        "Stemming\n",
        "<a class=\"anchor\" id=\"10\"></a>"
      ]
    },
    {
      "cell_type": "markdown",
      "id": "a8a9ec73",
      "metadata": {
        "id": "a8a9ec73",
        "papermill": {
          "duration": 0.010282,
          "end_time": "2022-09-13T13:53:27.026362",
          "exception": false,
          "start_time": "2022-09-13T13:53:27.016080",
          "status": "completed"
        },
        "tags": []
      },
      "source": [
        "Stemming is a process by which we bring the words to their root forms. For e.g. the stem of walking, walks, walked is walk. We can do stemming using the `nltk` libray"
      ]
    },
    {
      "cell_type": "code",
      "execution_count": null,
      "id": "7cc47faf",
      "metadata": {
        "execution": {
          "iopub.execute_input": "2022-09-13T13:53:27.053459Z",
          "iopub.status.busy": "2022-09-13T13:53:27.052638Z",
          "iopub.status.idle": "2022-09-13T13:53:27.059156Z",
          "shell.execute_reply": "2022-09-13T13:53:27.058232Z"
        },
        "id": "7cc47faf",
        "papermill": {
          "duration": 0.021962,
          "end_time": "2022-09-13T13:53:27.061427",
          "exception": false,
          "start_time": "2022-09-13T13:53:27.039465",
          "status": "completed"
        },
        "tags": []
      },
      "outputs": [],
      "source": [
        "from nltk.stem.porter import PorterStemmer\n",
        "ps = PorterStemmer()\n",
        "def perform_stemming(text):\n",
        "    new_text = [ps.stem(word) for word in text.split()]\n",
        "    return ' '.join(new_text)"
      ]
    },
    {
      "cell_type": "code",
      "execution_count": null,
      "id": "6ff55d67",
      "metadata": {
        "execution": {
          "iopub.execute_input": "2022-09-13T13:53:27.086725Z",
          "iopub.status.busy": "2022-09-13T13:53:27.085892Z",
          "iopub.status.idle": "2022-09-13T13:53:27.095606Z",
          "shell.execute_reply": "2022-09-13T13:53:27.094496Z"
        },
        "id": "6ff55d67",
        "outputId": "af07d06d-154c-4b7f-9d5f-7f89e12772d2",
        "papermill": {
          "duration": 0.026166,
          "end_time": "2022-09-13T13:53:27.098988",
          "exception": false,
          "start_time": "2022-09-13T13:53:27.072822",
          "status": "completed"
        },
        "tags": []
      },
      "outputs": [
        {
          "data": {
            "text/plain": [
              "'walk walk walk walk'"
            ]
          },
          "execution_count": 22,
          "metadata": {},
          "output_type": "execute_result"
        }
      ],
      "source": [
        "text = 'walk walks walked walking'\n",
        "perform_stemming(text)"
      ]
    },
    {
      "cell_type": "markdown",
      "id": "1996f1e1",
      "metadata": {
        "id": "1996f1e1",
        "papermill": {
          "duration": 0.011338,
          "end_time": "2022-09-13T13:53:27.121844",
          "exception": false,
          "start_time": "2022-09-13T13:53:27.110506",
          "status": "completed"
        },
        "tags": []
      },
      "source": [
        "<div style='color: #216969;\n",
        "           background-color: #EAF6F6;\n",
        "           font-size: 200%;\n",
        "           border-radius:15px;\n",
        "           text-align:center;\n",
        "           font-weight:600;\n",
        "           border-style: solid;\n",
        "           border-color: dark green;\n",
        "           font-family: \"Verdana\";'>\n",
        "References\n",
        "<a class=\"anchor\" id=\"11\"></a>"
      ]
    },
    {
      "cell_type": "markdown",
      "id": "c5f4b963",
      "metadata": {
        "id": "c5f4b963",
        "papermill": {
          "duration": 0.011893,
          "end_time": "2022-09-13T13:53:27.145672",
          "exception": false,
          "start_time": "2022-09-13T13:53:27.133779",
          "status": "completed"
        },
        "tags": []
      },
      "source": [
        "1. [https://www.youtube.com/watch?v=6C0sLtw5ctc](https://www.youtube.com/watch?v=6C0sLtw5ctc)\n",
        "2. [https://www.kaggle.com/code/campusx/text-preprocessing/script](https://www.kaggle.com/code/campusx/text-preprocessing/script)"
      ]
    }
  ],
  "metadata": {
    "colab": {
      "include_colab_link": true,
      "provenance": []
    },
    "kernelspec": {
      "display_name": "Python 3",
      "language": "python",
      "name": "python3"
    },
    "language_info": {
      "codemirror_mode": {
        "name": "ipython",
        "version": 3
      },
      "file_extension": ".py",
      "mimetype": "text/x-python",
      "name": "python",
      "nbconvert_exporter": "python",
      "pygments_lexer": "ipython3",
      "version": "3.7.12"
    },
    "papermill": {
      "default_parameters": {},
      "duration": 32.404026,
      "end_time": "2022-09-13T13:53:29.981676",
      "environment_variables": {},
      "exception": null,
      "input_path": "__notebook__.ipynb",
      "output_path": "__notebook__.ipynb",
      "parameters": {},
      "start_time": "2022-09-13T13:52:57.577650",
      "version": "2.3.4"
    }
  },
  "nbformat": 4,
  "nbformat_minor": 5
}
