{
  "cells": [
    {
      "cell_type": "markdown",
      "metadata": {
        "id": "view-in-github",
        "colab_type": "text"
      },
      "source": [
        "<a href=\"https://colab.research.google.com/github/Andrian0s/ML4NLP1-2023-Tutorial-Notebooks/blob/main/tutorial_notebooks/05_intro_to_PyTorch.ipynb\" target=\"_parent\"><img src=\"https://colab.research.google.com/assets/colab-badge.svg\" alt=\"Open In Colab\"/></a>"
      ]
    },
    {
      "cell_type": "markdown",
      "metadata": {
        "id": "5tj0U__hH95r"
      },
      "source": [
        "# A Quick PyTorch Introduction for ML4NLP1\n",
        "\n",
        "### Tutorial W5 (16.10.2023)\n",
        "\n",
        "- PyTorch: https://pytorch.org/\n",
        "- PyTorch tutorials: https://pytorch.org/tutorials/\n",
        "- PyTorch documentation: https://pytorch.org/docs/stable/index.html\n",
        "- PyTorch forums: https://discuss.pytorch.org/\n",
        "- A collection of pytorch example code snippets: https://pytorch.org/tutorials/beginner/pytorch_with_examples.html"
      ]
    },
    {
      "cell_type": "code",
      "execution_count": null,
      "metadata": {
        "id": "ZcQdTHyHIG6W"
      },
      "outputs": [],
      "source": [
        "import numpy as np\n",
        "import torch"
      ]
    },
    {
      "cell_type": "markdown",
      "metadata": {
        "id": "btpW3rhnNFy3"
      },
      "source": [
        "## Basic Data Types\n",
        "\n",
        "Demonstrating different ways to create and interact with PyTorch tensors, the fundamental data structure in PyTorch"
      ]
    },
    {
      "cell_type": "code",
      "execution_count": null,
      "metadata": {
        "colab": {
          "base_uri": "https://localhost:8080/"
        },
        "id": "bo_Y_Z3oODHo",
        "outputId": "38adf36e-36bc-4e84-e1c2-bea41afa5358"
      },
      "outputs": [
        {
          "name": "stdout",
          "output_type": "stream",
          "text": [
            "torch.int64\n",
            "torch.float32\n"
          ]
        }
      ],
      "source": [
        "t = torch.tensor([1, 2, 3])\n",
        "print(t.dtype)\n",
        "t = torch.tensor([1.0, 2.0, 3.0])\n",
        "print(t.dtype)"
      ]
    },
    {
      "cell_type": "code",
      "execution_count": null,
      "metadata": {
        "colab": {
          "base_uri": "https://localhost:8080/"
        },
        "id": "F9QKGtSROaqC",
        "outputId": "5a6c50c4-9d70-4762-d210-44bf78a3248a"
      },
      "outputs": [
        {
          "name": "stdout",
          "output_type": "stream",
          "text": [
            "torch.int64\n",
            "torch.float64\n"
          ]
        }
      ],
      "source": [
        "t = torch.tensor([1, 2, 3], dtype=torch.long)\n",
        "print(t.dtype)\n",
        "t = torch.tensor([1, 2, 3], dtype=torch.float64)\n",
        "print(t.dtype)"
      ]
    },
    {
      "cell_type": "code",
      "execution_count": null,
      "metadata": {
        "colab": {
          "base_uri": "https://localhost:8080/"
        },
        "id": "k_1LlTWtOoIE",
        "outputId": "1247f703-20fe-4b43-9d45-0b4b37c26e74"
      },
      "outputs": [
        {
          "name": "stdout",
          "output_type": "stream",
          "text": [
            "torch.int64\n",
            "torch.float32\n"
          ]
        }
      ],
      "source": [
        "t = torch.LongTensor([1, 2, 3])\n",
        "print(t.dtype)\n",
        "t = torch.FloatTensor([1, 2, 3])\n",
        "print(t.dtype)"
      ]
    },
    {
      "cell_type": "code",
      "execution_count": null,
      "metadata": {
        "colab": {
          "base_uri": "https://localhost:8080/"
        },
        "id": "T6aGgINxOwCh",
        "outputId": "7812c5ee-5db2-41d5-a68d-d388115f5df0"
      },
      "outputs": [
        {
          "name": "stdout",
          "output_type": "stream",
          "text": [
            "[1 2 3] <class 'numpy.ndarray'>\n",
            "tensor([1, 2, 3]) <class 'torch.Tensor'>\n",
            "[1 2 3] <class 'numpy.ndarray'>\n"
          ]
        }
      ],
      "source": [
        "a = np.array([1, 2, 3])\n",
        "t = torch.from_numpy(a)\n",
        "b = t.numpy()\n",
        "print(a, type(a))\n",
        "print(t, type(t))\n",
        "print(b, type(b))"
      ]
    },
    {
      "cell_type": "markdown",
      "metadata": {
        "id": "YbZ0hS3XP1JN"
      },
      "source": [
        "For a list of PyTorch tensor types, go to: https://pytorch.org/docs/stable/tensors.html\n",
        "\n",
        "##Tensors have a shape\n",
        "\n",
        "Tensor shapes define the dimensions and structure of the data in the tensor. Understanding and working with tensor shapes is crucial for data manipulation and neural network operations."
      ]
    },
    {
      "cell_type": "code",
      "execution_count": null,
      "metadata": {
        "colab": {
          "base_uri": "https://localhost:8080/"
        },
        "id": "1_RsOtWxP719",
        "outputId": "8aaff760-88cd-47f0-d132-bf7524dab239"
      },
      "outputs": [
        {
          "name": "stdout",
          "output_type": "stream",
          "text": [
            "torch.Size([1])\n",
            "torch.Size([3])\n",
            "torch.Size([3, 2])\n"
          ]
        }
      ],
      "source": [
        "s = torch.FloatTensor([0.5])\n",
        "t = torch.FloatTensor([1, 3.2, 19])\n",
        "u = torch.FloatTensor([[0.2, 2], [0.3, 3], [0.4, 4]])\n",
        "print(s.shape)\n",
        "print(t.shape)\n",
        "print(u.shape)"
      ]
    },
    {
      "cell_type": "markdown",
      "metadata": {
        "id": "JJYrWTdqR2dn"
      },
      "source": [
        "Alternatively you may sometimes see `tensor.size()`:"
      ]
    },
    {
      "cell_type": "code",
      "execution_count": null,
      "metadata": {
        "colab": {
          "base_uri": "https://localhost:8080/"
        },
        "id": "LmOwaocKRi1L",
        "outputId": "281017d4-ba0d-4665-aeaa-e282bd511685"
      },
      "outputs": [
        {
          "name": "stdout",
          "output_type": "stream",
          "text": [
            "torch.Size([1])\n",
            "torch.Size([3])\n",
            "torch.Size([3, 2])\n"
          ]
        }
      ],
      "source": [
        "print(s.size())\n",
        "print(t.size())\n",
        "print(u.size())"
      ]
    },
    {
      "cell_type": "markdown",
      "metadata": {
        "id": "E7YPxG0fSJ3F"
      },
      "source": [
        "You can change the shape of a tensor using  [`tensor.view()`](https://pytorch.org/docs/stable/tensor_view.html):\n",
        "\n"
      ]
    },
    {
      "cell_type": "code",
      "execution_count": null,
      "metadata": {
        "colab": {
          "base_uri": "https://localhost:8080/"
        },
        "id": "JGlaj-B5niL2",
        "outputId": "b1faf931-e3da-45fb-b4ff-460cdee3025d"
      },
      "outputs": [
        {
          "data": {
            "text/plain": [
              "torch.Size([3, 2])"
            ]
          },
          "execution_count": 8,
          "metadata": {},
          "output_type": "execute_result"
        }
      ],
      "source": [
        "u.shape"
      ]
    },
    {
      "cell_type": "code",
      "execution_count": null,
      "metadata": {
        "colab": {
          "base_uri": "https://localhost:8080/"
        },
        "id": "5EvYIDivR-Z4",
        "outputId": "bb0eb724-2169-43b1-d5ad-929155f9347e"
      },
      "outputs": [
        {
          "data": {
            "text/plain": [
              "tensor([[0.2000, 2.0000, 0.3000],\n",
              "        [3.0000, 0.4000, 4.0000]])"
            ]
          },
          "execution_count": 9,
          "metadata": {},
          "output_type": "execute_result"
        }
      ],
      "source": [
        "u.view(2, 3)"
      ]
    },
    {
      "cell_type": "code",
      "execution_count": null,
      "metadata": {
        "colab": {
          "base_uri": "https://localhost:8080/"
        },
        "id": "lYWyAdjhSes7",
        "outputId": "a58a0d4e-e63b-43bf-a545-24657ec74eb0"
      },
      "outputs": [
        {
          "data": {
            "text/plain": [
              "tensor([[0.2000, 2.0000, 0.3000, 3.0000, 0.4000, 4.0000]])"
            ]
          },
          "execution_count": 10,
          "metadata": {},
          "output_type": "execute_result"
        }
      ],
      "source": [
        "u.view(1, 6)"
      ]
    },
    {
      "cell_type": "code",
      "execution_count": null,
      "metadata": {
        "colab": {
          "base_uri": "https://localhost:8080/"
        },
        "id": "50TS5Kgrnd-j",
        "outputId": "6745ecc4-c539-4b14-b3e2-4da217ea39b2"
      },
      "outputs": [
        {
          "data": {
            "text/plain": [
              "tensor([[0.2000, 2.0000, 0.3000],\n",
              "        [3.0000, 0.4000, 4.0000]])"
            ]
          },
          "execution_count": 11,
          "metadata": {},
          "output_type": "execute_result"
        }
      ],
      "source": [
        "u.view(2, -1)"
      ]
    },
    {
      "cell_type": "code",
      "execution_count": null,
      "metadata": {
        "colab": {
          "base_uri": "https://localhost:8080/"
        },
        "id": "bbMwbWuEnuhu",
        "outputId": "2159e6e9-05ef-4c8f-afc6-af01663ff6e8"
      },
      "outputs": [
        {
          "data": {
            "text/plain": [
              "tensor([[0.2000, 2.0000],\n",
              "        [0.3000, 3.0000],\n",
              "        [0.4000, 4.0000]])"
            ]
          },
          "execution_count": 12,
          "metadata": {},
          "output_type": "execute_result"
        }
      ],
      "source": [
        "u.view(-1, 2)"
      ]
    },
    {
      "cell_type": "markdown",
      "metadata": {
        "id": "2DlQsysyr2Gs"
      },
      "source": [
        "More infos on `view()`: https://pytorch.org/docs/stable/tensor_view.html"
      ]
    },
    {
      "cell_type": "markdown",
      "metadata": {
        "id": "tF_G1siPoYxF"
      },
      "source": [
        "## Flatten and Squeeze\n",
        "Demonstrating various operations that can be performed on tensors, like mathematical operations, reshaping, squeezing, and unsqueezing. These are essential for data manipulation and preparing data for processing by a neural network."
      ]
    },
    {
      "cell_type": "code",
      "execution_count": null,
      "metadata": {
        "colab": {
          "base_uri": "https://localhost:8080/"
        },
        "id": "cZZOkJ4vn7xD",
        "outputId": "cbb5b348-05e4-49a5-d730-68cc3f8c497a"
      },
      "outputs": [
        {
          "data": {
            "text/plain": [
              "tensor([0.2000, 2.0000, 0.3000, 3.0000, 0.4000, 4.0000])"
            ]
          },
          "execution_count": 13,
          "metadata": {},
          "output_type": "execute_result"
        }
      ],
      "source": [
        "u.flatten()  # same as u.view(1, -1)"
      ]
    },
    {
      "cell_type": "code",
      "execution_count": null,
      "metadata": {
        "colab": {
          "base_uri": "https://localhost:8080/"
        },
        "id": "hLGSZtYloKvJ",
        "outputId": "2913bbe9-9d41-4c47-9b46-5c20296edc67"
      },
      "outputs": [
        {
          "name": "stdout",
          "output_type": "stream",
          "text": [
            "torch.Size([1, 2])\n",
            "torch.Size([1, 1, 2])\n"
          ]
        }
      ],
      "source": [
        "a = torch.FloatTensor([[0.35, 16.1]])\n",
        "b = torch.FloatTensor([[[1.3, 2.9]]])\n",
        "print(a.shape)\n",
        "print(b.shape)"
      ]
    },
    {
      "cell_type": "code",
      "execution_count": null,
      "metadata": {
        "colab": {
          "base_uri": "https://localhost:8080/"
        },
        "id": "pa1NGbRqotRa",
        "outputId": "d1798dd3-8e50-41b4-ff94-0305ae59c9c9"
      },
      "outputs": [
        {
          "name": "stdout",
          "output_type": "stream",
          "text": [
            "tensor([ 0.3500, 16.1000]) torch.Size([2])\n",
            "tensor([1.3000, 2.9000]) torch.Size([2])\n"
          ]
        }
      ],
      "source": [
        "c = a.squeeze()\n",
        "d = b.squeeze()\n",
        "print(c, c.shape)\n",
        "print(d, d.shape)"
      ]
    },
    {
      "cell_type": "code",
      "execution_count": null,
      "metadata": {
        "colab": {
          "base_uri": "https://localhost:8080/"
        },
        "id": "GMJFkq8HpNdS",
        "outputId": "cf276dbd-14e6-45ea-d93b-6238245df526"
      },
      "outputs": [
        {
          "name": "stdout",
          "output_type": "stream",
          "text": [
            "tensor([[ 0.3500, 16.1000]]) torch.Size([1, 2])\n",
            "tensor([[ 0.3500],\n",
            "        [16.1000]]) torch.Size([2, 1])\n",
            "tensor([[ 0.3500],\n",
            "        [16.1000]]) torch.Size([2, 1])\n"
          ]
        }
      ],
      "source": [
        "e = c.unsqueeze(dim=0)\n",
        "f = c.unsqueeze(dim=1)\n",
        "g = c.unsqueeze(dim=-1)\n",
        "print(e, e.shape)\n",
        "print(f, f.shape)\n",
        "print(g, g.shape)"
      ]
    },
    {
      "cell_type": "markdown",
      "metadata": {
        "id": "xaq3EAmtrfQ0"
      },
      "source": [
        "## Automatically Fill Tensors with Values\n",
        "\n",
        "Methods of automatically initialising tensors"
      ]
    },
    {
      "cell_type": "code",
      "execution_count": null,
      "metadata": {
        "colab": {
          "base_uri": "https://localhost:8080/"
        },
        "id": "K64C_x-IpzcD",
        "outputId": "53efec56-823a-4ea3-daf2-3271404c7259"
      },
      "outputs": [
        {
          "name": "stdout",
          "output_type": "stream",
          "text": [
            "tensor([[0., 0., 0.],\n",
            "        [0., 0., 0.]])\n"
          ]
        }
      ],
      "source": [
        "print(torch.zeros(2, 3))"
      ]
    },
    {
      "cell_type": "code",
      "execution_count": null,
      "metadata": {
        "colab": {
          "base_uri": "https://localhost:8080/"
        },
        "id": "cpMX98fxrsVv",
        "outputId": "8a6f54c5-5221-4841-8c80-226828edb72a"
      },
      "outputs": [
        {
          "name": "stdout",
          "output_type": "stream",
          "text": [
            "tensor([[1., 1., 1.],\n",
            "        [1., 1., 1.]])\n"
          ]
        }
      ],
      "source": [
        "print(torch.ones(2, 3))"
      ]
    },
    {
      "cell_type": "code",
      "execution_count": null,
      "metadata": {
        "colab": {
          "base_uri": "https://localhost:8080/"
        },
        "id": "VZG4ZLYmrt_K",
        "outputId": "94ffa62f-d91a-410f-831d-bd3225ec556f"
      },
      "outputs": [
        {
          "name": "stdout",
          "output_type": "stream",
          "text": [
            "tensor([[0.0145, 0.6021, 0.9875],\n",
            "        [0.8240, 0.0031, 0.5840]])\n"
          ]
        }
      ],
      "source": [
        "print(torch.rand(2, 3))  # numbers taken from uniform distribution on interval [0,1)"
      ]
    },
    {
      "cell_type": "code",
      "execution_count": null,
      "metadata": {
        "colab": {
          "base_uri": "https://localhost:8080/"
        },
        "id": "Cke6ByGTrwFm",
        "outputId": "aa4a76bc-893c-48b0-bf8f-1d6b6404bc64"
      },
      "outputs": [
        {
          "name": "stdout",
          "output_type": "stream",
          "text": [
            "tensor([[1, 1, 3],\n",
            "        [1, 3, 2]])\n"
          ]
        }
      ],
      "source": [
        "print(torch.randint(low=0, high=6, size=(2, 3)))  # \"generated uniformly between low (inclusive) and high (exclusive)\"\""
      ]
    },
    {
      "cell_type": "markdown",
      "metadata": {
        "id": "I6l07NZk3DqC"
      },
      "source": [
        "## Tensor Slicing"
      ]
    },
    {
      "cell_type": "code",
      "execution_count": null,
      "metadata": {
        "colab": {
          "base_uri": "https://localhost:8080/"
        },
        "id": "nad4l-Pq3GaT",
        "outputId": "e712f760-62f9-4cf5-d877-b694ebbed607"
      },
      "outputs": [
        {
          "name": "stdout",
          "output_type": "stream",
          "text": [
            "tensor(1.)\n",
            "tensor([ 3.2000, 19.0000])\n",
            "tensor(19.)\n"
          ]
        }
      ],
      "source": [
        "t = torch.FloatTensor([1, 3.2, 19])\n",
        "print(t[0])\n",
        "print(t[1:])\n",
        "print(t[-1])"
      ]
    },
    {
      "cell_type": "code",
      "execution_count": null,
      "metadata": {
        "colab": {
          "base_uri": "https://localhost:8080/"
        },
        "id": "O0VlgtEA3GXf",
        "outputId": "5e48d7e6-0b06-4b6d-be9b-e7468ed52969"
      },
      "outputs": [
        {
          "name": "stdout",
          "output_type": "stream",
          "text": [
            "tensor([[0.2000, 2.0000],\n",
            "        [0.3000, 3.0000],\n",
            "        [0.4000, 4.0000]]) torch.Size([3, 2])\n",
            "tensor(3.)\n",
            "tensor([0.3000, 3.0000])\n",
            "tensor([2., 3., 4.])\n",
            "tensor([2., 3.])\n"
          ]
        }
      ],
      "source": [
        "u = torch.FloatTensor([[0.2, 2],\n",
        "                       [0.3, 3],\n",
        "                       [0.4, 4]])\n",
        "print(u, u.shape)\n",
        "print(u[1, 1]) # second element of second row\n",
        "print(u[1])  # second row\n",
        "print(u[:, 1])  # second column\n",
        "print(u[:-1, 1])  # second column without last element"
      ]
    },
    {
      "cell_type": "markdown",
      "metadata": {
        "id": "3qPmSzkJ2SEl"
      },
      "source": [
        "## Mathematical Operations"
      ]
    },
    {
      "cell_type": "code",
      "execution_count": null,
      "metadata": {
        "id": "XKu1BcMq2R2i"
      },
      "outputs": [],
      "source": [
        "t = torch.FloatTensor([1, 3.2, 19])"
      ]
    },
    {
      "cell_type": "code",
      "execution_count": null,
      "metadata": {
        "colab": {
          "base_uri": "https://localhost:8080/"
        },
        "id": "vQ-_PKIG2R0G",
        "outputId": "febd4fa7-9c57-47bd-8d6f-732d65aa19ab"
      },
      "outputs": [
        {
          "data": {
            "text/plain": [
              "tensor([ 2.0000,  4.2000, 20.0000])"
            ]
          },
          "execution_count": 24,
          "metadata": {},
          "output_type": "execute_result"
        }
      ],
      "source": [
        "t + 1"
      ]
    },
    {
      "cell_type": "code",
      "execution_count": null,
      "metadata": {
        "colab": {
          "base_uri": "https://localhost:8080/"
        },
        "id": "alOnJ9dE2Rxo",
        "outputId": "11f099f1-309d-4bd0-dcb2-debaf2aacd17"
      },
      "outputs": [
        {
          "data": {
            "text/plain": [
              "tensor([0.3333, 1.0667, 6.3333])"
            ]
          },
          "execution_count": 25,
          "metadata": {},
          "output_type": "execute_result"
        }
      ],
      "source": [
        "t / 3"
      ]
    },
    {
      "cell_type": "code",
      "execution_count": null,
      "metadata": {
        "colab": {
          "base_uri": "https://localhost:8080/"
        },
        "id": "LpA7Hmzx2RmI",
        "outputId": "972b7556-8982-4ea4-83ff-8b989b7c8b34"
      },
      "outputs": [
        {
          "data": {
            "text/plain": [
              "tensor([  1.0000,  10.2400, 361.0000])"
            ]
          },
          "execution_count": 26,
          "metadata": {},
          "output_type": "execute_result"
        }
      ],
      "source": [
        "t ** 2"
      ]
    },
    {
      "cell_type": "code",
      "execution_count": null,
      "metadata": {
        "colab": {
          "base_uri": "https://localhost:8080/"
        },
        "id": "B3W2bA5p5Q6p",
        "outputId": "66d05935-a711-443c-a4fa-6347aff84b26"
      },
      "outputs": [
        {
          "data": {
            "text/plain": [
              "tensor(19.)"
            ]
          },
          "execution_count": 27,
          "metadata": {},
          "output_type": "execute_result"
        }
      ],
      "source": [
        "torch.max(t)"
      ]
    },
    {
      "cell_type": "code",
      "execution_count": null,
      "metadata": {
        "colab": {
          "base_uri": "https://localhost:8080/"
        },
        "id": "qJYnIviy5etq",
        "outputId": "5325d5d8-5c4b-4b33-c57e-1f8895304eea"
      },
      "outputs": [
        {
          "name": "stdout",
          "output_type": "stream",
          "text": [
            "tensor(2)\n",
            "tensor(0)\n"
          ]
        }
      ],
      "source": [
        "print(torch.argmax(t))\n",
        "print(torch.argmin(t))"
      ]
    },
    {
      "cell_type": "code",
      "execution_count": null,
      "metadata": {
        "colab": {
          "base_uri": "https://localhost:8080/"
        },
        "id": "WdfpTSkg5l4H",
        "outputId": "6771f86a-0ce5-4b83-af3a-9fddfe7b597e"
      },
      "outputs": [
        {
          "name": "stdout",
          "output_type": "stream",
          "text": [
            "torch.Size([2, 3])\n",
            "tensor(2)\n",
            "tensor([0, 1, 0])\n",
            "tensor([2, 1])\n",
            "tensor([2, 1])\n"
          ]
        }
      ],
      "source": [
        "x = torch.FloatTensor([[.2, -0.3, 1.3],\n",
        "                       [0.1, 0.5, 0.01]])\n",
        "print(x.shape)\n",
        "print(torch.argmax(x))\n",
        "print(torch.argmax(x, dim=0))\n",
        "print(torch.argmax(x, dim=1))\n",
        "print(torch.argmax(x, dim=-1))"
      ]
    },
    {
      "cell_type": "markdown",
      "metadata": {
        "id": "QXsX_yO-Lz94"
      },
      "source": [
        "If the dim argument is confusing, go to: https://stackoverflow.com/questions/55691819/why-does-dim-1-return-row-indices-in-torch-argmax"
      ]
    },
    {
      "cell_type": "markdown",
      "metadata": {
        "id": "weJDD3gyte0C"
      },
      "source": [
        "## [More attributes](https://pytorch.org/tutorials/beginner/basics/tensorqs_tutorial.html#attributes-of-a-tensor)\n",
        "\n",
        "Exploring tensor attributes and understanding how to interact with the device (CPU/GPU) for computations. This is critical for utilizing hardware accelerators for faster computation."
      ]
    },
    {
      "cell_type": "code",
      "execution_count": null,
      "metadata": {
        "colab": {
          "base_uri": "https://localhost:8080/"
        },
        "id": "D2RxEfzKs4Vt",
        "outputId": "c15995d7-63eb-47e8-d30c-4572b3bdcfc1"
      },
      "outputs": [
        {
          "name": "stdout",
          "output_type": "stream",
          "text": [
            "torch.Size([3])\n",
            "torch.float32\n",
            "cpu\n"
          ]
        }
      ],
      "source": [
        "a = torch.FloatTensor([0.4, 0.5, 1.3])\n",
        "print(a.shape)\n",
        "print(a.dtype)\n",
        "print(a.device)"
      ]
    },
    {
      "cell_type": "markdown",
      "metadata": {
        "id": "WM1PlcBEt-T8"
      },
      "source": [
        "Moving a Tensor to a Device"
      ]
    },
    {
      "cell_type": "code",
      "execution_count": null,
      "metadata": {
        "colab": {
          "base_uri": "https://localhost:8080/"
        },
        "id": "MQvW39iZtzWF",
        "outputId": "e15aab77-f8f9-439d-89f4-1efdbbd2d324"
      },
      "outputs": [
        {
          "name": "stdout",
          "output_type": "stream",
          "text": [
            "True\n",
            "1\n"
          ]
        }
      ],
      "source": [
        "print(torch.cuda.is_available())\n",
        "print(torch.cuda.device_count())"
      ]
    },
    {
      "cell_type": "code",
      "execution_count": null,
      "metadata": {
        "colab": {
          "base_uri": "https://localhost:8080/"
        },
        "id": "Un0wbzPzuIXX",
        "outputId": "34981fef-79e5-43f2-98ca-064818ba97b8"
      },
      "outputs": [
        {
          "name": "stdout",
          "output_type": "stream",
          "text": [
            "[<torch.cuda.device object at 0x7f310861a590>]\n"
          ]
        }
      ],
      "source": [
        "gpus = [torch.cuda.device(i) for i in range(torch.cuda.device_count())]\n",
        "print(gpus)"
      ]
    },
    {
      "cell_type": "code",
      "execution_count": null,
      "metadata": {
        "colab": {
          "background_save": true,
          "base_uri": "https://localhost:8080/"
        },
        "id": "q2duXxOru5GY",
        "outputId": "130977f2-1fdb-4152-8548-7a39427e1d0c"
      },
      "outputs": [
        {
          "data": {
            "text/plain": [
              "tensor([0.4000, 0.5000, 1.3000], device='cuda:0')"
            ]
          },
          "execution_count": null,
          "metadata": {},
          "output_type": "execute_result"
        }
      ],
      "source": [
        "device = 'cuda:0'\n",
        "b = a.to(device)\n",
        "b"
      ]
    },
    {
      "cell_type": "markdown",
      "metadata": {
        "id": "9-rWg-4wvfHN"
      },
      "source": [
        "The typical line you see in most pytorch scripts for NN training:"
      ]
    },
    {
      "cell_type": "code",
      "execution_count": null,
      "metadata": {
        "colab": {
          "background_save": true
        },
        "id": "l2D_pU0svDz4"
      },
      "outputs": [],
      "source": [
        "device = 'cuda:0' if torch.cuda.is_available() else 'cpu'\n",
        "# then move to device"
      ]
    },
    {
      "cell_type": "markdown",
      "metadata": {
        "id": "jEE7tZ8y1oQP"
      },
      "source": [
        "## PyTorch Datasets and Dataloaders\n",
        "\n",
        "For more information, go to: https://pytorch.org/docs/stable/data.html\n",
        "\n",
        "Best practices sheet:\n",
        "\n",
        "Here, we're creating custom dataset classes, which is a common practice when dealing with unique data that can't be directly used with pre-existing dataset classes provided by PyTorch."
      ]
    },
    {
      "cell_type": "code",
      "execution_count": null,
      "metadata": {
        "colab": {
          "background_save": true
        },
        "id": "V1d-1bctvVvn"
      },
      "outputs": [],
      "source": [
        "from torch.utils.data import IterableDataset, DataLoader"
      ]
    },
    {
      "cell_type": "code",
      "execution_count": null,
      "metadata": {
        "colab": {
          "background_save": true
        },
        "id": "2Ir61Yps9eZR"
      },
      "outputs": [],
      "source": [
        "num_features = 10\n",
        "num_train_examples = 100\n",
        "num_test_examples = 50\n",
        "num_classes = 4\n",
        "\n",
        "train_X = torch.rand(num_train_examples, num_features)\n",
        "train_y = torch.randint(low=0, high=num_classes, size=(num_train_examples, 1))\n",
        "test_X = torch.rand(num_test_examples, num_features)\n",
        "test_y = torch.randint(low=0, high=num_classes, size=(num_test_examples, 1))"
      ]
    },
    {
      "cell_type": "code",
      "execution_count": null,
      "metadata": {
        "colab": {
          "background_save": true
        },
        "id": "TKiVXHaf--Ml"
      },
      "outputs": [],
      "source": [
        "class MyDataset(IterableDataset):\n",
        "    def __init__(self, data_X, data_y):\n",
        "        assert len(data_X) == len(data_y)\n",
        "        self.data_X = data_X.to(device)\n",
        "        self.data_y = data_y.to(device)\n",
        "\n",
        "    def __len__(self):\n",
        "        return len(self.data_X)\n",
        "\n",
        "    def __iter__(self):\n",
        "        for i in range(len(self.data_X)):\n",
        "            yield (self.data_X[i], self.data_y[i])"
      ]
    },
    {
      "cell_type": "code",
      "execution_count": null,
      "metadata": {
        "colab": {
          "background_save": true
        },
        "id": "mdgGd3qgJ2gf"
      },
      "outputs": [],
      "source": [
        "train_set = MyDataset(train_X, train_y)\n",
        "test_set = MyDataset(test_X, test_y)"
      ]
    },
    {
      "cell_type": "code",
      "execution_count": null,
      "metadata": {
        "colab": {
          "background_save": true
        },
        "id": "PEWBMEnyK3Br"
      },
      "outputs": [],
      "source": [
        "train_loader = DataLoader(train_set, batch_size=8)\n",
        "test_loader = DataLoader(test_set, batch_size=8)"
      ]
    },
    {
      "cell_type": "markdown",
      "metadata": {
        "id": "vgse9J_sR1r4"
      },
      "source": [
        "Recommened DataLoader settings:"
      ]
    },
    {
      "cell_type": "code",
      "execution_count": null,
      "metadata": {
        "colab": {
          "background_save": true,
          "base_uri": "https://localhost:8080/"
        },
        "id": "txOQZNu5Lelr",
        "outputId": "b3ebf4cf-cfe9-48f4-ef9b-1b8e06bc4427"
      },
      "outputs": [
        {
          "name": "stdout",
          "output_type": "stream",
          "text": [
            "torch.Size([8, 10]) torch.Size([8, 1])\n",
            "torch.Size([8, 10]) torch.Size([8, 1])\n",
            "torch.Size([8, 10]) torch.Size([8, 1])\n",
            "torch.Size([8, 10]) torch.Size([8, 1])\n",
            "torch.Size([8, 10]) torch.Size([8, 1])\n",
            "torch.Size([8, 10]) torch.Size([8, 1])\n",
            "torch.Size([8, 10]) torch.Size([8, 1])\n",
            "torch.Size([8, 10]) torch.Size([8, 1])\n",
            "torch.Size([8, 10]) torch.Size([8, 1])\n",
            "torch.Size([8, 10]) torch.Size([8, 1])\n",
            "torch.Size([8, 10]) torch.Size([8, 1])\n",
            "torch.Size([8, 10]) torch.Size([8, 1])\n",
            "torch.Size([4, 10]) torch.Size([4, 1])\n"
          ]
        }
      ],
      "source": [
        "for batch in train_loader:\n",
        "    print(batch[0].shape, batch[1].shape)"
      ]
    },
    {
      "cell_type": "markdown",
      "metadata": {
        "id": "femOiRYKNjPy"
      },
      "source": [
        "## A Small Neural Net\n",
        "\n",
        "Defining the neural network model. In PyTorch, a model is usually defined as a class that inherits from torch.nn.Module. It includes layers as class attributes and defines the forward pass of the network."
      ]
    },
    {
      "cell_type": "code",
      "execution_count": null,
      "metadata": {
        "colab": {
          "background_save": true
        },
        "id": "U0WiFewbMyN7"
      },
      "outputs": [],
      "source": [
        "class TinyNN(torch.nn.Module):\n",
        "\n",
        "    def __init__(self, num_features, num_classes):\n",
        "        super(TinyNN, self).__init__()\n",
        "        self.num_features = num_features\n",
        "        self.num_classes = num_classes\n",
        "        self.hidden_size = int(round(num_features / 2))\n",
        "        self.input_layer = torch.nn.Linear(num_features, self.hidden_size)\n",
        "        self.hidden_layer = torch.nn.Linear(self.hidden_size, self.hidden_size)\n",
        "        self.output_layer = torch.nn.Linear(self.hidden_size, num_classes)\n",
        "\n",
        "    def forward(self, inputs):\n",
        "        out1 = self.input_layer(inputs)\n",
        "        out2 = self.hidden_layer(out1)\n",
        "        out3 = self.output_layer(out2)\n",
        "        log_probs = torch.nn.functional.log_softmax(out3, dim=-1)\n",
        "        return log_probs"
      ]
    },
    {
      "cell_type": "markdown",
      "metadata": {
        "id": "co7YlawW0cRj"
      },
      "source": [
        "## Let's Train it\n",
        "The training process involves several steps such as setting the model to training mode, looping over the data loader, computing the loss, performing backpropagation to calculate gradients, and updating the model parameters with an optimizer."
      ]
    },
    {
      "cell_type": "code",
      "execution_count": null,
      "metadata": {
        "colab": {
          "background_save": true
        },
        "id": "BaaR2RlBPdZf"
      },
      "outputs": [],
      "source": [
        "import torch.optim as optim\n",
        "\n",
        "model = TinyNN(num_features=num_features, num_classes=num_classes)\n",
        "device = 'cuda:0' if torch.cuda.is_available() else 'cpu'\n",
        "model.to(device)\n",
        "\n",
        "loss_func = torch.nn.NLLLoss()  # for nllloss vs cat-cross-ent: https://discuss.pytorch.org/t/difference-between-cross-entropy-loss-or-log-likelihood-loss/38816/2\n",
        "lr = 0.001\n",
        "optimizer = optim.Adam(model.parameters(), lr=lr)\n",
        "\n",
        "num_epochs = 10"
      ]
    },
    {
      "cell_type": "code",
      "execution_count": null,
      "metadata": {
        "colab": {
          "background_save": true,
          "base_uri": "https://localhost:8080/"
        },
        "id": "v-T7LjmMQv06",
        "outputId": "46b39ed6-de50-4c5e-8686-509909bd0c75"
      },
      "outputs": [
        {
          "name": "stdout",
          "output_type": "stream",
          "text": [
            "Epoch [1/10], batch: [1/13, loss: 1.2514]\n",
            "Epoch [1/10], batch: [2/13, loss: 1.3361]\n",
            "Epoch [1/10], batch: [3/13, loss: 1.3898]\n",
            "Epoch [1/10], batch: [4/13, loss: 1.4443]\n",
            "Epoch [1/10], batch: [5/13, loss: 1.3059]\n",
            "Epoch [1/10], batch: [6/13, loss: 1.2881]\n",
            "Epoch [1/10], batch: [7/13, loss: 1.4029]\n",
            "Epoch [1/10], batch: [8/13, loss: 1.4327]\n",
            "Epoch [1/10], batch: [9/13, loss: 1.5257]\n",
            "Epoch [1/10], batch: [10/13, loss: 1.4223]\n",
            "Epoch [1/10], batch: [11/13, loss: 1.3301]\n",
            "Epoch [1/10], batch: [12/13, loss: 1.6627]\n",
            "Epoch [1/10], batch: [13/13, loss: 1.3608]\n",
            "Epoch [2/10], batch: [1/13, loss: 1.2483]\n",
            "Epoch [2/10], batch: [2/13, loss: 1.3358]\n",
            "Epoch [2/10], batch: [3/13, loss: 1.3878]\n",
            "Epoch [2/10], batch: [4/13, loss: 1.4351]\n",
            "Epoch [2/10], batch: [5/13, loss: 1.3074]\n",
            "Epoch [2/10], batch: [6/13, loss: 1.2902]\n",
            "Epoch [2/10], batch: [7/13, loss: 1.3910]\n",
            "Epoch [2/10], batch: [8/13, loss: 1.4318]\n",
            "Epoch [2/10], batch: [9/13, loss: 1.5064]\n",
            "Epoch [2/10], batch: [10/13, loss: 1.4129]\n",
            "Epoch [2/10], batch: [11/13, loss: 1.3241]\n",
            "Epoch [2/10], batch: [12/13, loss: 1.6448]\n",
            "Epoch [2/10], batch: [13/13, loss: 1.3547]\n",
            "Epoch [3/10], batch: [1/13, loss: 1.2538]\n",
            "Epoch [3/10], batch: [2/13, loss: 1.3376]\n",
            "Epoch [3/10], batch: [3/13, loss: 1.3856]\n",
            "Epoch [3/10], batch: [4/13, loss: 1.4259]\n",
            "Epoch [3/10], batch: [5/13, loss: 1.3101]\n",
            "Epoch [3/10], batch: [6/13, loss: 1.2932]\n",
            "Epoch [3/10], batch: [7/13, loss: 1.3805]\n",
            "Epoch [3/10], batch: [8/13, loss: 1.4310]\n",
            "Epoch [3/10], batch: [9/13, loss: 1.4893]\n",
            "Epoch [3/10], batch: [10/13, loss: 1.4046]\n",
            "Epoch [3/10], batch: [11/13, loss: 1.3193]\n",
            "Epoch [3/10], batch: [12/13, loss: 1.6289]\n",
            "Epoch [3/10], batch: [13/13, loss: 1.3495]\n",
            "Epoch [4/10], batch: [1/13, loss: 1.2593]\n",
            "Epoch [4/10], batch: [2/13, loss: 1.3396]\n",
            "Epoch [4/10], batch: [3/13, loss: 1.3840]\n",
            "Epoch [4/10], batch: [4/13, loss: 1.4180]\n",
            "Epoch [4/10], batch: [5/13, loss: 1.3129]\n",
            "Epoch [4/10], batch: [6/13, loss: 1.2963]\n",
            "Epoch [4/10], batch: [7/13, loss: 1.3715]\n",
            "Epoch [4/10], batch: [8/13, loss: 1.4308]\n",
            "Epoch [4/10], batch: [9/13, loss: 1.4744]\n",
            "Epoch [4/10], batch: [10/13, loss: 1.3977]\n",
            "Epoch [4/10], batch: [11/13, loss: 1.3151]\n",
            "Epoch [4/10], batch: [12/13, loss: 1.6152]\n",
            "Epoch [4/10], batch: [13/13, loss: 1.3453]\n",
            "Epoch [5/10], batch: [1/13, loss: 1.2643]\n",
            "Epoch [5/10], batch: [2/13, loss: 1.3415]\n",
            "Epoch [5/10], batch: [3/13, loss: 1.3828]\n",
            "Epoch [5/10], batch: [4/13, loss: 1.4112]\n",
            "Epoch [5/10], batch: [5/13, loss: 1.3157]\n",
            "Epoch [5/10], batch: [6/13, loss: 1.2993]\n",
            "Epoch [5/10], batch: [7/13, loss: 1.3637]\n",
            "Epoch [5/10], batch: [8/13, loss: 1.4308]\n",
            "Epoch [5/10], batch: [9/13, loss: 1.4613]\n",
            "Epoch [5/10], batch: [10/13, loss: 1.3919]\n",
            "Epoch [5/10], batch: [11/13, loss: 1.3114]\n",
            "Epoch [5/10], batch: [12/13, loss: 1.6034]\n",
            "Epoch [5/10], batch: [13/13, loss: 1.3419]\n",
            "Epoch [6/10], batch: [1/13, loss: 1.2687]\n",
            "Epoch [6/10], batch: [2/13, loss: 1.3434]\n",
            "Epoch [6/10], batch: [3/13, loss: 1.3821]\n",
            "Epoch [6/10], batch: [4/13, loss: 1.4052]\n",
            "Epoch [6/10], batch: [5/13, loss: 1.3185]\n",
            "Epoch [6/10], batch: [6/13, loss: 1.3023]\n",
            "Epoch [6/10], batch: [7/13, loss: 1.3569]\n",
            "Epoch [6/10], batch: [8/13, loss: 1.4311]\n",
            "Epoch [6/10], batch: [9/13, loss: 1.4497]\n",
            "Epoch [6/10], batch: [10/13, loss: 1.3869]\n",
            "Epoch [6/10], batch: [11/13, loss: 1.3080]\n",
            "Epoch [6/10], batch: [12/13, loss: 1.5930]\n",
            "Epoch [6/10], batch: [13/13, loss: 1.3391]\n",
            "Epoch [7/10], batch: [1/13, loss: 1.2726]\n",
            "Epoch [7/10], batch: [2/13, loss: 1.3452]\n",
            "Epoch [7/10], batch: [3/13, loss: 1.3816]\n",
            "Epoch [7/10], batch: [4/13, loss: 1.3998]\n",
            "Epoch [7/10], batch: [5/13, loss: 1.3213]\n",
            "Epoch [7/10], batch: [6/13, loss: 1.3051]\n",
            "Epoch [7/10], batch: [7/13, loss: 1.3508]\n",
            "Epoch [7/10], batch: [8/13, loss: 1.4316]\n",
            "Epoch [7/10], batch: [9/13, loss: 1.4391]\n",
            "Epoch [7/10], batch: [10/13, loss: 1.3826]\n",
            "Epoch [7/10], batch: [11/13, loss: 1.3048]\n",
            "Epoch [7/10], batch: [12/13, loss: 1.5837]\n",
            "Epoch [7/10], batch: [13/13, loss: 1.3368]\n",
            "Epoch [8/10], batch: [1/13, loss: 1.2761]\n",
            "Epoch [8/10], batch: [2/13, loss: 1.3469]\n",
            "Epoch [8/10], batch: [3/13, loss: 1.3813]\n",
            "Epoch [8/10], batch: [4/13, loss: 1.3949]\n",
            "Epoch [8/10], batch: [5/13, loss: 1.3240]\n",
            "Epoch [8/10], batch: [6/13, loss: 1.3079]\n",
            "Epoch [8/10], batch: [7/13, loss: 1.3452]\n",
            "Epoch [8/10], batch: [8/13, loss: 1.4322]\n",
            "Epoch [8/10], batch: [9/13, loss: 1.4295]\n",
            "Epoch [8/10], batch: [10/13, loss: 1.3787]\n",
            "Epoch [8/10], batch: [11/13, loss: 1.3017]\n",
            "Epoch [8/10], batch: [12/13, loss: 1.5754]\n",
            "Epoch [8/10], batch: [13/13, loss: 1.3350]\n",
            "Epoch [9/10], batch: [1/13, loss: 1.2791]\n",
            "Epoch [9/10], batch: [2/13, loss: 1.3484]\n",
            "Epoch [9/10], batch: [3/13, loss: 1.3811]\n",
            "Epoch [9/10], batch: [4/13, loss: 1.3904]\n",
            "Epoch [9/10], batch: [5/13, loss: 1.3267]\n",
            "Epoch [9/10], batch: [6/13, loss: 1.3106]\n",
            "Epoch [9/10], batch: [7/13, loss: 1.3401]\n",
            "Epoch [9/10], batch: [8/13, loss: 1.4330]\n",
            "Epoch [9/10], batch: [9/13, loss: 1.4206]\n",
            "Epoch [9/10], batch: [10/13, loss: 1.3753]\n",
            "Epoch [9/10], batch: [11/13, loss: 1.2988]\n",
            "Epoch [9/10], batch: [12/13, loss: 1.5678]\n",
            "Epoch [9/10], batch: [13/13, loss: 1.3334]\n",
            "Epoch [10/10], batch: [1/13, loss: 1.2819]\n",
            "Epoch [10/10], batch: [2/13, loss: 1.3498]\n",
            "Epoch [10/10], batch: [3/13, loss: 1.3809]\n",
            "Epoch [10/10], batch: [4/13, loss: 1.3863]\n",
            "Epoch [10/10], batch: [5/13, loss: 1.3293]\n",
            "Epoch [10/10], batch: [6/13, loss: 1.3131]\n",
            "Epoch [10/10], batch: [7/13, loss: 1.3354]\n",
            "Epoch [10/10], batch: [8/13, loss: 1.4337]\n",
            "Epoch [10/10], batch: [9/13, loss: 1.4124]\n",
            "Epoch [10/10], batch: [10/13, loss: 1.3722]\n",
            "Epoch [10/10], batch: [11/13, loss: 1.2961]\n",
            "Epoch [10/10], batch: [12/13, loss: 1.5608]\n",
            "Epoch [10/10], batch: [13/13, loss: 1.3322]\n"
          ]
        }
      ],
      "source": [
        "num_batches = len(train_loader)\n",
        "for epoch in range(1, num_epochs + 1):\n",
        "    for batch_num, (inputs, y_true) in enumerate(train_loader, 1):\n",
        "        optimizer.zero_grad()\n",
        "        y_pred = model(inputs)\n",
        "        loss = loss_func(y_pred, y_true.squeeze())\n",
        "        loss_batch = loss.item()\n",
        "        loss.backward()\n",
        "        optimizer.step()\n",
        "        print(f'Epoch [{epoch}/{num_epochs}], batch: [{batch_num}/{num_batches}, loss: {loss_batch:.4f}]')"
      ]
    },
    {
      "cell_type": "markdown",
      "metadata": {
        "id": "O6ca-I9cbeYL"
      },
      "source": [
        "## Simple Evaluation:\n",
        "\n",
        "After training, it's essential to evaluate the model on a separate test dataset to assess its performance on **unseen** data. Here, we're calculating the accuracy of the model, which is a common metric for classification tasks."
      ]
    },
    {
      "cell_type": "code",
      "execution_count": null,
      "metadata": {
        "colab": {
          "background_save": true
        },
        "id": "G1sOHXrjXZpZ"
      },
      "outputs": [],
      "source": [
        "predictions = []\n",
        "true_labels = []\n",
        "model.eval()  # without dropout and alike not really necessary\n",
        "with torch.no_grad():  # disable gradient computation, since it is only needed when backward() is called\n",
        "    for test_X, test_y in test_loader:\n",
        "        pred_y = model(test_X)\n",
        "        batch_preds = [x.item() for x in torch.argmax(pred_y, dim=-1)]\n",
        "        predictions.extend(batch_preds)\n",
        "        true_labels.extend([y.item() for y in test_y.squeeze()])"
      ]
    },
    {
      "cell_type": "code",
      "execution_count": null,
      "metadata": {
        "colab": {
          "background_save": true,
          "base_uri": "https://localhost:8080/"
        },
        "id": "e4s9S8c1b5NX",
        "outputId": "ef74650b-db07-43c9-9873-6ce54b10d649"
      },
      "outputs": [
        {
          "data": {
            "text/plain": [
              "0.32"
            ]
          },
          "execution_count": null,
          "metadata": {},
          "output_type": "execute_result"
        }
      ],
      "source": [
        "from sklearn.metrics import accuracy_score\n",
        "acc = accuracy_score(true_labels, predictions)\n",
        "acc"
      ]
    }
  ],
  "metadata": {
    "accelerator": "GPU",
    "colab": {
      "provenance": [],
      "include_colab_link": true
    },
    "kernelspec": {
      "display_name": "Python 3",
      "name": "python3"
    },
    "language_info": {
      "name": "python"
    }
  },
  "nbformat": 4,
  "nbformat_minor": 0
}